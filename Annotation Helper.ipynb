{
 "cells": [
  {
   "cell_type": "markdown",
   "metadata": {},
   "source": [
    "# Only modify the next cell"
   ]
  },
  {
   "cell_type": "code",
   "execution_count": 1,
   "metadata": {},
   "outputs": [],
   "source": [
    "# Full path to the .csv file containing the narratives\n",
    "fn = \"/Users/schabdachj/Data/clinical_healthy/tables/rawdata/healthy_mr_cohort_jmy_annotations.csv\"\n",
    "\n",
    "# Phrase indicating non-healthy patients\n",
    "phrase = \"glioma\""
   ]
  },
  {
   "cell_type": "markdown",
   "metadata": {},
   "source": [
    "# Don't modify this bit"
   ]
  },
  {
   "cell_type": "code",
   "execution_count": 2,
   "metadata": {},
   "outputs": [],
   "source": [
    "from IPython.display import clear_output\n",
    "import pandas as pd\n",
    "import numpy as np\n",
    "\n",
    "pd.set_option(\"display.max_rows\", None)\n",
    "pd.set_option(\"display.max_columns\", None)\n",
    "pd.set_option(\"display.max_colwidth\", None)"
   ]
  },
  {
   "cell_type": "code",
   "execution_count": 3,
   "metadata": {},
   "outputs": [],
   "source": [
    "def markNarrativeUnhealthy(df, fn, phrase):\n",
    "    \n",
    "    count = 0\n",
    "    \n",
    "    for idx, row in df.iterrows():\n",
    "        if phrase in row['narrative_text'].lower() and not type(row['confirm_healthy']) == bool:\n",
    "            \n",
    "            validInput = False\n",
    "            \n",
    "            while not validInput:\n",
    "            \n",
    "                print(row['narrative_text'].lower().replace(phrase, '\\033[91m'+phrase.upper()+'\\033[0m'))\n",
    "                print()\n",
    "\n",
    "                confirm = input(\"Can you confirm the patient is not healthy (y/n/save/exit)?\")\n",
    "\n",
    "                if confirm.lower() == \"y\": #or confirm.lower() == \"\":\n",
    "                    df['confirm_healthy'].iloc[idx] = False\n",
    "                    df['reason'].iloc[idx] = phrase\n",
    "                    clear_output()\n",
    "                    validInput = True\n",
    "\n",
    "                elif confirm.lower() == \"save\":\n",
    "                    clear_output()\n",
    "                    print(\"Saving current dataframe state\")\n",
    "                    df.to_csv(fn)\n",
    "                    print()\n",
    "                    validInput = False\n",
    "\n",
    "                elif confirm.lower() == \"n\":\n",
    "                    clear_output()\n",
    "                    validInput = True\n",
    "\n",
    "                elif confirm.lower() == \"exit\":\n",
    "                    clear_output()\n",
    "                    print(\"Returning current dataframe state\")\n",
    "                    return df\n",
    "                \n",
    "                else:\n",
    "                    print(\"Not a valid response\")\n",
    "                    print()\n",
    "                \n",
    "                \n",
    "            count += 1\n",
    "            \n",
    "            if count % 100 == 0:\n",
    "                print(\"Holy cow, that's \"+str(count)+\" narratives! Drink some water and look out the window for a moment.\")\n",
    "                print()\n",
    "            \n",
    "            elif count % 10 == 0:\n",
    "                print(\"Woo! You've annotated \"+str(count)+\" narratives!\")\n",
    "                print()\n",
    "                \n",
    "            \n",
    "                \n",
    "                \n",
    "    print(\"Finished looking for\", phrase)\n",
    "    return df"
   ]
  },
  {
   "cell_type": "code",
   "execution_count": 4,
   "metadata": {},
   "outputs": [],
   "source": [
    "def markNarrativeHealthy(df, fn, phrase):\n",
    "    \n",
    "    count = 0\n",
    "    \n",
    "    for idx, row in df.iterrows():\n",
    "        if phrase in row['narrative_text'].lower() and not type(row['confirm_healthy']) == bool:\n",
    "            \n",
    "            validInput = False\n",
    "            \n",
    "            while not validInput:\n",
    "            \n",
    "                print(row['narrative_text'].lower().replace(phrase, '\\033[91m'+phrase.upper()+'\\033[0m'))\n",
    "                print()\n",
    "\n",
    "                confirm = input(\"Can you confirm the patient is healthy (y/n/save/exit)?\")\n",
    "\n",
    "                if confirm.lower() == \"y\": #or confirm.lower() == \"\":\n",
    "                    df['confirm_healthy'].iloc[idx] = True\n",
    "                    df['reason'].iloc[idx] = phrase\n",
    "                    clear_output()\n",
    "                    validInput = True\n",
    "\n",
    "                elif confirm.lower() == \"save\":\n",
    "                    clear_output()\n",
    "                    print(\"Saving current dataframe state\")\n",
    "                    df.to_csv(fn)\n",
    "                    print()\n",
    "                    validInput = False\n",
    "\n",
    "                elif confirm.lower() == \"n\":\n",
    "                    clear_output()\n",
    "                    validInput = True\n",
    "\n",
    "                elif confirm.lower() == \"exit\":\n",
    "                    clear_output()\n",
    "                    print(\"Returning current dataframe state\")\n",
    "                    return df\n",
    "                \n",
    "                else:\n",
    "                    print(\"Not a valid response\")\n",
    "                    print()\n",
    "                \n",
    "                \n",
    "            count += 1\n",
    "            \n",
    "            if count % 100 == 0:\n",
    "                print(\"Holy cow, that's \"+str(count)+\" narratives! Drink some water and look out the window for a moment.\")\n",
    "                print()\n",
    "            \n",
    "            elif count % 10 == 0:\n",
    "                print(\"Woo! You've annotated \"+str(count)+\" narratives!\")\n",
    "                print()\n",
    "                \n",
    "            \n",
    "                \n",
    "                \n",
    "    print(\"Finished looking for\", phrase)\n",
    "    return df"
   ]
  },
  {
   "cell_type": "code",
   "execution_count": 5,
   "metadata": {},
   "outputs": [
    {
     "name": "stderr",
     "output_type": "stream",
     "text": [
      "/Users/schabdachj/miniconda3/lib/python3.8/site-packages/IPython/core/interactiveshell.py:3146: DtypeWarning: Columns (12) have mixed types.Specify dtype option on import or set low_memory=False.\n",
      "  has_raised = await self.run_ast_nodes(code_ast.body, cell_name,\n"
     ]
    },
    {
     "name": "stdout",
     "output_type": "stream",
     "text": [
      "Loaded the dataframe\n",
      "\n",
      "Number of narratives containing \"glioma\": 8232\n",
      "Number of unannotated narratives containing \"glioma\": 6366\n"
     ]
    }
   ],
   "source": [
    "df = pd.read_csv(fn)\n",
    "if 'Unnamed: 0' in list(df):\n",
    "    df = df.drop(columns=['Unnamed: 0'])\n",
    "    \n",
    "print(\"Loaded the dataframe\")\n",
    "print()\n",
    "print(\"Number of narratives containing \\\"\"+phrase+\"\\\":\", df[df['narrative_text'].str.lower().str.contains(phrase)].shape[0])\n",
    "print(\"Number of unannotated narratives containing \\\"\"+phrase+\"\\\":\", df[(df['narrative_text'].str.lower().str.contains(phrase)) & df['confirm_healthy'].isnull()].shape[0])"
   ]
  },
  {
   "cell_type": "markdown",
   "metadata": {},
   "source": [
    "# Interactive Part"
   ]
  },
  {
   "cell_type": "code",
   "execution_count": 6,
   "metadata": {
    "scrolled": false
   },
   "outputs": [
    {
     "name": "stdout",
     "output_type": "stream",
     "text": [
      "Number of unannotated narratives: 108986\n",
      "Number of narratives containing \"glioma\": 8232\n",
      "Number of unannotated narratives containing \"glioma\": 6366\n",
      "\n",
      "history:  2-year-old male with suspected nf1, evaluate optic tracts. comments:  mri of the brain was performed in a 1.5 tesla magnet utilizing sagittal t1-weighted, axial fse t2-weighted, axial flair, axial magnetization transfer and axial, coronal post gadolinium t1-weighted images.  in addition, diffusion imaging was performed, as well as pre and post gadolinum t1-weighted images through the orbits and optic tracts. there are no prior examination. there is no acute intracranial hemorrhage, extra-axial collection, mass, mass effect or midline shift. the ventricles and sulci are within normal limits for age. there are several ill-defined foci of abnormal signal intensity within the white matter of both cerebellar and cerebellar hemispheres. specifically, there are foci within the cerebral peduncles, medial temporal lobes and inferior cerebellar peduncles, as well as in the left frontal periventricular white matter. these lesions have an appearance highly suggestive of neurofibromatosis type i (spongiform dysplasia). there are no foci of abnormal enhancement within the brain. the optic nerves and optic tracts are symmetric and normal in appearance without evidence of optic \u001b[91mGLIOMA\u001b[0m. the internal auditory canals are unremarkable. impression: 1) scattered white matter abnormality which have an appearance highly suggestive of neurofibromatosis type i. 2) no evidence of optic \u001b[91mGLIOMA\u001b[0m. 70553 183 end of impression:\n",
      "\n"
     ]
    },
    {
     "ename": "KeyboardInterrupt",
     "evalue": "Interrupted by user",
     "output_type": "error",
     "traceback": [
      "\u001b[0;31m---------------------------------------------------------------------------\u001b[0m",
      "\u001b[0;31mKeyboardInterrupt\u001b[0m                         Traceback (most recent call last)",
      "\u001b[0;32m<ipython-input-6-d210a193e027>\u001b[0m in \u001b[0;36m<module>\u001b[0;34m\u001b[0m\n\u001b[1;32m      3\u001b[0m \u001b[0mprint\u001b[0m\u001b[0;34m(\u001b[0m\u001b[0;34m\"Number of unannotated narratives containing \\\"\"\u001b[0m\u001b[0;34m+\u001b[0m\u001b[0mphrase\u001b[0m\u001b[0;34m+\u001b[0m\u001b[0;34m\"\\\":\"\u001b[0m\u001b[0;34m,\u001b[0m \u001b[0mdf\u001b[0m\u001b[0;34m[\u001b[0m\u001b[0;34m(\u001b[0m\u001b[0mdf\u001b[0m\u001b[0;34m[\u001b[0m\u001b[0;34m'narrative_text'\u001b[0m\u001b[0;34m]\u001b[0m\u001b[0;34m.\u001b[0m\u001b[0mstr\u001b[0m\u001b[0;34m.\u001b[0m\u001b[0mlower\u001b[0m\u001b[0;34m(\u001b[0m\u001b[0;34m)\u001b[0m\u001b[0;34m.\u001b[0m\u001b[0mstr\u001b[0m\u001b[0;34m.\u001b[0m\u001b[0mcontains\u001b[0m\u001b[0;34m(\u001b[0m\u001b[0mphrase\u001b[0m\u001b[0;34m)\u001b[0m\u001b[0;34m)\u001b[0m \u001b[0;34m&\u001b[0m \u001b[0mdf\u001b[0m\u001b[0;34m[\u001b[0m\u001b[0;34m'confirm_healthy'\u001b[0m\u001b[0;34m]\u001b[0m\u001b[0;34m.\u001b[0m\u001b[0misnull\u001b[0m\u001b[0;34m(\u001b[0m\u001b[0;34m)\u001b[0m\u001b[0;34m]\u001b[0m\u001b[0;34m.\u001b[0m\u001b[0mshape\u001b[0m\u001b[0;34m[\u001b[0m\u001b[0;36m0\u001b[0m\u001b[0;34m]\u001b[0m\u001b[0;34m)\u001b[0m\u001b[0;34m\u001b[0m\u001b[0;34m\u001b[0m\u001b[0m\n\u001b[1;32m      4\u001b[0m \u001b[0mprint\u001b[0m\u001b[0;34m(\u001b[0m\u001b[0;34m)\u001b[0m\u001b[0;34m\u001b[0m\u001b[0;34m\u001b[0m\u001b[0m\n\u001b[0;32m----> 5\u001b[0;31m \u001b[0mdf\u001b[0m \u001b[0;34m=\u001b[0m \u001b[0mmarkNarrativeUnhealthy\u001b[0m\u001b[0;34m(\u001b[0m\u001b[0mdf\u001b[0m\u001b[0;34m,\u001b[0m \u001b[0mfn\u001b[0m\u001b[0;34m,\u001b[0m \u001b[0mphrase\u001b[0m\u001b[0;34m)\u001b[0m\u001b[0;34m\u001b[0m\u001b[0;34m\u001b[0m\u001b[0m\n\u001b[0m\u001b[1;32m      6\u001b[0m \u001b[0mprint\u001b[0m\u001b[0;34m(\u001b[0m\u001b[0;34m\"Number of unannotated narratives:\"\u001b[0m\u001b[0;34m,\u001b[0m \u001b[0mdf\u001b[0m\u001b[0;34m[\u001b[0m\u001b[0mdf\u001b[0m\u001b[0;34m[\u001b[0m\u001b[0;34m'confirm_healthy'\u001b[0m\u001b[0;34m]\u001b[0m\u001b[0;34m.\u001b[0m\u001b[0misnull\u001b[0m\u001b[0;34m(\u001b[0m\u001b[0;34m)\u001b[0m\u001b[0;34m]\u001b[0m\u001b[0;34m.\u001b[0m\u001b[0mshape\u001b[0m\u001b[0;34m[\u001b[0m\u001b[0;36m0\u001b[0m\u001b[0;34m]\u001b[0m\u001b[0;34m)\u001b[0m\u001b[0;34m\u001b[0m\u001b[0;34m\u001b[0m\u001b[0m\n\u001b[1;32m      7\u001b[0m \u001b[0mprint\u001b[0m\u001b[0;34m(\u001b[0m\u001b[0;34m\"Number of narratives containing \\\"\"\u001b[0m\u001b[0;34m+\u001b[0m\u001b[0mphrase\u001b[0m\u001b[0;34m+\u001b[0m\u001b[0;34m\"\\\":\"\u001b[0m\u001b[0;34m,\u001b[0m \u001b[0mdf\u001b[0m\u001b[0;34m[\u001b[0m\u001b[0mdf\u001b[0m\u001b[0;34m[\u001b[0m\u001b[0;34m'narrative_text'\u001b[0m\u001b[0;34m]\u001b[0m\u001b[0;34m.\u001b[0m\u001b[0mstr\u001b[0m\u001b[0;34m.\u001b[0m\u001b[0mlower\u001b[0m\u001b[0;34m(\u001b[0m\u001b[0;34m)\u001b[0m\u001b[0;34m.\u001b[0m\u001b[0mstr\u001b[0m\u001b[0;34m.\u001b[0m\u001b[0mcontains\u001b[0m\u001b[0;34m(\u001b[0m\u001b[0mphrase\u001b[0m\u001b[0;34m)\u001b[0m\u001b[0;34m]\u001b[0m\u001b[0;34m.\u001b[0m\u001b[0mshape\u001b[0m\u001b[0;34m[\u001b[0m\u001b[0;36m0\u001b[0m\u001b[0;34m]\u001b[0m\u001b[0;34m)\u001b[0m\u001b[0;34m\u001b[0m\u001b[0;34m\u001b[0m\u001b[0m\n",
      "\u001b[0;32m<ipython-input-3-a48cdb40d3bf>\u001b[0m in \u001b[0;36mmarkNarrativeUnhealthy\u001b[0;34m(df, fn, phrase)\u001b[0m\n\u001b[1;32m     13\u001b[0m                 \u001b[0mprint\u001b[0m\u001b[0;34m(\u001b[0m\u001b[0;34m)\u001b[0m\u001b[0;34m\u001b[0m\u001b[0;34m\u001b[0m\u001b[0m\n\u001b[1;32m     14\u001b[0m \u001b[0;34m\u001b[0m\u001b[0m\n\u001b[0;32m---> 15\u001b[0;31m                 \u001b[0mconfirm\u001b[0m \u001b[0;34m=\u001b[0m \u001b[0minput\u001b[0m\u001b[0;34m(\u001b[0m\u001b[0;34m\"Can you confirm the patient is not healthy (y/n/save/exit)?\"\u001b[0m\u001b[0;34m)\u001b[0m\u001b[0;34m\u001b[0m\u001b[0;34m\u001b[0m\u001b[0m\n\u001b[0m\u001b[1;32m     16\u001b[0m \u001b[0;34m\u001b[0m\u001b[0m\n\u001b[1;32m     17\u001b[0m                 \u001b[0;32mif\u001b[0m \u001b[0mconfirm\u001b[0m\u001b[0;34m.\u001b[0m\u001b[0mlower\u001b[0m\u001b[0;34m(\u001b[0m\u001b[0;34m)\u001b[0m \u001b[0;34m==\u001b[0m \u001b[0;34m\"y\"\u001b[0m\u001b[0;34m:\u001b[0m \u001b[0;31m#or confirm.lower() == \"\":\u001b[0m\u001b[0;34m\u001b[0m\u001b[0;34m\u001b[0m\u001b[0m\n",
      "\u001b[0;32m~/miniconda3/lib/python3.8/site-packages/ipykernel/kernelbase.py\u001b[0m in \u001b[0;36mraw_input\u001b[0;34m(self, prompt)\u001b[0m\n\u001b[1;32m    855\u001b[0m                 \u001b[0;34m\"raw_input was called, but this frontend does not support input requests.\"\u001b[0m\u001b[0;34m\u001b[0m\u001b[0;34m\u001b[0m\u001b[0m\n\u001b[1;32m    856\u001b[0m             )\n\u001b[0;32m--> 857\u001b[0;31m         return self._input_request(str(prompt),\n\u001b[0m\u001b[1;32m    858\u001b[0m             \u001b[0mself\u001b[0m\u001b[0;34m.\u001b[0m\u001b[0m_parent_ident\u001b[0m\u001b[0;34m,\u001b[0m\u001b[0;34m\u001b[0m\u001b[0;34m\u001b[0m\u001b[0m\n\u001b[1;32m    859\u001b[0m             \u001b[0mself\u001b[0m\u001b[0;34m.\u001b[0m\u001b[0m_parent_header\u001b[0m\u001b[0;34m,\u001b[0m\u001b[0;34m\u001b[0m\u001b[0;34m\u001b[0m\u001b[0m\n",
      "\u001b[0;32m~/miniconda3/lib/python3.8/site-packages/ipykernel/kernelbase.py\u001b[0m in \u001b[0;36m_input_request\u001b[0;34m(self, prompt, ident, parent, password)\u001b[0m\n\u001b[1;32m    899\u001b[0m             \u001b[0;32mexcept\u001b[0m \u001b[0mKeyboardInterrupt\u001b[0m\u001b[0;34m:\u001b[0m\u001b[0;34m\u001b[0m\u001b[0;34m\u001b[0m\u001b[0m\n\u001b[1;32m    900\u001b[0m                 \u001b[0;31m# re-raise KeyboardInterrupt, to truncate traceback\u001b[0m\u001b[0;34m\u001b[0m\u001b[0;34m\u001b[0m\u001b[0;34m\u001b[0m\u001b[0m\n\u001b[0;32m--> 901\u001b[0;31m                 \u001b[0;32mraise\u001b[0m \u001b[0mKeyboardInterrupt\u001b[0m\u001b[0;34m(\u001b[0m\u001b[0;34m\"Interrupted by user\"\u001b[0m\u001b[0;34m)\u001b[0m \u001b[0;32mfrom\u001b[0m \u001b[0;32mNone\u001b[0m\u001b[0;34m\u001b[0m\u001b[0;34m\u001b[0m\u001b[0m\n\u001b[0m\u001b[1;32m    902\u001b[0m             \u001b[0;32mexcept\u001b[0m \u001b[0mException\u001b[0m \u001b[0;32mas\u001b[0m \u001b[0me\u001b[0m\u001b[0;34m:\u001b[0m\u001b[0;34m\u001b[0m\u001b[0;34m\u001b[0m\u001b[0m\n\u001b[1;32m    903\u001b[0m                 \u001b[0mself\u001b[0m\u001b[0;34m.\u001b[0m\u001b[0mlog\u001b[0m\u001b[0;34m.\u001b[0m\u001b[0mwarning\u001b[0m\u001b[0;34m(\u001b[0m\u001b[0;34m\"Invalid Message:\"\u001b[0m\u001b[0;34m,\u001b[0m \u001b[0mexc_info\u001b[0m\u001b[0;34m=\u001b[0m\u001b[0;32mTrue\u001b[0m\u001b[0;34m)\u001b[0m\u001b[0;34m\u001b[0m\u001b[0;34m\u001b[0m\u001b[0m\n",
      "\u001b[0;31mKeyboardInterrupt\u001b[0m: Interrupted by user"
     ]
    }
   ],
   "source": [
    "print(\"Number of unannotated narratives:\", df[df['confirm_healthy'].isnull()].shape[0])\n",
    "print(\"Number of narratives containing \\\"\"+phrase+\"\\\":\", df[df['narrative_text'].str.lower().str.contains(phrase)].shape[0])\n",
    "print(\"Number of unannotated narratives containing \\\"\"+phrase+\"\\\":\", df[(df['narrative_text'].str.lower().str.contains(phrase)) & df['confirm_healthy'].isnull()].shape[0])\n",
    "print()\n",
    "df = markNarrativeUnhealthy(df, fn, phrase)\n",
    "print(\"Number of unannotated narratives:\", df[df['confirm_healthy'].isnull()].shape[0])\n",
    "print(\"Number of narratives containing \\\"\"+phrase+\"\\\":\", df[df['narrative_text'].str.lower().str.contains(phrase)].shape[0])\n",
    "print(\"Number of unannotated narratives containing \\\"\"+phrase+\"\\\":\", df[(df['narrative_text'].str.lower().str.contains(phrase)) & df['confirm_healthy'].isnull()].shape[0])\n",
    "print()\n",
    "df.to_csv(fn)"
   ]
  },
  {
   "cell_type": "code",
   "execution_count": null,
   "metadata": {},
   "outputs": [
    {
     "name": "stdout",
     "output_type": "stream",
     "text": [
      "Number of unannotated narratives: 108986\n",
      "Number of narratives containing \"glioma\": 8232\n",
      "Number of unannotated narratives containing \"glioma\": 6366\n",
      "\n",
      "history:  2-year-old male with suspected nf1, evaluate optic tracts. comments:  mri of the brain was performed in a 1.5 tesla magnet utilizing sagittal t1-weighted, axial fse t2-weighted, axial flair, axial magnetization transfer and axial, coronal post gadolinium t1-weighted images.  in addition, diffusion imaging was performed, as well as pre and post gadolinum t1-weighted images through the orbits and optic tracts. there are no prior examination. there is no acute intracranial hemorrhage, extra-axial collection, mass, mass effect or midline shift. the ventricles and sulci are within normal limits for age. there are several ill-defined foci of abnormal signal intensity within the white matter of both cerebellar and cerebellar hemispheres. specifically, there are foci within the cerebral peduncles, medial temporal lobes and inferior cerebellar peduncles, as well as in the left frontal periventricular white matter. these lesions have an appearance highly suggestive of neurofibromatosis type i (spongiform dysplasia). there are no foci of abnormal enhancement within the brain. the optic nerves and optic tracts are symmetric and normal in appearance without evidence of optic \u001b[91mGLIOMA\u001b[0m. the internal auditory canals are unremarkable. impression: 1) scattered white matter abnormality which have an appearance highly suggestive of neurofibromatosis type i. 2) no evidence of optic \u001b[91mGLIOMA\u001b[0m. 70553 183 end of impression:\n",
      "\n"
     ]
    }
   ],
   "source": [
    "print(\"Number of unannotated narratives:\", df[df['confirm_healthy'].isnull()].shape[0])\n",
    "print(\"Number of narratives containing \\\"\"+phrase+\"\\\":\", df[df['narrative_text'].str.lower().str.contains(phrase)].shape[0])\n",
    "print(\"Number of unannotated narratives containing \\\"\"+phrase+\"\\\":\", df[(df['narrative_text'].str.lower().str.contains(phrase)) & df['confirm_healthy'].isnull()].shape[0])\n",
    "print()\n",
    "df = markNarrativeHealthy(df, fn, phrase)\n",
    "print(\"Number of unannotated narratives:\", df[df['confirm_healthy'].isnull()].shape[0])\n",
    "print(\"Number of narratives containing \\\"\"+phrase+\"\\\":\", df[df['narrative_text'].str.lower().str.contains(phrase)].shape[0])\n",
    "print(\"Number of unannotated narratives containing \\\"\"+phrase+\"\\\":\", df[(df['narrative_text'].str.lower().str.contains(phrase)) & df['confirm_healthy'].isnull()].shape[0])\n",
    "print()\n",
    "df.to_csv(fn)"
   ]
  },
  {
   "cell_type": "code",
   "execution_count": null,
   "metadata": {},
   "outputs": [],
   "source": []
  }
 ],
 "metadata": {
  "kernelspec": {
   "display_name": "Python 3",
   "language": "python",
   "name": "python3"
  },
  "language_info": {
   "codemirror_mode": {
    "name": "ipython",
    "version": 3
   },
   "file_extension": ".py",
   "mimetype": "text/x-python",
   "name": "python",
   "nbconvert_exporter": "python",
   "pygments_lexer": "ipython3",
   "version": "3.8.5"
  }
 },
 "nbformat": 4,
 "nbformat_minor": 4
}
