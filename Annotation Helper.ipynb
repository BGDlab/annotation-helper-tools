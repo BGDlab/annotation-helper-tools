{
 "cells": [
  {
   "cell_type": "markdown",
   "metadata": {},
   "source": [
    "# Only modify the next cell"
   ]
  },
  {
   "cell_type": "code",
   "execution_count": 1,
   "metadata": {},
   "outputs": [],
   "source": [
    "# Full path to the .csv file containing the narratives\n",
    "fn = \"/Users/schabdachj/Data/clinical_healthy/tables/rawdata/healthy_mr_cohort_jmy_annotations.csv\"\n",
    "\n",
    "# Phrase indicating non-healthy patients\n",
    "phrase = \"glioma\""
   ]
  },
  {
   "cell_type": "markdown",
   "metadata": {},
   "source": [
    "# Don't modify this bit"
   ]
  },
  {
   "cell_type": "code",
   "execution_count": 2,
   "metadata": {},
   "outputs": [],
   "source": [
    "from IPython.display import clear_output\n",
    "import pandas as pd\n",
    "import numpy as np\n",
    "\n",
    "pd.set_option(\"display.max_rows\", None)\n",
    "pd.set_option(\"display.max_columns\", None)\n",
    "pd.set_option(\"display.max_colwidth\", None)"
   ]
  },
  {
   "cell_type": "code",
   "execution_count": 3,
   "metadata": {},
   "outputs": [],
   "source": [
    "def markPhraseUnusable(df, fn, phrase):\n",
    "    \n",
    "    count = 0\n",
    "    \n",
    "    for idx, row in df.iterrows():\n",
    "        if phrase in row['narrative_text'].lower() and not type(row['confirm_healthy']) == bool:\n",
    "            \n",
    "            validInput = False\n",
    "            \n",
    "            while not validInput:\n",
    "            \n",
    "                print(row['narrative_text'].lower().replace(phrase, '\\033[91m'+phrase.upper()+'\\033[0m'))\n",
    "                print()\n",
    "\n",
    "                confirm = input(\"Can you confirm the patient is not healthy (y/n/save/exit)?\")\n",
    "\n",
    "                if confirm.lower() == \"y\": #or confirm.lower() == \"\":\n",
    "                    df['confirm_healthy'].iloc[idx] = False\n",
    "                    df['reason'].iloc[idx] = phrase\n",
    "                    clear_output()\n",
    "                    validInput = True\n",
    "\n",
    "                elif confirm.lower() == \"save\":\n",
    "                    clear_output()\n",
    "                    print(\"Saving current dataframe state\")\n",
    "                    df.to_csv(fn)\n",
    "                    print()\n",
    "                    validInput = False\n",
    "\n",
    "                elif confirm.lower() == \"n\":\n",
    "                    clear_output()\n",
    "                    validInput = True\n",
    "\n",
    "                elif confirm.lower() == \"exit\":\n",
    "                    clear_output()\n",
    "                    print(\"Returning current dataframe state\")\n",
    "                    return df\n",
    "                \n",
    "                else:\n",
    "                    print(\"Not a valid response\")\n",
    "                    print()\n",
    "                \n",
    "                \n",
    "            count += 1\n",
    "            \n",
    "            if count % 100 == 0:\n",
    "                print(\"Holy cow, that's \"+str(count)+\" narratives! Drink some water and look out the window for a moment.\")\n",
    "                print()\n",
    "            \n",
    "            elif count % 10 == 0:\n",
    "                print(\"Woo! You've annotated \"+str(count)+\" narratives!\")\n",
    "                print()\n",
    "                \n",
    "            \n",
    "                \n",
    "                \n",
    "    print(\"Finished looking for\", phrase)\n",
    "    return df"
   ]
  },
  {
   "cell_type": "code",
   "execution_count": 4,
   "metadata": {},
   "outputs": [
    {
     "name": "stderr",
     "output_type": "stream",
     "text": [
      "/Users/schabdachj/miniconda3/lib/python3.8/site-packages/IPython/core/interactiveshell.py:3146: DtypeWarning: Columns (12) have mixed types.Specify dtype option on import or set low_memory=False.\n",
      "  has_raised = await self.run_ast_nodes(code_ast.body, cell_name,\n"
     ]
    },
    {
     "name": "stdout",
     "output_type": "stream",
     "text": [
      "Loaded the dataframe\n",
      "\n",
      "Number of narratives containing \"glioma\": 8232\n",
      "Number of unannotated narratives containing \"glioma\": 6366\n"
     ]
    }
   ],
   "source": [
    "df = pd.read_csv(fn)\n",
    "if 'Unnamed: 0' in list(df):\n",
    "    df = df.drop(columns=['Unnamed: 0'])\n",
    "    \n",
    "print(\"Loaded the dataframe\")\n",
    "print()\n",
    "print(\"Number of narratives containing \\\"\"+phrase+\"\\\":\", df[df['narrative_text'].str.lower().str.contains(phrase)].shape[0])\n",
    "print(\"Number of unannotated narratives containing \\\"\"+phrase+\"\\\":\", df[(df['narrative_text'].str.lower().str.contains(phrase)) & df['confirm_healthy'].isnull()].shape[0])"
   ]
  },
  {
   "cell_type": "markdown",
   "metadata": {},
   "source": [
    "# Interactive Part"
   ]
  },
  {
   "cell_type": "code",
   "execution_count": null,
   "metadata": {
    "scrolled": false
   },
   "outputs": [],
   "source": [
    "print(\"Number of unannotated narratives:\", df[df['confirm_healthy'].isnull()].shape[0])\n",
    "df = markPhraseUnusable(df, fn, phrase)\n",
    "print(\"Number of unannotated narratives:\", df[df['confirm_healthy'].isnull()].shape[0])\n",
    "df.to_csv(fn)"
   ]
  }
 ],
 "metadata": {
  "kernelspec": {
   "display_name": "Python 3",
   "language": "python",
   "name": "python3"
  },
  "language_info": {
   "codemirror_mode": {
    "name": "ipython",
    "version": 3
   },
   "file_extension": ".py",
   "mimetype": "text/x-python",
   "name": "python",
   "nbconvert_exporter": "python",
   "pygments_lexer": "ipython3",
   "version": "3.8.5"
  }
 },
 "nbformat": 4,
 "nbformat_minor": 4
}
