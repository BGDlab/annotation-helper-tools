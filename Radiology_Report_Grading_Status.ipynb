{
 "cells": [
  {
   "cell_type": "markdown",
   "id": "905b178c-5679-4cb2-bf95-45eb72919c2d",
   "metadata": {},
   "source": [
    "## Purpose of this notebook\n",
    "\n",
    "- Examine similarities and differences between different raters' reliability report grades\n",
    "- Calculate Cohen's kappa between pairs of raters\n",
    "- Identify and print reports where raters strongly disagree (grade of 2 vs grade of 0)\n",
    "\n",
    "## How to use this notebook\n",
    "\n",
    "- Run each of the cells in order. Make sure you run Cell 01 first.\n",
    "- Cells 02-03 get the proc_ord_id values unique to each report and the names of the persons who have graded reliability reports.\n",
    "- Cells 04-07 can be modified to change which users you want to look at. "
   ]
  },
  {
   "cell_type": "code",
   "execution_count": 1,
   "id": "414b9366-e7f7-49cd-a5f4-2d26e7b32805",
   "metadata": {},
   "outputs": [],
   "source": [
    "# Cell 01: load libraries\n",
    "from reliabilityLib import *\n",
    "from google.cloud import bigquery # SQL table interface on Arcus\n",
    "import pandas\n",
    "import numpy\n",
    "import matplotlib.pyplot as plt"
   ]
  },
  {
   "cell_type": "code",
   "execution_count": 2,
   "id": "dd475e76-cb5d-483c-8ff3-d642c5056086",
   "metadata": {},
   "outputs": [],
   "source": [
    "# Cell 02: Get the list of proc_ord_id values used to identify the reliability reports\n",
    "procIds = getReliabilityProcOrdIds()"
   ]
  },
  {
   "cell_type": "code",
   "execution_count": 3,
   "id": "5c9e55d9-54ff-4401-9cb9-caab5280295f",
   "metadata": {},
   "outputs": [
    {
     "name": "stdout",
     "output_type": "stream",
     "text": [
      "['Jisoo Kang', 'Megan M. Himes', 'Jenna Schabdach', 'Alesandra Gorgone', 'Sreya Subramanian']\n"
     ]
    }
   ],
   "source": [
    "# Cell 03: Get the distinct users\n",
    "getDistinctUsersQuery = \"select distinct grader_name as graders from lab.grader_table \"\n",
    "getDistinctUsersQuery += \"where grade_category = 'Reliability' and grade != 999;\"\n",
    "\n",
    "client = bigquery.Client()\n",
    "distinctUsers = list(client.query(getDistinctUsersQuery).to_dataframe()['graders'].values)\n",
    "print(distinctUsers)"
   ]
  },
  {
   "cell_type": "code",
   "execution_count": 5,
   "id": "b02c292d-2d43-4183-861b-789a5008b891",
   "metadata": {},
   "outputs": [
    {
     "name": "stdout",
     "output_type": "stream",
     "text": [
      "Megan M. Himes\n",
      "(202, 2)\n",
      "(151, 2)\n",
      "Jenna Schabdach\n",
      "(2152, 2)\n",
      "(151, 2)\n",
      "Alesandra Gorgone\n",
      "(202, 2)\n",
      "(151, 2)\n"
     ]
    }
   ],
   "source": [
    "# Cell 04:  Get the reliability reports for the users we want to evaluate (remember indexing in python starts at 0)\n",
    "meganReports = getReportsForUser(\"Megan M. Himes\", procIds)    \n",
    "jennaReports = getReportsForUser(\"Jenna Schabdach\", procIds)\n",
    "allyReports = getReportsForUser(\"Alesandra Gorgone\", procIds)"
   ]
  },
  {
   "cell_type": "code",
   "execution_count": 6,
   "id": "6a4bbf07-af1f-47fc-854e-2a03b608a9f0",
   "metadata": {},
   "outputs": [
    {
     "name": "stdout",
     "output_type": "stream",
     "text": [
      "Of the 55 reports Megan M. Himes gave a 0 , Jenna Schabdach gave\n",
      "38 a grade of 0\n",
      "14 a grade of 1\n",
      "3 a grade of 2\n",
      "Of the 32 reports Megan M. Himes gave a 1 , Jenna Schabdach gave\n",
      "6 a grade of 0\n",
      "24 a grade of 1\n",
      "2 a grade of 2\n",
      "Of the 64 reports Megan M. Himes gave a 2 , Jenna Schabdach gave\n",
      "3 a grade of 0\n",
      "16 a grade of 1\n",
      "45 a grade of 2\n",
      " \n",
      "With a Cohen's kappa of 0.565410779696494\n",
      "\n",
      "\n",
      "\n",
      "Of the 55 reports Megan M. Himes gave a 0 , Alesandra Gorgone gave\n",
      "49 a grade of 0\n",
      "1 a grade of 1\n",
      "5 a grade of 2\n",
      "Of the 32 reports Megan M. Himes gave a 1 , Alesandra Gorgone gave\n",
      "11 a grade of 0\n",
      "13 a grade of 1\n",
      "8 a grade of 2\n",
      "Of the 64 reports Megan M. Himes gave a 2 , Alesandra Gorgone gave\n",
      "0 a grade of 0\n",
      "4 a grade of 1\n",
      "60 a grade of 2\n",
      " \n",
      "With a Cohen's kappa of 0.6927664351364624\n",
      "\n",
      "\n",
      "\n",
      "Of the 60 reports Alesandra Gorgone gave a 0 , Jenna Schabdach gave\n",
      "37 a grade of 0\n",
      "21 a grade of 1\n",
      "2 a grade of 2\n",
      "Of the 18 reports Alesandra Gorgone gave a 1 , Jenna Schabdach gave\n",
      "3 a grade of 0\n",
      "15 a grade of 1\n",
      "0 a grade of 2\n",
      "Of the 73 reports Alesandra Gorgone gave a 2 , Jenna Schabdach gave\n",
      "7 a grade of 0\n",
      "18 a grade of 1\n",
      "48 a grade of 2\n",
      " \n",
      "With a Cohen's kappa of 0.49860016928185436\n"
     ]
    }
   ],
   "source": [
    "# Cell 05: Compare the reliability reports for the users we want to evaluate\n",
    "kappaMeganJenna = compareUserPairGrades(distinctUsers[1], meganReports, distinctUsers[2], jennaReports)\n",
    "print(\"\\n\\n\")\n",
    "kappaMeganAlly = compareUserPairGrades(distinctUsers[1], meganReports, distinctUsers[3], allyReports)\n",
    "print(\"\\n\\n\")\n",
    "kappaAllyJenna = compareUserPairGrades(distinctUsers[3], allyReports, distinctUsers[2], jennaReports)"
   ]
  },
  {
   "cell_type": "code",
   "execution_count": 10,
   "id": "65f57ded-7c3e-47d3-a83e-4f8cbedcb86a",
   "metadata": {},
   "outputs": [
    {
     "name": "stdout",
     "output_type": "stream",
     "text": [
      "Megan and Jenna disagree on 6 reports\n",
      "\n",
      "Megan and Ally disagree on 5 reports\n",
      "\n",
      "Ally and Jenna disagree on 9 reports\n",
      "\n"
     ]
    }
   ],
   "source": [
    "# Cell 06: Identify the proc_ord_ids where each pair of users strongly disagree (one gave a 2, other gave a 0)\n",
    "disagreementReportsMeganJenna = identifyDisagreementReports(meganReports, jennaReports)\n",
    "print(\"Megan and Jenna disagree on\", len(disagreementReportsMeganJenna), \"reports\\n\")\n",
    "disagreementReportsMeganAlly = identifyDisagreementReports(meganReports, allyReports)\n",
    "print(\"Megan and Ally disagree on\", len(disagreementReportsMeganAlly), \"reports\\n\")\n",
    "disagreementReportsAllyJenna = identifyDisagreementReports(allyReports, jennaReports)\n",
    "print(\"Ally and Jenna disagree on\", len(disagreementReportsAllyJenna), \"reports\\n\")\n"
   ]
  },
  {
   "cell_type": "code",
   "execution_count": 8,
   "id": "9b2137aa-e029-4105-bc78-1ee0bd389fbb",
   "metadata": {},
   "outputs": [],
   "source": [
    "# Cell 07: \n",
    "# LAUREN - this is the cell where you can look at the disagreement reports for each pair of users\n",
    "# User 1: Megan\n",
    "# User 2: Jenna\n",
    "printDisagreementReports(disagreementReportsMeganJenna, meganReports, jennaReports)"
   ]
  },
  {
   "cell_type": "code",
   "execution_count": null,
   "id": "6a89e364-e584-42d9-9b46-48fce284348f",
   "metadata": {},
   "outputs": [],
   "source": []
  }
 ],
 "metadata": {
  "kernelspec": {
   "display_name": "python3-read-only",
   "language": "python",
   "name": "conda-env-python3-read-only-py"
  },
  "language_info": {
   "codemirror_mode": {
    "name": "ipython",
    "version": 3
   },
   "file_extension": ".py",
   "mimetype": "text/x-python",
   "name": "python",
   "nbconvert_exporter": "python",
   "pygments_lexer": "ipython3",
   "version": "3.9.16"
  }
 },
 "nbformat": 4,
 "nbformat_minor": 5
}
