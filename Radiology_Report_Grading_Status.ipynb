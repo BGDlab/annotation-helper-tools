{
 "cells": [
  {
   "cell_type": "markdown",
   "id": "905b178c-5679-4cb2-bf95-45eb72919c2d",
   "metadata": {},
   "source": [
    "## Purpose of this notebook\n",
    "\n",
    "- Examine similarities and differences between different raters' reliability report grades\n",
    "- Calculate Cohen's kappa between pairs of raters\n",
    "- Identify and print reports where raters strongly disagree (grade of 2 vs grade of 0)\n",
    "\n",
    "## How to use this notebook\n",
    "\n",
    "- Run each of the cells in order. Make sure you run Cell 01 first.\n",
    "- Cells 02-03 get the proc_ord_id values unique to each report and the names of the persons who have graded reliability reports.\n",
    "- Cells 04-07 can be modified to change which users you want to look at. "
   ]
  },
  {
   "cell_type": "code",
   "execution_count": null,
   "id": "414b9366-e7f7-49cd-a5f4-2d26e7b32805",
   "metadata": {},
   "outputs": [],
   "source": [
    "# Cell 01: load libraries\n",
    "from reliabilityLib import *\n",
    "from google.cloud import bigquery # SQL table interface on Arcus\n",
    "import pandas\n",
    "import numpy\n",
    "import matplotlib.pyplot as plt"
   ]
  },
  {
   "cell_type": "code",
   "execution_count": null,
   "id": "dd475e76-cb5d-483c-8ff3-d642c5056086",
   "metadata": {},
   "outputs": [],
   "source": [
    "# Cell 02: Get the list of proc_ord_id values used to identify the reliability reports\n",
    "procIds = getReliabilityProcOrdIds()"
   ]
  },
  {
   "cell_type": "code",
   "execution_count": null,
   "id": "6a4bbf07-af1f-47fc-854e-2a03b608a9f0",
   "metadata": {},
   "outputs": [],
   "source": [
    "# Cell 03: Compare the reliability reports for the users we want to evaluate\n",
    "graders = ['Jenna Schabdach', \n",
    "           'Megan M. Himes', \n",
    "           'Naomi Shifman', \n",
    "           'Shreya Gudapati']\n",
    "\n",
    "# Metric options: \"disagreement\", \"kappa\", \"kappa2vAll\", \"kappa0vAll\"\n",
    "df = calculateMetricForGraders(graders, \"disagreement\")\n",
    "print(df)"
   ]
  },
  {
   "cell_type": "code",
   "execution_count": null,
   "id": "9b2137aa-e029-4105-bc78-1ee0bd389fbb",
   "metadata": {},
   "outputs": [],
   "source": [
    "# Cell 04: \n",
    "# This is the cell where you can look at the disagreement reports for each pair of users\n",
    "# User 1: Naomi\n",
    "# User 2: Jenna\n",
    "grader1 = \"Jenna Schabdach\"\n",
    "grader2 = \"Megan M. Himes\"\n",
    "procIds = getReliabilityProcOrdIds()\n",
    "grades1 = getReportsForUser(grader1, procIds)\n",
    "grades2 = getReportsForUser(grader2, procIds)\n",
    "disagreement = identifyDisagreementReports(grades1, grades2)\n",
    "\n",
    "printDisagreementReports(disagreement, grades1, grades2)"
   ]
  },
  {
   "cell_type": "code",
   "execution_count": null,
   "id": "f70e5e99-88a2-4867-b961-b1b7925cb572",
   "metadata": {},
   "outputs": [],
   "source": [
    "# Cell 05: release a set of your reports back into your queue \n",
    "# ONLY USE THIS IF YOU'RE CERTAIN\n",
    "# releaseReports(grader1, disagreement)"
   ]
  },
  {
   "cell_type": "code",
   "execution_count": null,
   "id": "4a307104-e391-48bc-b641-c1ebf90d1a79",
   "metadata": {},
   "outputs": [],
   "source": []
  }
 ],
 "metadata": {
  "kernelspec": {
   "display_name": "python3-read-only",
   "language": "python",
   "name": "conda-env-python3-read-only-py"
  },
  "language_info": {
   "codemirror_mode": {
    "name": "ipython",
    "version": 3
   },
   "file_extension": ".py",
   "mimetype": "text/x-python",
   "name": "python",
   "nbconvert_exporter": "python",
   "pygments_lexer": "ipython3",
   "version": "3.9.16"
  }
 },
 "nbformat": 4,
 "nbformat_minor": 5
}
