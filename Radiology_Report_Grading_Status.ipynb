{
 "cells": [
  {
   "cell_type": "markdown",
   "id": "905b178c-5679-4cb2-bf95-45eb72919c2d",
   "metadata": {},
   "source": [
    "## Purpose of this notebook\n",
    "\n",
    "- Examine similarities and differences between different raters' reliability report grades\n",
    "- Calculate Cohen's kappa between pairs of raters\n",
    "- Identify and print reports where raters strongly disagree (grade of 2 vs grade of 0)\n",
    "\n",
    "## How to use this notebook\n",
    "\n",
    "- Run each of the cells in order. Make sure you run Cell 01 first.\n",
    "- Cell 02 can be used to see how many reports have been graded since a date (YYYY-MM-DD format)\n",
    "- Cells 03-04 get the proc_ord_id values unique to each report and the names of the persons who have graded reliability reports.\n",
    "- Cell 05 can be used to examine the reports a pair of graders disagree on\n",
    "- Cells 06 will release examined reports back to a specified grader for regrading\n",
    "- Cell 07 can be used to examine and regrade reports marked with a -1 flag"
   ]
  },
  {
   "cell_type": "code",
   "execution_count": 1,
   "id": "414b9366-e7f7-49cd-a5f4-2d26e7b32805",
   "metadata": {},
   "outputs": [],
   "source": [
    "# Cell 01: load libraries\n",
    "from reliabilityLib import *\n",
    "from reportMarkingFunctions import *\n",
    "from google.cloud import bigquery # SQL table interface on Arcus\n",
    "import pandas\n",
    "import numpy\n",
    "import matplotlib.pyplot as plt\n",
    "\n",
    "client = bigquery.Client()"
   ]
  },
  {
   "cell_type": "markdown",
   "id": "6a01a983-0da0-4b6c-bcc7-5a5c2ecd8212",
   "metadata": {},
   "source": [
    "## Evolution of SLIP over time"
   ]
  },
  {
   "cell_type": "code",
   "execution_count": 3,
   "id": "b00fd89a-f6d9-4d6d-bc27-e347475ca344",
   "metadata": {},
   "outputs": [
    {
     "name": "stdout",
     "output_type": "stream",
     "text": [
      "# Reports \t Grader Name\n",
      "2 \t\t Naomi Shifman\n",
      "10 \t\t Jenna Schabdach\n",
      "119 \t\t Julia Katowitz\n",
      "70 \t\t Megan M. Himes\n",
      "\n",
      "Any graders not in the displayed table have not graded any reports since before 2023-10-23\n"
     ]
    }
   ],
   "source": [
    "# Cell 02:\n",
    "getGradeCountsSinceDate(\"2023-10-23\")"
   ]
  },
  {
   "cell_type": "markdown",
   "id": "15eaa6b3-174e-4e3d-8657-95d3439be578",
   "metadata": {},
   "source": [
    "## Grader agreement on reliability reports"
   ]
  },
  {
   "cell_type": "code",
   "execution_count": 4,
   "id": "dd475e76-cb5d-483c-8ff3-d642c5056086",
   "metadata": {},
   "outputs": [],
   "source": [
    "# Cell 03: Get the list of proc_ord_id values used to identify the reliability reports\n",
    "procIds = getReliabilityProcOrdIds()"
   ]
  },
  {
   "cell_type": "code",
   "execution_count": 5,
   "id": "6a4bbf07-af1f-47fc-854e-2a03b608a9f0",
   "metadata": {},
   "outputs": [
    {
     "name": "stdout",
     "output_type": "stream",
     "text": [
      "\n",
      "                 Megan M. Himes  Naomi Shifman  Alexa DeJean  Julia Katowitz  \\\n",
      "Jenna Schabdach        0.918719       0.680698      0.796166        0.599708   \n",
      "Megan M. Himes         0.000000       0.670741      0.766317        0.610052   \n",
      "Naomi Shifman          0.000000       0.000000      0.670720        0.671653   \n",
      "Alexa DeJean           0.000000       0.000000      0.000000        0.619723   \n",
      "Julia Katowitz         0.000000       0.000000      0.000000        0.000000   \n",
      "\n",
      "                 Shreya Gudapati  \n",
      "Jenna Schabdach         0.641671  \n",
      "Megan M. Himes          0.653061  \n",
      "Naomi Shifman           0.638804  \n",
      "Alexa DeJean            0.631433  \n",
      "Julia Katowitz          0.609120  \n"
     ]
    }
   ],
   "source": [
    "# Cell 04: Compare the reliability reports for the users we want to evaluate\n",
    "graders = ['Jenna Schabdach', \n",
    "           'Megan M. Himes', \n",
    "           'Naomi Shifman', \n",
    "           'Alexa DeJean',\n",
    "           'Julia Katowitz',\n",
    "           'Shreya Gudapati']\n",
    "\n",
    "# Metric options: \"disagreement\", \"kappa\", \"kappa2vAll\", \"kappa0vAll\"\n",
    "df = calculateMetricForGraders(graders, \"kappa\")\n",
    "print()\n",
    "print(df)"
   ]
  },
  {
   "cell_type": "code",
   "execution_count": null,
   "id": "9b2137aa-e029-4105-bc78-1ee0bd389fbb",
   "metadata": {},
   "outputs": [],
   "source": [
    "# Cell 05: \n",
    "# This is the cell where you can look at the disagreement reports for each pair of users\n",
    "# User 1: Naomi\n",
    "# User 2: Jenna\n",
    "grader1 = \"Jenna Schabdach\"\n",
    "grader2 = \"Alexa DeJean\"\n",
    "procIds = getReliabilityProcOrdIds()\n",
    "grades1 = getReportsForUser(grader1, procIds)\n",
    "grades2 = getReportsForUser(grader2, procIds)\n",
    "disagreement = identifyDisagreementReports(grades1, grades2)\n",
    "\n",
    "printDisagreementReports(disagreement, grades1, grades2)"
   ]
  },
  {
   "cell_type": "code",
   "execution_count": null,
   "id": "f70e5e99-88a2-4867-b961-b1b7925cb572",
   "metadata": {},
   "outputs": [],
   "source": [
    "# Cell 06: release a set of your reports back into your queue \n",
    "# ONLY USE THIS IF YOU'RE CERTAIN\n",
    "releaseReports(grader2, disagreement)"
   ]
  },
  {
   "cell_type": "markdown",
   "id": "8decd41f-9a0a-4288-bff3-12048af671ac",
   "metadata": {},
   "source": [
    "## Examine flagged reports"
   ]
  },
  {
   "cell_type": "code",
   "execution_count": 4,
   "id": "4a307104-e391-48bc-b641-c1ebf90d1a79",
   "metadata": {},
   "outputs": [
    {
     "name": "stdout",
     "output_type": "stream",
     "text": [
      "4/7\n",
      "\n",
      "BRAIN MRI, WITHOUT AND WITH CONTRAST: C SPINE WITHOUT CONTRAST:\n",
      "CLINICAL INDICATION: Previously healthy teenager with altered\n",
      "mental status, obtunded\n",
      "TECHNIQUE: Sagittal 3D T1 gradient echo with axial reformations,\n",
      "axial and coronal TSE T2, axial and coronal FLAIR, axial spin\n",
      "echo T1, arterial spin labeled perfusion imaging, post-contrast\n",
      "sagittal 3D T1 gradient echo with axial and coronal reformations,\n",
      "post-contrast axial spin echo T1 with fat suppression, axial\n",
      "diffusion imaging were performed on a 3.0 Tesla system. Sagittal\n",
      "STIR through the cervical/upper thoracic spine were obtained.\n",
      "COMPARISON:  Head CT from outside institution dated 12/17/2022\n",
      "FINDINGS:\n",
      "Brain: Symmetric foci of restricted diffusion involving the\n",
      "perirolandic, perisylvian subcortical white matter, deep\n",
      "posterior frontal/parietal corona radiata, periatrial white\n",
      "matter, splenium of corpus callosum. Foci of bright signal on\n",
      "diffusion weighted images without correlation with dark signal on\n",
      "ADC within bilateral putamen and hippocampi. The lesions\n",
      "demonstrate very subtle FLAIR hyperintensity, if any; no abnormal\n",
      "T2/T1 signal and no enhancement.\n",
      "The brainstem, thalami and cerebellum are intact.\n",
      "Ventricular system normal.  \n",
      "No additional abnormal parenchymal signal intensity.\n",
      "No intracranial mass lesions; no mass effect or midline shift.  \n",
      "No abnormal fluid collections.  \n",
      "No abnormal contrast enhancement.\n",
      "Visualized major intracranial vessels patent. \n",
      "No definite abnormality in visualized orbits, apart from subtle\n",
      "intraconal edema behind the globe (series 5 image 59), off\n",
      "uncertain significance. \n",
      "Middle ear cavities, mastoid air cells clear. Minimal fluid in\n",
      "the right maxillary and sphenoid sinuses, scattered mucosal\n",
      "thickening in the ethmoid air cells.\n",
      "Spine: The cervical/upper thoracic alignment is unremarkable. The\n",
      "vertebra are normal in size and configuration. The cord is normal\n",
      "in size and signal. There is no cord compression at any levels.\n",
      "There is no intracanalicular, hematoma. The paraspinal soft\n",
      "tissues are unremarkable.\n",
      "\n",
      "IMPRESSION: Symmetric foci of restricted diffusion in the subcortical, deep\n",
      "cerebral white matter, splenium of corpus callosum and to the\n",
      "lesser degree the basal ganglia, as detailed above.\n",
      "The differential diagnosis is broad and likely represent\n",
      "toxic/acquired metabolic derangement. Early manifestations of\n",
      "viral encephalitis may have this appearance. \n",
      "Short-term imaging follow-up to monitor the lesions with\n",
      "administration of MR spectroscopy is requested.\n",
      "No abnormality of the cervical spine.\n",
      "The findings were discussed with Dr. Shepard during image\n",
      "acquisition.\n",
      "\n",
      "Report id: 401216342799\n",
      "\n",
      "Grader:  Megan M. Himes\n",
      "\n"
     ]
    },
    {
     "ename": "KeyboardInterrupt",
     "evalue": "Interrupted by user",
     "output_type": "error",
     "traceback": [
      "\u001b[0;31m---------------------------------------------------------------------------\u001b[0m",
      "\u001b[0;31mKeyboardInterrupt\u001b[0m                         Traceback (most recent call last)",
      "Cell \u001b[0;32mIn[4], line 5\u001b[0m\n\u001b[1;32m      1\u001b[0m \u001b[38;5;66;03m# Cell 07: regrade skipped reports\u001b[39;00m\n\u001b[1;32m      2\u001b[0m \u001b[38;5;66;03m# client: A bigquery client object (created in Cell 01)\u001b[39;00m\n\u001b[1;32m      3\u001b[0m \u001b[38;5;66;03m# skippedGrader: A string of the grader's name (leave blank to review all flagged reports)\u001b[39;00m\n\u001b[1;32m      4\u001b[0m skippedGrader \u001b[38;5;241m=\u001b[39m \u001b[38;5;124m\"\u001b[39m\u001b[38;5;124m\"\u001b[39m\n\u001b[0;32m----> 5\u001b[0m \u001b[43mregradeSkippedReports\u001b[49m\u001b[43m(\u001b[49m\u001b[43mclient\u001b[49m\u001b[43m,\u001b[49m\u001b[43m \u001b[49m\u001b[43mskippedGrader\u001b[49m\u001b[43m)\u001b[49m\n",
      "File \u001b[0;32m/mnt/arcus/lab/users/youngjm/bgdlab/code/annotation-helper-tools/reportMarkingFunctions.py:33\u001b[0m, in \u001b[0;36mregradeSkippedReports\u001b[0;34m(client, grader)\u001b[0m\n\u001b[1;32m     31\u001b[0m \u001b[38;5;28mprint\u001b[39m()\n\u001b[1;32m     32\u001b[0m \u001b[38;5;66;03m# ask for grade\u001b[39;00m\n\u001b[0;32m---> 33\u001b[0m grade \u001b[38;5;241m=\u001b[39m \u001b[43mgetGrade\u001b[49m\u001b[43m(\u001b[49m\u001b[43m)\u001b[49m\n\u001b[1;32m     34\u001b[0m \u001b[38;5;28mprint\u001b[39m(grade)\n\u001b[1;32m     36\u001b[0m \u001b[38;5;66;03m# Update the grader table with the new grade\u001b[39;00m\n",
      "File \u001b[0;32m/mnt/arcus/lab/users/youngjm/bgdlab/code/annotation-helper-tools/reportMarkingFunctions.py:544\u001b[0m, in \u001b[0;36mgetGrade\u001b[0;34m()\u001b[0m\n\u001b[1;32m    543\u001b[0m \u001b[38;5;28;01mdef\u001b[39;00m \u001b[38;5;21mgetGrade\u001b[39m():\n\u001b[0;32m--> 544\u001b[0m     grade \u001b[38;5;241m=\u001b[39m \u001b[38;5;28mstr\u001b[39m(\u001b[38;5;28;43minput\u001b[39;49m\u001b[43m(\u001b[49m\u001b[38;5;124;43m'\u001b[39;49m\u001b[38;5;124;43mAssign a SLIP rating to this report (0 do not use/1 maybe use/2 definitely use/-1 skip): \u001b[39;49m\u001b[38;5;124;43m'\u001b[39;49m\u001b[43m)\u001b[49m)\n\u001b[1;32m    545\u001b[0m     \u001b[38;5;28;01mwhile\u001b[39;00m grade \u001b[38;5;241m!=\u001b[39m \u001b[38;5;124m\"\u001b[39m\u001b[38;5;124m0\u001b[39m\u001b[38;5;124m\"\u001b[39m \u001b[38;5;129;01mand\u001b[39;00m grade \u001b[38;5;241m!=\u001b[39m \u001b[38;5;124m\"\u001b[39m\u001b[38;5;124m1\u001b[39m\u001b[38;5;124m\"\u001b[39m \u001b[38;5;129;01mand\u001b[39;00m grade \u001b[38;5;241m!=\u001b[39m \u001b[38;5;124m\"\u001b[39m\u001b[38;5;124m2\u001b[39m\u001b[38;5;124m\"\u001b[39m \u001b[38;5;129;01mand\u001b[39;00m grade \u001b[38;5;241m!=\u001b[39m \u001b[38;5;124m\"\u001b[39m\u001b[38;5;124m-1\u001b[39m\u001b[38;5;124m\"\u001b[39m:\n\u001b[1;32m    546\u001b[0m         grade \u001b[38;5;241m=\u001b[39m \u001b[38;5;28mstr\u001b[39m(\u001b[38;5;28minput\u001b[39m(\u001b[38;5;124m'\u001b[39m\u001b[38;5;124mInvalid input. Assign a SLIP rating to this report (0 do not use/1 maybe use/2 definitely use/-1 skip): \u001b[39m\u001b[38;5;124m'\u001b[39m))\n",
      "File \u001b[0;32m/opt/conda/envs/python3-read-only/lib/python3.9/site-packages/ipykernel/kernelbase.py:1177\u001b[0m, in \u001b[0;36mKernel.raw_input\u001b[0;34m(self, prompt)\u001b[0m\n\u001b[1;32m   1173\u001b[0m \u001b[38;5;28;01mif\u001b[39;00m \u001b[38;5;129;01mnot\u001b[39;00m \u001b[38;5;28mself\u001b[39m\u001b[38;5;241m.\u001b[39m_allow_stdin:\n\u001b[1;32m   1174\u001b[0m     \u001b[38;5;28;01mraise\u001b[39;00m StdinNotImplementedError(\n\u001b[1;32m   1175\u001b[0m         \u001b[38;5;124m\"\u001b[39m\u001b[38;5;124mraw_input was called, but this frontend does not support input requests.\u001b[39m\u001b[38;5;124m\"\u001b[39m\n\u001b[1;32m   1176\u001b[0m     )\n\u001b[0;32m-> 1177\u001b[0m \u001b[38;5;28;01mreturn\u001b[39;00m \u001b[38;5;28;43mself\u001b[39;49m\u001b[38;5;241;43m.\u001b[39;49m\u001b[43m_input_request\u001b[49m\u001b[43m(\u001b[49m\n\u001b[1;32m   1178\u001b[0m \u001b[43m    \u001b[49m\u001b[38;5;28;43mstr\u001b[39;49m\u001b[43m(\u001b[49m\u001b[43mprompt\u001b[49m\u001b[43m)\u001b[49m\u001b[43m,\u001b[49m\n\u001b[1;32m   1179\u001b[0m \u001b[43m    \u001b[49m\u001b[38;5;28;43mself\u001b[39;49m\u001b[38;5;241;43m.\u001b[39;49m\u001b[43m_parent_ident\u001b[49m\u001b[43m[\u001b[49m\u001b[38;5;124;43m\"\u001b[39;49m\u001b[38;5;124;43mshell\u001b[39;49m\u001b[38;5;124;43m\"\u001b[39;49m\u001b[43m]\u001b[49m\u001b[43m,\u001b[49m\n\u001b[1;32m   1180\u001b[0m \u001b[43m    \u001b[49m\u001b[38;5;28;43mself\u001b[39;49m\u001b[38;5;241;43m.\u001b[39;49m\u001b[43mget_parent\u001b[49m\u001b[43m(\u001b[49m\u001b[38;5;124;43m\"\u001b[39;49m\u001b[38;5;124;43mshell\u001b[39;49m\u001b[38;5;124;43m\"\u001b[39;49m\u001b[43m)\u001b[49m\u001b[43m,\u001b[49m\n\u001b[1;32m   1181\u001b[0m \u001b[43m    \u001b[49m\u001b[43mpassword\u001b[49m\u001b[38;5;241;43m=\u001b[39;49m\u001b[38;5;28;43;01mFalse\u001b[39;49;00m\u001b[43m,\u001b[49m\n\u001b[1;32m   1182\u001b[0m \u001b[43m\u001b[49m\u001b[43m)\u001b[49m\n",
      "File \u001b[0;32m/opt/conda/envs/python3-read-only/lib/python3.9/site-packages/ipykernel/kernelbase.py:1219\u001b[0m, in \u001b[0;36mKernel._input_request\u001b[0;34m(self, prompt, ident, parent, password)\u001b[0m\n\u001b[1;32m   1216\u001b[0m             \u001b[38;5;28;01mbreak\u001b[39;00m\n\u001b[1;32m   1217\u001b[0m \u001b[38;5;28;01mexcept\u001b[39;00m \u001b[38;5;167;01mKeyboardInterrupt\u001b[39;00m:\n\u001b[1;32m   1218\u001b[0m     \u001b[38;5;66;03m# re-raise KeyboardInterrupt, to truncate traceback\u001b[39;00m\n\u001b[0;32m-> 1219\u001b[0m     \u001b[38;5;28;01mraise\u001b[39;00m \u001b[38;5;167;01mKeyboardInterrupt\u001b[39;00m(\u001b[38;5;124m\"\u001b[39m\u001b[38;5;124mInterrupted by user\u001b[39m\u001b[38;5;124m\"\u001b[39m) \u001b[38;5;28;01mfrom\u001b[39;00m \u001b[38;5;28mNone\u001b[39m\n\u001b[1;32m   1220\u001b[0m \u001b[38;5;28;01mexcept\u001b[39;00m \u001b[38;5;167;01mException\u001b[39;00m:\n\u001b[1;32m   1221\u001b[0m     \u001b[38;5;28mself\u001b[39m\u001b[38;5;241m.\u001b[39mlog\u001b[38;5;241m.\u001b[39mwarning(\u001b[38;5;124m\"\u001b[39m\u001b[38;5;124mInvalid Message:\u001b[39m\u001b[38;5;124m\"\u001b[39m, exc_info\u001b[38;5;241m=\u001b[39m\u001b[38;5;28;01mTrue\u001b[39;00m)\n",
      "\u001b[0;31mKeyboardInterrupt\u001b[0m: Interrupted by user"
     ]
    }
   ],
   "source": [
    "# Cell 07: regrade skipped reports\n",
    "# client: A bigquery client object (created in Cell 01)\n",
    "# skippedGrader: A string of the grader's name (leave blank to review all flagged reports)\n",
    "skippedGrader = \"\"\n",
    "regradeSkippedReports(client, skippedGrader)"
   ]
  },
  {
   "cell_type": "code",
   "execution_count": null,
   "id": "f643c7e5-33d8-4779-a122-d4089f74499f",
   "metadata": {},
   "outputs": [],
   "source": []
  }
 ],
 "metadata": {
  "kernelspec": {
   "display_name": "python3-read-only",
   "language": "python",
   "name": "conda-env-python3-read-only-py"
  },
  "language_info": {
   "codemirror_mode": {
    "name": "ipython",
    "version": 3
   },
   "file_extension": ".py",
   "mimetype": "text/x-python",
   "name": "python",
   "nbconvert_exporter": "python",
   "pygments_lexer": "ipython3",
   "version": "3.9.16"
  }
 },
 "nbformat": 4,
 "nbformat_minor": 5
}
