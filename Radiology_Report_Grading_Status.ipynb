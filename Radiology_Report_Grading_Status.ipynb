{
 "cells": [
  {
   "cell_type": "markdown",
   "id": "905b178c-5679-4cb2-bf95-45eb72919c2d",
   "metadata": {},
   "source": [
    "## Purpose of this notebook\n",
    "\n",
    "- Examine similarities and differences between different raters' reliability report grades\n",
    "- Calculate Cohen's kappa between pairs of raters\n",
    "- Identify and print reports where raters strongly disagree (grade of 2 vs grade of 0)\n",
    "\n",
    "## How to use this notebook\n",
    "\n",
    "- Run each of the cells in order. Make sure you run Cell 01 first.\n",
    "- Cell 02 can be used to see how many reports have been graded since a date (YYYY-MM-DD format)\n",
    "- Cells 03-04 get the proc_ord_id values unique to each report and the names of the persons who have graded reliability reports.\n",
    "- Cell 05 can be used to examine the reports a pair of graders disagree on\n",
    "- Cells 06 will release examined reports back to a specified grader for regrading\n",
    "- Cell 07 can be used to examine and regrade reports marked with a -1 flag"
   ]
  },
  {
   "cell_type": "code",
   "execution_count": 1,
   "id": "414b9366-e7f7-49cd-a5f4-2d26e7b32805",
   "metadata": {},
   "outputs": [
    {
     "name": "stdout",
     "output_type": "stream",
     "text": [
      "lab.test_grader_table_with_metadata  backup successful\n"
     ]
    }
   ],
   "source": [
    "# Cell 01: load libraries\n",
    "from reliabilityLib import *\n",
    "from reportMarkingFunctions import *\n",
    "from google.cloud import bigquery # SQL table interface on Arcus\n",
    "import pandas\n",
    "import numpy\n",
    "import random\n",
    "import matplotlib.pyplot as plt\n",
    "\n",
    "client = bigquery.Client()\n",
    "backup_grader_table()"
   ]
  },
  {
   "cell_type": "markdown",
   "id": "6a01a983-0da0-4b6c-bcc7-5a5c2ecd8212",
   "metadata": {},
   "source": [
    "## Evolution of SLIP over time"
   ]
  },
  {
   "cell_type": "code",
   "execution_count": 2,
   "id": "b00fd89a-f6d9-4d6d-bc27-e347475ca344",
   "metadata": {},
   "outputs": [
    {
     "name": "stdout",
     "output_type": "stream",
     "text": [
      "# Reports \t Grader Name\n",
      "415 \t\t Laura Mercedes\n",
      "1054 \t\t Jenna Schabdach\n",
      "575 \t\t Sepp Kohler\n",
      "31 \t\t Eren Kafadar\n",
      "321 \t\t Dabriel Zimmerman\n",
      "171 \t\t Megan M. Himes\n",
      "498 \t\t Leila Abdel-Qader\n",
      "288 \t\t Benjamin Jung\n",
      "151 \t\t Zhiqiang Sha\n",
      "\n",
      "Any graders not in the displayed table have not graded any reports since before 2024-09-01\n"
     ]
    }
   ],
   "source": [
    "# Cell 02:\n",
    "get_grade_counts_since(\"2024-09-01\")"
   ]
  },
  {
   "cell_type": "markdown",
   "id": "15eaa6b3-174e-4e3d-8657-95d3439be578",
   "metadata": {},
   "source": [
    "## Grader agreement on reliability reports"
   ]
  },
  {
   "cell_type": "code",
   "execution_count": 3,
   "id": "dd475e76-cb5d-483c-8ff3-d642c5056086",
   "metadata": {},
   "outputs": [],
   "source": [
    "# Cell 03: Get the list of proc_ord_id values used to identify the reliability reports\n",
    "procIds = get_reliability_proc_ord_ids()"
   ]
  },
  {
   "cell_type": "code",
   "execution_count": 8,
   "id": "6a4bbf07-af1f-47fc-854e-2a03b608a9f0",
   "metadata": {},
   "outputs": [
    {
     "name": "stderr",
     "output_type": "stream",
     "text": [
      "/mnt/arcus/lab/users/youngjm/bgdlab/code/annotation-helper-tools/reliabilityLib.py:218: FutureWarning: Setting an item of incompatible dtype is deprecated and will raise in a future error of pandas. Value '0.8272776207778226' has dtype incompatible with int64, please explicitly cast to a compatible dtype first.\n",
      "  metricTable.loc[graders[idx1], graders[idx2]] = k\n",
      "/mnt/arcus/lab/users/youngjm/bgdlab/code/annotation-helper-tools/reliabilityLib.py:218: FutureWarning: Setting an item of incompatible dtype is deprecated and will raise in a future error of pandas. Value '0.6599099099099099' has dtype incompatible with int64, please explicitly cast to a compatible dtype first.\n",
      "  metricTable.loc[graders[idx1], graders[idx2]] = k\n",
      "/mnt/arcus/lab/users/youngjm/bgdlab/code/annotation-helper-tools/reliabilityLib.py:218: FutureWarning: Setting an item of incompatible dtype is deprecated and will raise in a future error of pandas. Value '0.765638707065254' has dtype incompatible with int64, please explicitly cast to a compatible dtype first.\n",
      "  metricTable.loc[graders[idx1], graders[idx2]] = k\n",
      "/mnt/arcus/lab/users/youngjm/bgdlab/code/annotation-helper-tools/reliabilityLib.py:218: FutureWarning: Setting an item of incompatible dtype is deprecated and will raise in a future error of pandas. Value '0.7759643916913946' has dtype incompatible with int64, please explicitly cast to a compatible dtype first.\n",
      "  metricTable.loc[graders[idx1], graders[idx2]] = k\n",
      "/mnt/arcus/lab/users/youngjm/bgdlab/code/annotation-helper-tools/reliabilityLib.py:218: FutureWarning: Setting an item of incompatible dtype is deprecated and will raise in a future error of pandas. Value '0.7341909275558565' has dtype incompatible with int64, please explicitly cast to a compatible dtype first.\n",
      "  metricTable.loc[graders[idx1], graders[idx2]] = k\n",
      "/mnt/arcus/lab/users/youngjm/bgdlab/code/annotation-helper-tools/reliabilityLib.py:218: FutureWarning: Setting an item of incompatible dtype is deprecated and will raise in a future error of pandas. Value '0.7625623846311615' has dtype incompatible with int64, please explicitly cast to a compatible dtype first.\n",
      "  metricTable.loc[graders[idx1], graders[idx2]] = k\n",
      "/mnt/arcus/lab/users/youngjm/bgdlab/code/annotation-helper-tools/reliabilityLib.py:218: FutureWarning: Setting an item of incompatible dtype is deprecated and will raise in a future error of pandas. Value '0.7650043981324852' has dtype incompatible with int64, please explicitly cast to a compatible dtype first.\n",
      "  metricTable.loc[graders[idx1], graders[idx2]] = k\n",
      "/mnt/arcus/lab/users/youngjm/bgdlab/code/annotation-helper-tools/reliabilityLib.py:218: FutureWarning: Setting an item of incompatible dtype is deprecated and will raise in a future error of pandas. Value '0.6718728779030287' has dtype incompatible with int64, please explicitly cast to a compatible dtype first.\n",
      "  metricTable.loc[graders[idx1], graders[idx2]] = k\n",
      "/mnt/arcus/lab/users/youngjm/bgdlab/code/annotation-helper-tools/reliabilityLib.py:218: FutureWarning: Setting an item of incompatible dtype is deprecated and will raise in a future error of pandas. Value '0.7108664432742939' has dtype incompatible with int64, please explicitly cast to a compatible dtype first.\n",
      "  metricTable.loc[graders[idx1], graders[idx2]] = k\n",
      "/mnt/arcus/lab/users/youngjm/bgdlab/code/annotation-helper-tools/reliabilityLib.py:218: FutureWarning: Setting an item of incompatible dtype is deprecated and will raise in a future error of pandas. Value '0.6856567899521199' has dtype incompatible with int64, please explicitly cast to a compatible dtype first.\n",
      "  metricTable.loc[graders[idx1], graders[idx2]] = k\n",
      "/mnt/arcus/lab/users/youngjm/bgdlab/code/annotation-helper-tools/reliabilityLib.py:218: FutureWarning: Setting an item of incompatible dtype is deprecated and will raise in a future error of pandas. Value '0.6698100314336477' has dtype incompatible with int64, please explicitly cast to a compatible dtype first.\n",
      "  metricTable.loc[graders[idx1], graders[idx2]] = k\n",
      "/mnt/arcus/lab/users/youngjm/bgdlab/code/annotation-helper-tools/reliabilityLib.py:218: FutureWarning: Setting an item of incompatible dtype is deprecated and will raise in a future error of pandas. Value '0.6828160997425126' has dtype incompatible with int64, please explicitly cast to a compatible dtype first.\n",
      "  metricTable.loc[graders[idx1], graders[idx2]] = k\n",
      "/mnt/arcus/lab/users/youngjm/bgdlab/code/annotation-helper-tools/reliabilityLib.py:218: FutureWarning: Setting an item of incompatible dtype is deprecated and will raise in a future error of pandas. Value '0.7142664053524364' has dtype incompatible with int64, please explicitly cast to a compatible dtype first.\n",
      "  metricTable.loc[graders[idx1], graders[idx2]] = k\n",
      "/mnt/arcus/lab/users/youngjm/bgdlab/code/annotation-helper-tools/reliabilityLib.py:218: FutureWarning: Setting an item of incompatible dtype is deprecated and will raise in a future error of pandas. Value '0.6596776396667122' has dtype incompatible with int64, please explicitly cast to a compatible dtype first.\n",
      "  metricTable.loc[graders[idx1], graders[idx2]] = k\n",
      "/mnt/arcus/lab/users/youngjm/bgdlab/code/annotation-helper-tools/reliabilityLib.py:218: FutureWarning: Setting an item of incompatible dtype is deprecated and will raise in a future error of pandas. Value '0.6309572301425662' has dtype incompatible with int64, please explicitly cast to a compatible dtype first.\n",
      "  metricTable.loc[graders[idx1], graders[idx2]] = k\n"
     ]
    },
    {
     "name": "stdout",
     "output_type": "stream",
     "text": [
      "\n",
      "                     Megan M. Himes  Naomi Shifman  Alexa DeJean  \\\n",
      "Jenna Schabdach            0.827278       0.659910      0.765639   \n",
      "Megan M. Himes             0.000000       0.670741      0.766317   \n",
      "Naomi Shifman              0.000000       0.000000      0.670720   \n",
      "Alexa DeJean               0.000000       0.000000      0.000000   \n",
      "Julia Katowitz             0.000000       0.000000      0.000000   \n",
      "Matt Buczek                0.000000       0.000000      0.000000   \n",
      "Shivaram Karandikar        0.000000       0.000000      0.000000   \n",
      "Dabriel Zimmerman          0.000000       0.000000      0.000000   \n",
      "Shreya Gudapati            0.000000       0.000000      0.000000   \n",
      "Harry Hearn                0.000000       0.000000      0.000000   \n",
      "Sepp Kohler                0.000000       0.000000      0.000000   \n",
      "Eren Kafadar               0.000000       0.000000      0.000000   \n",
      "Leila Abdel-Qader          0.000000       0.000000      0.000000   \n",
      "Laura Mercedes             0.000000       0.000000      0.000000   \n",
      "Benjamin Jung              0.000000       0.000000      0.000000   \n",
      "Zhiqiang Sha               0.000000       0.000000      0.000000   \n",
      "\n",
      "                     Julia Katowitz  Matt Buczek  Shivaram Karandikar  \\\n",
      "Jenna Schabdach            0.775964     0.734191             0.762562   \n",
      "Megan M. Himes             0.776357     0.734694             0.804963   \n",
      "Naomi Shifman              0.671998     0.662192             0.658485   \n",
      "Alexa DeJean               0.714363     0.713103             0.762919   \n",
      "Julia Katowitz             0.000000     0.701540             0.701540   \n",
      "Matt Buczek                0.000000     0.000000             0.679186   \n",
      "Shivaram Karandikar        0.000000     0.000000             1.000000   \n",
      "Dabriel Zimmerman          0.000000     0.000000             0.678326   \n",
      "Shreya Gudapati            0.000000     0.000000             0.635593   \n",
      "Harry Hearn                0.000000     0.000000             0.653043   \n",
      "Sepp Kohler                0.000000     0.000000             0.709367   \n",
      "Eren Kafadar               0.000000     0.000000             0.601085   \n",
      "Leila Abdel-Qader          0.000000     0.000000             0.667721   \n",
      "Laura Mercedes             0.000000     0.000000             0.638138   \n",
      "Benjamin Jung              0.000000     0.000000             0.716481   \n",
      "Zhiqiang Sha               0.000000     0.000000             0.614716   \n",
      "\n",
      "                     Dabriel Zimmerman  Shreya Gudapati  Harry Hearn  \\\n",
      "Jenna Schabdach               0.765004         0.671873     0.710866   \n",
      "Megan M. Himes                0.664648         0.653061     0.650606   \n",
      "Naomi Shifman                 0.609250         0.638804     0.559329   \n",
      "Alexa DeJean                  0.663629         0.631433     0.597388   \n",
      "Julia Katowitz                0.593567         0.632106     0.669494   \n",
      "Matt Buczek                   0.622627         0.692088     0.677772   \n",
      "Shivaram Karandikar           0.678326         0.635593     0.653043   \n",
      "Dabriel Zimmerman             0.000000         0.639618     0.689215   \n",
      "Shreya Gudapati               0.000000         0.000000     0.677417   \n",
      "Harry Hearn                   0.000000         0.000000     0.000000   \n",
      "Sepp Kohler                   0.000000         0.000000     0.000000   \n",
      "Eren Kafadar                  0.000000         0.000000     0.000000   \n",
      "Leila Abdel-Qader             0.000000         0.000000     0.000000   \n",
      "Laura Mercedes                0.000000         0.000000     0.000000   \n",
      "Benjamin Jung                 0.000000         0.000000     0.000000   \n",
      "Zhiqiang Sha                  0.000000         0.000000     0.000000   \n",
      "\n",
      "                     Sepp Kohler  Eren Kafadar  Leila Abdel-Qader  \\\n",
      "Jenna Schabdach         0.685657      0.669810           0.682816   \n",
      "Megan M. Himes          0.688660      0.650606           0.643820   \n",
      "Naomi Shifman           0.665143      0.570398           0.627881   \n",
      "Alexa DeJean            0.666229      0.628282           0.642857   \n",
      "Julia Katowitz          0.657949      0.648212           0.644204   \n",
      "Matt Buczek             0.634989      0.666621           0.592057   \n",
      "Shivaram Karandikar     0.709367      0.601085           0.667721   \n",
      "Dabriel Zimmerman       0.702923      0.627952           0.691312   \n",
      "Shreya Gudapati         0.681323      0.594812           0.639151   \n",
      "Harry Hearn             0.688947      0.589445           0.647729   \n",
      "Sepp Kohler             0.000000      0.637019           0.702714   \n",
      "Eren Kafadar            0.000000      0.000000           0.555700   \n",
      "Leila Abdel-Qader       0.000000      0.000000           0.000000   \n",
      "Laura Mercedes          0.000000      0.000000           0.000000   \n",
      "Benjamin Jung           0.000000      0.000000           0.000000   \n",
      "Zhiqiang Sha            0.000000      0.000000           0.000000   \n",
      "\n",
      "                     Laura Mercedes  Benjamin Jung  Zhiqiang Sha  \\\n",
      "Jenna Schabdach            0.714266       0.659678      0.630957   \n",
      "Megan M. Himes             0.674876       0.682127      0.653436   \n",
      "Naomi Shifman              0.608938       0.618129      0.577369   \n",
      "Alexa DeJean               0.663811       0.691164      0.611536   \n",
      "Julia Katowitz             0.634038       0.660974      0.633396   \n",
      "Matt Buczek                0.653178       0.648885      0.560571   \n",
      "Shivaram Karandikar        0.638138       0.716481      0.614716   \n",
      "Dabriel Zimmerman          0.662032       0.637094      0.566833   \n",
      "Shreya Gudapati            0.630280       0.635969      0.524637   \n",
      "Harry Hearn                0.607497       0.601195      0.511663   \n",
      "Sepp Kohler                0.663158       0.634435      0.626897   \n",
      "Eren Kafadar               0.639101       0.591439      0.513037   \n",
      "Leila Abdel-Qader          0.671695       0.709416      0.659026   \n",
      "Laura Mercedes             0.000000       0.669403      0.599088   \n",
      "Benjamin Jung              0.000000       0.000000      0.625362   \n",
      "Zhiqiang Sha               0.000000       0.000000      0.000000   \n",
      "\n",
      "                     Shivaram Karandikar  \n",
      "Jenna Schabdach                 0.762562  \n",
      "Megan M. Himes                  0.804963  \n",
      "Naomi Shifman                   0.658485  \n",
      "Alexa DeJean                    0.762919  \n",
      "Julia Katowitz                  0.701540  \n",
      "Matt Buczek                     0.679186  \n",
      "Shivaram Karandikar             1.000000  \n",
      "Dabriel Zimmerman               0.678326  \n",
      "Shreya Gudapati                 0.635593  \n",
      "Harry Hearn                     0.653043  \n",
      "Sepp Kohler                     0.709367  \n",
      "Eren Kafadar                    0.601085  \n",
      "Leila Abdel-Qader               0.667721  \n",
      "Laura Mercedes                  0.638138  \n",
      "Benjamin Jung                   0.716481  \n",
      "Zhiqiang Sha                    0.614716  \n"
     ]
    }
   ],
   "source": [
    "# Cell 04: Compare the reliability reports for the users we want to evaluate\n",
    "graders = ['Jenna Schabdach', \n",
    "           'Megan M. Himes', \n",
    "           # 'Naomi Shifman', \n",
    "           # 'Alexa DeJean',\n",
    "           # 'Julia Katowitz',\n",
    "           'Matt Buczek',\n",
    "           'Shivaram Karandikar',\n",
    "           'Dabriel Zimmerman',\n",
    "           # 'Shreya Gudapati',\n",
    "           'Harry Hearn', \n",
    "           'Sepp Kohler', \n",
    "           'Eren Kafadar', \n",
    "           'Leila Abdel-Qader', \n",
    "           'Laura Mercedes', \n",
    "           'Zhiqiang Sha',\n",
    "           'Benjamin Jung']\n",
    "\n",
    "# Metric options: \"disagreement\", \"kappa\", \"kappa2vAll\", \"kappa0vAll\"\n",
    "df = calculateMetricForGraders(graders, \"kappa\")\n",
    "print()\n",
    "print(df)"
   ]
  },
  {
   "cell_type": "code",
   "execution_count": 9,
   "id": "9b2137aa-e029-4105-bc78-1ee0bd389fbb",
   "metadata": {},
   "outputs": [
    {
     "name": "stdout",
     "output_type": "stream",
     "text": [
      "23\n"
     ]
    },
    {
     "data": {
      "text/plain": [
       "0.7650043981324852"
      ]
     },
     "execution_count": 9,
     "metadata": {},
     "output_type": "execute_result"
    }
   ],
   "source": [
    "# Cell 05: \n",
    "# This is the cell where you can look at the disagreement reports for each pair of users\n",
    "# User 1: Naomi\n",
    "# User 2: Jenna\n",
    "grader1 = \"Jenna Schabdach\"\n",
    "grader2 = \"Dabriel Zimmerman\"\n",
    "procIds = get_reliability_proc_ord_ids()\n",
    "grades1 = get_reports_for_user(grader1, procIds)\n",
    "grades2 = get_reports_for_user(grader2, procIds)\n",
    "# grades2 = grades1.copy(deep=True)\n",
    "# grades2['grade'] = [random.randint(0, 2) for i in range(len(grades1))]\n",
    "# grades2['grade'] = [ 0 for i in range(len(grades1)) ]\n",
    "disagreement = identify_disagreement_reports(grades1, grades2)\n",
    "print(len(disagreement))\n",
    "\n",
    "calc_kappa(grades1, grades2)\n",
    "\n",
    "# print_disagreement_reports(disagreement, grades1, grades2)"
   ]
  },
  {
   "cell_type": "code",
   "execution_count": 10,
   "id": "f70e5e99-88a2-4867-b961-b1b7925cb572",
   "metadata": {},
   "outputs": [
    {
     "name": "stdout",
     "output_type": "stream",
     "text": [
      "23 were released back into the queue for Dabriel Zimmerman\n"
     ]
    }
   ],
   "source": [
    "# Cell 06: release a set of your reports back into your queue \n",
    "# ONLY USE THIS IF YOU'RE CERTAIN\n",
    "# release_reports(grader2, disagreement)"
   ]
  },
  {
   "cell_type": "markdown",
   "id": "99bcb3bf-3171-4992-8238-09f123ab2b52",
   "metadata": {},
   "source": [
    "## Release reports of retired graders"
   ]
  },
  {
   "cell_type": "code",
   "execution_count": null,
   "id": "3b2cd68b-6164-4e22-b96f-8f40098aa55c",
   "metadata": {},
   "outputs": [],
   "source": [
    "# # Edit this list to include the username of anyone who is actively grading\n",
    "# active_graders = ['Jenna Schabdach', \n",
    "#                   'Harry Hearn', \n",
    "#                   'Dabriel Zimmerman', \n",
    "#                   'Sepp Kohler', \n",
    "#                   'Megan M. Himes', \n",
    "#                   'Eren Kafadar', \n",
    "#                   'Matt Buczek', \n",
    "#                   'Leila Abdel-Qader', \n",
    "#                   'Laura Mercedes', \n",
    "#                   'Benjamin Jung', \n",
    "#                   'Zhiqiang Sha', \n",
    "#                   'Shivaram Karandikar']\n",
    "\n",
    "# # Run this cell once with the following flag set to True to check your grader list\n",
    "# just_check = True\n",
    "\n",
    "# # Get the list of graders\n",
    "# q = \"select distinct grader_name from lab.grader_table_with_metadata;\"\n",
    "# graders = client.query(q).to_dataframe()['grader_name'].values\n",
    "\n",
    "# # Drop \"Coarse Text Search\"\n",
    "# graders = [i for i in graders if \"Coarse Text Search\" not in i]\n",
    "# print(graders)\n",
    "\n",
    "# # For every grader\n",
    "# for grader in graders:\n",
    "#     # If the grader is no longer active\n",
    "#     if grader not in active_graders:\n",
    "#         # Get the number of reports in their queue\n",
    "#         q = 'select * from lab.grader_table_with_metadata where grader_name = \"'+grader+'\" and grade = 999 and grade_category = \"Unique\"'\n",
    "#         grader_df = client.query(q).to_dataframe()\n",
    "#         # Print the number of reports for the user\n",
    "#         print(grader, grader_df.shape)\n",
    "#         # Eventually, delete those entries\n",
    "#         if len(grader_df) > 0 and just_check = False:\n",
    "#             q = 'delete from lab.grader_table_with_metadata where grader_name = \"'+grader+'\" and grade = 999 and grade_category = \"Unique\"' \n",
    "#             job = client.query(q)\n",
    "#             job.result()🟢"
   ]
  },
  {
   "cell_type": "markdown",
   "id": "8decd41f-9a0a-4288-bff3-12048af671ac",
   "metadata": {},
   "source": [
    "## Examine flagged reports"
   ]
  },
  {
   "cell_type": "code",
   "execution_count": 4,
   "id": "d9e88f41-a95f-4f30-9181-5e0c301b04fb",
   "metadata": {},
   "outputs": [
    {
     "name": "stdout",
     "output_type": "stream",
     "text": [
      "1/11\n",
      "\n",
      "Grader:  Leila Abdel-Qader\n",
      "Reason report was flagged: do we care about 7th cranial nerve?\n",
      "Year of scan: 2016\n",
      "Age at scan: 9.93 years\n",
      "BRAIN \u001b[5;30;43mMRI\u001b[0m, WITHOUT CONTRAST: \n",
      "\n",
      "\u001b[5;30;43mCLINICAL INDICATION\u001b[0m: Congential facial palsy, may be central or absence of the 7th cranial nerve. \n",
      "\n",
      "\u001b[5;30;43mTECHNIQUE\u001b[0m: Sagittal 3D T1 gradient echo with axial reformations, axial and coronal TSE T2, axial FLAIR, arterial spin labeled perfusion imaging, and axial diffusion tensor imaging were performed on a 3.0 Tesla system. Additional axial CISS 3D with sagittal coronal reformations of the posterior fossa/IAC region. \n",
      "\n",
      "COMPARISON: None \n",
      "\n",
      "\u001b[5;30;43mFINDINGS\u001b[0m: The examination is slightly degraded on some sequences by patient \u001b[5;30;41mMOTION\u001b[0m. \u001b[5;30;47mTHE VENTRICULAR SYSTEM IS NORMAL IN SIZE, SHAPE, AND CONFIGURATION\u001b[0m. \u001b[5;30;47mTHERE ARE NO INTRACRANIAL MASS LESIONS\u001b[0m, and there is \u001b[5;30;47mNO MASS EFFECT OR MIDLINE SHIFT\u001b[0m. \u001b[5;30;47mNO ABNORMAL FLUID COLLECTIONS ARE IDENTIFIED\u001b[0m. \u001b[5;30;47mTHERE ARE NO AREAS OF ABNORMAL PARENCHYMAL SIGNAL INTENSITY ON THESE SEQUENCES\u001b[0m. I\u001b[5;30;42mNCIDENTAL\u001b[0m finding of a small subcentimeter pineal gland \u001b[5;30;41mCYST\u001b[0m. On the CISS sequence and reformats, note is made of a slightly decreased caliber of the right 7th cranial nerve compared to the left. \u001b[5;30;47mTHE VISUALIZED MAJOR INTRACRANIAL VESSELS APPEAR PATENT\u001b[0m. \u001b[5;30;47mNO DEFINITE ABNORMALITY IS SEEN IN THE VISUALIZED PORTIONS OF THE ORBITS\u001b[0m. T\u001b[5;30;47mHE MIDDLE EAR CAVITIES AND MASTOID AIR CELLS ARE CLEAR\u001b[0m. Minimal mucosal thickening in the maxillary sinuses, ethmoid air cells and left sphenoid sinus. Tiny retention \u001b[5;30;41mCYST\u001b[0ms in the adenoids bilaterally. Minimal right posterior postural plagiocephaly is noted. \n",
      "\n",
      "\u001b[5;30;43mIMPRESSION\u001b[0m: 1. Asymmetrical size of the 7th cranial nerves, the right being smaller than the left. If further evaluation of this finding was clinically indicated, a dedicated brain/temporal bone \u001b[5;30;43mMRI\u001b[0m study with contrast could be performed. 2. Otherwise u\u001b[5;30;42mNREMARKABLE NONCONTRAST BRAIN MR\u001b[0mI. I have personally reviewed the images and agree with the interpretation.\n",
      "\n",
      "Report id: 258638340781\n",
      "\n",
      "\n"
     ]
    },
    {
     "ename": "KeyboardInterrupt",
     "evalue": "Interrupted by user",
     "output_type": "error",
     "traceback": [
      "\u001b[0;31m---------------------------------------------------------------------------\u001b[0m",
      "\u001b[0;31mKeyboardInterrupt\u001b[0m                         Traceback (most recent call last)",
      "Cell \u001b[0;32mIn[4], line 5\u001b[0m\n\u001b[1;32m      1\u001b[0m \u001b[38;5;66;03m# Cell 07: regrade skipped reports\u001b[39;00m\n\u001b[1;32m      2\u001b[0m \u001b[38;5;66;03m# client: A bigquery client object (created in Cell 01)\u001b[39;00m\n\u001b[1;32m      3\u001b[0m \u001b[38;5;66;03m# skippedGrader: A string of the grader's name (leave blank to review all flagged reports)\u001b[39;00m\n\u001b[1;32m      4\u001b[0m skippedGrader \u001b[38;5;241m=\u001b[39m \u001b[38;5;124m\"\u001b[39m\u001b[38;5;124m\"\u001b[39m \u001b[38;5;66;03m# \"Naomi Shifman\"\u001b[39;00m\n\u001b[0;32m----> 5\u001b[0m \u001b[43mregrade_skipped_reports\u001b[49m\u001b[43m(\u001b[49m\u001b[43mclient\u001b[49m\u001b[43m,\u001b[49m\u001b[43m \u001b[49m\u001b[43mgrader\u001b[49m\u001b[38;5;241;43m=\u001b[39;49m\u001b[43mskippedGrader\u001b[49m\u001b[43m)\u001b[49m\n",
      "File \u001b[0;32m/mnt/arcus/lab/users/youngjm/bgdlab/code/annotation-helper-tools/reportMarkingFunctions.py:115\u001b[0m, in \u001b[0;36mregrade_skipped_reports\u001b[0;34m(client, project_name, grader, flag)\u001b[0m\n\u001b[1;32m    113\u001b[0m \u001b[38;5;28mprint\u001b[39m()\n\u001b[1;32m    114\u001b[0m \u001b[38;5;66;03m# ask for grade\u001b[39;00m\n\u001b[0;32m--> 115\u001b[0m grade \u001b[38;5;241m=\u001b[39m \u001b[43mget_grade\u001b[49m\u001b[43m(\u001b[49m\u001b[43menable_md_flag\u001b[49m\u001b[38;5;241;43m=\u001b[39;49m\u001b[38;5;28;43;01mTrue\u001b[39;49;00m\u001b[43m)\u001b[49m\n\u001b[1;32m    116\u001b[0m \u001b[38;5;28mprint\u001b[39m(grade)\n\u001b[1;32m    118\u001b[0m \u001b[38;5;28;01mif\u001b[39;00m grade \u001b[38;5;241m!=\u001b[39m \u001b[38;5;241m-\u001b[39m\u001b[38;5;241m1\u001b[39m \u001b[38;5;129;01mor\u001b[39;00m grade \u001b[38;5;241m!=\u001b[39m \u001b[38;5;241m-\u001b[39m\u001b[38;5;241m2\u001b[39m:\n",
      "File \u001b[0;32m/mnt/arcus/lab/users/youngjm/bgdlab/code/annotation-helper-tools/reportMarkingFunctions.py:1113\u001b[0m, in \u001b[0;36mget_grade\u001b[0;34m(enable_md_flag)\u001b[0m\n\u001b[1;32m   1110\u001b[0m \u001b[38;5;28;01mif\u001b[39;00m enable_md_flag:\n\u001b[1;32m   1111\u001b[0m     potential_grades \u001b[38;5;241m=\u001b[39m [\u001b[38;5;124m\"\u001b[39m\u001b[38;5;124m0\u001b[39m\u001b[38;5;124m\"\u001b[39m, \u001b[38;5;124m\"\u001b[39m\u001b[38;5;124m1\u001b[39m\u001b[38;5;124m\"\u001b[39m, \u001b[38;5;124m\"\u001b[39m\u001b[38;5;124m2\u001b[39m\u001b[38;5;124m\"\u001b[39m, \u001b[38;5;124m\"\u001b[39m\u001b[38;5;124m-1\u001b[39m\u001b[38;5;124m\"\u001b[39m, \u001b[38;5;124m\"\u001b[39m\u001b[38;5;124m-2\u001b[39m\u001b[38;5;124m\"\u001b[39m]\n\u001b[1;32m   1112\u001b[0m     grade \u001b[38;5;241m=\u001b[39m \u001b[38;5;28mstr\u001b[39m(\n\u001b[0;32m-> 1113\u001b[0m         \u001b[38;5;28;43minput\u001b[39;49m\u001b[43m(\u001b[49m\n\u001b[1;32m   1114\u001b[0m \u001b[43m            \u001b[49m\u001b[38;5;124;43m\"\u001b[39;49m\u001b[38;5;124;43mAssign a SLIP rating to this report (0 do not use/1 maybe use/2 definitely use/-1 skip/-2 escalate to clinician): \u001b[39;49m\u001b[38;5;124;43m\"\u001b[39;49m\n\u001b[1;32m   1115\u001b[0m \u001b[43m        \u001b[49m\u001b[43m)\u001b[49m\n\u001b[1;32m   1116\u001b[0m     )\n\u001b[1;32m   1118\u001b[0m \u001b[38;5;28;01melse\u001b[39;00m:\n\u001b[1;32m   1119\u001b[0m     potential_grades \u001b[38;5;241m=\u001b[39m [\u001b[38;5;124m\"\u001b[39m\u001b[38;5;124m0\u001b[39m\u001b[38;5;124m\"\u001b[39m, \u001b[38;5;124m\"\u001b[39m\u001b[38;5;124m1\u001b[39m\u001b[38;5;124m\"\u001b[39m, \u001b[38;5;124m\"\u001b[39m\u001b[38;5;124m2\u001b[39m\u001b[38;5;124m\"\u001b[39m, \u001b[38;5;124m\"\u001b[39m\u001b[38;5;124m-1\u001b[39m\u001b[38;5;124m\"\u001b[39m]\n",
      "File \u001b[0;32m/mnt/arcus/lab/users/youngjm/.conda/envs/arcus/lib/python3.10/site-packages/ipykernel/kernelbase.py:1270\u001b[0m, in \u001b[0;36mKernel.raw_input\u001b[0;34m(self, prompt)\u001b[0m\n\u001b[1;32m   1268\u001b[0m     msg \u001b[38;5;241m=\u001b[39m \u001b[38;5;124m\"\u001b[39m\u001b[38;5;124mraw_input was called, but this frontend does not support input requests.\u001b[39m\u001b[38;5;124m\"\u001b[39m\n\u001b[1;32m   1269\u001b[0m     \u001b[38;5;28;01mraise\u001b[39;00m StdinNotImplementedError(msg)\n\u001b[0;32m-> 1270\u001b[0m \u001b[38;5;28;01mreturn\u001b[39;00m \u001b[38;5;28;43mself\u001b[39;49m\u001b[38;5;241;43m.\u001b[39;49m\u001b[43m_input_request\u001b[49m\u001b[43m(\u001b[49m\n\u001b[1;32m   1271\u001b[0m \u001b[43m    \u001b[49m\u001b[38;5;28;43mstr\u001b[39;49m\u001b[43m(\u001b[49m\u001b[43mprompt\u001b[49m\u001b[43m)\u001b[49m\u001b[43m,\u001b[49m\n\u001b[1;32m   1272\u001b[0m \u001b[43m    \u001b[49m\u001b[38;5;28;43mself\u001b[39;49m\u001b[38;5;241;43m.\u001b[39;49m\u001b[43m_parent_ident\u001b[49m\u001b[43m[\u001b[49m\u001b[38;5;124;43m\"\u001b[39;49m\u001b[38;5;124;43mshell\u001b[39;49m\u001b[38;5;124;43m\"\u001b[39;49m\u001b[43m]\u001b[49m\u001b[43m,\u001b[49m\n\u001b[1;32m   1273\u001b[0m \u001b[43m    \u001b[49m\u001b[38;5;28;43mself\u001b[39;49m\u001b[38;5;241;43m.\u001b[39;49m\u001b[43mget_parent\u001b[49m\u001b[43m(\u001b[49m\u001b[38;5;124;43m\"\u001b[39;49m\u001b[38;5;124;43mshell\u001b[39;49m\u001b[38;5;124;43m\"\u001b[39;49m\u001b[43m)\u001b[49m\u001b[43m,\u001b[49m\n\u001b[1;32m   1274\u001b[0m \u001b[43m    \u001b[49m\u001b[43mpassword\u001b[49m\u001b[38;5;241;43m=\u001b[39;49m\u001b[38;5;28;43;01mFalse\u001b[39;49;00m\u001b[43m,\u001b[49m\n\u001b[1;32m   1275\u001b[0m \u001b[43m\u001b[49m\u001b[43m)\u001b[49m\n",
      "File \u001b[0;32m/mnt/arcus/lab/users/youngjm/.conda/envs/arcus/lib/python3.10/site-packages/ipykernel/kernelbase.py:1313\u001b[0m, in \u001b[0;36mKernel._input_request\u001b[0;34m(self, prompt, ident, parent, password)\u001b[0m\n\u001b[1;32m   1310\u001b[0m \u001b[38;5;28;01mexcept\u001b[39;00m \u001b[38;5;167;01mKeyboardInterrupt\u001b[39;00m:\n\u001b[1;32m   1311\u001b[0m     \u001b[38;5;66;03m# re-raise KeyboardInterrupt, to truncate traceback\u001b[39;00m\n\u001b[1;32m   1312\u001b[0m     msg \u001b[38;5;241m=\u001b[39m \u001b[38;5;124m\"\u001b[39m\u001b[38;5;124mInterrupted by user\u001b[39m\u001b[38;5;124m\"\u001b[39m\n\u001b[0;32m-> 1313\u001b[0m     \u001b[38;5;28;01mraise\u001b[39;00m \u001b[38;5;167;01mKeyboardInterrupt\u001b[39;00m(msg) \u001b[38;5;28;01mfrom\u001b[39;00m \u001b[38;5;28;01mNone\u001b[39;00m\n\u001b[1;32m   1314\u001b[0m \u001b[38;5;28;01mexcept\u001b[39;00m \u001b[38;5;167;01mException\u001b[39;00m:\n\u001b[1;32m   1315\u001b[0m     \u001b[38;5;28mself\u001b[39m\u001b[38;5;241m.\u001b[39mlog\u001b[38;5;241m.\u001b[39mwarning(\u001b[38;5;124m\"\u001b[39m\u001b[38;5;124mInvalid Message:\u001b[39m\u001b[38;5;124m\"\u001b[39m, exc_info\u001b[38;5;241m=\u001b[39m\u001b[38;5;28;01mTrue\u001b[39;00m)\n",
      "\u001b[0;31mKeyboardInterrupt\u001b[0m: Interrupted by user"
     ]
    }
   ],
   "source": [
    "# Cell 07: regrade skipped reports\n",
    "# client: A bigquery client object (created in Cell 01)\n",
    "# skippedGrader: A string of the grader's name (leave blank to review all flagged reports)\n",
    "skippedGrader = \"\" # \"Naomi Shifman\"\n",
    "regrade_skipped_reports(client, grader=skippedGrader)"
   ]
  },
  {
   "cell_type": "markdown",
   "id": "c516ecf6-151d-401e-bfd8-58a2778075d9",
   "metadata": {},
   "source": [
    "## For clinician review only"
   ]
  },
  {
   "cell_type": "code",
   "execution_count": null,
   "id": "598ae063-e620-4aad-83bb-d363fa54f801",
   "metadata": {},
   "outputs": [
    {
     "name": "stdout",
     "output_type": "stream",
     "text": [
      "1/17\n",
      "\n",
      "Grader:  Naomi Shifman\n",
      "Reason report was flagged: Mild dysgenesis of the corpus callosum\n",
      "Year of scan: 2022\n",
      "Age at scan: 16.4 years\n",
      "\u001b[5;30;43mMRI\u001b[0m BRAIN AND INNER EARS, WITH AND WITHOUT CONTRAST: \n",
      "\n",
      "\u001b[5;30;43mCLINICAL INDICATION\u001b[0m: Left tinnitus, dizziness, left SNHL, Headaches \n",
      "\n",
      "\u001b[5;30;43mTECHNIQUE\u001b[0m: BRAIN: Sagittal 3D T1 gradient echo with axial reformations, axial and coronal TSE T2, axial and coronal FLAIR, axial spin echo T1, arterial spin labeled perfusion imaging, post-contrast sagittal 3D T1 gradient echo with axial and coronal reformations, post-contrast axial spin echo T1 with fat suppression, axial diffusion imaging were performed on a 3.0 Tesla system. INNER EARS: Coronal TSE T2, axial 3D CISS with coronal and sagittal reformations, axial 3D T2 with coronal and sagittal reformations and post-contrast coronal T1 sequences. All sequences were obtained on a 3 Tesla system. \n",
      "\n",
      "COMPARISON: None \n",
      "\n",
      "\u001b[5;30;43mFINDINGS\u001b[0m: BRAIN: The examination is degraded by patient \u001b[5;30;41mMOTION\u001b[0m, however diagnostic information is obtained. \u001b[5;30;47mTHERE ARE NO INTRACRANIAL MASS LESIONS\u001b[0m and there is \u001b[5;30;47mNO MASS EFFECT OR MIDLINE SHIFT\u001b[0m. \u001b[5;30;47mNO EXTRA-AXIAL FLUID COLLECTIONS ARE IDENTIFIED\u001b[0m. \u001b[5;30;47mTHERE ARE NO AREAS OF ABNORMAL PARENCHYMAL SIGNAL INTENSITY ON THESE SEQUENCES\u001b[0m. There is mild dysgenesis of the corpus callosum with poor differentiation among splenium isthmus and body with associated slightly deformity of the lateral ventricles. Otherwise, the ventricular system is normal in size, shape and configuration. There is no evidence of \u001b[5;30;41mVENTRICULOMEGALY\u001b[0m. The adenohypophysis appears small and prepubescent. Normal neurohypophysis and pituitary stalk. Mild right cerebellar tonsillar ectopia, without CSF space compromise at the craniocervical junction. \u001b[5;30;47mTHERE ARE NO AREAS OF ABNORMAL ENHANCEMENT FOLLOWING GADOLINIUM ADMINISTRATION\u001b[0m. The m\u001b[5;30;47mAJOR INTRACRANIAL VESSELS ARE PATENT\u001b[0m. There is a large retention \u001b[5;30;41mCYST\u001b[0m in the right maxillary sinus. Otherwise, the visualized portions of the paranasal sinuses and orbits are grossly u\u001b[5;30;42mNREMARKABLE\u001b[0m. There is right posterior plagiocephaly. INNER EARS: On the right side, the external auditory canal is patent. The middle ear cavity is clear. The vestibulo-cochlear nerves are seen and appear normal. The inner ear structures, including the semicircular canals, vestibule, and cochlea are u\u001b[5;30;42mNREMARKABLE\u001b[0m. The vestibular aqueduct is not enlarged. On the left side, the external auditory canal is patent. The middle ear cavity is clear. The vestibulo-cochlear nerves are seen and left cochlear nerve appears small in caliber on CISS images, however better visualized on T2 space imaging (series 25 image 42) and appears more normal. The inner ear structures, including the semicircular canals, vestibule, and cochlea are u\u001b[5;30;42mNREMARKABLE\u001b[0m. The vestibular aqueduct is not enlarged. The mastoid air cells are clear. \n",
      "\n",
      "\u001b[5;30;43mIMPRESSION\u001b[0m: Degraded by \u001b[5;30;41mMOTION\u001b[0m examination. Mild dysgenesis of the corpus callosum. Small for age and gender adenohypophysis, please correlate clinically. Otherwise, u\u001b[5;30;42mNREMARKABLE\u001b[0m \u001b[5;30;43mMRI\u001b[0m of the brain . Questionable small left cochlear nerve, noting degraded by \u001b[5;30;41mMOTION\u001b[0m examination. Requires Act 112 notification: False I have personally reviewed the images and agree with the interpretation.Act 112^False Act 112^False\n",
      "\n",
      "Report id: 367866678085\n",
      "\n",
      "\n"
     ]
    }
   ],
   "source": [
    "# Cell 08: clinician regrade skipped reports\n",
    "# client: A bigquery client object (created in Cell 01)\n",
    "# skippedGrader: A string of the grader's name (leave blank to review all flagged reports)\n",
    "regrade_skipped_reports(client, flag=-2)"
   ]
  },
  {
   "cell_type": "code",
   "execution_count": null,
   "id": "216582c0-38aa-44f8-b1cf-c27ab6564b35",
   "metadata": {},
   "outputs": [],
   "source": []
  }
 ],
 "metadata": {
  "kernelspec": {
   "display_name": ".conda-arcus",
   "language": "python",
   "name": "conda-env-.conda-arcus-py"
  },
  "language_info": {
   "codemirror_mode": {
    "name": "ipython",
    "version": 3
   },
   "file_extension": ".py",
   "mimetype": "text/x-python",
   "name": "python",
   "nbconvert_exporter": "python",
   "pygments_lexer": "ipython3",
   "version": "3.10.13"
  }
 },
 "nbformat": 4,
 "nbformat_minor": 5
}
