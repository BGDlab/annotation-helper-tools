{
 "cells": [
  {
   "cell_type": "markdown",
   "id": "905b178c-5679-4cb2-bf95-45eb72919c2d",
   "metadata": {},
   "source": [
    "## Purpose of this notebook\n",
    "\n",
    "- Examine similarities and differences between different raters' reliability report grades\n",
    "- Calculate Cohen's kappa between pairs of raters\n",
    "- Identify and print reports where raters strongly disagree (grade of 2 vs grade of 0)\n",
    "\n",
    "## How to use this notebook\n",
    "\n",
    "- Run each of the cells in order. Make sure you run Cell 01 first.\n",
    "- Cell 02 can be used to see how many reports have been graded since a date (YYYY-MM-DD format)\n",
    "- Cells 03-04 get the proc_ord_id values unique to each report and the names of the persons who have graded reliability reports.\n",
    "- Cell 05 can be used to examine the reports a pair of graders disagree on\n",
    "- Cells 06 will release examined reports back to a specified grader for regrading\n",
    "- Cell 07 can be used to examine and regrade reports marked with a -1 flag"
   ]
  },
  {
   "cell_type": "code",
   "execution_count": 1,
   "id": "414b9366-e7f7-49cd-a5f4-2d26e7b32805",
   "metadata": {},
   "outputs": [],
   "source": [
    "# Cell 01: load libraries\n",
    "from reliabilityLib import *\n",
    "from reportMarkingFunctions import *\n",
    "from google.cloud import bigquery # SQL table interface on Arcus\n",
    "import pandas\n",
    "import numpy\n",
    "import matplotlib.pyplot as plt\n",
    "\n",
    "client = bigquery.Client()"
   ]
  },
  {
   "cell_type": "markdown",
   "id": "6a01a983-0da0-4b6c-bcc7-5a5c2ecd8212",
   "metadata": {},
   "source": [
    "## Evolution of SLIP over time"
   ]
  },
  {
   "cell_type": "code",
   "execution_count": 3,
   "id": "b00fd89a-f6d9-4d6d-bc27-e347475ca344",
   "metadata": {},
   "outputs": [
    {
     "name": "stdout",
     "output_type": "stream",
     "text": [
      "# Reports \t Grader Name\n",
      "1 \t\t Jenna Schabdach\n",
      "25 \t\t Megan M. Himes\n",
      "\n",
      "Any graders not in the displayed table have not graded any reports since before 2023-10-30\n"
     ]
    }
   ],
   "source": [
    "# Cell 02:\n",
    "getGradeCountsSinceDate(\"2023-10-30\")"
   ]
  },
  {
   "cell_type": "markdown",
   "id": "15eaa6b3-174e-4e3d-8657-95d3439be578",
   "metadata": {},
   "source": [
    "## Grader agreement on reliability reports"
   ]
  },
  {
   "cell_type": "code",
   "execution_count": 3,
   "id": "dd475e76-cb5d-483c-8ff3-d642c5056086",
   "metadata": {},
   "outputs": [],
   "source": [
    "# Cell 03: Get the list of proc_ord_id values used to identify the reliability reports\n",
    "procIds = getReliabilityProcOrdIds()"
   ]
  },
  {
   "cell_type": "code",
   "execution_count": 4,
   "id": "6a4bbf07-af1f-47fc-854e-2a03b608a9f0",
   "metadata": {},
   "outputs": [
    {
     "name": "stdout",
     "output_type": "stream",
     "text": [
      "\n",
      "                 Megan M. Himes  Naomi Shifman  Alexa DeJean  Julia Katowitz  \\\n",
      "Jenna Schabdach        0.918719       0.680698      0.796166        0.642667   \n",
      "Megan M. Himes         0.000000       0.670741      0.766317        0.616751   \n",
      "Naomi Shifman          0.000000       0.000000      0.670720        0.560663   \n",
      "Alexa DeJean           0.000000       0.000000      0.000000        0.571200   \n",
      "Julia Katowitz         0.000000       0.000000      0.000000        0.000000   \n",
      "\n",
      "                 Shreya Gudapati  \n",
      "Jenna Schabdach         0.641671  \n",
      "Megan M. Himes          0.653061  \n",
      "Naomi Shifman           0.638804  \n",
      "Alexa DeJean            0.631433  \n",
      "Julia Katowitz          0.498666  \n"
     ]
    }
   ],
   "source": [
    "# Cell 04: Compare the reliability reports for the users we want to evaluate\n",
    "graders = ['Jenna Schabdach', \n",
    "           'Megan M. Himes', \n",
    "           'Naomi Shifman', \n",
    "           'Alexa DeJean',\n",
    "           'Julia Katowitz',\n",
    "           'Shreya Gudapati']\n",
    "\n",
    "# Metric options: \"disagreement\", \"kappa\", \"kappa2vAll\", \"kappa0vAll\"\n",
    "df = calculateMetricForGraders(graders, \"kappa\")\n",
    "print()\n",
    "print(df)"
   ]
  },
  {
   "cell_type": "code",
   "execution_count": null,
   "id": "9b2137aa-e029-4105-bc78-1ee0bd389fbb",
   "metadata": {},
   "outputs": [],
   "source": [
    "# Cell 05: \n",
    "# This is the cell where you can look at the disagreement reports for each pair of users\n",
    "# User 1: Naomi\n",
    "# User 2: Jenna\n",
    "grader1 = \"Jenna Schabdach\"\n",
    "grader2 = \"Alexa DeJean\"\n",
    "procIds = getReliabilityProcOrdIds()\n",
    "grades1 = getReportsForUser(grader1, procIds)\n",
    "grades2 = getReportsForUser(grader2, procIds)\n",
    "disagreement = identifyDisagreementReports(grades1, grades2)\n",
    "\n",
    "printDisagreementReports(disagreement, grades1, grades2)"
   ]
  },
  {
   "cell_type": "code",
   "execution_count": null,
   "id": "f70e5e99-88a2-4867-b961-b1b7925cb572",
   "metadata": {},
   "outputs": [],
   "source": [
    "# Cell 06: release a set of your reports back into your queue \n",
    "# ONLY USE THIS IF YOU'RE CERTAIN\n",
    "releaseReports(grader2, disagreement)"
   ]
  },
  {
   "cell_type": "markdown",
   "id": "8decd41f-9a0a-4288-bff3-12048af671ac",
   "metadata": {},
   "source": [
    "## Examine flagged reports"
   ]
  },
  {
   "cell_type": "code",
   "execution_count": 5,
   "id": "4a307104-e391-48bc-b641-c1ebf90d1a79",
   "metadata": {},
   "outputs": [
    {
     "name": "stdout",
     "output_type": "stream",
     "text": [
      "5/5\n",
      "\n",
      "BRAIN MRI, WITHOUT AND WITH CONTRAST:\n",
      "CLINICAL INDICATION: Venous sinus thrombosis with incomplete\n",
      "recanalization after anticoagulation. Evaluate for progression of\n",
      "thrombosis.\n",
      "TECHNIQUE: BRAIN: Sagittal 3D T1 gradient echo with axial\n",
      "reformations, axial and coronal TSE T2, axial and coronal FLAIR,\n",
      "axial spin echo T1, arterial spin labeled perfusion imaging,\n",
      "post-contrast sagittal 3D T1 gradient echo with axial and coronal\n",
      "reformations, post-contrast axial spin echo T1 with fat\n",
      "suppression, axial diffusion imaging were performed on a 3.0\n",
      "Tesla system. BRAIN MRV: 2D time-of-flight intracranial magnetic\n",
      "resonance venography was performed on a 3 Tesla system, in the\n",
      "coronal and axial planes, with volume of interest 3D\n",
      "reconstructions performed on an independent workstation.\n",
      "COMPARISON:  Brain MRI/MRA 3/17/2022, brain MRI/MRV 1/24/2022\n",
      "FINDINGS:\n",
      "BRAIN: \n",
      "Stable nonspecific focus of T2/FLAIR hyperintensity in the left\n",
      "subinsular white matter likely reflecting perivascular space\n",
      "(series 17 image 30). No new parenchymal signal abnormality. No\n",
      "abnormal parenchymal enhancement. No leptomeningeal or\n",
      "pachymeningeal enhancement.\n",
      "Ventricular system normal. No intracranial mass lesions; no mass\n",
      "effect or midline shift.  \n",
      "Visualized major intracranial vessels patent. \n",
      "No definite abnormality in visualized orbits. Redemonstration of\n",
      "partially empty sella. No evidence of papilledema. \n",
      "No partial opacification of the left greater than right mastoid\n",
      "air cells. Interval worsening of mucosal thickening in the\n",
      "bilateral maxillary sinuses, sphenoid sinuses, ethmoid air cells,\n",
      "and left frontal sinus.\n",
      "MRV:\n",
      "No definite venous sinus thrombosis. There is evidence of\n",
      "opacification within the left transverse sinus, left sigmoid\n",
      "sinus, and left jugular vein on postcontrast MP rage sequences.\n",
      "There remains diminished flow enhancement related to chronic\n",
      "narrowing and or slow flow along the left transverse and sigmoid\n",
      "sinuses and proximal internal jugular vein. \n",
      "Otherwise, major intracranial venous structures demonstrate\n",
      "normal flow-related enhancement.  \n",
      "\n",
      "IMPRESSION: 1. Unremarkable brain MRI prior to and following intravenous\n",
      "contrast.\n",
      "2. No new venous sinus thrombosis. Diminished flow enhancement\n",
      "with contrast opacification of left transverse sinus, sigmoid\n",
      "sinus, and jugular vein favored to represent slow flow/narrowing.\n",
      "Partial recanalization also possible.\n",
      "Requires Act 112 notification: False\n",
      "I have personally reviewed the images and agree with the\n",
      "interpretation.Act 112^False\n",
      "Act 112^False\n",
      "\n",
      "Report id: 402472343993\n",
      "\n",
      "Grader:  Jenna Schabdach\n",
      "\n"
     ]
    },
    {
     "name": "stdin",
     "output_type": "stream",
     "text": [
      "Assign a SLIP rating to this report (0 do not use/1 maybe use/2 definitely use/-1 skip):  0\n"
     ]
    },
    {
     "name": "stdout",
     "output_type": "stream",
     "text": [
      "\n"
     ]
    },
    {
     "name": "stdin",
     "output_type": "stream",
     "text": [
      "Please confirm your grade by reentering it OR enter a revised value to change the grade:  0\n"
     ]
    },
    {
     "name": "stdout",
     "output_type": "stream",
     "text": [
      "Saving your grade of 0 for this report.\n",
      "0\n",
      "Grade saved. Run the cell again to grade another report.\n"
     ]
    }
   ],
   "source": [
    "# Cell 07: regrade skipped reports\n",
    "# client: A bigquery client object (created in Cell 01)\n",
    "# skippedGrader: A string of the grader's name (leave blank to review all flagged reports)\n",
    "skippedGrader = \"\"\n",
    "regradeSkippedReports(client, skippedGrader)"
   ]
  },
  {
   "cell_type": "code",
   "execution_count": null,
   "id": "f643c7e5-33d8-4779-a122-d4089f74499f",
   "metadata": {},
   "outputs": [],
   "source": []
  }
 ],
 "metadata": {
  "kernelspec": {
   "display_name": "python3-read-only",
   "language": "python",
   "name": "conda-env-python3-read-only-py"
  },
  "language_info": {
   "codemirror_mode": {
    "name": "ipython",
    "version": 3
   },
   "file_extension": ".py",
   "mimetype": "text/x-python",
   "name": "python",
   "nbconvert_exporter": "python",
   "pygments_lexer": "ipython3",
   "version": "3.9.16"
  }
 },
 "nbformat": 4,
 "nbformat_minor": 5
}
