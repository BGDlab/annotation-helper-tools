{
 "cells": [
  {
   "cell_type": "markdown",
   "id": "905b178c-5679-4cb2-bf95-45eb72919c2d",
   "metadata": {},
   "source": [
    "## Purpose of this notebook\n",
    "\n",
    "- Examine similarities and differences between different raters' reliability report grades\n",
    "- Calculate Cohen's kappa between pairs of raters\n",
    "- Identify and print reports where raters strongly disagree (grade of 2 vs grade of 0)\n",
    "\n",
    "## How to use this notebook\n",
    "\n",
    "- Run each of the cells in order. Make sure you run Cell 01 first.\n",
    "- Cell 02 can be used to see how many reports have been graded since a date (YYYY-MM-DD format)\n",
    "- Cells 03-04 get the proc_ord_id values unique to each report and the names of the persons who have graded reliability reports.\n",
    "- Cell 05 can be used to examine the reports a pair of graders disagree on\n",
    "- Cells 06 will release examined reports back to a specified grader for regrading\n",
    "- Cell 07 can be used to examine and regrade reports marked with a -1 flag"
   ]
  },
  {
   "cell_type": "code",
   "execution_count": 4,
   "id": "414b9366-e7f7-49cd-a5f4-2d26e7b32805",
   "metadata": {},
   "outputs": [
    {
     "name": "stdout",
     "output_type": "stream",
     "text": [
      "lab.grader_table_with_metadata backup successful\n"
     ]
    }
   ],
   "source": [
    "# Cell 01: load libraries\n",
    "from reliabilityLib import *\n",
    "from reportMarkingFunctions import *\n",
    "from google.cloud import bigquery # SQL table interface on Arcus\n",
    "import pandas\n",
    "import numpy\n",
    "import random\n",
    "import matplotlib.pyplot as plt\n",
    "\n",
    "client = bigquery.Client()\n",
    "backup_grader_table()"
   ]
  },
  {
   "cell_type": "markdown",
   "id": "6a01a983-0da0-4b6c-bcc7-5a5c2ecd8212",
   "metadata": {},
   "source": [
    "## Evolution of SLIP over time"
   ]
  },
  {
   "cell_type": "code",
   "execution_count": 5,
   "id": "b00fd89a-f6d9-4d6d-bc27-e347475ca344",
   "metadata": {},
   "outputs": [
    {
     "name": "stdout",
     "output_type": "stream",
     "text": [
      "# Reports \t Grader Name\n",
      "81 \t\t Megan M. Himes\n",
      "338 \t\t Sepp Kohler\n",
      "159 \t\t Dabriel Zimmerman\n",
      "201 \t\t Leila Abdel-Qader\n",
      "304 \t\t Laura Mercedes\n",
      "628 \t\t Jenna Schabdach\n",
      "151 \t\t Zhiqiang Sha\n",
      "215 \t\t Benjamin Jung\n",
      "\n",
      "Any graders not in the displayed table have not graded any reports since before 2024-09-01\n"
     ]
    }
   ],
   "source": [
    "# Cell 02:\n",
    "getGradeCountsSinceDate(\"2024-09-01\")"
   ]
  },
  {
   "cell_type": "markdown",
   "id": "15eaa6b3-174e-4e3d-8657-95d3439be578",
   "metadata": {},
   "source": [
    "## Grader agreement on reliability reports"
   ]
  },
  {
   "cell_type": "code",
   "execution_count": 3,
   "id": "dd475e76-cb5d-483c-8ff3-d642c5056086",
   "metadata": {},
   "outputs": [],
   "source": [
    "# Cell 03: Get the list of proc_ord_id values used to identify the reliability reports\n",
    "procIds = get_reliability_proc_ord_ids()"
   ]
  },
  {
   "cell_type": "code",
   "execution_count": 8,
   "id": "6a4bbf07-af1f-47fc-854e-2a03b608a9f0",
   "metadata": {},
   "outputs": [
    {
     "name": "stderr",
     "output_type": "stream",
     "text": [
      "/mnt/arcus/lab/users/youngjm/bgdlab/code/annotation-helper-tools/reliabilityLib.py:218: FutureWarning: Setting an item of incompatible dtype is deprecated and will raise in a future error of pandas. Value '0.8272776207778226' has dtype incompatible with int64, please explicitly cast to a compatible dtype first.\n",
      "  metricTable.loc[graders[idx1], graders[idx2]] = k\n",
      "/mnt/arcus/lab/users/youngjm/bgdlab/code/annotation-helper-tools/reliabilityLib.py:218: FutureWarning: Setting an item of incompatible dtype is deprecated and will raise in a future error of pandas. Value '0.6599099099099099' has dtype incompatible with int64, please explicitly cast to a compatible dtype first.\n",
      "  metricTable.loc[graders[idx1], graders[idx2]] = k\n",
      "/mnt/arcus/lab/users/youngjm/bgdlab/code/annotation-helper-tools/reliabilityLib.py:218: FutureWarning: Setting an item of incompatible dtype is deprecated and will raise in a future error of pandas. Value '0.765638707065254' has dtype incompatible with int64, please explicitly cast to a compatible dtype first.\n",
      "  metricTable.loc[graders[idx1], graders[idx2]] = k\n",
      "/mnt/arcus/lab/users/youngjm/bgdlab/code/annotation-helper-tools/reliabilityLib.py:218: FutureWarning: Setting an item of incompatible dtype is deprecated and will raise in a future error of pandas. Value '0.7759643916913946' has dtype incompatible with int64, please explicitly cast to a compatible dtype first.\n",
      "  metricTable.loc[graders[idx1], graders[idx2]] = k\n",
      "/mnt/arcus/lab/users/youngjm/bgdlab/code/annotation-helper-tools/reliabilityLib.py:218: FutureWarning: Setting an item of incompatible dtype is deprecated and will raise in a future error of pandas. Value '0.7341909275558565' has dtype incompatible with int64, please explicitly cast to a compatible dtype first.\n",
      "  metricTable.loc[graders[idx1], graders[idx2]] = k\n",
      "/mnt/arcus/lab/users/youngjm/bgdlab/code/annotation-helper-tools/reliabilityLib.py:218: FutureWarning: Setting an item of incompatible dtype is deprecated and will raise in a future error of pandas. Value '0.7625623846311615' has dtype incompatible with int64, please explicitly cast to a compatible dtype first.\n",
      "  metricTable.loc[graders[idx1], graders[idx2]] = k\n",
      "/mnt/arcus/lab/users/youngjm/bgdlab/code/annotation-helper-tools/reliabilityLib.py:218: FutureWarning: Setting an item of incompatible dtype is deprecated and will raise in a future error of pandas. Value '0.7650043981324852' has dtype incompatible with int64, please explicitly cast to a compatible dtype first.\n",
      "  metricTable.loc[graders[idx1], graders[idx2]] = k\n",
      "/mnt/arcus/lab/users/youngjm/bgdlab/code/annotation-helper-tools/reliabilityLib.py:218: FutureWarning: Setting an item of incompatible dtype is deprecated and will raise in a future error of pandas. Value '0.6718728779030287' has dtype incompatible with int64, please explicitly cast to a compatible dtype first.\n",
      "  metricTable.loc[graders[idx1], graders[idx2]] = k\n",
      "/mnt/arcus/lab/users/youngjm/bgdlab/code/annotation-helper-tools/reliabilityLib.py:218: FutureWarning: Setting an item of incompatible dtype is deprecated and will raise in a future error of pandas. Value '0.7108664432742939' has dtype incompatible with int64, please explicitly cast to a compatible dtype first.\n",
      "  metricTable.loc[graders[idx1], graders[idx2]] = k\n",
      "/mnt/arcus/lab/users/youngjm/bgdlab/code/annotation-helper-tools/reliabilityLib.py:218: FutureWarning: Setting an item of incompatible dtype is deprecated and will raise in a future error of pandas. Value '0.6856567899521199' has dtype incompatible with int64, please explicitly cast to a compatible dtype first.\n",
      "  metricTable.loc[graders[idx1], graders[idx2]] = k\n",
      "/mnt/arcus/lab/users/youngjm/bgdlab/code/annotation-helper-tools/reliabilityLib.py:218: FutureWarning: Setting an item of incompatible dtype is deprecated and will raise in a future error of pandas. Value '0.6698100314336477' has dtype incompatible with int64, please explicitly cast to a compatible dtype first.\n",
      "  metricTable.loc[graders[idx1], graders[idx2]] = k\n",
      "/mnt/arcus/lab/users/youngjm/bgdlab/code/annotation-helper-tools/reliabilityLib.py:218: FutureWarning: Setting an item of incompatible dtype is deprecated and will raise in a future error of pandas. Value '0.6828160997425126' has dtype incompatible with int64, please explicitly cast to a compatible dtype first.\n",
      "  metricTable.loc[graders[idx1], graders[idx2]] = k\n",
      "/mnt/arcus/lab/users/youngjm/bgdlab/code/annotation-helper-tools/reliabilityLib.py:218: FutureWarning: Setting an item of incompatible dtype is deprecated and will raise in a future error of pandas. Value '0.7142664053524364' has dtype incompatible with int64, please explicitly cast to a compatible dtype first.\n",
      "  metricTable.loc[graders[idx1], graders[idx2]] = k\n",
      "/mnt/arcus/lab/users/youngjm/bgdlab/code/annotation-helper-tools/reliabilityLib.py:218: FutureWarning: Setting an item of incompatible dtype is deprecated and will raise in a future error of pandas. Value '0.6596776396667122' has dtype incompatible with int64, please explicitly cast to a compatible dtype first.\n",
      "  metricTable.loc[graders[idx1], graders[idx2]] = k\n",
      "/mnt/arcus/lab/users/youngjm/bgdlab/code/annotation-helper-tools/reliabilityLib.py:218: FutureWarning: Setting an item of incompatible dtype is deprecated and will raise in a future error of pandas. Value '0.6309572301425662' has dtype incompatible with int64, please explicitly cast to a compatible dtype first.\n",
      "  metricTable.loc[graders[idx1], graders[idx2]] = k\n"
     ]
    },
    {
     "name": "stdout",
     "output_type": "stream",
     "text": [
      "\n",
      "                     Megan M. Himes  Naomi Shifman  Alexa DeJean  \\\n",
      "Jenna Schabdach            0.827278       0.659910      0.765639   \n",
      "Megan M. Himes             0.000000       0.670741      0.766317   \n",
      "Naomi Shifman              0.000000       0.000000      0.670720   \n",
      "Alexa DeJean               0.000000       0.000000      0.000000   \n",
      "Julia Katowitz             0.000000       0.000000      0.000000   \n",
      "Matt Buczek                0.000000       0.000000      0.000000   \n",
      "Shivaram Karandikar        0.000000       0.000000      0.000000   \n",
      "Dabriel Zimmerman          0.000000       0.000000      0.000000   \n",
      "Shreya Gudapati            0.000000       0.000000      0.000000   \n",
      "Harry Hearn                0.000000       0.000000      0.000000   \n",
      "Sepp Kohler                0.000000       0.000000      0.000000   \n",
      "Eren Kafadar               0.000000       0.000000      0.000000   \n",
      "Leila Abdel-Qader          0.000000       0.000000      0.000000   \n",
      "Laura Mercedes             0.000000       0.000000      0.000000   \n",
      "Benjamin Jung              0.000000       0.000000      0.000000   \n",
      "Zhiqiang Sha               0.000000       0.000000      0.000000   \n",
      "\n",
      "                     Julia Katowitz  Matt Buczek  Shivaram Karandikar  \\\n",
      "Jenna Schabdach            0.775964     0.734191             0.762562   \n",
      "Megan M. Himes             0.776357     0.734694             0.804963   \n",
      "Naomi Shifman              0.671998     0.662192             0.658485   \n",
      "Alexa DeJean               0.714363     0.713103             0.762919   \n",
      "Julia Katowitz             0.000000     0.701540             0.701540   \n",
      "Matt Buczek                0.000000     0.000000             0.679186   \n",
      "Shivaram Karandikar        0.000000     0.000000             1.000000   \n",
      "Dabriel Zimmerman          0.000000     0.000000             0.678326   \n",
      "Shreya Gudapati            0.000000     0.000000             0.635593   \n",
      "Harry Hearn                0.000000     0.000000             0.653043   \n",
      "Sepp Kohler                0.000000     0.000000             0.709367   \n",
      "Eren Kafadar               0.000000     0.000000             0.601085   \n",
      "Leila Abdel-Qader          0.000000     0.000000             0.667721   \n",
      "Laura Mercedes             0.000000     0.000000             0.638138   \n",
      "Benjamin Jung              0.000000     0.000000             0.716481   \n",
      "Zhiqiang Sha               0.000000     0.000000             0.614716   \n",
      "\n",
      "                     Dabriel Zimmerman  Shreya Gudapati  Harry Hearn  \\\n",
      "Jenna Schabdach               0.765004         0.671873     0.710866   \n",
      "Megan M. Himes                0.664648         0.653061     0.650606   \n",
      "Naomi Shifman                 0.609250         0.638804     0.559329   \n",
      "Alexa DeJean                  0.663629         0.631433     0.597388   \n",
      "Julia Katowitz                0.593567         0.632106     0.669494   \n",
      "Matt Buczek                   0.622627         0.692088     0.677772   \n",
      "Shivaram Karandikar           0.678326         0.635593     0.653043   \n",
      "Dabriel Zimmerman             0.000000         0.639618     0.689215   \n",
      "Shreya Gudapati               0.000000         0.000000     0.677417   \n",
      "Harry Hearn                   0.000000         0.000000     0.000000   \n",
      "Sepp Kohler                   0.000000         0.000000     0.000000   \n",
      "Eren Kafadar                  0.000000         0.000000     0.000000   \n",
      "Leila Abdel-Qader             0.000000         0.000000     0.000000   \n",
      "Laura Mercedes                0.000000         0.000000     0.000000   \n",
      "Benjamin Jung                 0.000000         0.000000     0.000000   \n",
      "Zhiqiang Sha                  0.000000         0.000000     0.000000   \n",
      "\n",
      "                     Sepp Kohler  Eren Kafadar  Leila Abdel-Qader  \\\n",
      "Jenna Schabdach         0.685657      0.669810           0.682816   \n",
      "Megan M. Himes          0.688660      0.650606           0.643820   \n",
      "Naomi Shifman           0.665143      0.570398           0.627881   \n",
      "Alexa DeJean            0.666229      0.628282           0.642857   \n",
      "Julia Katowitz          0.657949      0.648212           0.644204   \n",
      "Matt Buczek             0.634989      0.666621           0.592057   \n",
      "Shivaram Karandikar     0.709367      0.601085           0.667721   \n",
      "Dabriel Zimmerman       0.702923      0.627952           0.691312   \n",
      "Shreya Gudapati         0.681323      0.594812           0.639151   \n",
      "Harry Hearn             0.688947      0.589445           0.647729   \n",
      "Sepp Kohler             0.000000      0.637019           0.702714   \n",
      "Eren Kafadar            0.000000      0.000000           0.555700   \n",
      "Leila Abdel-Qader       0.000000      0.000000           0.000000   \n",
      "Laura Mercedes          0.000000      0.000000           0.000000   \n",
      "Benjamin Jung           0.000000      0.000000           0.000000   \n",
      "Zhiqiang Sha            0.000000      0.000000           0.000000   \n",
      "\n",
      "                     Laura Mercedes  Benjamin Jung  Zhiqiang Sha  \\\n",
      "Jenna Schabdach            0.714266       0.659678      0.630957   \n",
      "Megan M. Himes             0.674876       0.682127      0.653436   \n",
      "Naomi Shifman              0.608938       0.618129      0.577369   \n",
      "Alexa DeJean               0.663811       0.691164      0.611536   \n",
      "Julia Katowitz             0.634038       0.660974      0.633396   \n",
      "Matt Buczek                0.653178       0.648885      0.560571   \n",
      "Shivaram Karandikar        0.638138       0.716481      0.614716   \n",
      "Dabriel Zimmerman          0.662032       0.637094      0.566833   \n",
      "Shreya Gudapati            0.630280       0.635969      0.524637   \n",
      "Harry Hearn                0.607497       0.601195      0.511663   \n",
      "Sepp Kohler                0.663158       0.634435      0.626897   \n",
      "Eren Kafadar               0.639101       0.591439      0.513037   \n",
      "Leila Abdel-Qader          0.671695       0.709416      0.659026   \n",
      "Laura Mercedes             0.000000       0.669403      0.599088   \n",
      "Benjamin Jung              0.000000       0.000000      0.625362   \n",
      "Zhiqiang Sha               0.000000       0.000000      0.000000   \n",
      "\n",
      "                     Shivaram Karandikar  \n",
      "Jenna Schabdach                 0.762562  \n",
      "Megan M. Himes                  0.804963  \n",
      "Naomi Shifman                   0.658485  \n",
      "Alexa DeJean                    0.762919  \n",
      "Julia Katowitz                  0.701540  \n",
      "Matt Buczek                     0.679186  \n",
      "Shivaram Karandikar             1.000000  \n",
      "Dabriel Zimmerman               0.678326  \n",
      "Shreya Gudapati                 0.635593  \n",
      "Harry Hearn                     0.653043  \n",
      "Sepp Kohler                     0.709367  \n",
      "Eren Kafadar                    0.601085  \n",
      "Leila Abdel-Qader               0.667721  \n",
      "Laura Mercedes                  0.638138  \n",
      "Benjamin Jung                   0.716481  \n",
      "Zhiqiang Sha                    0.614716  \n"
     ]
    }
   ],
   "source": [
    "# Cell 04: Compare the reliability reports for the users we want to evaluate\n",
    "graders = ['Jenna Schabdach', \n",
    "           'Megan M. Himes', \n",
    "           # 'Naomi Shifman', \n",
    "           # 'Alexa DeJean',\n",
    "           # 'Julia Katowitz',\n",
    "           'Matt Buczek',\n",
    "           'Shivaram Karandikar',\n",
    "           'Dabriel Zimmerman',\n",
    "           # 'Shreya Gudapati',\n",
    "           'Harry Hearn', \n",
    "           'Sepp Kohler', \n",
    "           'Eren Kafadar', \n",
    "           'Leila Abdel-Qader', \n",
    "           'Laura Mercedes', \n",
    "           'Zhiqiang Sha',\n",
    "           'Benjamin Jung']\n",
    "\n",
    "# Metric options: \"disagreement\", \"kappa\", \"kappa2vAll\", \"kappa0vAll\"\n",
    "df = calculateMetricForGraders(graders, \"kappa\")\n",
    "print()\n",
    "print(df)"
   ]
  },
  {
   "cell_type": "code",
   "execution_count": 9,
   "id": "9b2137aa-e029-4105-bc78-1ee0bd389fbb",
   "metadata": {},
   "outputs": [
    {
     "name": "stdout",
     "output_type": "stream",
     "text": [
      "23\n"
     ]
    },
    {
     "data": {
      "text/plain": [
       "0.7650043981324852"
      ]
     },
     "execution_count": 9,
     "metadata": {},
     "output_type": "execute_result"
    }
   ],
   "source": [
    "# Cell 05: \n",
    "# This is the cell where you can look at the disagreement reports for each pair of users\n",
    "# User 1: Naomi\n",
    "# User 2: Jenna\n",
    "grader1 = \"Jenna Schabdach\"\n",
    "grader2 = \"Dabriel Zimmerman\"\n",
    "procIds = get_reliability_proc_ord_ids()\n",
    "grades1 = get_reports_for_user(grader1, procIds)\n",
    "grades2 = get_reports_for_user(grader2, procIds)\n",
    "# grades2 = grades1.copy(deep=True)\n",
    "# grades2['grade'] = [random.randint(0, 2) for i in range(len(grades1))]\n",
    "# grades2['grade'] = [ 0 for i in range(len(grades1)) ]\n",
    "disagreement = identify_disagreement_reports(grades1, grades2)\n",
    "print(len(disagreement))\n",
    "\n",
    "calc_kappa(grades1, grades2)\n",
    "\n",
    "# print_disagreement_reports(disagreement, grades1, grades2)"
   ]
  },
  {
   "cell_type": "code",
   "execution_count": 10,
   "id": "f70e5e99-88a2-4867-b961-b1b7925cb572",
   "metadata": {},
   "outputs": [
    {
     "name": "stdout",
     "output_type": "stream",
     "text": [
      "23 were released back into the queue for Dabriel Zimmerman\n"
     ]
    }
   ],
   "source": [
    "# Cell 06: release a set of your reports back into your queue \n",
    "# ONLY USE THIS IF YOU'RE CERTAIN\n",
    "release_reports(grader2, disagreement)"
   ]
  },
  {
   "cell_type": "markdown",
   "id": "99bcb3bf-3171-4992-8238-09f123ab2b52",
   "metadata": {},
   "source": [
    "## Release reports of retired graders"
   ]
  },
  {
   "cell_type": "code",
   "execution_count": null,
   "id": "3b2cd68b-6164-4e22-b96f-8f40098aa55c",
   "metadata": {},
   "outputs": [],
   "source": [
    "# # Edit this list to include the username of anyone who is actively grading\n",
    "# active_graders = ['Jenna Schabdach', \n",
    "#                   'Harry Hearn', \n",
    "#                   'Dabriel Zimmerman', \n",
    "#                   'Sepp Kohler', \n",
    "#                   'Megan M. Himes', \n",
    "#                   'Eren Kafadar', \n",
    "#                   'Matt Buczek', \n",
    "#                   'Leila Abdel-Qader', \n",
    "#                   'Laura Mercedes', \n",
    "#                   'Benjamin Jung', \n",
    "#                   'Zhiqiang Sha', \n",
    "#                   'Shivaram Karandikar']\n",
    "\n",
    "# # Run this cell once with the following flag set to True to check your grader list\n",
    "# just_check = True\n",
    "\n",
    "# # Get the list of graders\n",
    "# q = \"select distinct grader_name from lab.grader_table_with_metadata;\"\n",
    "# graders = client.query(q).to_dataframe()['grader_name'].values\n",
    "\n",
    "# # Drop \"Coarse Text Search\"\n",
    "# graders = [i for i in graders if \"Coarse Text Search\" not in i]\n",
    "# print(graders)\n",
    "\n",
    "# # For every grader\n",
    "# for grader in graders:\n",
    "#     # If the grader is no longer active\n",
    "#     if grader not in active_graders:\n",
    "#         # Get the number of reports in their queue\n",
    "#         q = 'select * from lab.grader_table_with_metadata where grader_name = \"'+grader+'\" and grade = 999 and grade_category = \"Unique\"'\n",
    "#         grader_df = client.query(q).to_dataframe()\n",
    "#         # Print the number of reports for the user\n",
    "#         print(grader, grader_df.shape)\n",
    "#         # Eventually, delete those entries\n",
    "#         if len(grader_df) > 0 and just_check = False:\n",
    "#             q = 'delete from lab.grader_table_with_metadata where grader_name = \"'+grader+'\" and grade = 999 and grade_category = \"Unique\"' \n",
    "#             job = client.query(q)\n",
    "#             job.result()🟢"
   ]
  },
  {
   "cell_type": "markdown",
   "id": "8decd41f-9a0a-4288-bff3-12048af671ac",
   "metadata": {},
   "source": [
    "## Examine flagged reports"
   ]
  },
  {
   "cell_type": "code",
   "execution_count": null,
   "id": "d9e88f41-a95f-4f30-9181-5e0c301b04fb",
   "metadata": {},
   "outputs": [],
   "source": [
    "# Cell 07: regrade skipped reports\n",
    "# client: A bigquery client object (created in Cell 01)\n",
    "# skippedGrader: A string of the grader's name (leave blank to review all flagged reports)\n",
    "skippedGrader = \"\" # \"Naomi Shifman\"\n",
    "regrade_skipped_reports(client, grader=skippedGrader)"
   ]
  },
  {
   "cell_type": "markdown",
   "id": "c516ecf6-151d-401e-bfd8-58a2778075d9",
   "metadata": {},
   "source": [
    "## For clinician review only"
   ]
  },
  {
   "cell_type": "code",
   "execution_count": null,
   "id": "598ae063-e620-4aad-83bb-d363fa54f801",
   "metadata": {},
   "outputs": [],
   "source": [
    "# Cell 08: clinician regrade skipped reports\n",
    "# client: A bigquery client object (created in Cell 01)\n",
    "# skippedGrader: A string of the grader's name (leave blank to review all flagged reports)\n",
    "regrade_skipped_reports(client, flag=-2)"
   ]
  },
  {
   "cell_type": "code",
   "execution_count": null,
   "id": "216582c0-38aa-44f8-b1cf-c27ab6564b35",
   "metadata": {},
   "outputs": [],
   "source": []
  }
 ],
 "metadata": {
  "kernelspec": {
   "display_name": ".conda-arcus",
   "language": "python",
   "name": "conda-env-.conda-arcus-py"
  },
  "language_info": {
   "codemirror_mode": {
    "name": "ipython",
    "version": 3
   },
   "file_extension": ".py",
   "mimetype": "text/x-python",
   "name": "python",
   "nbconvert_exporter": "python",
   "pygments_lexer": "ipython3",
   "version": "3.10.13"
  }
 },
 "nbformat": 4,
 "nbformat_minor": 5
}
