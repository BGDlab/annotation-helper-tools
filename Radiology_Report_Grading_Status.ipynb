{
 "cells": [
  {
   "cell_type": "markdown",
   "id": "905b178c-5679-4cb2-bf95-45eb72919c2d",
   "metadata": {},
   "source": [
    "## Purpose of this notebook\n",
    "\n",
    "- Examine similarities and differences between different raters' reliability report grades\n",
    "- Calculate Cohen's kappa between pairs of raters\n",
    "- Identify and print reports where raters strongly disagree (grade of 2 vs grade of 0)\n",
    "\n",
    "## How to use this notebook\n",
    "\n",
    "- Run each of the cells in order. Make sure you run Cell 01 first.\n",
    "- Cell 02 can be used to see how many reports have been graded since a date (YYYY-MM-DD format)\n",
    "- Cells 03-04 get the proc_ord_id values unique to each report and the names of the persons who have graded reliability reports.\n",
    "- Cell 05 can be used to examine the reports a pair of graders disagree on\n",
    "- Cells 06 will release examined reports back to a specified grader for regrading\n",
    "- Cell 07 can be used to examine and regrade reports marked with a -1 flag"
   ]
  },
  {
   "cell_type": "code",
   "execution_count": 1,
   "id": "414b9366-e7f7-49cd-a5f4-2d26e7b32805",
   "metadata": {},
   "outputs": [],
   "source": [
    "# Cell 01: load libraries\n",
    "from reliabilityLib import *\n",
    "from reportMarkingFunctions import *\n",
    "from google.cloud import bigquery # SQL table interface on Arcus\n",
    "import pandas\n",
    "import numpy\n",
    "import matplotlib.pyplot as plt\n",
    "\n",
    "client = bigquery.Client()"
   ]
  },
  {
   "cell_type": "markdown",
   "id": "6a01a983-0da0-4b6c-bcc7-5a5c2ecd8212",
   "metadata": {},
   "source": [
    "## Evolution of SLIP over time"
   ]
  },
  {
   "cell_type": "code",
   "execution_count": 3,
   "id": "b00fd89a-f6d9-4d6d-bc27-e347475ca344",
   "metadata": {},
   "outputs": [
    {
     "name": "stdout",
     "output_type": "stream",
     "text": [
      "# Reports \t Grader Name\n",
      "99 \t\t Matt Buczek\n",
      "171 \t\t Benjamin Jung\n",
      "20 \t\t Sepp Kohler\n",
      "4 \t\t Eren Kafadar\n",
      "374 \t\t Jenna Schabdach\n",
      "87 \t\t Zhiqiang Sha\n",
      "30 \t\t Dabriel Zimmerman\n",
      "208 \t\t Leila Abdel-Qader\n",
      "220 \t\t Harry Hearn\n",
      "\n",
      "Any graders not in the displayed table have not graded any reports since before 2024-08-01\n"
     ]
    }
   ],
   "source": [
    "# Cell 02:\n",
    "getGradeCountsSinceDate(\"2024-08-01\")"
   ]
  },
  {
   "cell_type": "markdown",
   "id": "15eaa6b3-174e-4e3d-8657-95d3439be578",
   "metadata": {},
   "source": [
    "## Grader agreement on reliability reports"
   ]
  },
  {
   "cell_type": "code",
   "execution_count": null,
   "id": "dd475e76-cb5d-483c-8ff3-d642c5056086",
   "metadata": {},
   "outputs": [],
   "source": [
    "# Cell 03: Get the list of proc_ord_id values used to identify the reliability reports\n",
    "procIds = getReliabilityProcOrdIds()"
   ]
  },
  {
   "cell_type": "code",
   "execution_count": null,
   "id": "6a4bbf07-af1f-47fc-854e-2a03b608a9f0",
   "metadata": {},
   "outputs": [],
   "source": [
    "# Cell 04: Compare the reliability reports for the users we want to evaluate\n",
    "graders = ['Jenna Schabdach', \n",
    "           'Megan M. Himes', \n",
    "           'Naomi Shifman', \n",
    "           'Alexa DeJean',\n",
    "           'Julia Katowitz',\n",
    "           'Matt Buczek',\n",
    "           'Shivaram Karandikar', \n",
    "           'Shreya Gudapati']\n",
    "\n",
    "# Metric options: \"disagreement\", \"kappa\", \"kappa2vAll\", \"kappa0vAll\"\n",
    "df = calculateMetricForGraders(graders, \"kappa\")\n",
    "print()\n",
    "print(df)"
   ]
  },
  {
   "cell_type": "code",
   "execution_count": null,
   "id": "9b2137aa-e029-4105-bc78-1ee0bd389fbb",
   "metadata": {},
   "outputs": [],
   "source": [
    "# Cell 05: \n",
    "# This is the cell where you can look at the disagreement reports for each pair of users\n",
    "# User 1: Naomi\n",
    "# User 2: Jenna\n",
    "grader1 = \"Jenna Schabdach\"\n",
    "grader2 = \"Naomi Shifman\"\n",
    "# procIds = getReliabilityProcOrdIds()\n",
    "# grades1 = getReportsForUser(grader1, procIds)\n",
    "# grades2 = getReportsForUser(grader2, procIds)\n",
    "# disagreement = identifyDisagreementReports(grades1, grades2)\n",
    "\n",
    "# printDisagreementReports(disagreement, grades1, grades2)"
   ]
  },
  {
   "cell_type": "code",
   "execution_count": null,
   "id": "f70e5e99-88a2-4867-b961-b1b7925cb572",
   "metadata": {},
   "outputs": [],
   "source": [
    "# Cell 06: release a set of your reports back into your queue \n",
    "# ONLY USE THIS IF YOU'RE CERTAIN\n",
    "# releaseReports(grader2, disagreement)"
   ]
  },
  {
   "cell_type": "markdown",
   "id": "99bcb3bf-3171-4992-8238-09f123ab2b52",
   "metadata": {},
   "source": [
    "## Release reports of retired graders"
   ]
  },
  {
   "cell_type": "code",
   "execution_count": null,
   "id": "3b2cd68b-6164-4e22-b96f-8f40098aa55c",
   "metadata": {},
   "outputs": [],
   "source": [
    "# Edit this list to include the username of anyone who is actively grading\n",
    "active_graders = ['Jenna Schabdach', \n",
    "                  'Harry Hearn', \n",
    "                  'Dabriel Zimmerman', \n",
    "                  'Sepp Kohler', \n",
    "                  'Megan M. Himes', \n",
    "                  'Eren Kafadar', \n",
    "                  'Matt Buczek', \n",
    "                  'Leila Abdel-Qader', \n",
    "                  'Laura Mercedes', \n",
    "                  'Benjamin Jung', \n",
    "                  'Zhiqiang Sha', \n",
    "                  'Shivaram Karandikar']\n",
    "\n",
    "# Run this cell once with the following flag set to True to check your grader list\n",
    "just_check = True\n",
    "\n",
    "# Get the list of graders\n",
    "q = \"select distinct grader_name from lab.grader_table_with_metadata;\"\n",
    "graders = client.query(q).to_dataframe()['grader_name'].values\n",
    "\n",
    "# Drop \"Coarse Text Search\"\n",
    "graders = [i for i in graders if \"Coarse Text Search\" not in i]\n",
    "print(graders)\n",
    "\n",
    "# For every grader\n",
    "for grader in graders:\n",
    "    # If the grader is no longer active\n",
    "    if grader not in active_graders:\n",
    "        # Get the number of reports in their queue\n",
    "        q = 'select * from lab.grader_table_with_metadata where grader_name = \"'+grader+'\" and grade = 999 and grade_category = \"Unique\"'\n",
    "        grader_df = client.query(q).to_dataframe()\n",
    "        # Print the number of reports for the user\n",
    "        print(grader, grader_df.shape)\n",
    "        # Eventually, delete those entries\n",
    "        if len(grader_df) > 0 and just_check = False:\n",
    "            q = 'delete from lab.grader_table_with_metadata where grader_name = \"'+grader+'\" and grade = 999 and grade_category = \"Unique\"' \n",
    "            job = client.query(q)\n",
    "            job.result()"
   ]
  },
  {
   "cell_type": "markdown",
   "id": "8decd41f-9a0a-4288-bff3-12048af671ac",
   "metadata": {},
   "source": [
    "## Examine flagged reports"
   ]
  },
  {
   "cell_type": "code",
   "execution_count": null,
   "id": "4a307104-e391-48bc-b641-c1ebf90d1a79",
   "metadata": {},
   "outputs": [
    {
     "name": "stdout",
     "output_type": "stream",
     "text": [
      "2/3\n",
      "\n",
      "Reason report was flagged: developmental venous anomaly with suspicion for gliosis, 2 vs 1?\n",
      "arcus.procedure_order_narrative\n",
      "BRAIN MRI, WITHOUT AND WITH CONTRAST: \n",
      "\n",
      "CLINICAL INDICATION: 8-year-old, exotropia, left eye. Last MRI with concern for tissue by exit of cranial nerve III on left. Now with progressive symptoms of blurred vision, and worsening drifting of eye. \n",
      "\n",
      "TECHNIQUE: Sagittal 3D T1 gradient echo with axial reformations, axial and coronal TSE T2, axial and coronal FLAIR, axial T1, post-contrast sagittal 3D T1 gradient echo with axial reformations, post-contrast axial spin echo T1 with fat suppression, and axial diffusion-weighted imaging were performed on a 1.5 Tesla system. In addition, axial T2 SPACE was performed for evaluation of cranial nerve III. Coronal and sagittal reformations are available for review. \n",
      "\n",
      "COMPARISON: MRI brain without contrast, 6/11/2024. \n",
      "\n",
      "FINDINGS: Ventricular system normal. Again identified is a developmental venous anomaly within the right frontal lobe, with a small amount of associated thin FLAIR hyperintensity within the parenchyma along the course of the developmental venous anomaly towards the frontal horn of the right lateral ventricle. This may represent a tiny amount of associated gliosis versus subtle transmantle focal cortical dysplasia. Again, the dominant collector vein appears to demonstrate cortical venous drainage, and traverses an asymmetrically deep right frontal superior sulcus. The appearance is stable compared to MRI brain of 6/11/2024. Otherwise, no evidence for abnormal cerebral parenchymal signal intensity. No abnormal cerebral parenchymal contrast enhancement. No intracranial mass lesions; no mass effect or midline shift. No abnormal fluid collections. Visualized major intracranial vessels patent. There is question of small pars intermedia cyst. No definite abnormality in visualized orbits. There is no evidence for a lesion adjacent to the origin of the left 3rd cranial nerve at the level of the midbrain. Middle ear cavities and mastoid air cells clear. There is again complete opacification of the right maxillary sinus. The right maxillary sinus contains polyploid mucosal thickening, with some proteinaceous content, and is smaller in caliber compared to the contralateral maxillary sinus. Size asymmetry may represent developmental anomaly. In the appropriate clinical setting, silent sinus syndrome could appear similar.. Otherwise, additional areas of trace/mild mucosal thickening within paranasal sinuses, most notably within the region of the right anterior/mid ethmoid air cells. Areas of peripheral mucosal enhancement, including within the right maxillary sinus raises the possibility of acute inflammation. Mild prominence of the nasopharyngeal adenoidal tissue and palatine tonsillar tissue is nonspecific, and may represent benign reactivity. \n",
      "\n",
      "IMPRESSION: No lesion is identified adjacent to the origin of the left 3rd cranial nerve at the level of the midbrain. Stable appearance of known right frontal lobe developmental venous anomaly. Persistent complete opacification of the right maxillary sinus. The appearance is concerning for sinusitis. Recommend close clinical correlation. Requires Act 112 notification: False Act 112^False\n",
      "\n",
      "Report id: 476501523333\n",
      "\n",
      "Grader:  Eren Kafadar\n",
      "\n"
     ]
    }
   ],
   "source": [
    "# Cell 07: regrade skipped reports\n",
    "# client: A bigquery client object (created in Cell 01)\n",
    "# skippedGrader: A string of the grader's name (leave blank to review all flagged reports)\n",
    "skippedGrader = \"\" # \"Naomi Shifman\"\n",
    "regradeSkippedReports(client, skippedGrader)"
   ]
  },
  {
   "cell_type": "markdown",
   "id": "c516ecf6-151d-401e-bfd8-58a2778075d9",
   "metadata": {},
   "source": [
    "## For clinician review only"
   ]
  },
  {
   "cell_type": "code",
   "execution_count": 3,
   "id": "598ae063-e620-4aad-83bb-d363fa54f801",
   "metadata": {},
   "outputs": [
    {
     "name": "stdout",
     "output_type": "stream",
     "text": [
      "1/21\n",
      "\n",
      "Skipped reason not available.\n",
      "arcus.procedure_order_narrative\n",
      "AN ERROR HAS OCCURRED: REPORT 364449975286 CANNOT BE FOUND IN arcus.procedure_order_narrative\n"
     ]
    },
    {
     "ename": "UnboundLocalError",
     "evalue": "local variable 'reportDf' referenced before assignment",
     "output_type": "error",
     "traceback": [
      "\u001b[0;31m---------------------------------------------------------------------------\u001b[0m",
      "\u001b[0;31mUnboundLocalError\u001b[0m                         Traceback (most recent call last)",
      "Cell \u001b[0;32mIn[3], line 4\u001b[0m\n\u001b[1;32m      1\u001b[0m \u001b[38;5;66;03m# Cell 08: clinician regrade skipped reports\u001b[39;00m\n\u001b[1;32m      2\u001b[0m \u001b[38;5;66;03m# client: A bigquery client object (created in Cell 01)\u001b[39;00m\n\u001b[1;32m      3\u001b[0m \u001b[38;5;66;03m# skippedGrader: A string of the grader's name (leave blank to review all flagged reports)\u001b[39;00m\n\u001b[0;32m----> 4\u001b[0m \u001b[43mregradeSkippedReports\u001b[49m\u001b[43m(\u001b[49m\u001b[43mclient\u001b[49m\u001b[43m,\u001b[49m\u001b[43m \u001b[49m\u001b[43mflag\u001b[49m\u001b[38;5;241;43m=\u001b[39;49m\u001b[38;5;241;43m-\u001b[39;49m\u001b[38;5;241;43m2\u001b[39;49m\u001b[43m)\u001b[49m\n",
      "File \u001b[0;32m/mnt/arcus/lab/users/youngjm/bgdlab/code/annotation-helper-tools/reportMarkingFunctions.py:63\u001b[0m, in \u001b[0;36mregradeSkippedReports\u001b[0;34m(client, project_name, grader, flag)\u001b[0m\n\u001b[1;32m     61\u001b[0m \u001b[38;5;66;03m# Print the report\u001b[39;00m\n\u001b[1;32m     62\u001b[0m procOrdId \u001b[38;5;241m=\u001b[39m row[\u001b[38;5;124m'\u001b[39m\u001b[38;5;124mproc_ord_id\u001b[39m\u001b[38;5;124m'\u001b[39m]\n\u001b[0;32m---> 63\u001b[0m \u001b[43mprintReport\u001b[49m\u001b[43m(\u001b[49m\u001b[43mprocOrdId\u001b[49m\u001b[43m,\u001b[49m\u001b[43m \u001b[49m\u001b[43mclient\u001b[49m\u001b[43m)\u001b[49m\n\u001b[1;32m     64\u001b[0m \u001b[38;5;28mprint\u001b[39m(\u001b[38;5;124m\"\u001b[39m\u001b[38;5;124mGrader: \u001b[39m\u001b[38;5;124m\"\u001b[39m, row[\u001b[38;5;124m'\u001b[39m\u001b[38;5;124mgrader_name\u001b[39m\u001b[38;5;124m'\u001b[39m])\n\u001b[1;32m     65\u001b[0m \u001b[38;5;28mprint\u001b[39m()\n",
      "File \u001b[0;32m/mnt/arcus/lab/users/youngjm/bgdlab/code/annotation-helper-tools/reportMarkingFunctions.py:707\u001b[0m, in \u001b[0;36mprintReport\u001b[0;34m(procId, client, toHighlight, sourceTable)\u001b[0m\n\u001b[1;32m    704\u001b[0m     \u001b[38;5;28mprint\u001b[39m(\u001b[38;5;124m\"\u001b[39m\u001b[38;5;124mAN ERROR HAS OCCURRED: REPORT\u001b[39m\u001b[38;5;124m\"\u001b[39m, procId, \u001b[38;5;124m\"\u001b[39m\u001b[38;5;124mCANNOT BE FOUND IN\u001b[39m\u001b[38;5;124m\"\u001b[39m, sourceTable)\n\u001b[1;32m    706\u001b[0m \u001b[38;5;66;03m# If the id was in the new table:\u001b[39;00m\n\u001b[0;32m--> 707\u001b[0m \u001b[38;5;28;01mif\u001b[39;00m \u001b[38;5;28mlen\u001b[39m(\u001b[43mreportDf\u001b[49m) \u001b[38;5;241m==\u001b[39m \u001b[38;5;241m1\u001b[39m:\n\u001b[1;32m    708\u001b[0m     originTable \u001b[38;5;241m=\u001b[39m sourceTable\n\u001b[1;32m    709\u001b[0m     domain \u001b[38;5;241m=\u001b[39m sourceTable\u001b[38;5;241m.\u001b[39msplit(\u001b[38;5;124m\"\u001b[39m\u001b[38;5;124m.\u001b[39m\u001b[38;5;124m\"\u001b[39m)[\u001b[38;5;241m0\u001b[39m]\n",
      "\u001b[0;31mUnboundLocalError\u001b[0m: local variable 'reportDf' referenced before assignment"
     ]
    }
   ],
   "source": [
    "# Cell 08: clinician regrade skipped reports\n",
    "# client: A bigquery client object (created in Cell 01)\n",
    "# skippedGrader: A string of the grader's name (leave blank to review all flagged reports)\n",
    "regradeSkippedReports(client, flag=-2)"
   ]
  },
  {
   "cell_type": "code",
   "execution_count": null,
   "id": "216582c0-38aa-44f8-b1cf-c27ab6564b35",
   "metadata": {},
   "outputs": [],
   "source": []
  }
 ],
 "metadata": {
  "kernelspec": {
   "display_name": ".conda-arcus",
   "language": "python",
   "name": "conda-env-.conda-arcus-py"
  },
  "language_info": {
   "codemirror_mode": {
    "name": "ipython",
    "version": 3
   },
   "file_extension": ".py",
   "mimetype": "text/x-python",
   "name": "python",
   "nbconvert_exporter": "python",
   "pygments_lexer": "ipython3",
   "version": "3.10.13"
  }
 },
 "nbformat": 4,
 "nbformat_minor": 5
}
