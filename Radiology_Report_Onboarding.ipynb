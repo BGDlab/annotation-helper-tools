{
 "cells": [
  {
   "cell_type": "markdown",
   "id": "0d73487e",
   "metadata": {},
   "source": [
    "### Welcome to the Interactive Radiology Report Annotator\n",
    "\n",
    "How to use this tool:\n",
    "- Only edit the first cell where the `fn`, `name`, and `wordsToHighlight` variables are set\n",
    "- Run the first and second cells\n",
    "\n",
    "The second cell loads the radiology reports and looks for reports that have not been labelled as CLIP or not CLIP yet. It prints the narrative text column for a single report and highlights any occurrences of the specified wordsToHighlight. \n",
    "\n",
    "It asks 'Does the patient belong in the \"Cohort with Limited Imaging Pathology\"? (y/n/skip)'. In the text box, enter y for yes, n for no, or skip to skip the report if you want to come back to it later.\n",
    "\n",
    "It then asks \"What would you like to do next? (n for next unannotated report/p for previous/r to redo current report/s for save/e for exit)\". In the text box, enter the letter corresponding to your choice and press enter."
   ]
  },
  {
   "cell_type": "code",
   "execution_count": 1,
   "id": "0408b7d6",
   "metadata": {},
   "outputs": [],
   "source": [
    "# This variable is the full path to the .csv file containing the reports\n",
    "# If you are on a Mac, replace \"youngjm\" with your username on your computer, \n",
    "# replace the \"Data\" folder with \"Documents\" or \"Desktop\" or wherever you store your lab files,\n",
    "# and then replace the rest of the path with the set of folders between desktop and the file you wish to grade\n",
    "fn = \"/Users/youngjm/Data/clip/tables/sourcedata/2022-06-12_reports_annotations_master.csv\"\n",
    "\n",
    "# This variable needs to be your first and last name\n",
    "name = \"Jenna Schabdach\"\n",
    "\n",
    "# This variable is a list of words that will be highlighed in yellow in the reports. \n",
    "# To add a specific string to the list, enclose it in single or double quotes and follow it\n",
    "# with a comma\n",
    "wordsToHighlight = ['oma', 'surg', 'pongiform', 'NF1', 'mass', 'persistent', 'unchanged', 'stable', 'lobe', 'prolongation', 'intracranial']"
   ]
  },
  {
   "cell_type": "code",
   "execution_count": null,
   "id": "00c8da9b",
   "metadata": {},
   "outputs": [
    {
     "name": "stdout",
     "output_type": "stream",
     "text": [
      "Current index: 37675\n",
      "Next index: 37676\n",
      " Subj: HM91BA0XI7\n",
      "# ses: 59\n",
      "  Age: 6345\n",
      "\n",
      "BRAIN MRI: \u001b[5;30;43mHISTORY\u001b[0m: Optic gli\u001b[5;30;43moma\u001b[0m followup. TECHNIQUE: An MR examination of the brain was performed utilizing a 1.5 tesla magnet. The following sequences including thin sections through the orbits were obtained: T1-weighted images in the sagittal and axial planes; T2-weighted images in the axial and coronal planes; axial FLAIR postgadolinium images in the axial and coronal planes. COMPARISON :12/30/03 FINDINGS: Since prior examination there has been no interval change in appearance size and enhancement pattern of hyperintense \u001b[5;30;43mmass\u001b[0m involving the entire right optic nerve. The left optic nerve and visual chiasm remain grossly intact. No new lesions have developed. No abnormal enhancement aside from aforementioned \u001b[5;30;43mmass\u001b[0m or acute infarction is appreciated. There are no abnormal extra-axial collections.The ventricles are normal in size. The major \u001b[5;30;43mintracranial\u001b[0m flow voids are unremarkable. The paranasal sinuses are clear. IMPRESSION: Stable size and appearance of right optic gli\u001b[5;30;43moma\u001b[0m . No new lesions.No other abnormality. END OF IMPRESSION: 70553 70543\n",
      "\n"
     ]
    }
   ],
   "source": [
    "from annotationHelperLib import *\n",
    "\n",
    "df = loadDataframe(fn)\n",
    "\n",
    "markClipStatusNewReports(df, fn, name, clearScreen=True, toHighlight=wordsToHighlight)"
   ]
  },
  {
   "cell_type": "code",
   "execution_count": null,
   "id": "15498276",
   "metadata": {},
   "outputs": [],
   "source": []
  }
 ],
 "metadata": {
  "kernelspec": {
   "display_name": "Python 3 (ipykernel)",
   "language": "python",
   "name": "python3"
  },
  "language_info": {
   "codemirror_mode": {
    "name": "ipython",
    "version": 3
   },
   "file_extension": ".py",
   "mimetype": "text/x-python",
   "name": "python",
   "nbconvert_exporter": "python",
   "pygments_lexer": "ipython3",
   "version": "3.9.7"
  }
 },
 "nbformat": 4,
 "nbformat_minor": 5
}
