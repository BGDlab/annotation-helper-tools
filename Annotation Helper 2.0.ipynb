{
 "cells": [
  {
   "cell_type": "markdown",
   "id": "0d73487e",
   "metadata": {},
   "source": [
    "### Welcome to the Interactive Radiology Report Annotator\n",
    "\n",
    "How to use this tool:\n",
    "- Only edit the first cell where the `fn`, `name`, and `wordsToHighlight` variables are set\n",
    "- Run the first and second cells\n",
    "\n",
    "The second cell loads the radiology reports and looks for reports that have not been labelled as CLIP or not CLIP yet. It prints the narrative text column for a single report and highlights any occurrences of the specified wordsToHighlight. \n",
    "\n",
    "It asks 'Does the patient belong in the \"Cohort with Limited Imaging Pathology\"? (y/n/skip)'. In the text box, enter y for yes, n for no, or skip to skip the report if you want to come back to it later.\n",
    "\n",
    "It then asks \"What would you like to do next? (n for next unannotated report/p for previous/r to redo current report/s for save/e for exit)\". In the text box, enter the letter corresponding to your choice and press enter."
   ]
  },
  {
   "cell_type": "code",
   "execution_count": 1,
   "id": "0408b7d6",
   "metadata": {},
   "outputs": [],
   "source": [
    "# This variable is the full path to the .csv file containing the reports\n",
    "fn = \"/Users/youngjm/Data/clip/tables/annotator_onboarding/training_examples_selfeval.csv\"\n",
    "\n",
    "# This variable needs to be your first and last name\n",
    "name = \"Jane Doe\"\n",
    "\n",
    "# This variable is a list of words that will be highlighed in yellow in the reports. \n",
    "# To add a specific string to the list, enclose it in single or double quotes and follow it\n",
    "# with a comma\n",
    "wordsToHighlight = ['cyst', 'lesion', 'mass']"
   ]
  },
  {
   "cell_type": "code",
   "execution_count": 3,
   "id": "c3c993b9",
   "metadata": {
    "scrolled": false
   },
   "outputs": [
    {
     "name": "stderr",
     "output_type": "stream",
     "text": [
      "<ipython-input-3-df1be4996919>:3: DtypeWarning: Columns (18,19) have mixed types.Specify dtype option on import or set low_memory=False.\n",
      "  df = loadDataframe(fn)\n"
     ]
    },
    {
     "name": "stdout",
     "output_type": "stream",
     "text": [
      "Row 6\n",
      "\n",
      "MRI OF THE FACE/SKULL BASE WITHOUT AND WITH CONTRAST \u001b[5;30;43mCLINICAL\u001b[0m \u001b[5;30;43mINDICATION\u001b[0m: Acute left tonsillar \u001b[5;30;43mmass\u001b[0m TECHNIQUE: 1.5 Tesla system the following MRI sequences were performed: Sagittal and axial T1 axial and coronal T2 fat-sat and postcontrast sagittal T1 fat-sat. Postcontrast T1 fat-sat images of the brain were also acquired in axial and coronal planes. COMPARISON: Contrast enhanced CTs of 4/10/10 FINDINGS: An endotracheal tube is present and secretions pool in the posterior pharynx. There is a large lobular \u001b[5;30;43mmass\u001b[0m centered in the region of the left palatine tonsils/adenoids measuring 4.1 cm AP x 6.9 cm TR x 4.7 cm CC. The \u001b[5;30;43mmass\u001b[0m displaces the oropharyngeal airway laterally into the right. The \u001b[5;30;43mmass\u001b[0m superiorly invades the skull base and grows as a thin layer of tumor in the floor of the cavernous sinus; it grows and invades the bone and grows through the vidian canal foramen rotundum and the pterygomaxillary fissure inferior orbital fissure and through the foramen ovale. At the foramen ovale it bulges slightly intracranially. The \u001b[5;30;43mmass\u001b[0m also destroys and extends through the floor of the developing left sphenoid sinus. The \u001b[5;30;43mmass\u001b[0m encircles the internal and external ICA on the left. The left internal carotid artery is displaced posteriorly. There is obliteration of the parapharyngeal fat and the \u001b[5;30;43mmass\u001b[0m is seen to extend cephalad and anteriorly into the region of the posterior left choana. The pterygoid muscle on the left is displaced anterolaterally and the parotid laterally. In the basisphenoid there is abnormal signal worrisome for bony involvement. The \u001b[5;30;43mmass\u001b[0m extends inferiorly to the submandibular gland. There appears to be mild lateral displacement of the left hemimandible from \u001b[5;30;43mmass\u001b[0m effect. In addition the left mandibular condyle appears slightly perched anteriorly along the anterior margin of the glenoid suggesting an element of subluxation. The is effusion in both temporomandibular joints greater on the left. There is related opacification of the left posterior ethmoid air cells and mild circumferential mucosal thickening in the left maxillary in there is bilateral middle ear/mastoid opacification greater on the left and fluid is not seen extending into the eustachian tube particularly on the left compatible with eustachian tube occlusion by the \u001b[5;30;43mmass\u001b[0m. IMPRESSION: Very large left-sided nasopharyngeal \u001b[5;30;43mmass\u001b[0m centered in the left adenoid/tonsils and with skull base invasion as detailed. Note that the \u001b[5;30;43mmass\u001b[0m encircles the internal and external carotid arteries on the left. Bony involvement of the basisphenoid is also seen. Lymphoma is the favored diagnosis followed by rhabdomyosarcoma. END OF IMPRESSION:\n",
      "\n",
      "Does the patient belong in the \"Cohort with Limited Imaging Pathology\"? (y/n/skip) skip\n",
      "\n",
      "Skipping report\n",
      "What would you like to do next? (n for next unannotated report/p for previous/r to redo current report/e for exit) n\n",
      "n\n",
      "\n",
      "Row 7\n",
      "NECK AND FACE MRI WITHOUT AND WITH CONTRAST  \u001b[5;30;43mCLINICAL\u001b[0m \u001b[5;30;43mINDICATION\u001b[0m: Burkitt lymphoma  TECHNIQUE:  NECK: T1 sagittal and axial TSE T2 axial and coronal with fat suppression post contrast T1 sagittal axial and coronal with fat suppression were performed on a 3.0 Tesla system. FACE: T1 sagittal and axial TSE T2 axial and coronal with fat suppression post contrast T1 sagittal axial and coronal with fat suppression and axial diffusion weighted imaging were performed on a 3.0 Tesla system  COMPARISON: MRI Brain and MRI Neck 11/19/2011  FINDINGS:  FACE:  The soft tissues of the face appear normal. No abnormal \u001b[5;30;43mmass\u001b[0m or enhancement is seen within the nasopharynx to reflect recurrent disease.  The major vessels and airway appear unremarkable. There are scattered shotty lymph nodes in the major nodal bearing regions.   The visualized portions of the brain parenchyma are unremarkable. No definite abnormality is seen in the visualized portions of the orbits. There is mild interval worsening in sinonasal mucosal disease with mild circumferential mucosal thickening of the ethmoid air cells and right maxillary sinus. There is a small amount of fluid layering within the left mastoid air cells.  NECK:  The soft tissue planes of the neck are preserved. No abnormal \u001b[5;30;43mmass\u001b[0m enhancement or inflammatory changes are appreciated. The major neck vessels and airway appear unremarkable.  There are scattered some slightly prominent benign-appearing neck lymph nodes. The adenoids and tonsils are prominent. The thyroid gland and major salivary glands are normal in appearance.IMPRESSION:FACE:  No evidence of recurrent disease within the nasopharynx.  NECK:  No pathologic cervical lymphadenopathy by imaging criteria.  END OF IMPRESSION:\n",
      "\n"
     ]
    },
    {
     "ename": "KeyboardInterrupt",
     "evalue": "Interrupted by user",
     "output_type": "error",
     "traceback": [
      "\u001b[0;31m---------------------------------------------------------------------------\u001b[0m",
      "\u001b[0;31mKeyboardInterrupt\u001b[0m                         Traceback (most recent call last)",
      "\u001b[0;32m<ipython-input-3-df1be4996919>\u001b[0m in \u001b[0;36m<module>\u001b[0;34m\u001b[0m\n\u001b[1;32m      3\u001b[0m \u001b[0mdf\u001b[0m \u001b[0;34m=\u001b[0m \u001b[0mloadDataframe\u001b[0m\u001b[0;34m(\u001b[0m\u001b[0mfn\u001b[0m\u001b[0;34m)\u001b[0m\u001b[0;34m\u001b[0m\u001b[0;34m\u001b[0m\u001b[0m\n\u001b[1;32m      4\u001b[0m \u001b[0;34m\u001b[0m\u001b[0m\n\u001b[0;32m----> 5\u001b[0;31m \u001b[0mnadiaMarkClipStatus\u001b[0m\u001b[0;34m(\u001b[0m\u001b[0mdf\u001b[0m\u001b[0;34m,\u001b[0m \u001b[0mfn\u001b[0m\u001b[0;34m,\u001b[0m \u001b[0mname\u001b[0m\u001b[0;34m,\u001b[0m \u001b[0mclearScreen\u001b[0m\u001b[0;34m=\u001b[0m\u001b[0;32mTrue\u001b[0m\u001b[0;34m,\u001b[0m \u001b[0mtoHighlight\u001b[0m\u001b[0;34m=\u001b[0m\u001b[0mwordsToHighlight\u001b[0m\u001b[0;34m)\u001b[0m\u001b[0;34m\u001b[0m\u001b[0;34m\u001b[0m\u001b[0m\n\u001b[0m",
      "\u001b[0;32m~/Projects/radiology_report_annotation_helper/annotationHelperLib.py\u001b[0m in \u001b[0;36mnadiaMarkClipStatus\u001b[0;34m(df, fn, name, clearScreen, toHighlight)\u001b[0m\n\u001b[1;32m    234\u001b[0m \u001b[0;34m\u001b[0m\u001b[0m\n\u001b[1;32m    235\u001b[0m         \u001b[0;32mwhile\u001b[0m \u001b[0;32mnot\u001b[0m \u001b[0;34m(\u001b[0m\u001b[0mclip\u001b[0m \u001b[0;34m==\u001b[0m \u001b[0;34m\"y\"\u001b[0m \u001b[0;32mor\u001b[0m \u001b[0mclip\u001b[0m \u001b[0;34m==\u001b[0m \u001b[0;34m\"n\"\u001b[0m \u001b[0;32mor\u001b[0m \u001b[0mclip\u001b[0m \u001b[0;34m==\u001b[0m \u001b[0;34m\"skip\"\u001b[0m\u001b[0;34m)\u001b[0m\u001b[0;34m:\u001b[0m\u001b[0;34m\u001b[0m\u001b[0;34m\u001b[0m\u001b[0m\n\u001b[0;32m--> 236\u001b[0;31m             \u001b[0mclip\u001b[0m \u001b[0;34m=\u001b[0m \u001b[0minput\u001b[0m\u001b[0;34m(\u001b[0m\u001b[0;34m'Does the patient belong in the \"Cohort with Limited Imaging Pathology\"? (y/n/skip) '\u001b[0m\u001b[0;34m)\u001b[0m\u001b[0;34m\u001b[0m\u001b[0;34m\u001b[0m\u001b[0m\n\u001b[0m\u001b[1;32m    237\u001b[0m             \u001b[0mprint\u001b[0m\u001b[0;34m(\u001b[0m\u001b[0;34m)\u001b[0m\u001b[0;34m\u001b[0m\u001b[0;34m\u001b[0m\u001b[0m\n\u001b[1;32m    238\u001b[0m \u001b[0;34m\u001b[0m\u001b[0m\n",
      "\u001b[0;32m~/opt/miniconda3/lib/python3.9/site-packages/ipykernel/kernelbase.py\u001b[0m in \u001b[0;36mraw_input\u001b[0;34m(self, prompt)\u001b[0m\n\u001b[1;32m    846\u001b[0m                 \u001b[0;34m\"raw_input was called, but this frontend does not support input requests.\"\u001b[0m\u001b[0;34m\u001b[0m\u001b[0;34m\u001b[0m\u001b[0m\n\u001b[1;32m    847\u001b[0m             )\n\u001b[0;32m--> 848\u001b[0;31m         return self._input_request(str(prompt),\n\u001b[0m\u001b[1;32m    849\u001b[0m             \u001b[0mself\u001b[0m\u001b[0;34m.\u001b[0m\u001b[0m_parent_ident\u001b[0m\u001b[0;34m,\u001b[0m\u001b[0;34m\u001b[0m\u001b[0;34m\u001b[0m\u001b[0m\n\u001b[1;32m    850\u001b[0m             \u001b[0mself\u001b[0m\u001b[0;34m.\u001b[0m\u001b[0m_parent_header\u001b[0m\u001b[0;34m,\u001b[0m\u001b[0;34m\u001b[0m\u001b[0;34m\u001b[0m\u001b[0m\n",
      "\u001b[0;32m~/opt/miniconda3/lib/python3.9/site-packages/ipykernel/kernelbase.py\u001b[0m in \u001b[0;36m_input_request\u001b[0;34m(self, prompt, ident, parent, password)\u001b[0m\n\u001b[1;32m    890\u001b[0m             \u001b[0;32mexcept\u001b[0m \u001b[0mKeyboardInterrupt\u001b[0m\u001b[0;34m:\u001b[0m\u001b[0;34m\u001b[0m\u001b[0;34m\u001b[0m\u001b[0m\n\u001b[1;32m    891\u001b[0m                 \u001b[0;31m# re-raise KeyboardInterrupt, to truncate traceback\u001b[0m\u001b[0;34m\u001b[0m\u001b[0;34m\u001b[0m\u001b[0m\n\u001b[0;32m--> 892\u001b[0;31m                 \u001b[0;32mraise\u001b[0m \u001b[0mKeyboardInterrupt\u001b[0m\u001b[0;34m(\u001b[0m\u001b[0;34m\"Interrupted by user\"\u001b[0m\u001b[0;34m)\u001b[0m \u001b[0;32mfrom\u001b[0m \u001b[0;32mNone\u001b[0m\u001b[0;34m\u001b[0m\u001b[0;34m\u001b[0m\u001b[0m\n\u001b[0m\u001b[1;32m    893\u001b[0m             \u001b[0;32mexcept\u001b[0m \u001b[0mException\u001b[0m \u001b[0;32mas\u001b[0m \u001b[0me\u001b[0m\u001b[0;34m:\u001b[0m\u001b[0;34m\u001b[0m\u001b[0;34m\u001b[0m\u001b[0m\n\u001b[1;32m    894\u001b[0m                 \u001b[0mself\u001b[0m\u001b[0;34m.\u001b[0m\u001b[0mlog\u001b[0m\u001b[0;34m.\u001b[0m\u001b[0mwarning\u001b[0m\u001b[0;34m(\u001b[0m\u001b[0;34m\"Invalid Message:\"\u001b[0m\u001b[0;34m,\u001b[0m \u001b[0mexc_info\u001b[0m\u001b[0;34m=\u001b[0m\u001b[0;32mTrue\u001b[0m\u001b[0;34m)\u001b[0m\u001b[0;34m\u001b[0m\u001b[0;34m\u001b[0m\u001b[0m\n",
      "\u001b[0;31mKeyboardInterrupt\u001b[0m: Interrupted by user"
     ]
    }
   ],
   "source": [
    "from annotationHelperLib import *\n",
    "\n",
    "df = loadDataframe(fn)\n",
    "\n",
    "nadiaMarkClipStatus(df, fn, name, clearScreen=True, toHighlight=wordsToHighlight)"
   ]
  },
  {
   "cell_type": "code",
   "execution_count": null,
   "id": "15498276",
   "metadata": {},
   "outputs": [],
   "source": []
  }
 ],
 "metadata": {
  "kernelspec": {
   "display_name": "Python 3 (ipykernel)",
   "language": "python",
   "name": "python3"
  },
  "language_info": {
   "codemirror_mode": {
    "name": "ipython",
    "version": 3
   },
   "file_extension": ".py",
   "mimetype": "text/x-python",
   "name": "python",
   "nbconvert_exporter": "python",
   "pygments_lexer": "ipython3",
   "version": "3.9.7"
  }
 },
 "nbformat": 4,
 "nbformat_minor": 5
}
