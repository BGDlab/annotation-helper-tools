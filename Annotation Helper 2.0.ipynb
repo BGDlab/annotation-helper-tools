{
 "cells": [
  {
   "cell_type": "markdown",
   "id": "0d73487e",
   "metadata": {},
   "source": [
    "### Welcome to the Interactive Radiology Report Annotator\n",
    "\n",
    "How to use this tool:\n",
    "- Only edit the first cell where the fn, name, and wordsToHighlight variables are set\n",
    "- Run the first and second cells\n",
    "\n",
    "The second cell loads the radiology reports and looks for reports that have not been labelled as CLIP or not CLIP yet. It prints the narrative text column for a single report and highlights any occurrences of the specified wordsToHighlight. \n",
    "\n",
    "It asks 'Does the patient belong in the \"Cohort with Limited Imaging Pathology\"? (y/n/skip)'. In the text box, enter y for yes, n for no, or skip to skip the report if you want to come back to it later.\n",
    "\n",
    "It then asks \"What would you like to do next? (n for next unannotated report/p for previous/r to redo current report/s for save/e for exit)\". In the text box, enter the letter corresponding to your choice and press enter."
   ]
  },
  {
   "cell_type": "code",
   "execution_count": null,
   "id": "0408b7d6",
   "metadata": {},
   "outputs": [],
   "source": [
    "# This variable is the full path to the .csv file containing the reports\n",
    "fn = \"/Users/youngjm/Data/clip/tables/rawdata/reports_annotation_master_test.csv\"\n",
    "\n",
    "# This variable needs to be your first and last name\n",
    "name = \"Jenna Young\"\n",
    "\n",
    "# This variable is a list of words that will be highlighed in yellow in the reports. \n",
    "# To add a specific string to the list, enclose it in single or double quotes and follow it\n",
    "# with a comma\n",
    "wordsToHighlight = ['cyst', 'lesion', 'mass']"
   ]
  },
  {
   "cell_type": "code",
   "execution_count": null,
   "id": "c3c993b9",
   "metadata": {
    "scrolled": false
   },
   "outputs": [],
   "source": [
    "from annotationHelperLib import *\n",
    "\n",
    "df = loadDataframe(fn)\n",
    "\n",
    "markClipStatus(df, fn, name, clearScreen=True, toHighlight=wordsToHighlight)"
   ]
  },
  {
   "cell_type": "code",
   "execution_count": null,
   "id": "15498276",
   "metadata": {},
   "outputs": [],
   "source": []
  }
 ],
 "metadata": {
  "kernelspec": {
   "display_name": "Python 3",
   "language": "python",
   "name": "python3"
  },
  "language_info": {
   "codemirror_mode": {
    "name": "ipython",
    "version": 3
   },
   "file_extension": ".py",
   "mimetype": "text/x-python",
   "name": "python",
   "nbconvert_exporter": "python",
   "pygments_lexer": "ipython3",
   "version": "3.9.7"
  }
 },
 "nbformat": 4,
 "nbformat_minor": 5
}
