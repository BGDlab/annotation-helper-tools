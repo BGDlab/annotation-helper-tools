{
 "cells": [
  {
   "cell_type": "code",
   "execution_count": null,
   "id": "7ddf55cd-5f36-4c41-ae96-04f9ed2daad2",
   "metadata": {},
   "outputs": [],
   "source": [
    "import os\n",
    "\n",
    "# Get the current working directory\n",
    "current_dir = os.getcwd()\n",
    "\n",
    "# Add the code directory to sys.path\n",
    "sys.path.append(os.path.join(os.path.dirname(current_dir), 'code'))\n",
    "\n",
    "import pandas as pd\n",
    "import numpy as np\n",
    "import random\n",
    "from IPython.display import clear_output\n",
    "from google.cloud import bigquery # SQL table interface on Arcus\n",
    "from dxFilterLibraryPreGrading import *\n",
    "from reportMarkingFunctions import *\n",
    "from projectTableFunctions import * \n",
    "import json\n",
    "import matplotlib.pyplot as plt"
   ]
  },
  {
   "cell_type": "markdown",
   "id": "c8066f0e-4f27-4078-8090-f197936e376b",
   "metadata": {},
   "source": [
    "## 22q11DS"
   ]
  },
  {
   "cell_type": "markdown",
   "id": "33261e46-2485-44ee-9ad9-eaec8d4346a0",
   "metadata": {},
   "source": [
    "### Load CSV with IDs"
   ]
  },
  {
   "cell_type": "code",
   "execution_count": null,
   "id": "74a05ccb-b9bd-48b4-8b51-890050775497",
   "metadata": {},
   "outputs": [],
   "source": [
    "df_22q = pd.read_csv(\"~/arcus/shared/cohort_csvs/n363_from_AAron_forkosha_22q.csv\")\n",
    "df_22q.loc[:,\"pat_mrn_id\"] = [f\"{x:08d}\" for x in df_22q.loc[:,\"CHOP_MRN\"]]\n",
    "df_22q = df_22q.loc[:,[\"pat_mrn_id\",\"BBLID\",\"VCFSID\",\"trig_id\"]]\n",
    "df_22q.loc[df_22q[\"trig_id\"].isna(),\"trig_id\"] = \"\"\n",
    "df_22q[\"trig_id\"] = df_22q[\"trig_id\"].astype(str)\n",
    "df_22q[\"BBLID\"] = df_22q[\"BBLID\"].astype(str)\n",
    "print(df_22q.head())\n",
    "print(df_22q.shape)"
   ]
  },
  {
   "cell_type": "markdown",
   "id": "b5e45bfb-b1bc-4b59-bcd5-e3d601a29102",
   "metadata": {},
   "source": [
    "### Upload Tables"
   ]
  },
  {
   "cell_type": "code",
   "execution_count": null,
   "id": "4b1d8c81-ac55-4af2-8e7d-7c8a334e56cf",
   "metadata": {},
   "outputs": [],
   "source": [
    "list(df_22q)"
   ]
  },
  {
   "cell_type": "code",
   "execution_count": null,
   "id": "9efd90c0-5448-4037-a72e-567c6f10934f",
   "metadata": {},
   "outputs": [],
   "source": [
    "client = bigquery.Client()\n",
    "\n",
    "# Upload table\n",
    "new_table_name = \"lab.cohort_id_table_22q11DS\"\n",
    "my_schema = []\n",
    "for c in list(df_22q):\n",
    "    print(c)\n",
    "    my_schema.append(bigquery.SchemaField(c, \"STRING\"))\n",
    "\n",
    "# Since string columns use the \"object\" dtype, pass in a (partial) schema\n",
    "# to ensure the correct BigQuery data type.\n",
    "job_config = bigquery.LoadJobConfig(schema=my_schema)\n",
    "job = client.load_table_from_dataframe(\n",
    "    df_22q, new_table_name, job_config=job_config\n",
    ")\n",
    "\n",
    "# Wait for the load job to complete.\n",
    "job.result()\n",
    "print(new_table_name, \"created\")"
   ]
  },
  {
   "cell_type": "markdown",
   "id": "fb2902bd-f5b3-48a8-9847-507094b2b634",
   "metadata": {},
   "source": [
    "### Create Project\n",
    "Next create a new query in the queries folder to match this project. Then use the cell below to define the new cohort with this query."
   ]
  },
  {
   "cell_type": "code",
   "execution_count": null,
   "id": "60ec7017-b2a1-4969-9d7e-d217970809d2",
   "metadata": {},
   "outputs": [],
   "source": [
    "add_reports_to_project(\"22q11DS\")"
   ]
  },
  {
   "cell_type": "markdown",
   "id": "d05650f8-64f5-4822-bd50-a9caa7358d8e",
   "metadata": {},
   "source": [
    "## Epilepsy"
   ]
  },
  {
   "cell_type": "markdown",
   "id": "54e14b30-7b9d-4eca-b377-1423f1a18dfc",
   "metadata": {},
   "source": [
    "### Load CSV with IDs"
   ]
  },
  {
   "cell_type": "code",
   "execution_count": null,
   "id": "ff5b9e41-49a8-4f3a-a6a0-bb4f1470efbc",
   "metadata": {},
   "outputs": [],
   "source": [
    "df_epilepsy = pd.read_csv(\"~/arcus/shared/cohort_csvs/epilepsy_gene_mri_05162025.csv\")\n",
    "df_epilepsy.loc[:,\"pat_mrn_id\"] = [f\"{x:08d}\" for x in df_epilepsy.loc[:,\"PAT_MRN_ID\"]]\n",
    "df_epilepsy = df_epilepsy.loc[:,[\"pat_mrn_id\",\"GENE\"]].drop_duplicates()\n",
    "\n",
    "print(df_epilepsy.head())\n",
    "print(df_epilepsy.shape)"
   ]
  },
  {
   "cell_type": "markdown",
   "id": "3f1640b3-d729-4f9d-8754-238dd7ec8036",
   "metadata": {},
   "source": [
    "### Upload Tables"
   ]
  },
  {
   "cell_type": "code",
   "execution_count": null,
   "id": "ff2fad14-eb18-4aa2-885e-7c94e62c20c8",
   "metadata": {},
   "outputs": [],
   "source": [
    "list(df_epilepsy)"
   ]
  },
  {
   "cell_type": "code",
   "execution_count": null,
   "id": "26d1cd6f-a201-4a22-bb52-c1f02a836a66",
   "metadata": {},
   "outputs": [],
   "source": [
    "client = bigquery.Client()\n",
    "\n",
    "# Upload table\n",
    "new_table_name = \"lab.cohort_id_table_epilepsy\"\n",
    "my_schema = []\n",
    "for c in list(df_epilepsy):\n",
    "    print(c)\n",
    "    my_schema.append(bigquery.SchemaField(c, \"STRING\"))\n",
    "\n",
    "# Since string columns use the \"object\" dtype, pass in a (partial) schema\n",
    "# to ensure the correct BigQuery data type.\n",
    "job_config = bigquery.LoadJobConfig(schema=my_schema)\n",
    "job = client.load_table_from_dataframe(\n",
    "    df_epilepsy, new_table_name, job_config=job_config\n",
    ")\n",
    "\n",
    "# Wait for the load job to complete.\n",
    "job.result()\n",
    "print(new_table_name, \"created\")"
   ]
  },
  {
   "cell_type": "markdown",
   "id": "983eab86-0802-4a6d-9353-28c383688c47",
   "metadata": {},
   "source": [
    "### Create Project\n",
    "Next create a new query in the queries folder to match this project. Then use the cell below to define the new cohort with this query."
   ]
  },
  {
   "cell_type": "code",
   "execution_count": null,
   "id": "171b419a-aa1d-4d2a-bee2-31245aecfc12",
   "metadata": {},
   "outputs": [],
   "source": [
    "add_reports_to_project(\"Epilepsy\")"
   ]
  },
  {
   "cell_type": "code",
   "execution_count": null,
   "id": "2f9668d9-29b8-4de2-bde7-0539219c3817",
   "metadata": {},
   "outputs": [],
   "source": []
  }
 ],
 "metadata": {
  "language_info": {
   "name": "python"
  }
 },
 "nbformat": 4,
 "nbformat_minor": 5
}
