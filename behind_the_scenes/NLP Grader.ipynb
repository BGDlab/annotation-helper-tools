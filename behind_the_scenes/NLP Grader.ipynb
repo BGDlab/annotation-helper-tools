{
 "cells": [
  {
   "cell_type": "code",
   "execution_count": 1,
   "id": "d31a4da3-9434-4854-aadb-3bcc55569b6a",
   "metadata": {},
   "outputs": [],
   "source": [
    "import pandas as pd\n",
    "import numpy as np\n",
    "import random\n",
    "import os\n",
    "from IPython.display import clear_output\n",
    "from google.cloud import bigquery # SQL table interface on Arcus\n",
    "import json\n",
    "import matplotlib.pyplot as plt\n",
    "import numpy as np\n",
    "from matplotlib import colors\n",
    "from tqdm import tqdm\n",
    "\n",
    "pd.set_option(\"display.max_rows\", None)\n",
    "pd.set_option(\"display.max_columns\", None)\n",
    "\n",
    "# Initialize the client service\n",
    "client = bigquery.Client()\n",
    "\n",
    "grader_table_name = \"lab.grader_table_with_metadata_project_independent\"\n",
    "project_table_name = \"lab.proc_ord_projects\""
   ]
  },
  {
   "cell_type": "markdown",
   "id": "39a82ea1-f5ae-4dbf-949e-8a07cf24e34b",
   "metadata": {},
   "source": [
    "## Check that the latest NLP Models have all missing proc_ord_ids"
   ]
  },
  {
   "cell_type": "code",
   "execution_count": 2,
   "id": "b60f6ad1-f5bb-4287-8396-84d30e8e4889",
   "metadata": {},
   "outputs": [
    {
     "name": "stdout",
     "output_type": "stream",
     "text": [
      "(353387, 1)\n",
      "(21832, 2)\n",
      "Proc Ord IDs NOT in newly delivered NLP grades:\n",
      "331555\n",
      "Proc Ord IDs NOT in previously delivered NLP grades:\n",
      "21832\n",
      "Proc Ord IDs NOT in any delivered NLP grades:\n",
      "0\n"
     ]
    }
   ],
   "source": [
    "# Check that there are no missing proc_ord_ids from new NLP delivery\n",
    "q_get_proc_ord_ids = \"SELECT proc_ord_id FROM arcus.procedure_order_narrative\"\n",
    "df_proc_ord_ids = client.query(q_get_proc_ord_ids).to_dataframe()\n",
    "\n",
    "q_get_new_nlp_grades = '''\n",
    "select\n",
    "    proc_ord_id,\n",
    "    majority_vote\n",
    "  from\n",
    "    lab.maryam_tmp_results_feb28_2025 nlp_predict'''\n",
    "\n",
    "df_new_nlp = client.query(q_get_new_nlp_grades).to_dataframe()\n",
    "\n",
    "q_get_old_nlp_grades = '''\n",
    "select\n",
    "    proc_ord_id,\n",
    "    majority_vote\n",
    "  from\n",
    "    lab.nlp_combined nlp_predict'''\n",
    "\n",
    "df_old_nlp = client.query(q_get_old_nlp_grades).to_dataframe()\n",
    "\n",
    "print(df_proc_ord_ids.shape)\n",
    "print(df_new_nlp.shape)\n",
    "\n",
    "print(\"Proc Ord IDs NOT in newly delivered NLP grades:\")\n",
    "print(sum(~df_proc_ord_ids.proc_ord_id.isin(list(df_new_nlp['proc_ord_id'].values))))\n",
    "print(\"Proc Ord IDs NOT in previously delivered NLP grades:\")\n",
    "print(sum(~df_proc_ord_ids.proc_ord_id.isin(list(df_old_nlp['proc_ord_id'].values))))\n",
    "print(\"Proc Ord IDs NOT in any delivered NLP grades:\")\n",
    "print(sum(~df_proc_ord_ids.proc_ord_id.isin(list(df_old_nlp['proc_ord_id'].values)) &\n",
    "          ~df_proc_ord_ids.proc_ord_id.isin(list(df_new_nlp['proc_ord_id'].values))))"
   ]
  },
  {
   "cell_type": "markdown",
   "id": "a1a271a2-bb91-4dbf-b680-1e0016e332d5",
   "metadata": {},
   "source": [
    "## Update NLP Table"
   ]
  },
  {
   "cell_type": "code",
   "execution_count": null,
   "id": "2ce6eede-7c4a-4f4c-bfe5-afa826368a6f",
   "metadata": {},
   "outputs": [],
   "source": [
    "# Make backup of NLP grades\n",
    "q_create_backup = '''\n",
    "create table lab.bak_2025_03_03_nlp_combined as \n",
    "select * \n",
    "from lab.nlp_combined\n",
    "'''\n",
    "\n",
    "j_backup = client.query(q_create_backup)"
   ]
  },
  {
   "cell_type": "code",
   "execution_count": 3,
   "id": "33aa8cd5-4b16-4c63-ac4c-4a6addec96d2",
   "metadata": {},
   "outputs": [
    {
     "name": "stdout",
     "output_type": "stream",
     "text": [
      "    proc_ord_id  bert  biobert  clinbert  radbert  majority_vote  \\\n",
      "0  100001191224     0        0         0        0              0   \n",
      "1   10000195927     0        0         0        0              0   \n",
      "2  100002565131     0        0         0        0              0   \n",
      "3  100004113878     2        2         2        2              2   \n",
      "4  100004769424     2        2         2        2              2   \n",
      "\n",
      "                   timestamp       exp_type  \n",
      "0 2024-11-05 23:00:02.795774          train  \n",
      "1 2024-11-06 01:46:09.271110  out_of_sample  \n",
      "2 2024-11-05 23:00:02.795774          train  \n",
      "3 2024-11-06 01:46:09.271110  out_of_sample  \n",
      "4 2024-11-06 01:46:09.271110  out_of_sample  \n",
      "(331598, 8)\n",
      "    proc_ord_id  bert  biobert  clinbert  radbert  majority_vote  \\\n",
      "0  100001191224     0        0         0        0              0   \n",
      "1   10000195927     0        0         0        0              0   \n",
      "2  100002565131     0        0         0        0              0   \n",
      "3  100004113878     2        2         2        2              2   \n",
      "4  100004769424     2        2         2        2              2   \n",
      "\n",
      "                   timestamp       exp_type  \n",
      "0 2024-11-05 23:00:02.795774          train  \n",
      "1 2024-11-06 01:46:09.271110  out_of_sample  \n",
      "2 2024-11-05 23:00:02.795774          train  \n",
      "3 2024-11-06 01:46:09.271110  out_of_sample  \n",
      "4 2024-11-06 01:46:09.271110  out_of_sample  \n",
      "(331598, 8)\n"
     ]
    },
    {
     "data": {
      "text/plain": [
       "True"
      ]
     },
     "execution_count": 3,
     "metadata": {},
     "output_type": "execute_result"
    }
   ],
   "source": [
    "# Confirm that backup exists and is the same as original\n",
    "q_check_backup = '''\n",
    "select * \n",
    "from lab.bak_2025_03_03_nlp_combined\n",
    "'''\n",
    "\n",
    "df_backup = client.query(q_check_backup).to_dataframe().sort_values(by = [\"proc_ord_id\",\"timestamp\"]).reset_index(drop = True)\n",
    "\n",
    "q_check_orig = '''\n",
    "select * \n",
    "from lab.nlp_combined\n",
    "'''\n",
    "\n",
    "df_orig = client.query(q_check_orig).to_dataframe().sort_values(by = [\"proc_ord_id\",\"timestamp\"]).reset_index(drop = True)\n",
    "\n",
    "print(df_backup.head())\n",
    "print(df_backup.shape)\n",
    "\n",
    "print(df_orig.head())\n",
    "print(df_orig.shape)\n",
    "\n",
    "df_backup.equals(df_orig)"
   ]
  },
  {
   "cell_type": "code",
   "execution_count": 8,
   "id": "5f99cf35-ae5d-4ca4-af3b-2b15d83e11cf",
   "metadata": {},
   "outputs": [
    {
     "data": {
      "text/plain": [
       "<google.cloud.bigquery.table._EmptyRowIterator at 0x7f90105df400>"
      ]
     },
     "execution_count": 8,
     "metadata": {},
     "output_type": "execute_result"
    }
   ],
   "source": [
    "# Merge new grades with lab.nlp_combined\n",
    "q_insert = '''insert into lab.nlp_combined\n",
    "    select\n",
    "      *,\n",
    "      \"out_of_sample\" as exp_type\n",
    "    from\n",
    "      lab.maryam_tmp_results_feb28_2025;'''\n",
    "\n",
    "j_insert = client.query(q_insert)\n",
    "j_insert.result()"
   ]
  },
  {
   "cell_type": "code",
   "execution_count": 9,
   "id": "7468ae78-186c-4c24-8ca4-413da549fed7",
   "metadata": {},
   "outputs": [
    {
     "name": "stdout",
     "output_type": "stream",
     "text": [
      "(353430, 2)\n"
     ]
    }
   ],
   "source": [
    "q_get_all_nlp_grades = '''\n",
    "select\n",
    "    proc_ord_id,\n",
    "    majority_vote\n",
    "  from\n",
    "    lab.nlp_combined nlp_predict'''\n",
    "\n",
    "df_all_nlp = client.query(q_get_all_nlp_grades).to_dataframe()\n",
    "\n",
    "print(df_all_nlp.shape)"
   ]
  },
  {
   "cell_type": "markdown",
   "id": "0bfaa030-b6f0-4dba-be00-81934c07734f",
   "metadata": {},
   "source": [
    "## Incorporate NLP Grades"
   ]
  },
  {
   "cell_type": "code",
   "execution_count": 10,
   "id": "c8056ea1-3042-4610-982d-7f30ac1c2b03",
   "metadata": {},
   "outputs": [],
   "source": [
    "# Get only reports where all 4 models agree 100%\n",
    "q_nlp =  '''\n",
    "with agreement as (\n",
    "  select\n",
    "    proc_ord_id,\n",
    "    majority_vote\n",
    "  from\n",
    "    lab.nlp_combined nlp_predict\n",
    "  where\n",
    "    nlp_predict.bert = nlp_predict.biobert\n",
    "    and nlp_predict.bert = nlp_predict.clinbert\n",
    "    and nlp_predict.bert = nlp_predict.radbert\n",
    "    and nlp_predict.bert = 2\n",
    ")\n",
    "select\n",
    "  agreement.proc_ord_id,\n",
    "  agreement.majority_vote,\n",
    "  pat.sex,\n",
    "  pat.race,\n",
    "  pat.dob_year,\n",
    "  proc_ord.proc_ord_year,\n",
    "  proc_ord.start_datetime,\n",
    "  proc_ord.proc_ord_age,\n",
    "  proc_ord.proc_ord_desc\n",
    "from\n",
    "  arcus.procedure_order proc_ord\n",
    "  join agreement on agreement.proc_ord_id = proc_ord.proc_ord_id\n",
    "  join arcus.patient pat on pat.pat_id = proc_ord.pat_id\n",
    "where\n",
    "  proc_ord.proc_ord_desc not like \"%SPECTROSCOPY%\"\n",
    "  and proc_ord.proc_ord_desc not like \"%OUTSIDE%\"\n",
    "  and proc_ord.proc_ord_desc not like \"%FUNCTL%\"\n",
    "  and proc_ord.proc_ord_desc not like \"%METABOLIC%\"\n",
    "  and proc_ord.proc_ord_desc not like \"%AUTOPSY%\"\n",
    "  and (\n",
    "    proc_ord.proc_ord_desc like \"%BRAIN%\"\n",
    "    or proc_ord.proc_ord_desc like \"%NEURO%\"\n",
    "  )\n",
    "order by\n",
    "  start_datetime desc\n",
    "'''"
   ]
  },
  {
   "cell_type": "code",
   "execution_count": 16,
   "id": "919fcf31-4467-41da-9960-09b14cdb5adc",
   "metadata": {},
   "outputs": [],
   "source": [
    "def add_reports_for_nlp(nlp_query, grader_name=\"NLP Models 2025-03-03\", project_id=\"\", dry_run = False):\n",
    "    client = bigquery.Client()\n",
    "    global grader_table_name\n",
    "\n",
    "    if not grader_name.startswith(\"NLP Models\"):\n",
    "        raise ValueError('grader_name must start with \"NLP Models\". This is essential to ensure that NLP reports graded on different sessions still match (e.g., \"NLP Models 2024-12-05\" and \"NLP Models 2025-02-20\"')\n",
    "    \n",
    "    # Get the column names from the table\n",
    "    q_get_cols = \"select * from \"+grader_table_name+\" limit 1;\"\n",
    "    df_get_cols = client.query(q_get_cols).to_dataframe()\n",
    "    cols_str = \" (\"+\", \".join(list(df_get_cols))+\") \"\n",
    "    \n",
    "    # Run the nlp query\n",
    "    df_nlp = client.query(nlp_query).to_dataframe()\n",
    "    print(list(df_nlp))\n",
    "\n",
    "    # Get the dataframe of reports already in the grader table\n",
    "    q_get_existing_nlp_grades = 'select * from '+grader_table_name+' where grader_name LIKE \"NLP Models%\";'\n",
    "    df_existing = client.query(q_get_existing_nlp_grades).to_dataframe()\n",
    "\n",
    "    # Get rid of rows in df_nlp if already in grader table\n",
    "    print(df_nlp.shape[0], \"NLP grades exist\")\n",
    "    df_nlp = df_nlp[~df_nlp['proc_ord_id'].isin(list(df_existing['proc_ord_id'].values))]\n",
    "    print(df_nlp.shape[0], \"NLP grades to be added\")\n",
    "\n",
    "    # Divide NLP grades into 100 report chunks\n",
    "    chunk_size = 100\n",
    "    num_chunks = df_nlp.shape[0] // chunk_size + 1\n",
    "    chunks = []\n",
    "    \n",
    "    # For each proc_ord_id \n",
    "    for i in tqdm(range(num_chunks)):\n",
    "        start_i = i * chunk_size\n",
    "        end_i = min((i + 1) * chunk_size, df_nlp.shape[0])\n",
    "        proc_ord_ids = df_nlp.proc_ord_id.iloc[start_i:end_i]\n",
    "        grades = \"2\"\n",
    "        # Set up the query\n",
    "        q_insert = '''insert into '''+grader_table_name+cols_str+'''\n",
    "            select\n",
    "              distinct \n",
    "              proc_ord.proc_ord_id, \"'''+grader_name+'''\" as grader_name,\n",
    "              '''+grades+''' as grade,\n",
    "              \"Unique\" as grade_category,\n",
    "              proc_ord.pat_id,\n",
    "              proc_ord.proc_ord_age as age_in_days,\n",
    "              proc_ord.proc_ord_year,\n",
    "              proc_ord.proc_ord_desc as proc_name,\n",
    "              \"arcus.procedure_order\" as report_origin_table, \n",
    "              \"2025-03-03\" as grade_date, \n",
    "              \"SLIP\" as grade_criteria \n",
    "            from\n",
    "              arcus.procedure_order proc_ord\n",
    "              join arcus.patient pat on proc_ord.pat_id = pat.pat_id\n",
    "            where\n",
    "              proc_ord.proc_ord_id IN (\"'''+'\", \"'.join(proc_ord_ids)+'''\")\n",
    "            order by \n",
    "              proc_ord.proc_ord_year desc;'''\n",
    "        if dry_run:\n",
    "            print(q_insert)\n",
    "            break\n",
    "        else:\n",
    "            j_insert = client.query(q_insert)\n",
    "            j_insert.result()\n",
    "\n",
    "    print(len(df_nlp), \"reports for\", grader_name, \"added to\", grader_table_name)"
   ]
  },
  {
   "cell_type": "code",
   "execution_count": 17,
   "id": "fbbc0dec-656b-4571-832f-d035629a44d7",
   "metadata": {},
   "outputs": [
    {
     "name": "stdout",
     "output_type": "stream",
     "text": [
      "['proc_ord_id', 'majority_vote', 'sex', 'race', 'dob_year', 'proc_ord_year', 'start_datetime', 'proc_ord_age', 'proc_ord_desc']\n",
      "99724 NLP grades exist\n",
      "4752 NLP grades to be added\n"
     ]
    },
    {
     "name": "stderr",
     "output_type": "stream",
     "text": [
      "  0%|          | 0/48 [00:00<?, ?it/s]"
     ]
    },
    {
     "name": "stdout",
     "output_type": "stream",
     "text": [
      "insert into lab.grader_table_with_metadata_project_independent (proc_ord_id, grader_name, grade, grade_category, pat_id, age_in_days, proc_ord_year, proc_name, report_origin_table, grade_date, grade_criteria) \n",
      "            select\n",
      "              distinct \n",
      "              proc_ord.proc_ord_id, \"NLP Models 2025-03-03\" as grader_name,\n",
      "              2 as grade,\n",
      "              \"Unique\" as grade_category,\n",
      "              proc_ord.pat_id,\n",
      "              proc_ord.proc_ord_age as age_in_days,\n",
      "              proc_ord.proc_ord_year,\n",
      "              proc_ord.proc_ord_desc as proc_name,\n",
      "              \"arcus.procedure_order\" as report_origin_table, \n",
      "              \"2025-03-03\" as grade_date, \n",
      "              \"SLIP\" as grade_criteria \n",
      "            from\n",
      "              arcus.procedure_order proc_ord\n",
      "              join arcus.patient pat on proc_ord.pat_id = pat.pat_id\n",
      "            where\n",
      "              proc_ord.proc_ord_id IN (\"509219910069\", \"509261222676\", \"508837804635\", \"508763013887\", \"508818377861\", \"509000766386\", \"509246170692\", \"509287313148\", \"508937409736\", \"509154688003\", \"509056002945\", \"509217564284\", \"508905126956\", \"509295386190\", \"508816889584\", \"508719255826\", \"509124458468\", \"508954765370\", \"509063910678\", \"509222902501\", \"508727445823\", \"509154693997\", \"509276574883\", \"508744468382\", \"508982521288\", \"509233174930\", \"509217540403\", \"509103515167\", \"509081765064\", \"508934571129\", \"508912962454\", \"508746910227\", \"509165180401\", \"508996048414\", \"508747303572\", \"509241272749\", \"509017310785\", \"508770715832\", \"509015413597\", \"509299526461\", \"509185062815\", \"509293315306\", \"508616566179\", \"508624622759\", \"508676354505\", \"509308486574\", \"508580211601\", \"508614047658\", \"508548986307\", \"508686661283\", \"508522360870\", \"508504894091\", \"508492933479\", \"508356518856\", \"508376251463\", \"508368224510\", \"508301621174\", \"508433174900\", \"508321324210\", \"508352918200\", \"508322833983\", \"508504867041\", \"508500643819\", \"508254966997\", \"508253015397\", \"508264450335\", \"508148622346\", \"508142328232\", \"508165699253\", \"508214163482\", \"507623811464\", \"508035303314\", \"508119069797\", \"508123019918\", \"508103367877\", \"508122418584\", \"508027086275\", \"507981275281\", \"508057080779\", \"508117606113\", \"508052027219\", \"508135956554\", \"508094388853\", \"508053314750\", \"508064532544\", \"508068862077\", \"508007178884\", \"507754044431\", \"507631564476\", \"507937360370\", \"507689390558\", \"507845082772\", \"507954808110\", \"507883026184\", \"507900137568\", \"507775049323\", \"507629341392\", \"507804333797\", \"507890090606\", \"507622222630\")\n",
      "            order by \n",
      "              proc_ord.proc_ord_year desc;\n",
      "4752 reports for NLP Models 2025-03-03 added to lab.grader_table_with_metadata_project_independent\n"
     ]
    },
    {
     "name": "stderr",
     "output_type": "stream",
     "text": [
      "\n"
     ]
    }
   ],
   "source": [
    "add_reports_for_nlp(q_nlp, dry_run = True)"
   ]
  },
  {
   "cell_type": "code",
   "execution_count": 18,
   "id": "65fdf1ca-bdac-4524-8cd8-ed29286faddc",
   "metadata": {},
   "outputs": [
    {
     "name": "stdout",
     "output_type": "stream",
     "text": [
      "['proc_ord_id', 'majority_vote', 'sex', 'race', 'dob_year', 'proc_ord_year', 'start_datetime', 'proc_ord_age', 'proc_ord_desc']\n",
      "99724 NLP grades exist\n",
      "4752 NLP grades to be added\n"
     ]
    },
    {
     "name": "stderr",
     "output_type": "stream",
     "text": [
      "100%|██████████| 48/48 [02:13<00:00,  2.78s/it]"
     ]
    },
    {
     "name": "stdout",
     "output_type": "stream",
     "text": [
      "4752 reports for NLP Models 2025-03-03 added to lab.grader_table_with_metadata_project_independent\n"
     ]
    },
    {
     "name": "stderr",
     "output_type": "stream",
     "text": [
      "\n"
     ]
    }
   ],
   "source": [
    "add_reports_for_nlp(q_nlp, dry_run = False)"
   ]
  },
  {
   "cell_type": "code",
   "execution_count": null,
   "id": "e4431ae0-ae48-438a-953a-5e17133241cc",
   "metadata": {},
   "outputs": [],
   "source": []
  }
 ],
 "metadata": {
  "kernelspec": {
   "display_name": ".conda-arcus",
   "language": "python",
   "name": "conda-env-.conda-arcus-py"
  },
  "language_info": {
   "codemirror_mode": {
    "name": "ipython",
    "version": 3
   },
   "file_extension": ".py",
   "mimetype": "text/x-python",
   "name": "python",
   "nbconvert_exporter": "python",
   "pygments_lexer": "ipython3",
   "version": "3.10.15"
  }
 },
 "nbformat": 4,
 "nbformat_minor": 5
}
