{
 "cells": [
  {
   "cell_type": "code",
   "execution_count": null,
   "id": "c3442146-9463-4cd0-b810-04ece835c833",
   "metadata": {},
   "outputs": [],
   "source": [
    "import pandas as pd\n",
    "from google.cloud import bigquery # SQL table interface on Arcus\n",
    "\n",
    "# Initialize the client service\n",
    "client = bigquery.Client()\n",
    "\n",
    "# Set the table names\n",
    "lookup_table = \"lab.proc_ord_projects\""
   ]
  },
  {
   "cell_type": "markdown",
   "id": "2bd322e5-bda9-4d7b-88b6-4c7e6dc1a095",
   "metadata": {},
   "source": [
    "## Add project from CSV"
   ]
  },
  {
   "cell_type": "code",
   "execution_count": null,
   "id": "81dddf1d-c082-4f25-9650-77c79e137df6",
   "metadata": {},
   "outputs": [],
   "source": [
    "project_csv = \"~/projects/Data_team/gene_search_04182025.csv\"\n",
    "project_procs_df = pd.read_csv(project_csv)\n",
    "\n",
    "q = f'''\n",
    "SELECT proc.proc_ord_id,\n",
    "       proc.pat_id,\n",
    "       CAST(pat.pat_mrn_id as INT) as pat_mrn_id\n",
    "FROM arcus.procedure_order proc\n",
    "LEFT JOIN arcus.patient pat ON pat.pat_id = proc.pat_id\n",
    "where\n",
    "    proc.proc_ord_desc not like \"%SPECTROSCOPY%\"\n",
    "    and proc.proc_ord_desc not like \"%OUTSIDE%\"\n",
    "    and proc.proc_ord_desc not like \"%FUNCTL%\"\n",
    "    and proc.proc_ord_desc not like \"%METABOLIC%\"\n",
    "    and proc.proc_ord_desc not like \"%AUTOPSY%\"\n",
    "    and (proc.proc_ord_desc like \"%BRAIN%\" or proc.proc_ord_desc like \"%NEURO%\")'''\n",
    "\n",
    "procs = client.query(q).to_dataframe()\n",
    "procs = project_procs_df.merge(procs, left_on = \"PAT_MRN_ID\", right_on = \"pat_mrn_id\", how = \"left\")\n",
    "procs = procs.drop([\"PAT_MRN_ID\",\"ORDERING_DATE\",\"pat_mrn_id\"], axis = 1).drop_duplicates().dropna().reset_index()\n",
    "procs[\"project\"] = \"Epilepsy\"\n",
    "\n",
    "print(procs.head())\n",
    "print(procs.shape)\n",
    "# Columns: proc_ord_id, pat_id, project"
   ]
  },
  {
   "cell_type": "markdown",
   "id": "e01229d5-938e-45aa-bb7c-e121980bcfa0",
   "metadata": {},
   "source": [
    "### Insert proc_ord_ids into project table"
   ]
  },
  {
   "cell_type": "code",
   "execution_count": null,
   "id": "432be380-54cb-444b-bd16-fefaa6675b2e",
   "metadata": {},
   "outputs": [],
   "source": [
    "insert_q = \"INSERT INTO \"+lookup_table+\" (proc_ord_id, pat_id, project) VALUES \"\n",
    "count = 1\n",
    "q = insert_q\n",
    "for idx, row in procs.iterrows(): \n",
    "    proc_ord_id = str(row['proc_ord_id'])\n",
    "    pat_id = row['pat_id']\n",
    "    project = 'Epilepsy'\n",
    "    q += '(\"'+proc_ord_id+'\", \"'+pat_id+'\", \"'+project+'\"), '\n",
    "    # Every 1000 procs, update the table\n",
    "    if count % 1000 == 0 or idx == procs.index[-1]:\n",
    "        # print(f\"Adding to project table {idx}\")\n",
    "        q = q[:-2]+\";\"\n",
    "\n",
    "        # Add the rows to the table structure\n",
    "        # print(q)\n",
    "        job = client.query(q)\n",
    "        job.result()\n",
    "        q = insert_q\n",
    "        \n",
    "    count += 1\n",
    "    \n",
    "q = q[:-2]+\";\""
   ]
  },
  {
   "cell_type": "markdown",
   "id": "958322eb-f0ec-4d8b-96ed-47caf93a3968",
   "metadata": {},
   "source": [
    "## NF1"
   ]
  },
  {
   "cell_type": "code",
   "execution_count": null,
   "id": "304189d6-93a5-4412-8f41-aeb9fd8ad7fd",
   "metadata": {},
   "outputs": [],
   "source": [
    "# Get the nf1 table from Ayan's query\n",
    "project_table = \"lab.nf1_scit_walkthrough\"\n",
    "q_fn = \"../queries/nf1.txt\"\n",
    "\n",
    "with open(q_fn, 'r') as f:\n",
    "    q = f.read()\n",
    "\n",
    "df_nf1 = client.query(q).to_dataframe()\n",
    "\n",
    "print(df_nf1.shape)"
   ]
  },
  {
   "cell_type": "code",
   "execution_count": null,
   "id": "d7a77df8-983c-433f-9ea5-6ed6ee3f47b2",
   "metadata": {},
   "outputs": [],
   "source": [
    "df_nf1.head(10)"
   ]
  },
  {
   "cell_type": "code",
   "execution_count": null,
   "id": "c34340ea-5460-423b-9493-c00dcf68424f",
   "metadata": {},
   "outputs": [],
   "source": [
    "insert_q = \"INSERT INTO \"+lookup_table+\" (proc_ord_id, pat_id, project) VALUES \"\n",
    "count = 1\n",
    "q = insert_q\n",
    "for idx, row in df_nf1.iterrows(): \n",
    "    proc_ord_id = row['proc_ord_id']\n",
    "    pat_id = row['pat_id']\n",
    "    alt_pat_id = row['nf1_subject_id']\n",
    "    project = 'NF1'\n",
    "    q += '(\"'+proc_ord_id+'\", \"'+pat_id+'\", \"'+project+'\"), '\n",
    "    if count % 1000 == 0:\n",
    "        q = q[:-2]+\";\"\n",
    "\n",
    "        # Add the rows to the table structure\n",
    "        print(q)\n",
    "        job = client.query(q)\n",
    "        job.result()\n",
    "        q = insert_q\n",
    "        \n",
    "    count += 1\n",
    "    \n",
    "q = q[:-2]+\";\""
   ]
  },
  {
   "cell_type": "code",
   "execution_count": null,
   "id": "2897ed4c-446d-458f-b5ee-adeea56768a7",
   "metadata": {},
   "outputs": [],
   "source": [
    "# Add the rows to the table structure\n",
    "job = client.query(q)\n",
    "job.result()"
   ]
  },
  {
   "cell_type": "code",
   "execution_count": null,
   "id": "3b5c89a0-4f92-4aa0-9f7f-337562d10d9c",
   "metadata": {},
   "outputs": [],
   "source": [
    "# Time to check\n",
    "q = 'select count(distinct proc_ord_id) from '+lookup_table+' where project = \"NF1\"'\n",
    "df = client.query(q).to_dataframe()\n",
    "print(df)"
   ]
  },
  {
   "cell_type": "code",
   "execution_count": null,
   "id": "fe0c4426-1ad6-47e4-9373-463bae70e6c7",
   "metadata": {},
   "outputs": [],
   "source": []
  },
  {
   "cell_type": "markdown",
   "id": "58fe3772-6491-4f56-ba83-80a7c0b46bca",
   "metadata": {},
   "source": [
    "## Include SLIP 2's in Non-SLIP Cohorts (WIP)\n",
    "For most cohorts, a 2 in SLIP will also serve as a 2 in other cohorts. Therefore, we should periodically update our non-SLIP cohorts to include SLIPs 2s"
   ]
  },
  {
   "cell_type": "code",
   "execution_count": null,
   "id": "45fd6a47-c384-4306-ba84-64ced2958038",
   "metadata": {},
   "outputs": [],
   "source": [
    "# First, get the proc_ord_ids associated with a specific project\n",
    "# Second get all grades for reports in that project where the grade criteria was SLIP and the grade was 2\n",
    "# Third, exclude duplicate entries\n",
    "# Fourth, change the grading criteria and insert into specified project\n",
    "def add_reports_for_nonslip(project_id=\"NF1\", dry_run = False):\n",
    "    client = bigquery.Client()\n",
    "    grader_table_name = \"lab.grader_table_with_metadata_project_independent\"\n",
    "\n",
    "    # Get column names\n",
    "    q_get_cols = \"select * from \"+grader_table_name+\" limit 1;\"\n",
    "    df_get_cols = client.query(q_get_cols).to_dataframe()\n",
    "    cols_str = \" (\"+\", \".join(list(df_get_cols))+\") \"\n",
    "    \n",
    "    q_insert = '''insert into '''+grader_table_name+cols_str+'''\n",
    "    with CTE as (\n",
    "      select\n",
    "        proc_ord_id\n",
    "      from\n",
    "        lab.proc_ord_projects\n",
    "      where\n",
    "        project like \"''' + project_id + '''\"\n",
    "    )\n",
    "    select\n",
    "      grades.proc_ord_id,\n",
    "      grader_name,\n",
    "      grade,\n",
    "      grade_category,\n",
    "      pat_id,\n",
    "      age_in_days,\n",
    "      proc_ord_year,\n",
    "      proc_name,\n",
    "      report_origin_table,\n",
    "      grade_date,\n",
    "      \"nonSLIP: ''' + project_id + '''\" as grade_criteria\n",
    "    from\n",
    "      ''' + grader_table_name + ''' grades\n",
    "      join CTE on grades.proc_ord_id = CTE.proc_ord_id\n",
    "    where\n",
    "      grade_criteria = \"SLIP\"\n",
    "      and grade = 2\n",
    "    except distinct\n",
    "        select * FROM ''' + grader_table_name + '''\n",
    "        where grade_criteria = \"nonSLIP: ''' + project_id + '''\";'''\n",
    "    print(q_insert)\n",
    "    if not dry_run:\n",
    "        print(\"Inserting SLIP 2 grades into non-SLIP project\")\n",
    "        j_insert = client.query(q_insert)\n",
    "        j_insert.result()"
   ]
  },
  {
   "cell_type": "code",
   "execution_count": null,
   "id": "885b7875-271a-4b22-bfd0-ddc647782805",
   "metadata": {},
   "outputs": [],
   "source": [
    "add_reports_for_nonslip(\"NF1\", dry_run = False)"
   ]
  },
  {
   "cell_type": "code",
   "execution_count": null,
   "id": "a7d50bb2-6ffc-4186-b1fc-c74a9edf25a1",
   "metadata": {},
   "outputs": [],
   "source": []
  }
 ],
 "metadata": {
  "language_info": {
   "name": "python"
  }
 },
 "nbformat": 4,
 "nbformat_minor": 5
}
