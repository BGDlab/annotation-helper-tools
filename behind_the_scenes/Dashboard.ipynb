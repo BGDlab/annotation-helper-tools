{
 "cells": [
  {
   "cell_type": "code",
   "execution_count": null,
   "id": "fb5b9a4c-5020-4528-8904-cc266910e2e5",
   "metadata": {},
   "outputs": [],
   "source": [
    "import os\n",
    "\n",
    "# Get the current working directory\n",
    "current_dir = os.getcwd()\n",
    "\n",
    "# Add the code directory to sys.path\n",
    "sys.path.append(os.path.join(os.path.dirname(current_dir), 'code'))\n",
    "\n",
    "import pandas as pd\n",
    "import numpy as np\n",
    "import random\n",
    "from IPython.display import clear_output\n",
    "from google.cloud import bigquery # SQL table interface on Arcus\n",
    "from dxFilterLibraryPreGrading import *\n",
    "from reportMarkingFunctions import *\n",
    "from projectTableFunctions import * \n",
    "import json\n",
    "import matplotlib.pyplot as plt\n",
    "\n",
    "pd.set_option(\"display.max_rows\", None)\n",
    "pd.set_option(\"display.max_columns\", None)\n",
    "\n",
    "# Initialize the client service\n",
    "client = bigquery.Client()"
   ]
  },
  {
   "cell_type": "markdown",
   "id": "8f16486c-a078-4908-bd53-5c9d2346f0ec",
   "metadata": {
    "editable": true,
    "slideshow": {
     "slide_type": ""
    },
    "tags": []
   },
   "source": [
    "# What cohorts are defined in the lab?"
   ]
  },
  {
   "cell_type": "code",
   "execution_count": null,
   "id": "07ba3e3c-c951-415b-90d0-2459a3e79c7c",
   "metadata": {},
   "outputs": [],
   "source": [
    "# Load the config\n",
    "cfg = \"../queries/config.json\"\n",
    "with open(cfg, \"r\") as f:\n",
    "    cohort_lookup = json.load(f)\n",
    "\n",
    "cohort_list = list(cohort_lookup.keys())\n",
    "print(cohort_list)\n",
    "\n",
    "# # To make sure all reports for all cohorts are indexed in the project table, \n",
    "# # uncomment the for loop and its contents before running this cell. \n",
    "# # Warning: it will take time to run, do not panic.\n",
    "# for cohort in cohort_list:\n",
    "#     print(cohort)\n",
    "#     add_reports_to_project(cohort)"
   ]
  },
  {
   "cell_type": "markdown",
   "id": "179847b0-6c01-4bf1-b805-c60c48a2601f",
   "metadata": {},
   "source": [
    "# For my cohort (defined in `cohort` below), how many reports are there?"
   ]
  },
  {
   "cell_type": "code",
   "execution_count": null,
   "id": "59b0d46c-27ad-41a1-9aef-7d7610cdd368",
   "metadata": {},
   "outputs": [],
   "source": [
    "# Building functions to summarize data set status\n",
    "cohort = \"SLIP Toddlers\"\n",
    "\n",
    "get_project_report_stats(cohort)"
   ]
  },
  {
   "cell_type": "markdown",
   "id": "ba76c417-e335-4ee5-ac6c-40ccc454f97f",
   "metadata": {},
   "source": [
    "# For my project `cohort`, what is the distribution of age at scan for ...?"
   ]
  },
  {
   "cell_type": "code",
   "execution_count": null,
   "id": "85b1e228-ae4a-400f-bdcf-7b7d73ff42a9",
   "metadata": {},
   "outputs": [],
   "source": [
    "# Options:\n",
    "# color_by: a list. Valid arguments are an empty list or a list\n",
    "#          containing either the string 'sex' or the string 'grade'.\n",
    "#          Future work will support a combination of `sex` and `grade`\n",
    "# only_requested: a boolean. Default value of False aggregates \n",
    "#          average grade for every graded report regardless of number\n",
    "#          of graders. Value of True only includes reports that were\n",
    "#          requested from the radiology department.\n",
    "\n",
    "plot_age_at_scan(cohort, color_by=['grade'], only_requested=False)"
   ]
  },
  {
   "cell_type": "markdown",
   "id": "a49b7583-1b90-48b9-b534-c36421007016",
   "metadata": {},
   "source": [
    "# For a given proc_ord_id, print out the report as a grader would see it:"
   ]
  },
  {
   "cell_type": "code",
   "execution_count": null,
   "id": "cf1aaf04-7160-403f-9550-295a3828cd63",
   "metadata": {},
   "outputs": [],
   "source": [
    "proc_ord_id = \"\"\n",
    "toHighlight = phrasesToHighlightFn(\"../code/phrases_to_highlight.json\")\n",
    "\n",
    "print_report_from_proc(proc_ord_id, client, toHighlight, source_table=\"arcus.procedure_order_narrative\")"
   ]
  },
  {
   "cell_type": "markdown",
   "id": "679a7887-e5ab-46ea-b2fb-6089bccf5f97",
   "metadata": {},
   "source": [
    "# For my project `cohort`, what is the distribution of scans over time...?\n",
    "\n",
    "Under development"
   ]
  }
 ],
 "metadata": {
  "language_info": {
   "name": "python"
  }
 },
 "nbformat": 4,
 "nbformat_minor": 5
}
