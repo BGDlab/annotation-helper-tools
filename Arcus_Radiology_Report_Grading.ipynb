{
 "cells": [
  {
   "cell_type": "code",
   "execution_count": 1,
   "id": "8fda44b3-a170-45c1-b0f8-8f04f3ad90e4",
   "metadata": {},
   "outputs": [],
   "source": [
    "from google.cloud import bigquery\n",
    "import pandas as pd\n",
    "from annotationHelperLib import *\n",
    "from reportMarkingFunctions import *\n",
    "from IPython.display import clear_output\n",
    "import json"
   ]
  },
  {
   "cell_type": "code",
   "execution_count": 2,
   "id": "ec8e20d5-6609-4869-bf9e-8a5ee4eefefb",
   "metadata": {},
   "outputs": [
    {
     "name": "stdout",
     "output_type": "stream",
     "text": [
      "151\n",
      "151\n",
      "Jenna Schabdach has graded 151 of 151 reliability reports\n",
      "Jenna Schabdach has graded 35864 unique reports of 35864 assigned where\n",
      "33843 have been given a grade of 0\n",
      "962 have been given a grade of 1\n",
      "1059 have been given a grade of 2\n"
     ]
    }
   ],
   "source": [
    "# Replace with the name you want used in publications of this data set\n",
    "name = \"Jenna Schabdach\"\n",
    "\n",
    "# Projects: SLIP, SLIP PreK, and SLIP Adolescents\n",
    "project = \"SLIP Adolescents\"\n",
    "\n",
    "# Replace with the path to your .json file containing a dictionary of all the phrases you'd like to be highlighted\n",
    "phrasesToHighlightFn = \"phrases_to_highlight.json\"\n",
    "\n",
    "# Load the dictionary of phrases to highlight in certain colors \n",
    "with open(phrasesToHighlightFn, 'r', encoding='utf-8') as f:\n",
    "    toHighlight = json.load(f)\n",
    "    \n",
    "getGraderStatusReport(name)\n"
   ]
  },
  {
   "cell_type": "code",
   "execution_count": 7,
   "id": "1144b773-b715-4383-b4bf-8b782145e7df",
   "metadata": {},
   "outputs": [
    {
     "name": "stdout",
     "output_type": "stream",
     "text": [
      "Welcome, Jenna Schabdach\n",
      "151\n",
      "151\n",
      "Jenna Schabdach has graded 151 of 151 reliability reports\n",
      "You currently have 80 ungraded reports to work on.\n"
     ]
    }
   ],
   "source": [
    "isOnMainTable = welcomeUser(name)"
   ]
  },
  {
   "cell_type": "code",
   "execution_count": null,
   "id": "8a3d045b-4d07-41fd-8295-5e8eca2ce480",
   "metadata": {
    "tags": []
   },
   "outputs": [
    {
     "name": "stdout",
     "output_type": "stream",
     "text": [
      "4\n",
      "\u001b[5;30;43mBRAIN\u001b[0m \u001b[5;30;43mMRI\u001b[0m, WITHOUT CONTRAST:\n",
      "\u001b[5;30;43mCLINICAL\u001b[0m \u001b[5;30;43mINDICATION\u001b[0m: SCD -SS with TCD with nonvisualization on\n",
      "the left side - r/o silent i\u001b[5;30;41mNFARCT\u001b[0mion; Sickle-cell disorder\n",
      "TECHNIQUE: \n",
      "Brain: Sagittal 3D T1 gradient echo with axial reformations,\n",
      "axial and coronal TSE T2, axial FLAIR, arterial spin labeled\n",
      "perfusion imaging, and axial diffusion imaging were performed on\n",
      "a 3.0 Tesla system.\n",
      "\u001b[5;30;43mMRA\u001b[0m: \u001b[5;30;43mMRA\u001b[0m examination of the brain was performed utilizing a 3\n",
      "Tesla system via 3D time-of-flight intracranial magnetic\n",
      "resonance angiography of the circle of Willis, with volume of\n",
      "interest 3D reconstructions using the maximum intensity\n",
      "projection method.\n",
      "\u001b[5;30;43mMRA\u001b[0m was deemed medically necessary based on suspicion of silent\n",
      "of the i\u001b[5;30;41mNFARCT\u001b[0m.\n",
      "COMPARISON:  Brain \u001b[5;30;43mMRI\u001b[0m dated 12/11/2020\n",
      "\u001b[5;30;43mFINDINGS\u001b[0m:\n",
      "Brain:\n",
      "No reduced diffusion to suggest acute i\u001b[5;30;41mNFARCT\u001b[0m.\n",
      "No areas of abnormal parenchymal signal intensity.\n",
      "Hyperperfusion is seen symmetrically in both thalami and medial\n",
      "occipital lobes, \u001b[5;30;42mDOUBTFUL \u001b[5;30;43mCLINICAL\u001b[0m SIGNIFICANCE\u001b[0m.\n",
      "Ventricular system normal in size, shape, and configuration.  \n",
      "No intracranial \u001b[5;30;41mMASS\u001b[0m lesions; \u001b[5;30;47mNO MASS EFFECT OR MIDLINE SHIFT\u001b[0m.\n",
      "N\u001b[5;30;47mO ABNORMAL FLUID COLLECTIONS\u001b[0m.  \n",
      "V\u001b[5;30;47mISUALIZED MAJOR INTRACRANIAL VESSELS PATENT\u001b[0m. \n",
      "N\u001b[5;30;47mO DEFINITE ABNORMALITY IN VISUALIZED \u001b[5;30;43mORBIT\u001b[0mS\u001b[0m. \n",
      "There is stable diffuse marrow expansion and hypointense signal\n",
      "of the calvarium, skull base, facial bones, and upper cervical\n",
      "vertebrae, in keeping with the known diagnosis of sickle cell\n",
      "disease.\n",
      "Redemonstrated a small subcentimeter well-circumscribed T2\n",
      "\u001b[5;30;41mHYPERINTENS\u001b[0me with subtle T2 hypointense signal lesion in the\n",
      "right occipital bone, similar in signal, but more ovoid in\n",
      "appearance previously more rounded. This shows reduced diffusion,\n",
      "is this lesion is along the lambdoid suture most likely\n",
      "representing an epidermoid \u001b[5;30;41mCYST\u001b[0m.\n",
      "Middle ear cavities, mastoid air cells, paranasal sinuses clear.\n",
      "An exception of a small left maxillary sinus mucus retention\n",
      "\u001b[5;30;41mCYST\u001b[0m.\n",
      "\u001b[5;30;43mMRA\u001b[0m:\n",
      "The major intracranial arterial structures demonstrate normal\n",
      "flow-related enhancement.  There is no appreciable alteration in\n",
      "course or caliber.  No areas of aneurysmal outpouching are\n",
      "appreciated. There is fenestration of the anterior communicating\n",
      "artery, an anatomic \u001b[5;30;42mVARIANT\u001b[0m.\n",
      "It should be noted that \u001b[5;30;43mMRA\u001b[0m may be insensitive for small (<4 mm)\n",
      "aneurysms.\n",
      "\n",
      "\u001b[5;30;43mIMPRESSION\u001b[0m:   \n",
      "No acute i\u001b[5;30;41mNFARCT\u001b[0m. No areas of \u001b[5;30;41mENCEPHALOMALACIA\u001b[0m.\n",
      "No focal stenosis or major collateral vessels of moyamoya type.\n",
      "Requires Act 112 notification: False\n",
      "I have personally reviewed the images and agree with the\n",
      "interpretation.\n",
      "Act 112^False\n",
      "Act 112^False\n",
      "\n"
     ]
    }
   ],
   "source": [
    "batchSize = 10\n",
    "\n",
    "for i in range(batchSize):\n",
    "    clear_output()\n",
    "    print(i)\n",
    "    if isOnMainTable:\n",
    "        markOneReportSQL(name, project, toHighlight)\n",
    "    else:\n",
    "        markSelfEvalReportSQL(name, toHighlight)\n"
   ]
  },
  {
   "cell_type": "code",
   "execution_count": 4,
   "id": "5d958688-96af-4fcb-9289-41b0694657ad",
   "metadata": {
    "tags": []
   },
   "outputs": [
    {
     "name": "stdout",
     "output_type": "stream",
     "text": [
      "It is expected for this function to take several minutes to run. Your patience is appreciated.\n",
      "100 reports were added for grader Jenna Schabdach\n"
     ]
    }
   ],
   "source": [
    "# If/when you run out of reports, you can uncomment the following line of code\n",
    "#   and run this cell to get 50 more reports from the database. Make sure your\n",
    "#   values for `project` and `queryFn` match the project you're working on.\n",
    "# Projects: SLIP, SLIP PreK, and SLIP Adolescents\n",
    "# Queries: ./queries/slip_base.txt, ./queries/start2018_ages2-5years.txt, and ./queries/start2023_ages12-20years.txt\n",
    "project = \"SLIP Adolescents\"\n",
    "queryFn = \"./queries/start2023_ages12-20years.txt\"\n",
    "getMoreReportsToGrade(name, project, queryFn, 100)"
   ]
  },
  {
   "cell_type": "code",
   "execution_count": null,
   "id": "63748e04-1248-42d1-8450-894e699e08a8",
   "metadata": {},
   "outputs": [],
   "source": []
  }
 ],
 "metadata": {
  "kernelspec": {
   "display_name": "python3-read-only",
   "language": "python",
   "name": "conda-env-python3-read-only-py"
  },
  "language_info": {
   "codemirror_mode": {
    "name": "ipython",
    "version": 3
   },
   "file_extension": ".py",
   "mimetype": "text/x-python",
   "name": "python",
   "nbconvert_exporter": "python",
   "pygments_lexer": "ipython3",
   "version": "3.9.16"
  }
 },
 "nbformat": 4,
 "nbformat_minor": 5
}
