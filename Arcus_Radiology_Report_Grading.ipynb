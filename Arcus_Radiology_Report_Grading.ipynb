{
 "cells": [
  {
   "cell_type": "code",
   "execution_count": 1,
   "id": "8fda44b3-a170-45c1-b0f8-8f04f3ad90e4",
   "metadata": {},
   "outputs": [],
   "source": [
    "from google.cloud import bigquery\n",
    "import pandas as pd\n",
    "from annotationHelperLib import *\n",
    "from reportMarkingFunctions import *\n",
    "from IPython.display import clear_output\n",
    "import json"
   ]
  },
  {
   "cell_type": "code",
   "execution_count": 2,
   "id": "ec8e20d5-6609-4869-bf9e-8a5ee4eefefb",
   "metadata": {},
   "outputs": [
    {
     "name": "stdout",
     "output_type": "stream",
     "text": [
      "151\n",
      "151\n",
      "Jenna Schabdach has graded 151 of 151 reliability reports\n",
      "Jenna Schabdach has graded 36023 unique reports of 36023 assigned where\n",
      "33910 have been given a grade of 0\n",
      "1002 have been given a grade of 1\n",
      "1111 have been given a grade of 2\n"
     ]
    }
   ],
   "source": [
    "# Replace with the name you want used in publications of this data set\n",
    "name = \"Jenna Schabdach\"\n",
    "\n",
    "# Projects: SLIP, SLIP PreK, and SLIP Adolescents\n",
    "project = \"SLIP Adolescents\"\n",
    "\n",
    "# Replace with the path to your .json file containing a dictionary of all the phrases you'd like to be highlighted\n",
    "phrasesToHighlightFn = \"phrases_to_highlight.json\"\n",
    "\n",
    "# Load the dictionary of phrases to highlight in certain colors \n",
    "with open(phrasesToHighlightFn, 'r', encoding='utf-8') as f:\n",
    "    toHighlight = json.load(f)\n",
    "    \n",
    "getGraderStatusReport(name)\n"
   ]
  },
  {
   "cell_type": "code",
   "execution_count": 3,
   "id": "1144b773-b715-4383-b4bf-8b782145e7df",
   "metadata": {},
   "outputs": [
    {
     "name": "stdout",
     "output_type": "stream",
     "text": [
      "Welcome, Jenna Schabdach\n",
      "151\n",
      "151\n",
      "Jenna Schabdach has graded 151 of 151 reliability reports\n",
      "You are caught up on your report ratings\n"
     ]
    }
   ],
   "source": [
    "isOnMainTable = welcomeUser(name)"
   ]
  },
  {
   "cell_type": "code",
   "execution_count": null,
   "id": "09551b8d-9ad5-479f-81da-6ef255ebaa1e",
   "metadata": {
    "tags": []
   },
   "outputs": [
    {
     "name": "stdout",
     "output_type": "stream",
     "text": [
      "0\n",
      "442337240885\n",
      "(1, 64)\n",
      "\u001b[5;30;43mMRI\u001b[0m \u001b[5;30;43mBRAIN\u001b[0m AND \u001b[5;30;43mORBIT\u001b[0mS, WITHOUT CONTRAST; INTRACRANIAL \u001b[5;30;43mMRA\u001b[0m, WITHOUT\n",
      "CONTRAST; NECK \u001b[5;30;43mMRA\u001b[0m, WITHOUT CONTRAST:\n",
      "\u001b[5;30;43mCLINICAL\u001b[0m \u001b[5;30;43mINDICATION\u001b[0m: Acute Macular I\u001b[5;30;41mNFARCT\u001b[0mion\n",
      "TECHNIQUE: \n",
      "Brain: Multiplanar multisequence \u001b[5;30;43mMRI\u001b[0m of the brain and orbits was\n",
      "performed without intravenous contrast on a 3.0 Tesla magnet.\n",
      "\u001b[5;30;43mMRA\u001b[0m Brain: 3D time-of-flight MR angiogram through circle of\n",
      "Willis was requested by referring physician, medically necessary,\n",
      "and performed with brain \u001b[5;30;43mMRI\u001b[0m under the same sedation/anesthesia. \n",
      "\u001b[5;30;43mMRA\u001b[0m Neck: 3D time-of-flight magnetic resonance angiography\n",
      "through the neck with 3D volume of interest reconstructions were\n",
      "performed on a 3.0 Tesla system.\n",
      "COMPARISON: \u001b[5;30;43mMRI\u001b[0m/\u001b[5;30;43mMRA\u001b[0m brain 8/28/2023.\n",
      "\u001b[5;30;43mFINDINGS\u001b[0m:  \n",
      "\u001b[5;30;43mBRAIN\u001b[0m: \n",
      "Ventricular system normal.  \n",
      "No intracranial \u001b[5;30;41mMASS\u001b[0m lesion; \u001b[5;30;47mNO MASS EFFECT OR MIDLINE SHIFT\u001b[0m.  \n",
      "No areas of abnormal parenchymal signal.  \n",
      "N\u001b[5;30;47mO ABNORMAL FLUID COLLECTIONS\u001b[0m. \n",
      "\u001b[5;30;47mTHERE IS MILD MUCOSAL THICKENING\u001b[0m in the ethmoid air cells and\n",
      "left maxillary sinus where there are \u001b[5;30;47mMUCOUS RETENTION CYST\u001b[0ms.\n",
      "Mastoids and middle ears appear aerated. No orbital lesion is\n",
      "visible.\n",
      "The calvarial and facial bone marrow is diffusely T2 hypointense\n",
      "with relatively low diffusivity, likely reflecting red marrow\n",
      "expansion in a patient with chronic anemia.\n",
      "\u001b[5;30;43mORBIT\u001b[0mS:\n",
      "No focal \u001b[5;30;41mMASS\u001b[0m or \u001b[5;30;41mSIGNAL ABNORMALITY\u001b[0m,.  \n",
      "Extraocular muscles, optic nerve-sheath complexes, and optic\n",
      "chiasm normal. \n",
      "Globes normal.\n",
      "\u001b[5;30;43mMRA\u001b[0m Head: \n",
      "The major intracranial arteries demonstrate preservation of their\n",
      "expected flow related enhancement without evidence of focal\n",
      "stenosis or aneurysm.\n",
      "\u001b[5;30;43mMRA\u001b[0m Neck:\n",
      "Major cervical arterial structures demonstrate normal\n",
      "flow-related enhancement.  \n",
      "No flow-limiting stenoses.  \n",
      "Classical cervical arterial anatomy.\n",
      "\n",
      "\u001b[5;30;43mIMPRESSION\u001b[0m: U\u001b[5;30;42mNREMARKABLE\u001b[0m noncontrast \u001b[5;30;43mMRI\u001b[0m of the brain and orbits.\n",
      "U\u001b[5;30;42mNREMARKABLE\u001b[0m intracranial \u001b[5;30;43mMRA\u001b[0m.\n",
      "U\u001b[5;30;42mNREMARKABLE\u001b[0m cervical \u001b[5;30;43mMRA\u001b[0m.\n",
      "I have personally reviewed the images and agree with the\n",
      "interpretation.\n",
      "\n",
      "Report id: 442337240885\n",
      "\n"
     ]
    }
   ],
   "source": [
    "batchSize = 10\n",
    "\n",
    "for i in range(batchSize):\n",
    "    clear_output()\n",
    "    print(i)\n",
    "    if isOnMainTable:\n",
    "        markOneReportSQL(name, project, toHighlight)\n",
    "    else:\n",
    "        markSelfEvalReportSQL(name, toHighlight)\n"
   ]
  },
  {
   "cell_type": "code",
   "execution_count": 4,
   "id": "5d958688-96af-4fcb-9289-41b0694657ad",
   "metadata": {
    "tags": []
   },
   "outputs": [
    {
     "name": "stdout",
     "output_type": "stream",
     "text": [
      "It is expected for this function to take several minutes to run. Your patience is appreciated.\n",
      "Number of ids for project SLIP Adolescents 6910\n",
      "Number of new reports to grade: 10\n",
      "10 reports were added for grader Jenna Schabdach\n"
     ]
    }
   ],
   "source": [
    "# If/when you run out of reports, you can uncomment the following line of code\n",
    "#   and run this cell to get 50 more reports from the database. Make sure your\n",
    "#   values for `project` and `queryFn` match the project you're working on.\n",
    "# Projects: SLIP, SLIP PreK, and SLIP Adolescents\n",
    "# Queries: ./queries/slip_base.txt, ./queries/start2018_ages2-5years.txt, and ./queries/start2023_ages12-20years.txt\n",
    "project = \"SLIP Adolescents\"\n",
    "queryFn = \"./queries/start2022_ages12-20years.txt\"\n",
    "getMoreReportsToGrade(name, project, queryFn, 10)"
   ]
  },
  {
   "cell_type": "code",
   "execution_count": null,
   "id": "63748e04-1248-42d1-8450-894e699e08a8",
   "metadata": {},
   "outputs": [],
   "source": []
  }
 ],
 "metadata": {
  "kernelspec": {
   "display_name": "python3-read-only",
   "language": "python",
   "name": "conda-env-python3-read-only-py"
  },
  "language_info": {
   "codemirror_mode": {
    "name": "ipython",
    "version": 3
   },
   "file_extension": ".py",
   "mimetype": "text/x-python",
   "name": "python",
   "nbconvert_exporter": "python",
   "pygments_lexer": "ipython3",
   "version": "3.9.16"
  }
 },
 "nbformat": 4,
 "nbformat_minor": 5
}
