{
 "cells": [
  {
   "cell_type": "code",
   "execution_count": 1,
   "id": "ec8e20d5-6609-4869-bf9e-8a5ee4eefefb",
   "metadata": {},
   "outputs": [],
   "source": [
    "# Replace with the name you want used in publications of this data set\n",
    "name = \"Jenna Schabdach\"\n",
    "\n",
    "# Replace with the path to your .json file containing a dictionary of all the phrases you'd like to be highlighted\n",
    "phrasesToHighlightFn = \"phrases_to_highlight.json\""
   ]
  },
  {
   "cell_type": "code",
   "execution_count": 2,
   "id": "8fda44b3-a170-45c1-b0f8-8f04f3ad90e4",
   "metadata": {},
   "outputs": [],
   "source": [
    "from google.cloud import bigquery\n",
    "import pandas as pd\n",
    "from annotationHelperLib import *\n",
    "from reportMarkingFunctions import *\n",
    "from IPython.display import clear_output\n",
    "import json"
   ]
  },
  {
   "cell_type": "code",
   "execution_count": 3,
   "id": "2c4f32ce-c048-4148-a979-6b6ff2d436d2",
   "metadata": {
    "tags": []
   },
   "outputs": [],
   "source": [
    "# Load the dictionary of phrases to highlight in certain colors \n",
    "with open(phrasesToHighlightFn, 'r', encoding='utf-8') as f:\n",
    "    toHighlight = json.load(f)"
   ]
  },
  {
   "cell_type": "code",
   "execution_count": 4,
   "id": "1144b773-b715-4383-b4bf-8b782145e7df",
   "metadata": {},
   "outputs": [
    {
     "name": "stdout",
     "output_type": "stream",
     "text": [
      "Welcome, Jenna Schabdach\n",
      "You currently have 123 ungraded reports to work on.\n"
     ]
    }
   ],
   "source": [
    "isOnMainTable = welcomeUser(name)"
   ]
  },
  {
   "cell_type": "code",
   "execution_count": 5,
   "id": "8a3d045b-4d07-41fd-8295-5e8eca2ce480",
   "metadata": {
    "tags": []
   },
   "outputs": [
    {
     "name": "stdout",
     "output_type": "stream",
     "text": [
      "24\n",
      "a\n",
      "\u001b[5;30;43mBRAIN\u001b[0m \u001b[5;30;43mMRI\u001b[0m WITHOUT CONTRAST \u001b[5;30;43mCLINICAL\u001b[0m \u001b[5;30;43mINDICATION\u001b[0m: Seizure TECHNIQUE: Sagittal 3D T1 gradient echo with axial reformations axial and angled coronal TSE T2 axial and angled coronal FLAIR arterial spin labeled perfusion imaging axial susceptibility weighted imaging and axial diffusion tensor imaging were performed on a 3.0 Tesla system. COMPARISON: CT head January 19 2018 \u001b[5;30;43mFINDINGS\u001b[0m: \u001b[5;30;47mTHE VENTRICLES AND SULCI ARE NORMAL IN SIZE AND CONFIGURATION\u001b[0m. There is faint T2/FLAIR \u001b[5;30;41mHYPERINTENS\u001b[0mity in the white matter near the right occipital horn (for example series 11 image 11-12) unclear if this is clinically significant. This finding can be non-seizure population as well. No parenchymal \u001b[5;30;41mMASS\u001b[0m lesion or abnormal fluid collection is identified. There is n\u001b[5;30;47mO MIDLINE SHIFT MASS EFFECT OR ACUTE INFARCTION\u001b[0m. \u001b[5;30;47mTHE HIPPOCAMPI ARE SYMMETRIC AND NORMAL IN SIZE SIGNAL AND INTERNAL ARCHITECTURE\u001b[0m. \u001b[5;30;47mTHE POSTERIOR FOSSA STRUCTURES ARE NORMAL\u001b[0m. \u001b[5;30;47mTHE CEREBELLAR TONSILS TERMINATE ABOVE THE LEVEL OF THE FORAMEN MAGNUM\u001b[0m. \u001b[5;30;47mTHE VISUALIZED MAJOR INTRACRANIAL VESSELS APPEAR PATENT\u001b[0m. \u001b[5;30;47mNO DEFINITE ABNORMALITY IS SEEN IN THE VISUALIZED PORTIONS OF THE \u001b[5;30;43mORBIT\u001b[0mS\u001b[0m. \u001b[5;30;47mTHE MIDDLE EAR CAVITIES MASTOID AIR CELLS AND PARANASAL SINUSES ARE CLEAR\u001b[0m.\n",
      "\n",
      "\u001b[5;30;43mIMPRESSION\u001b[0m: Faint asymmetric T2/FLAIR \u001b[5;30;41mHYPERINTENS\u001b[0mity in the white matter near the right occipital horn. However unclear if this is clinically significant as similar findings can be seen in patients without seizure as well. I have personally reviewed the images and agree with the interpretation.\n",
      "\n"
     ]
    },
    {
     "name": "stdin",
     "output_type": "stream",
     "text": [
      "Assign a SLIP rating to this report (0 do not use/1 maybe use/2 definitely use):  1\n"
     ]
    },
    {
     "name": "stdout",
     "output_type": "stream",
     "text": [
      "\n"
     ]
    },
    {
     "name": "stdin",
     "output_type": "stream",
     "text": [
      "Please confirm your grade by reentering it OR enter a revised value to change the grade:  1\n"
     ]
    },
    {
     "name": "stdout",
     "output_type": "stream",
     "text": [
      "Saving your grade of 1 for this report.\n",
      "Grade saved. Run the cell again to grade another report.\n"
     ]
    }
   ],
   "source": [
    "batchSize = 25\n",
    "\n",
    "for i in range(batchSize):\n",
    "    clear_output()\n",
    "    print(i)\n",
    "    if isOnMainTable:\n",
    "        markOneReportSQL(name, toHighlight)\n",
    "    else:\n",
    "        markSelfEvalReportSQL(name, toHighlight)\n"
   ]
  },
  {
   "cell_type": "code",
   "execution_count": null,
   "id": "5d958688-96af-4fcb-9289-41b0694657ad",
   "metadata": {
    "tags": []
   },
   "outputs": [],
   "source": [
    "# GENERIC: If/when you run out of reports, you can uncomment the following line \n",
    "#   and run this cell to get 100 more reports from the database\n",
    "# getMoreReportsToGrade(name)\n",
    "\n",
    "# SLIP Psych Prospective: If/when you run out of reports, you can uncomment the \n",
    "#  following line and run this cell to get N more reports from the list of reports\n",
    "#  filtered to belong to your desired cohort\n",
    "df = pd.read_csv('~/arcus/shared/data/slip_2023_2-5_psych_prospective.csv')\n",
    "cohortProcIds = list(df['proc_ord_id'].values)\n",
    "N = 50\n",
    "addReportsFromListForUser(cohortProcIds, name, maxToAdd=N)"
   ]
  },
  {
   "cell_type": "code",
   "execution_count": null,
   "id": "2bed0bcf-02e4-4358-828d-1dec788bb6fa",
   "metadata": {},
   "outputs": [],
   "source": []
  }
 ],
 "metadata": {
  "kernelspec": {
   "display_name": "python3-read-only",
   "language": "python",
   "name": "conda-env-python3-read-only-py"
  },
  "language_info": {
   "codemirror_mode": {
    "name": "ipython",
    "version": 3
   },
   "file_extension": ".py",
   "mimetype": "text/x-python",
   "name": "python",
   "nbconvert_exporter": "python",
   "pygments_lexer": "ipython3",
   "version": "3.9.16"
  }
 },
 "nbformat": 4,
 "nbformat_minor": 5
}
