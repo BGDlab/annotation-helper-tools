{
 "cells": [
  {
   "cell_type": "code",
   "execution_count": 1,
   "id": "8fda44b3-a170-45c1-b0f8-8f04f3ad90e4",
   "metadata": {},
   "outputs": [],
   "source": [
    "from google.cloud import bigquery\n",
    "import pandas as pd\n",
    "from annotationHelperLib import *\n",
    "from reportMarkingFunctions import *\n",
    "from IPython.display import clear_output\n",
    "import json"
   ]
  },
  {
   "cell_type": "code",
   "execution_count": 2,
   "id": "ec8e20d5-6609-4869-bf9e-8a5ee4eefefb",
   "metadata": {},
   "outputs": [
    {
     "name": "stdout",
     "output_type": "stream",
     "text": [
      "151\n",
      "151\n",
      "Megan M. Himes has graded 132 of 151 reliability reports\n",
      "Megan M. Himes has graded 0 unique reports of 0 assigned where\n",
      "0 have been given a grade of 0\n",
      "0 have been given a grade of 1\n",
      "0 have been given a grade of 2\n"
     ]
    }
   ],
   "source": [
    "# Replace with the name you want used in publications of this data set\n",
    "name = \"Jenna Schabdach\"\n",
    "\n",
    "# Projects: SLIP, SLIP PreK, and SLIP Adolescents\n",
    "project = \"SLIP Adolescents\"\n",
    "\n",
    "# Replace with the path to your .json file containing a dictionary of all the phrases you'd like to be highlighted\n",
    "phrasesToHighlightFn = \"phrases_to_highlight.json\"\n",
    "\n",
    "# Load the dictionary of phrases to highlight in certain colors \n",
    "with open(phrasesToHighlightFn, 'r', encoding='utf-8') as f:\n",
    "    toHighlight = json.load(f)\n",
    "    \n",
    "getGraderStatusReport(name)\n"
   ]
  },
  {
   "cell_type": "code",
   "execution_count": 33,
   "id": "1144b773-b715-4383-b4bf-8b782145e7df",
   "metadata": {},
   "outputs": [
    {
     "name": "stdout",
     "output_type": "stream",
     "text": [
      "Welcome, Jenna Schabdach\n",
      "151\n",
      "151\n",
      "Jenna Schabdach has graded 151 of 151 reliability reports\n",
      "You currently have 14 ungraded reports to work on.\n"
     ]
    }
   ],
   "source": [
    "isOnMainTable = welcomeUser(name)"
   ]
  },
  {
   "cell_type": "code",
   "execution_count": 35,
   "id": "8a3d045b-4d07-41fd-8295-5e8eca2ce480",
   "metadata": {
    "tags": []
   },
   "outputs": [
    {
     "name": "stdout",
     "output_type": "stream",
     "text": [
      "9\n",
      "There are currently no reports to grade for Jenna Schabdach  in the table. Please add more to continue.\n"
     ]
    }
   ],
   "source": [
    "batchSize = 10\n",
    "\n",
    "for i in range(batchSize):\n",
    "    clear_output()\n",
    "    print(i)\n",
    "    if isOnMainTable:\n",
    "        markOneReportSQL(name, project, toHighlight)\n",
    "    else:\n",
    "        markSelfEvalReportSQL(name, toHighlight)\n"
   ]
  },
  {
   "cell_type": "code",
   "execution_count": 12,
   "id": "5d958688-96af-4fcb-9289-41b0694657ad",
   "metadata": {
    "tags": []
   },
   "outputs": [
    {
     "name": "stdout",
     "output_type": "stream",
     "text": [
      "It is expected for this function to take several minutes to run. Your patience is appreciated.\n",
      "100 reports were added for grader Jenna Schabdach\n"
     ]
    }
   ],
   "source": [
    "# If/when you run out of reports, you can uncomment the following line of code\n",
    "#   and run this cell to get 50 more reports from the database. Make sure your\n",
    "#   values for `project` and `queryFn` match the project you're working on.\n",
    "# Projects: SLIP, SLIP PreK, and SLIP Adolescents\n",
    "# Queries: ./queries/slip_base.txt, ./queries/start2018_ages2-5years.txt, and ./queries/start2023_ages12-20years.txt\n",
    "project = \"SLIP Adolescents\"\n",
    "queryFn = \"./queries/start2023_ages12-20years.txt\"\n",
    "getMoreReportsToGrade(name, project, queryFn, 100)"
   ]
  },
  {
   "cell_type": "code",
   "execution_count": null,
   "id": "63748e04-1248-42d1-8450-894e699e08a8",
   "metadata": {},
   "outputs": [],
   "source": []
  }
 ],
 "metadata": {
  "kernelspec": {
   "display_name": "python3-read-only",
   "language": "python",
   "name": "conda-env-python3-read-only-py"
  },
  "language_info": {
   "codemirror_mode": {
    "name": "ipython",
    "version": 3
   },
   "file_extension": ".py",
   "mimetype": "text/x-python",
   "name": "python",
   "nbconvert_exporter": "python",
   "pygments_lexer": "ipython3",
   "version": "3.9.16"
  }
 },
 "nbformat": 4,
 "nbformat_minor": 5
}
