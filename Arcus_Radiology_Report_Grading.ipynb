{
 "cells": [
  {
   "cell_type": "code",
   "execution_count": 1,
   "id": "ec8e20d5-6609-4869-bf9e-8a5ee4eefefb",
   "metadata": {},
   "outputs": [],
   "source": [
    "# Replace with the name you want used in publications of this data set\n",
    "name = \"Jenna Schabdach\""
   ]
  },
  {
   "cell_type": "code",
   "execution_count": 2,
   "id": "8fda44b3-a170-45c1-b0f8-8f04f3ad90e4",
   "metadata": {},
   "outputs": [],
   "source": [
    "from google.cloud import bigquery\n",
    "import pandas as pd\n",
    "from annotationHelperLib import *\n",
    "from reportMarkingFunctions import *\n",
    "from IPython.display import clear_output"
   ]
  },
  {
   "cell_type": "code",
   "execution_count": 3,
   "id": "2c4f32ce-c048-4148-a979-6b6ff2d436d2",
   "metadata": {
    "tags": []
   },
   "outputs": [],
   "source": [
    "# This variable is a list of words that will be highlighed in yellow in the reports. \n",
    "# To add a specific string to the list, enclose it in single or double quotes and follow it\n",
    "# with a comma\n",
    "# wordsToHighlight = ['oma', 'surg', 'pongiform', 'NF1', 'mass', 'persistent', 'unchanged', 'stable', 'lobe', 'prolongation', 'intracranial']\n",
    "highlightYellow = ['CLINICAL', 'INDICATION', 'HISTORY', 'REASON', 'IMPRESSION', 'FINDINGS', 'BRAIN',\n",
    "                   'limited', 'MRA', 'MRI', 'ORBIT']\n",
    "highlightGray = ['The ventricles and sulci are normal in size shape and configuration',\n",
    "                 'There are no areas of abnormal enhancement following contrast administration',\n",
    "                 'The visualized major intracranial vessels appear patent',\n",
    "                 'No intra or extraaxial fluid collections are identified',\n",
    "                 'No extra-axial fluid collections are identified',\n",
    "                 'There are no areas of abnormal parenchymal signal intensity',\n",
    "                 'No gross focal parenchymal signal abnormality is seen',\n",
    "                 'No definite abnormality is seen in the visualized portions of the orbits',\n",
    "                 'There are no areas of abnormal parenchymal signal intensity on these sequences',\n",
    "                 'There are no areas of abnormal parechymal signal intensity',\n",
    "                 'There is no parenchymal lesion or abnormal fluid collection',\n",
    "                 'There is no parenchymal lesion or abnormal extra-axial collection',\n",
    "                 'There is no mass effect or midline shift',\n",
    "                 'There is no mass effect midline shift',\n",
    "                 'No mass mass effect or abnormal enhancement is ',\n",
    "                 'There is no mass or mass effect seen',\n",
    "                 'No areas of hemorrhage are identified', \n",
    "                 'There is no abnormal intra- or extra-axial fluid collections',\n",
    "                 'There is no evidence of intracranial hemorrhage or infarct',\n",
    "                 'The ventricles and sulci are normal in size and configuration', \n",
    "                 'No parenchymal lesions or abnormal extra-axial collections are identified',\n",
    "                 'There is no signal abnormality identified in the visualized parenchyma',\n",
    "                 'There is no midline shift mass effect abnormal enhancement or acute infarction',\n",
    "                 'There is no evidence of mass mass effect or midline shift',\n",
    "                 'There is no intracranial mass lesion mass effect or midline shift',\n",
    "                 'No intracranial hemorrhage midline shift or mass effect is appreciated',\n",
    "                 'There are no mass effect midline shift abnormal enhancement or acute infarction',\n",
    "                 'No mass effect midline shift or acute infarction is present',\n",
    "                 'There are no intracranial mass lesions mass effect or midline shift',\n",
    "                 'There is no intracranial mass effect or midline shift',\n",
    "                 'There is no mass effect midline shift abnormal enhancement or acute infarction',\n",
    "                 'No mass effect midline shift acute infarction or intracranial hemorrhage is identified',\n",
    "                 'No mass effect midline shift abnormal enhancement or acute infarction is present',\n",
    "                 'There is no brain parenchymal signal abnormality mass effect pathologic enhancement or restricted diffusion',\n",
    "                 'There are no brain mass lesions mass effect or midline shift',\n",
    "                 'There are no intracranial mass lesions',\n",
    "                 'There is no mass effect midline shift or acute infarction',\n",
    "                 'There are no areas of signal abnormality or pathologic enhancement', \n",
    "                 'No extra-axial collection mass effect or shift',\n",
    "                 'no mass effect or midline shift',\n",
    "                 'No intracranial mass lesion mass effect or midline shift is noted', \n",
    "                 'There are no intra- or extra-axial fluid collections',\n",
    "                 'No abnormal fluid collections are identified',\n",
    "                 'No extra-axial fluid collections are seen',\n",
    "                 'No intra- or extra-axial fluid collections are identified',\n",
    "                 'No abnormal extra-axial fluid collections are identified',\n",
    "                 'No extraaxial fluid collections are identified',\n",
    "                 'The midline structures are within normal limits',\n",
    "                 'There is no restricted diffusion',\n",
    "                 'The ventricular system is normal in size shape and configuration',\n",
    "                 'The cerebellar tonsils are above the level of the foramen magnum',\n",
    "                 'The cerebellar tonsils are at the level of foramen magnum',\n",
    "                 'The cerebellar tonsils are at the level of the foramen magnum',\n",
    "                 'The cerebellar tonsils do not project below the foramen magnum',\n",
    "                 'The cerebellar tonsils are present at the foramen magnum',\n",
    "                 'The cerebellar tonsils are above the foramen magnum',\n",
    "                 'The cerebellar tonsils terminate above the level of the foramen magnum',\n",
    "                 'The cerebellar tonsils terminate at the level of the foramen magnum',\n",
    "                 'The cerebellar tonsils terminate at the foramen magnum', \n",
    "                 'The cerebellar tonsils are seen at the craniocervical junction',\n",
    "                 'erebellar tonsils terminate above the foramen magnum',\n",
    "                 'The cerebellar tonsils are at the foramen magnum',\n",
    "                 'The cerebellar tonsils are appropriately positioned',\n",
    "                 'yelination is appropriate for age',\n",
    "                 'he myelination pattern is appropriate',\n",
    "                 'Myelination is within normal limits for age',\n",
    "                 'The myelination is within range for age',\n",
    "                 'Myelination appears appropriate for age',\n",
    "                 'The major intracranial vessels appear patent',\n",
    "                 'The hippocampi are symmetric and normal in size signal and internal architecture',\n",
    "                 'No parenchymal lesions or abnormal extraaxial collections are identified', \n",
    "                 'No parenchymal lesions or abnormal extra-axial collections are identified',\n",
    "                 'There is no mass effect midline shift abnormal enhancement or acute infarction',\n",
    "                 'There are no areas of abnormal enhancement following gadolinium administration',\n",
    "                 'The visualized major intracranial flow voids are present',\n",
    "                 'There is mild mucosal thickening',\n",
    "                 'mucus retention cyst',\n",
    "                 'mucous retention cyst',\n",
    "                 'o midline shift mass effect or acute infarction',\n",
    "                 'The major intracranial arterial structures demonstrate normal flow-related enhancement',\n",
    "                 'The major intracranial flow voids are unremarkable', \n",
    "                 'The visualized portions of the orbits are grossly unremarkable',\n",
    "                 'There is no appreciable alteration in course or caliber', \n",
    "                 'No areas of aneurysmal outpouching are appreciated',\n",
    "                 'No parenchymal lesion or abnormal fluid collection is identified',\n",
    "                 'The hippocampi are symmetric in size and of normal signal intensity',\n",
    "                 'The middle ear cavities mastoid air cells and paranasal sinuses are clear',\n",
    "                 'The visualized portions of the orbits and mastoid air cells are grossly unremarkable',\n",
    "                 'It should be noted that MRA may be insensitive for small (<3-4mm) aneurysms',\n",
    "                 'There are no intraparenchymal signal abnormalities seen', \n",
    "                 'The ventricles are symmetric and normal in size', \n",
    "                 'No focal lesions are identified',\n",
    "                 'parenchyma demonstrates no signal abnormalities',\n",
    "                 'The brain appears normal in morphology',\n",
    "                 'The posterior fossa structures are normal', \n",
    "                 'No intra-axial fluid collections are identified',\n",
    "                 'The major intracranial vessels demonstrate normal flow',\n",
    "                 'o areas of abnormal enhancement following gadolinium administration',\n",
    "                'cerebellar tonsils are rounded appearing and at the level of the foramen magnum']\n",
    "highlightRed = ['artifact', 'rthodontic', 'istory of', 'motion', 'mass', 'cyst',\n",
    "                'hypoplasia', 'signal abnormality', 'significant signal dropout',\n",
    "                'hyperintens', 'prolongation', 'spongiform dysplasia',\n",
    "                'volume loss']\n",
    "highlightGreen = ['nremarkable brain', 'ormal brain',\n",
    "                  'nremarkable', 'variant', 'variation', \n",
    "                  'normal anatomic variance', 'ncidental',\n",
    "                  'within normal limit', 'developmental in etiology',\n",
    "                  'doubtful significance', 'doubtful clinical significance',\n",
    "                  'no clinical significance', 'no significance',\n",
    "                  'without signal abnormality', 'o significant intracranial abnormality',\n",
    "                  'o structural abnormality']\n",
    "phrasesIndicatingContrast = ['MRI WITHOUT AND WITH CONTRAST', 'following intravenous contrast',\n",
    "                            'after the injection of gadolinium', 'post gadolinium injection']\n",
    "\n",
    "toHighlight = {'gray': highlightGray, \n",
    "               'green': highlightGreen,\n",
    "               'yellow': highlightYellow,\n",
    "               'red': highlightRed }"
   ]
  },
  {
   "cell_type": "code",
   "execution_count": 4,
   "id": "1144b773-b715-4383-b4bf-8b782145e7df",
   "metadata": {},
   "outputs": [
    {
     "name": "stdout",
     "output_type": "stream",
     "text": [
      "Welcome back, Jenna Schabdach\n",
      "...\n",
      "You currently have 43 ungraded reports to work on.\n"
     ]
    }
   ],
   "source": [
    "welcomeUser(name)"
   ]
  },
  {
   "cell_type": "code",
   "execution_count": null,
   "id": "24bf95e3-5029-4014-bb51-b2f760684b33",
   "metadata": {},
   "outputs": [
    {
     "name": "stdout",
     "output_type": "stream",
     "text": [
      "14\n",
      "\n",
      "\u001b[5;30;43mBRAIN\u001b[0m \u001b[5;30;43mMRI\u001b[0m WITH AND WITHOUT CONTRAST: \u001b[5;30;43mCLINICAL\u001b[0m \u001b[5;30;43mINDICATION\u001b[0m: Headaches. TECHNIQUE: Using a 1.5 Tesla scanner sagittal T1 axial TSE T2 axial FLAIR axial T1 coronal TSE T2 coronal FLAIR post-gadolinium axial coronal and sagittal T1 and axial diffusion images of the brain were obtained. COMPARISON: None \u001b[5;30;43mFINDINGS\u001b[0m: \u001b[5;30;47mTHE VENTRICULAR SYSTEM IS NORMAL IN SIZE SHAPE AND CONFIGURATION\u001b[0m. \u001b[5;30;47mTHERE IS NO INTRACRANIAL MASS LESION MASS EFFECT OR MIDLINE SHIFT\u001b[0m. \u001b[5;30;47mNO EXTRA-AXIAL FLUID COLLECTIONS ARE IDENTIFIED\u001b[0m. \u001b[5;30;47mTHERE ARE NO AREAS OF ABNORMAL PARENCHYMAL SIGNAL INTENSITY\u001b[0m. \u001b[5;30;47mTHERE ARE NO AREAS OF ABNORMAL ENHANCEMENT FOLLOWING GADOLINIUM ADMINISTRATION\u001b[0m. \u001b[5;30;47mTHE MAJOR INTRACRANIAL VESSELS APPEAR PATENT\u001b[0m. The visualized portions of the orbits paranasal sinuses and mastoid air cells are grossly u\u001b[5;30;42mNREMARKABLE\u001b[0m. \u001b[5;30;43mIMPRESSION\u001b[0m: U\u001b[5;30;42mNREMARKABLE \u001b[5;30;43mBRAIN\u001b[0m\u001b[0m \u001b[5;30;43mMRI\u001b[0m prior to and following intravenous contrast. END OF \u001b[5;30;43mIMPRESSION\u001b[0m: 70553\n",
      "\n"
     ]
    },
    {
     "name": "stdin",
     "output_type": "stream",
     "text": [
      "Assign a CLIP rating to this report (0 do not use/1 maybe use/2 definitely use):  2\n"
     ]
    },
    {
     "name": "stdout",
     "output_type": "stream",
     "text": [
      "\n"
     ]
    }
   ],
   "source": [
    "for i in range(25):\n",
    "    clear_output()\n",
    "    print(i)\n",
    "    print()\n",
    "    markSelfEvalReportSQL(name, toHighlight)\n",
    "    # markOneReportSQL(name, toHighlight)\n"
   ]
  },
  {
   "cell_type": "code",
   "execution_count": 6,
   "id": "5d958688-96af-4fcb-9289-41b0694657ad",
   "metadata": {},
   "outputs": [],
   "source": [
    "# getMoreReportsToGrade(name)"
   ]
  },
  {
   "cell_type": "code",
   "execution_count": null,
   "id": "db0572a3-5469-4397-b199-e8ddbd1ef641",
   "metadata": {},
   "outputs": [],
   "source": []
  }
 ],
 "metadata": {
  "kernelspec": {
   "display_name": "python3-read-only",
   "language": "python",
   "name": "conda-env-python3-read-only-py"
  },
  "language_info": {
   "codemirror_mode": {
    "name": "ipython",
    "version": 3
   },
   "file_extension": ".py",
   "mimetype": "text/x-python",
   "name": "python",
   "nbconvert_exporter": "python",
   "pygments_lexer": "ipython3",
   "version": "3.9.13"
  }
 },
 "nbformat": 4,
 "nbformat_minor": 5
}
