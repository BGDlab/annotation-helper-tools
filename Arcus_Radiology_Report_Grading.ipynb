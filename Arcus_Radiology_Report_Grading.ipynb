{
 "cells": [
  {
   "cell_type": "code",
   "execution_count": 1,
   "id": "8fda44b3-a170-45c1-b0f8-8f04f3ad90e4",
   "metadata": {},
   "outputs": [],
   "source": [
    "from google.cloud import bigquery\n",
    "import pandas as pd\n",
    "from annotationHelperLib import *\n",
    "from reportMarkingFunctions import *\n",
    "from IPython.display import clear_output\n",
    "import json"
   ]
  },
  {
   "cell_type": "code",
   "execution_count": 2,
   "id": "ec8e20d5-6609-4869-bf9e-8a5ee4eefefb",
   "metadata": {},
   "outputs": [
    {
     "name": "stdout",
     "output_type": "stream",
     "text": [
      "select * from lab.grader_table_with_metadata where grader_name = 'Jenna Schabdach';\n",
      "151\n",
      "151\n",
      "Jenna Schabdach has graded 151 of 151 reliability reports\n",
      "Jenna Schabdach has graded 37583 unique reports of 37633 assigned where\n",
      "33938 have been given a grade of 0\n",
      "1771 have been given a grade of 1\n",
      "1874 have been given a grade of 2\n"
     ]
    }
   ],
   "source": [
    "# Replace with the name you want used in publications of this data set\n",
    "name = \"Jenna Schabdach\"\n",
    "\n",
    "# Projects: SLIP, SLIP Elementary, SLIP Adolescents, Clinical Imaging Genetics\n",
    "project = \"SLIP Adolescents\"\n",
    "\n",
    "# Replace with the path to your .json file containing a dictionary of all the phrases you'd like to be highlighted\n",
    "phrasesToHighlightFn = \"phrases_to_highlight.json\"\n",
    "\n",
    "# Load the dictionary of phrases to highlight in certain colors \n",
    "with open(phrasesToHighlightFn, 'r', encoding='utf-8') as f:\n",
    "    toHighlight = json.load(f)\n",
    "    \n",
    "getGraderStatusReport(name)\n"
   ]
  },
  {
   "cell_type": "code",
   "execution_count": 12,
   "id": "1144b773-b715-4383-b4bf-8b782145e7df",
   "metadata": {},
   "outputs": [
    {
     "name": "stdout",
     "output_type": "stream",
     "text": [
      "Welcome, Jenna Schabdach\n",
      "151\n",
      "151\n",
      "Jenna Schabdach has graded 151 of 151 reliability reports\n",
      "You currently have 7 ungraded reports to work on.\n"
     ]
    }
   ],
   "source": [
    "isOnMainTable = welcomeUser(name)"
   ]
  },
  {
   "cell_type": "code",
   "execution_count": 13,
   "id": "4b6ac346-62d3-4454-b4df-8c9bb5e27ec8",
   "metadata": {
    "tags": []
   },
   "outputs": [
    {
     "name": "stdout",
     "output_type": "stream",
     "text": [
      "9\n",
      "There are currently no reports to grade for Jenna Schabdach  in the table. Please add more to continue.\n"
     ]
    }
   ],
   "source": [
    "batchSize = 10\n",
    "\n",
    "for i in range(batchSize):\n",
    "    clear_output()\n",
    "    print(i)\n",
    "    if isOnMainTable:\n",
    "        markOneReportSQL(name, project, toHighlight)\n",
    "    else:\n",
    "        markSelfEvalReportSQL(name, toHighlight)\n"
   ]
  },
  {
   "cell_type": "code",
   "execution_count": 3,
   "id": "c75e0a1a-851a-487f-83d4-eb0483ea9656",
   "metadata": {
    "tags": []
   },
   "outputs": [
    {
     "name": "stdout",
     "output_type": "stream",
     "text": [
      "It is expected for this function to take several minutes to run. Your patience is appreciated.\n",
      "(7, 8)\n",
      "Number of reports that need to be validated: 7\n",
      "Number of validation reports added: 7\n",
      "57 reports are in the queue for grader Jenna Schabdach\n"
     ]
    }
   ],
   "source": [
    "## If/when you run out of reports, you can uncomment the following line of code\n",
    "#   and run this cell to get 50 more reports from the database. Make sure your\n",
    "#   values for `project` and `queryFn` match the project you're working on.\n",
    "# Projects: SLIP Adolescents, SLIP, SLIP Elementary, Clinical Imaging Genetics\n",
    "# project = \"SLIP Adolescents\"\n",
    "getSecondLookReportsToGrade(name, 50)\n",
    "# getMoreReportsToGrade(name, project, numberToAdd=50)"
   ]
  },
  {
   "cell_type": "code",
   "execution_count": null,
   "id": "63748e04-1248-42d1-8450-894e699e08a8",
   "metadata": {},
   "outputs": [],
   "source": []
  }
 ],
 "metadata": {
  "kernelspec": {
   "display_name": ".conda-arcus",
   "language": "python",
   "name": "conda-env-.conda-arcus-py"
  },
  "language_info": {
   "codemirror_mode": {
    "name": "ipython",
    "version": 3
   },
   "file_extension": ".py",
   "mimetype": "text/x-python",
   "name": "python",
   "nbconvert_exporter": "python",
   "pygments_lexer": "ipython3",
   "version": "3.10.13"
  }
 },
 "nbformat": 4,
 "nbformat_minor": 5
}
