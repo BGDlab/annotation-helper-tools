{
 "cells": [
  {
   "cell_type": "markdown",
   "id": "c58a794f-6916-499e-b10a-8c6bccaede88",
   "metadata": {
    "editable": false,
    "slideshow": {
     "slide_type": ""
    },
    "tags": []
   },
   "source": [
    "# Radiology Report Grading Notebook\n",
    "This is the primary notebook in which graders will evaluate radiology reports. In most cases, after you complete the training requirements you will be working with this notebook.\n",
    "\n",
    "#### Please check the following variables to ensure that you are running under the correct name and project:"
   ]
  },
  {
   "cell_type": "code",
   "execution_count": 1,
   "id": "21787ebd-c2ba-490a-bddb-9fd347e83048",
   "metadata": {
    "editable": true,
    "slideshow": {
     "slide_type": ""
    },
    "tags": []
   },
   "outputs": [],
   "source": [
    "# Select the name you want used in publications of this data set\n",
    "name = \"Benjamin Jung\"\n",
    "\n",
    "# Select your project. Projects include SLIP, SLIP Elementary, SLIP Adolescents, Clinical Imaging Genetics, Clinical Fetal, NF1, and AUTO\n",
    "# If you select AUTO, your project will be automatically assigned based on priorities set by senior graders.\n",
    "project_name = \"AUTO\" # Clinical Imaging Genetics\"\n",
    "\n",
    "# Select the number of reports you would like to grade in one session.\n",
    "batchSize = 10\n",
    "\n",
    "# Select the number of reports to add when you run out.\n",
    "num_reports_to_add = 20"
   ]
  },
  {
   "cell_type": "markdown",
   "id": "86365cc3-65fe-44ed-b28c-cfc564f3bead",
   "metadata": {
    "editable": false,
    "slideshow": {
     "slide_type": ""
    },
    "tags": []
   },
   "source": [
    "#### To grade radiology reports, please run the following cells, but do not edit them:"
   ]
  },
  {
   "cell_type": "code",
   "execution_count": 2,
   "id": "bda05c9d-11d8-41d9-9250-57b5dbf0efe1",
   "metadata": {
    "editable": false,
    "slideshow": {
     "slide_type": ""
    },
    "tags": []
   },
   "outputs": [],
   "source": [
    "import os\n",
    "\n",
    "# Get the current working directory\n",
    "current_dir = os.getcwd()\n",
    "\n",
    "# Add the code directory to sys.path\n",
    "sys.path.append(os.path.join(current_dir, 'code'))\n",
    "\n",
    "from google.cloud import bigquery\n",
    "import pandas as pd\n",
    "from annotationHelperLib import *\n",
    "from reportMarkingFunctions import *\n",
    "from IPython.display import clear_output\n",
    "import json"
   ]
  },
  {
   "cell_type": "code",
   "execution_count": 3,
   "id": "ec8e20d5-6609-4869-bf9e-8a5ee4eefefb",
   "metadata": {
    "editable": false,
    "slideshow": {
     "slide_type": ""
    },
    "tags": []
   },
   "outputs": [
    {
     "name": "stdout",
     "output_type": "stream",
     "text": [
      "Grading reports under project Clinical Imaging Genetics\n",
      "Benjamin Jung has graded 151 of 151 reliability reports\n",
      "\n",
      "SLIP ---------\n",
      "Benjamin Jung has graded 530 unique reports of 530 assigned where\n",
      "205 have been given a grade of 0\n",
      "89 have been given a grade of 1\n",
      "232 have been given a grade of 2\n",
      "\n",
      "User is also grading non-SLIP reports.\n",
      "Non-SLIP --------\n",
      "Benjamin Jung has graded 1 unique reports of 1 assigned where\n",
      "0 have been given a grade of 0\n",
      "0 have been given a grade of 1\n",
      "1 have been given a grade of 2\n"
     ]
    }
   ],
   "source": [
    "# Get project name\n",
    "project = load_project(project_name, name)\n",
    "# Get phrases to highlight\n",
    "toHighlight = phrasesToHighlightFn()\n",
    "# Get Grader Status Report\n",
    "get_grader_status_report(name)"
   ]
  },
  {
   "cell_type": "code",
   "execution_count": 4,
   "id": "632e2b86-dfa2-41ff-8348-c6c191ad9529",
   "metadata": {
    "editable": false,
    "slideshow": {
     "slide_type": ""
    },
    "tags": []
   },
   "outputs": [
    {
     "name": "stdout",
     "output_type": "stream",
     "text": [
      "Welcome, Benjamin Jung\n",
      "Benjamin Jung has graded 151 of 151 reliability reports\n",
      "You are caught up on your report ratings\n"
     ]
    }
   ],
   "source": [
    "isOnMainTable = welcome_user(name)"
   ]
  },
  {
   "cell_type": "code",
   "execution_count": null,
   "id": "9f384d8e-bb3c-4d79-8878-f953104bc7d0",
   "metadata": {
    "editable": false,
    "slideshow": {
     "slide_type": ""
    },
    "tags": []
   },
   "outputs": [],
   "source": [
    "for i in range(batchSize):\n",
    "    clear_output()\n",
    "    print(i)\n",
    "    if isOnMainTable:\n",
    "        mark_one_report_sql(name, project, toHighlight)\n",
    "    else:\n",
    "        mark_selfeval_report_sql(name, toHighlight)"
   ]
  },
  {
   "cell_type": "markdown",
   "id": "a2df5c95-f77f-4d46-91ea-93334a0b25f7",
   "metadata": {
    "editable": false,
    "slideshow": {
     "slide_type": ""
    },
    "tags": []
   },
   "source": [
    "#### To request more reports, please run the following cells, but do not edit them:"
   ]
  },
  {
   "cell_type": "code",
   "execution_count": 5,
   "id": "c75e0a1a-851a-487f-83d4-eb0483ea9656",
   "metadata": {
    "editable": false,
    "slideshow": {
     "slide_type": ""
    },
    "tags": []
   },
   "outputs": [
    {
     "name": "stdout",
     "output_type": "stream",
     "text": [
      "It is expected for this function to take several minutes to run. Your patience is appreciated.\n",
      "Project: Clinical Imaging Genetics\n",
      "Total reports: 7222 (note each report must be graded by 2 graders)\n",
      "Graded 0: 5130\n",
      "Graded 1: 580\n",
      "Graded 2: 3995\n",
      "Queued: 204\n",
      "Skipped: 9\n",
      "Number of validation reports added: 0\n",
      "Number of new reports to grade: 0\n",
      "There are no reports for this project that have yet to be either graded or validated.\n"
     ]
    }
   ],
   "source": [
    "## If/when you run out of reports, you can run the following line of code\n",
    "#   and run this cell to get more reports from the database. Make sure your\n",
    "#   values for `project` and `queryFn` match the project you're working on.\n",
    "get_more_reports_to_grade(name, project, num_to_add=num_reports_to_add)"
   ]
  },
  {
   "cell_type": "code",
   "execution_count": null,
   "id": "dd696c06-16ae-4c53-b7b9-1df1b4ced830",
   "metadata": {
    "editable": true,
    "slideshow": {
     "slide_type": ""
    },
    "tags": []
   },
   "outputs": [],
   "source": []
  }
 ],
 "metadata": {
  "kernelspec": {
   "display_name": ".conda-arcus",
   "language": "python",
   "name": "conda-env-.conda-arcus-py"
  },
  "language_info": {
   "codemirror_mode": {
    "name": "ipython",
    "version": 3
   },
   "file_extension": ".py",
   "mimetype": "text/x-python",
   "name": "python",
   "nbconvert_exporter": "python",
   "pygments_lexer": "ipython3",
   "version": "3.10.15"
  }
 },
 "nbformat": 4,
 "nbformat_minor": 5
}
