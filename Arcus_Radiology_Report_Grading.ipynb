{
 "cells": [
  {
   "cell_type": "code",
   "execution_count": 1,
   "id": "8fda44b3-a170-45c1-b0f8-8f04f3ad90e4",
   "metadata": {},
   "outputs": [],
   "source": [
    "from google.cloud import bigquery\n",
    "import pandas as pd\n",
    "from annotationHelperLib import *\n",
    "from reportMarkingFunctions import *\n",
    "from IPython.display import clear_output\n",
    "import json"
   ]
  },
  {
   "cell_type": "code",
   "execution_count": 2,
   "id": "ec8e20d5-6609-4869-bf9e-8a5ee4eefefb",
   "metadata": {},
   "outputs": [
    {
     "name": "stdout",
     "output_type": "stream",
     "text": [
      "Jenna Schabdach has graded 50 of 151 reliability reports\n",
      "Jenna Schabdach has graded 35073 unique reports of 35073 assigned where\n",
      "33599 have been given a grade of 0\n",
      "636 have been given a grade of 1\n",
      "838 have been given a grade of 2\n"
     ]
    }
   ],
   "source": [
    "# Replace with the name you want used in publications of this data set\n",
    "# name = \"Jenna Schabdach\"\n",
    "name = \"Jenna Schabdach\"\n",
    "\n",
    "# Replace the Project name with the name of the project you are working on.\n",
    "# Possible values: SLIP, White et al SLIP, or CHOP Brain Behavior Genetics\n",
    "project = \"SLIP\"\n",
    "\n",
    "getGraderStatusReport(name)\n",
    "\n",
    "# Replace with the path to your .json file containing a dictionary of all the phrases you'd like to be highlighted\n",
    "phrasesToHighlightFn = \"phrases_to_highlight.json\""
   ]
  },
  {
   "cell_type": "code",
   "execution_count": 3,
   "id": "2c4f32ce-c048-4148-a979-6b6ff2d436d2",
   "metadata": {
    "tags": []
   },
   "outputs": [],
   "source": [
    "# Load the dictionary of phrases to highlight in certain colors \n",
    "with open(phrasesToHighlightFn, 'r', encoding='utf-8') as f:\n",
    "    toHighlight = json.load(f)"
   ]
  },
  {
   "cell_type": "code",
   "execution_count": 4,
   "id": "1144b773-b715-4383-b4bf-8b782145e7df",
   "metadata": {},
   "outputs": [
    {
     "name": "stdout",
     "output_type": "stream",
     "text": [
      "Welcome, Jenna Schabdach\n",
      "Jenna Schabdach has graded 50 of 151 reliability reports\n",
      "It appears you have yet to grade the reliability reports.\n"
     ]
    }
   ],
   "source": [
    "isOnMainTable = welcomeUser(name)"
   ]
  },
  {
   "cell_type": "code",
   "execution_count": 10,
   "id": "8a3d045b-4d07-41fd-8295-5e8eca2ce480",
   "metadata": {
    "tags": []
   },
   "outputs": [
    {
     "name": "stdout",
     "output_type": "stream",
     "text": [
      "9\n",
      "\u001b[5;30;43mMRI\u001b[0m \u001b[5;30;43mBRAIN\u001b[0m WITHOUT AND WITH CONTRAST: 9/4/02\n",
      "\u001b[5;30;43mCLINICAL\u001b[0m \u001b[5;30;43mHISTORY\u001b[0m:  Microcephaly. Deafness. Clinical suspicion for\n",
      "neural degeneration.\n",
      "TECHNIQUE:  MR imaging of the brain was performed on 9/4/02 utilizing\n",
      "the following MR sequences: sagittal T1, trans T2, FLAIR,\n",
      "magnetization transfer and diffusion-weighted sequences; and\n",
      "postgadolinium T1 imaging in three planes.\n",
      "There is no prior MR examination of the brain available for comparison\n",
      "at this institution.\n",
      "\u001b[5;30;43mFINDINGS\u001b[0m:\n",
      "The ventricular system is normal in size, shape and configuration.\n",
      "\u001b[5;30;47mTHERE ARE NO INTRACRANIAL MASS LESIONS\u001b[0m, \u001b[5;30;41mMASS EFFECT\u001b[0m or midline shift.\n",
      "\u001b[5;30;47mNO INTRA- OR EXTRA-AXIAL FLUID COLLECTIONS ARE IDENTIFIED\u001b[0m. There are\n",
      "no areas of abnormal parenchymal signal intensity on these pulse\n",
      "sequences.\n",
      "There are no areas of abnormal enhancement following gadolinium\n",
      "administration.\n",
      "\u001b[5;30;47mTHE MAJOR INTRACRANIAL VESSELS DEMONSTRATE NORMAL FLOW\u001b[0m. The visualized\n",
      "portions of the orbits and paranasal sinuses are u\u001b[5;30;42mNREMARKABLE\u001b[0m.\n",
      "\u001b[5;30;43mIMPRESSION\u001b[0m:\n",
      "U\u001b[5;30;42mNREMARKABLE \u001b[5;30;43mBRAIN\u001b[0m\u001b[0m \u001b[5;30;43mMRI\u001b[0m prior to and following intravenous contrast.\n",
      "END OF \u001b[5;30;43mIMPRESSION\u001b[0m:\n",
      "70553\n",
      "DD: 9/5/02 1638\n",
      "DT: 9/6/02 0700\n",
      "335\n",
      "\n"
     ]
    },
    {
     "name": "stdin",
     "output_type": "stream",
     "text": [
      "Assign a SLIP rating to this report (0 do not use/1 maybe use/2 definitely use):  1\n"
     ]
    },
    {
     "name": "stdout",
     "output_type": "stream",
     "text": [
      "\n"
     ]
    },
    {
     "name": "stdin",
     "output_type": "stream",
     "text": [
      "Please confirm your grade by reentering it OR enter a revised value to change the grade:  1\n"
     ]
    },
    {
     "name": "stdout",
     "output_type": "stream",
     "text": [
      "Saving your grade of 1 for this report.\n",
      "Grade saved. Run the cell again to grade another report.\n"
     ]
    }
   ],
   "source": [
    "batchSize = 10\n",
    "\n",
    "for i in range(batchSize):\n",
    "    clear_output()\n",
    "    print(i)\n",
    "    if isOnMainTable:\n",
    "        markOneReportSQL(name, project, toHighlight)\n",
    "    else:\n",
    "        markSelfEvalReportSQL(name, toHighlight)\n"
   ]
  },
  {
   "cell_type": "code",
   "execution_count": 7,
   "id": "5d958688-96af-4fcb-9289-41b0694657ad",
   "metadata": {
    "tags": []
   },
   "outputs": [
    {
     "name": "stdout",
     "output_type": "stream",
     "text": [
      "Note: this cell may take several minutes to run. This is expected behavior.\n",
      "Checking the list of ids to make sure each is valid...\n",
      "Validity check completed.\n",
      "Checking to see how many requested reports have been graded or are in the grading queue...\n",
      "Preparing to add 50 reports for Jenna Schabdach ...\n",
      "50 were added for Jenna Schabdach\n",
      "854 reports are already in the table:\n",
      "468 were graded 0\n",
      "78 were graded 1\n",
      "183 were graded 2\n",
      "125 are already assigned to Alesandra Gorgone\n"
     ]
    }
   ],
   "source": [
    "# GENERIC: If/when you run out of reports, you can uncomment the following line \n",
    "#   and run this cell to get 100 more reports from the database\n",
    "# getMoreReportsToGrade(name, project=\"SLIP\")\n",
    "\n",
    "# SLIP Psych Prospective: If/when you run out of reports, you can uncomment the \n",
    "#  following line and run this cell to get N more reports from the list of reports\n",
    "#  filtered to belong to your desired cohort\n",
    "# df = pd.read_csv('~/arcus/shared/data/slip_2023_2-5_psych_prospective.csv')\n",
    "# cohortProcIds = list(df['proc_ord_id'].values)\n",
    "# N = 50\n",
    "# addReportsFromListForUser(cohortProcIds, name, project=\"White et al SLIP\", maxToAdd=N)"
   ]
  },
  {
   "cell_type": "code",
   "execution_count": null,
   "id": "2bed0bcf-02e4-4358-828d-1dec788bb6fa",
   "metadata": {},
   "outputs": [],
   "source": []
  }
 ],
 "metadata": {
  "kernelspec": {
   "display_name": "python3-read-only",
   "language": "python",
   "name": "conda-env-python3-read-only-py"
  },
  "language_info": {
   "codemirror_mode": {
    "name": "ipython",
    "version": 3
   },
   "file_extension": ".py",
   "mimetype": "text/x-python",
   "name": "python",
   "nbconvert_exporter": "python",
   "pygments_lexer": "ipython3",
   "version": "3.9.16"
  }
 },
 "nbformat": 4,
 "nbformat_minor": 5
}
