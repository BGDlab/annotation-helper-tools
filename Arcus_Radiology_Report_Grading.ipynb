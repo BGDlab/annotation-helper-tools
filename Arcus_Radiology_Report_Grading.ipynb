{
 "cells": [
  {
   "cell_type": "code",
   "execution_count": 1,
   "id": "8fda44b3-a170-45c1-b0f8-8f04f3ad90e4",
   "metadata": {},
   "outputs": [],
   "source": [
    "from google.cloud import bigquery\n",
    "import pandas as pd\n",
    "from annotationHelperLib import *\n",
    "from reportMarkingFunctions import *\n",
    "from IPython.display import clear_output\n",
    "import json"
   ]
  },
  {
   "cell_type": "code",
   "execution_count": 2,
   "id": "ec8e20d5-6609-4869-bf9e-8a5ee4eefefb",
   "metadata": {},
   "outputs": [
    {
     "name": "stdout",
     "output_type": "stream",
     "text": [
      "select * from lab.grader_table_with_metadata_project_independent where grader_name = 'Jenna Schabdach';\n",
      "151\n",
      "151\n",
      "Jenna Schabdach has graded 151 of 151 reliability reports\n",
      "Jenna Schabdach has graded 38269 unique reports of 38274 assigned where\n",
      "34279 have been given a grade of 0\n",
      "1824 have been given a grade of 1\n",
      "2165 have been given a grade of 2\n"
     ]
    }
   ],
   "source": [
    "# Replace with the name you want used in publications of this data set\n",
    "name = \"Jenna Schabdach\"\n",
    "\n",
    "# Non-SLIP projects: NF1\n",
    "project = \"NF1\" \n",
    "\n",
    "# Replace with the path to your .json file containing a dictionary of all the phrases you'd like to be highlighted\n",
    "phrasesToHighlightFn = \"phrases_to_highlight.json\"\n",
    "\n",
    "# Load the dictionary of phrases to highlight in certain colors \n",
    "with open(phrasesToHighlightFn, 'r', encoding='utf-8') as f:\n",
    "    toHighlight = json.load(f)\n",
    "    \n",
    "get_grader_status_report(name)\n"
   ]
  },
  {
   "cell_type": "code",
   "execution_count": 3,
   "id": "632e2b86-dfa2-41ff-8348-c6c191ad9529",
   "metadata": {},
   "outputs": [
    {
     "name": "stdout",
     "output_type": "stream",
     "text": [
      "Welcome, Jenna Schabdach\n",
      "151\n",
      "151\n",
      "Jenna Schabdach has graded 151 of 151 reliability reports\n",
      "You currently have 5 ungraded reports to work on.\n"
     ]
    }
   ],
   "source": [
    "isOnAltTable = welcome_user(name)"
   ]
  },
  {
   "cell_type": "code",
   "execution_count": 4,
   "id": "9f384d8e-bb3c-4d79-8878-f953104bc7d0",
   "metadata": {
    "tags": []
   },
   "outputs": [
    {
     "name": "stdout",
     "output_type": "stream",
     "text": [
      "0\n",
      "Year of scan: 2018\n",
      "Age at scan: 1.72 years\n",
      "Project: Pb Cohort\n",
      "\n",
      "BRAIN \u001b[5;30;43mMRI\u001b[0m, WITHOUT AND WITH CONTRAST: \n",
      "\n",
      "\u001b[5;30;43mCLINICAL INDICATION\u001b[0m: Difficulty with ambulation, abnormal head CT \n",
      "\n",
      "\u001b[5;30;43mTECHNIQUE\u001b[0m: Sagittal 3D T1 gradient echo with axial reformations, axial and coronal TSE T2, axial and coronal FLAIR, axial spin echo T1, arterial spin labeled perfusion imaging, axial SWI, post-contrast sagittal 3D T1 gradient echo with axial and coronal reformations, post-contrast axial spin echo T1 with fat suppression, axial diffusion imaging were performed on a 3.0 Tesla system. Navigation protocol also performed. \n",
      "\n",
      "COMPARISON: CT brain without contrast 8/29/2018 \n",
      "\n",
      "\u001b[5;30;43mFINDINGS\u001b[0m: There is an ill-defined area of abnormal T2/FLAIR \u001b[5;30;41mHYPERINTENS\u001b[0me signal in the periventricular/deep white matter of the right temporal lobe (series 15, image 37), superior to the temporal horn. No definite enhancement or susceptibility is appreciated. \u001b[5;30;47mTHE VENTRICULAR SYSTEM IS NORMAL IN SIZE, SHAPE, AND CONFIGURATION\u001b[0m. There is mild asymmetric prominence of the right temporal horn. Choroid plexus \u001b[5;30;41mCYST\u001b[0ms are noted in the temporal horn and the atrium of the right lateral ventricle. \u001b[5;30;47mTHERE IS NO MASS EFFECT OR MIDLINE SHIFT\u001b[0m. \u001b[5;30;47mNO ABNORMAL EXTRA-AXIAL FLUID COLLECTIONS ARE IDENTIFIED\u001b[0m. \u001b[5;30;47mTHE HIPPOCAMPI ARE SYMMETRIC AND NORMAL IN SIZE, SIGNAL, AND INTERNAL ARCHITECTURE\u001b[0m. \u001b[5;30;47mTHE VISUALIZED MAJOR INTRACRANIAL VESSELS APPEAR PATENT\u001b[0m. \u001b[5;30;47mNO DEFINITE ABNORMALITY IS SEEN IN THE VISUALIZED PORTIONS OF THE ORBITS\u001b[0m. T\u001b[5;30;47mHE MIDDLE EAR CAVITIES AND MASTOID AIR CELLS ARE CLEAR\u001b[0m. \u001b[5;30;47mTHE PARANASAL SINUSES ARE CLEAR\u001b[0m. \n",
      "\n",
      "\u001b[5;30;43mIMPRESSION\u001b[0m: Ill-defined, nonenhancing T2/FLAIR \u001b[5;30;41mHYPERINTENS\u001b[0me area in the medial right temporal lobe, as described. Differential diagnostic considerations include focal dysplasia or \u001b[5;30;41mGLIOSIS\u001b[0m. A low-grade \u001b[5;30;41mGLIOMA\u001b[0m appears less likely. Clinical correlation for h\u001b[5;30;41mISTORY OF\u001b[0m seizures, and EEG study is recommended. A follow-up \u001b[5;30;43mMRI\u001b[0m of the brain in 3-6 months is recommended to assess for stability. Successful completion of navigation protocol. Findings and recommendation were conveyed to patient's physician Dr. Danzig on 8/29/2018, via CHOP email. I have personally reviewed the images and agree with the interpretation.\n",
      "\n",
      "Report id: 177683518524\n",
      "\n"
     ]
    },
    {
     "ename": "KeyboardInterrupt",
     "evalue": "Interrupted by user",
     "output_type": "error",
     "traceback": [
      "\u001b[0;31m---------------------------------------------------------------------------\u001b[0m",
      "\u001b[0;31mKeyboardInterrupt\u001b[0m                         Traceback (most recent call last)",
      "Cell \u001b[0;32mIn[4], line 7\u001b[0m\n\u001b[1;32m      5\u001b[0m \u001b[38;5;28mprint\u001b[39m(i)\n\u001b[1;32m      6\u001b[0m \u001b[38;5;28;01mif\u001b[39;00m isOnMainTable:\n\u001b[0;32m----> 7\u001b[0m     \u001b[43mmark_one_report_sql\u001b[49m\u001b[43m(\u001b[49m\u001b[43mname\u001b[49m\u001b[43m,\u001b[49m\u001b[43m \u001b[49m\u001b[43mproject\u001b[49m\u001b[43m,\u001b[49m\u001b[43m \u001b[49m\u001b[43mtoHighlight\u001b[49m\u001b[43m)\u001b[49m\n\u001b[1;32m      8\u001b[0m \u001b[38;5;28;01melse\u001b[39;00m:\n\u001b[1;32m      9\u001b[0m     mark_selfeval_report_sql(name, toHighlight)\n",
      "File \u001b[0;32m/mnt/arcus/lab/users/youngjm/bgdlab/code/annotation-helper-tools/reportMarkingFunctions.py:444\u001b[0m, in \u001b[0;36mmark_one_report_sql\u001b[0;34m(name, project, to_highlight)\u001b[0m\n\u001b[1;32m    440\u001b[0m     \u001b[38;5;28mprint\u001b[39m()\n\u001b[1;32m    443\u001b[0m print_report(proc_ord_id, client, to_highlight, source_table)  \u001b[38;5;66;03m# -- LOH\u001b[39;00m\n\u001b[0;32m--> 444\u001b[0m grade \u001b[38;5;241m=\u001b[39m \u001b[43mget_grade\u001b[49m\u001b[43m(\u001b[49m\u001b[43menable_md_flag\u001b[49m\u001b[38;5;241;43m=\u001b[39;49m\u001b[38;5;28;43;01mFalse\u001b[39;49;00m\u001b[43m)\u001b[49m\n\u001b[1;32m    446\u001b[0m \u001b[38;5;66;03m# write the case to handle the skipped reports \u001b[39;00m\n\u001b[1;32m    447\u001b[0m \u001b[38;5;28;01mif\u001b[39;00m grade \u001b[38;5;241m==\u001b[39m \u001b[38;5;241m-\u001b[39m\u001b[38;5;241m1\u001b[39m:\n\u001b[1;32m    448\u001b[0m     \u001b[38;5;66;03m# Ask the user for a reason\u001b[39;00m\n",
      "File \u001b[0;32m/mnt/arcus/lab/users/youngjm/bgdlab/code/annotation-helper-tools/reportMarkingFunctions.py:1124\u001b[0m, in \u001b[0;36mget_grade\u001b[0;34m(enable_md_flag)\u001b[0m\n\u001b[1;32m   1121\u001b[0m \u001b[38;5;28;01melse\u001b[39;00m:\n\u001b[1;32m   1122\u001b[0m     potential_grades \u001b[38;5;241m=\u001b[39m [\u001b[38;5;124m\"\u001b[39m\u001b[38;5;124m0\u001b[39m\u001b[38;5;124m\"\u001b[39m, \u001b[38;5;124m\"\u001b[39m\u001b[38;5;124m1\u001b[39m\u001b[38;5;124m\"\u001b[39m, \u001b[38;5;124m\"\u001b[39m\u001b[38;5;124m2\u001b[39m\u001b[38;5;124m\"\u001b[39m, \u001b[38;5;124m\"\u001b[39m\u001b[38;5;124m-1\u001b[39m\u001b[38;5;124m\"\u001b[39m]\n\u001b[1;32m   1123\u001b[0m     grade \u001b[38;5;241m=\u001b[39m \u001b[38;5;28mstr\u001b[39m(\n\u001b[0;32m-> 1124\u001b[0m         \u001b[38;5;28;43minput\u001b[39;49m\u001b[43m(\u001b[49m\n\u001b[1;32m   1125\u001b[0m \u001b[43m            \u001b[49m\u001b[38;5;124;43m\"\u001b[39;49m\u001b[38;5;124;43mAssign a SLIP rating to this report (0 do not use/1 maybe use/2 definitely use/-1 skip): \u001b[39;49m\u001b[38;5;124;43m\"\u001b[39;49m\n\u001b[1;32m   1126\u001b[0m \u001b[43m        \u001b[49m\u001b[43m)\u001b[49m\n\u001b[1;32m   1127\u001b[0m     )\n\u001b[1;32m   1129\u001b[0m \u001b[38;5;28;01mwhile\u001b[39;00m grade \u001b[38;5;129;01mnot\u001b[39;00m \u001b[38;5;129;01min\u001b[39;00m potential_grades:\n\u001b[1;32m   1130\u001b[0m     \u001b[38;5;28;01mif\u001b[39;00m \u001b[38;5;129;01mnot\u001b[39;00m enable_md_flag:\n",
      "File \u001b[0;32m/mnt/arcus/lab/users/youngjm/.conda/envs/arcus/lib/python3.10/site-packages/ipykernel/kernelbase.py:1270\u001b[0m, in \u001b[0;36mKernel.raw_input\u001b[0;34m(self, prompt)\u001b[0m\n\u001b[1;32m   1268\u001b[0m     msg \u001b[38;5;241m=\u001b[39m \u001b[38;5;124m\"\u001b[39m\u001b[38;5;124mraw_input was called, but this frontend does not support input requests.\u001b[39m\u001b[38;5;124m\"\u001b[39m\n\u001b[1;32m   1269\u001b[0m     \u001b[38;5;28;01mraise\u001b[39;00m StdinNotImplementedError(msg)\n\u001b[0;32m-> 1270\u001b[0m \u001b[38;5;28;01mreturn\u001b[39;00m \u001b[38;5;28;43mself\u001b[39;49m\u001b[38;5;241;43m.\u001b[39;49m\u001b[43m_input_request\u001b[49m\u001b[43m(\u001b[49m\n\u001b[1;32m   1271\u001b[0m \u001b[43m    \u001b[49m\u001b[38;5;28;43mstr\u001b[39;49m\u001b[43m(\u001b[49m\u001b[43mprompt\u001b[49m\u001b[43m)\u001b[49m\u001b[43m,\u001b[49m\n\u001b[1;32m   1272\u001b[0m \u001b[43m    \u001b[49m\u001b[38;5;28;43mself\u001b[39;49m\u001b[38;5;241;43m.\u001b[39;49m\u001b[43m_parent_ident\u001b[49m\u001b[43m[\u001b[49m\u001b[38;5;124;43m\"\u001b[39;49m\u001b[38;5;124;43mshell\u001b[39;49m\u001b[38;5;124;43m\"\u001b[39;49m\u001b[43m]\u001b[49m\u001b[43m,\u001b[49m\n\u001b[1;32m   1273\u001b[0m \u001b[43m    \u001b[49m\u001b[38;5;28;43mself\u001b[39;49m\u001b[38;5;241;43m.\u001b[39;49m\u001b[43mget_parent\u001b[49m\u001b[43m(\u001b[49m\u001b[38;5;124;43m\"\u001b[39;49m\u001b[38;5;124;43mshell\u001b[39;49m\u001b[38;5;124;43m\"\u001b[39;49m\u001b[43m)\u001b[49m\u001b[43m,\u001b[49m\n\u001b[1;32m   1274\u001b[0m \u001b[43m    \u001b[49m\u001b[43mpassword\u001b[49m\u001b[38;5;241;43m=\u001b[39;49m\u001b[38;5;28;43;01mFalse\u001b[39;49;00m\u001b[43m,\u001b[49m\n\u001b[1;32m   1275\u001b[0m \u001b[43m\u001b[49m\u001b[43m)\u001b[49m\n",
      "File \u001b[0;32m/mnt/arcus/lab/users/youngjm/.conda/envs/arcus/lib/python3.10/site-packages/ipykernel/kernelbase.py:1313\u001b[0m, in \u001b[0;36mKernel._input_request\u001b[0;34m(self, prompt, ident, parent, password)\u001b[0m\n\u001b[1;32m   1310\u001b[0m \u001b[38;5;28;01mexcept\u001b[39;00m \u001b[38;5;167;01mKeyboardInterrupt\u001b[39;00m:\n\u001b[1;32m   1311\u001b[0m     \u001b[38;5;66;03m# re-raise KeyboardInterrupt, to truncate traceback\u001b[39;00m\n\u001b[1;32m   1312\u001b[0m     msg \u001b[38;5;241m=\u001b[39m \u001b[38;5;124m\"\u001b[39m\u001b[38;5;124mInterrupted by user\u001b[39m\u001b[38;5;124m\"\u001b[39m\n\u001b[0;32m-> 1313\u001b[0m     \u001b[38;5;28;01mraise\u001b[39;00m \u001b[38;5;167;01mKeyboardInterrupt\u001b[39;00m(msg) \u001b[38;5;28;01mfrom\u001b[39;00m \u001b[38;5;28;01mNone\u001b[39;00m\n\u001b[1;32m   1314\u001b[0m \u001b[38;5;28;01mexcept\u001b[39;00m \u001b[38;5;167;01mException\u001b[39;00m:\n\u001b[1;32m   1315\u001b[0m     \u001b[38;5;28mself\u001b[39m\u001b[38;5;241m.\u001b[39mlog\u001b[38;5;241m.\u001b[39mwarning(\u001b[38;5;124m\"\u001b[39m\u001b[38;5;124mInvalid Message:\u001b[39m\u001b[38;5;124m\"\u001b[39m, exc_info\u001b[38;5;241m=\u001b[39m\u001b[38;5;28;01mTrue\u001b[39;00m)\n",
      "\u001b[0;31mKeyboardInterrupt\u001b[0m: Interrupted by user"
     ]
    }
   ],
   "source": [
    "batchSize = 10\n",
    "\n",
    "for i in range(batchSize):\n",
    "    clear_output()\n",
    "    print(i)\n",
    "    if isOnAltTable:\n",
    "        mark_one_report_sql(name, project, toHighlight)\n",
    "    else:\n",
    "        mark_selfeval_report_sql(name, toHighlight)\n"
   ]
  },
  {
   "cell_type": "code",
   "execution_count": 5,
   "id": "c75e0a1a-851a-487f-83d4-eb0483ea9656",
   "metadata": {
    "tags": []
   },
   "outputs": [
    {
     "name": "stdout",
     "output_type": "stream",
     "text": [
      "It is expected for this function to take several minutes to run. Your patience is appreciated.\n",
      "Project: Pb Cohort\n",
      "Total reports: 13994 (note each report must be graded by 2 graders)\n",
      "Graded 0: 11495\n",
      "Graded 1: 858\n",
      "Graded 2: 7714\n",
      "Queued: 292\n",
      "Skipped: 4\n",
      "insert into lab.grader_table_with_metadata_project_independent (proc_ord_id, grader_name, grade, grade_category, pat_id, age_in_days, proc_ord_year, proc_name, report_origin_table, grade_date) \n",
      "        select\n",
      "          distinct \n",
      "          proc_ord.proc_ord_id, \"Jenna Schabdach\" as grader_name,\n",
      "          999 as grade,\n",
      "          \"Unique\" as grade_category,\n",
      "          proc_ord.pat_id,\n",
      "          proc_ord.proc_ord_age as age_in_days,\n",
      "          proc_ord.proc_ord_year,\n",
      "          proc_ord.proc_ord_desc as proc_name,\n",
      "          \"arcus.procedure_order\" as report_origin_table, \"0000-00-00\" as grade_date \n",
      "        from\n",
      "          arcus.procedure_order proc_ord\n",
      "          join arcus.patient pat on proc_ord.pat_id = pat.pat_id\n",
      "        where\n",
      "          proc_ord.proc_ord_id in  (\"104167992550\", \"23781542739\", \"169757533389\", \"73401911092\", \"272502129555\") \n",
      "        order by \n",
      "          proc_ord.proc_ord_year desc;\n",
      "Number of validation reports added: 5\n",
      "Number of new reports to grade: 0\n",
      "10 reports are in the queue for grader Jenna Schabdach\n"
     ]
    }
   ],
   "source": [
    "## If/when you run out of reports, you can uncomment the following line of code\n",
    "#   and run this cell to get 50 more reports from the database. Make sure your\n",
    "#   values for `project` and `queryFn` match the project you're working on.\n",
    "# Projects: SLIP Adolescents, SLIP, SLIP Elementary, Clinical Imaging Genetics\n",
    "# project = \"SLIP Adolescents\"\n",
    "# get_second_look_reports_to_grade(name, 5)\n",
    "get_more_reports_to_grade(name, project, num_to_add=5)"
   ]
  },
  {
   "cell_type": "code",
   "execution_count": null,
   "id": "1e101133-070c-4fd8-a97d-843f1da27be0",
   "metadata": {},
   "outputs": [],
   "source": []
  }
 ],
 "metadata": {
  "kernelspec": {
   "display_name": ".conda-arcus",
   "language": "python",
   "name": "conda-env-.conda-arcus-py"
  },
  "language_info": {
   "codemirror_mode": {
    "name": "ipython",
    "version": 3
   },
   "file_extension": ".py",
   "mimetype": "text/x-python",
   "name": "python",
   "nbconvert_exporter": "python",
   "pygments_lexer": "ipython3",
   "version": "3.10.13"
  }
 },
 "nbformat": 4,
 "nbformat_minor": 5
}
