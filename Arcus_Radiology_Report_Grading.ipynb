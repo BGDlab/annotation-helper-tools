{
 "cells": [
  {
   "cell_type": "code",
   "execution_count": 1,
   "id": "8fda44b3-a170-45c1-b0f8-8f04f3ad90e4",
   "metadata": {},
   "outputs": [],
   "source": [
    "from google.cloud import bigquery\n",
    "import pandas as pd\n",
    "from annotationHelperLib import *\n",
    "from reportMarkingFunctions import *\n",
    "from IPython.display import clear_output\n",
    "import json"
   ]
  },
  {
   "cell_type": "code",
   "execution_count": 6,
   "id": "ec8e20d5-6609-4869-bf9e-8a5ee4eefefb",
   "metadata": {},
   "outputs": [
    {
     "name": "stdout",
     "output_type": "stream",
     "text": [
      "Bob Belcher has graded 151 of 151 reliability reports\n",
      "Bob Belcher has graded 0 unique reports of 200 assigned where\n",
      "0 have been given a grade of 0\n",
      "0 have been given a grade of 1\n",
      "0 have been given a grade of 2\n"
     ]
    }
   ],
   "source": [
    "# Replace with the name you want used in publications of this data set\n",
    "# name = \"Jenna Schabdach\"\n",
    "name = \"Bob Belcher\"\n",
    "\n",
    "getGraderStatusReport(name)\n",
    "\n",
    "# Replace with the path to your .json file containing a dictionary of all the phrases you'd like to be highlighted\n",
    "phrasesToHighlightFn = \"phrases_to_highlight.json\""
   ]
  },
  {
   "cell_type": "code",
   "execution_count": null,
   "id": "2c4f32ce-c048-4148-a979-6b6ff2d436d2",
   "metadata": {
    "tags": []
   },
   "outputs": [],
   "source": [
    "# Load the dictionary of phrases to highlight in certain colors \n",
    "with open(phrasesToHighlightFn, 'r', encoding='utf-8') as f:\n",
    "    toHighlight = json.load(f)"
   ]
  },
  {
   "cell_type": "code",
   "execution_count": null,
   "id": "1144b773-b715-4383-b4bf-8b782145e7df",
   "metadata": {},
   "outputs": [],
   "source": [
    "isOnMainTable = welcomeUser(name)"
   ]
  },
  {
   "cell_type": "code",
   "execution_count": null,
   "id": "8a3d045b-4d07-41fd-8295-5e8eca2ce480",
   "metadata": {
    "tags": []
   },
   "outputs": [],
   "source": [
    "batchSize = 10\n",
    "\n",
    "for i in range(batchSize):\n",
    "    clear_output()\n",
    "    print(i)\n",
    "    if isOnMainTable:\n",
    "        markOneReportSQL(name, project, toHighlight)\n",
    "    else:\n",
    "        markSelfEvalReportSQL(name, toHighlight)\n"
   ]
  },
  {
   "cell_type": "code",
   "execution_count": 5,
   "id": "5d958688-96af-4fcb-9289-41b0694657ad",
   "metadata": {
    "tags": []
   },
   "outputs": [
    {
     "name": "stdout",
     "output_type": "stream",
     "text": [
      "50\n",
      "insert into lab.grader_table_with_metadata (proc_ord_id, grader_name, grade, grade_category, pat_id, age_in_days, proc_ord_year, proc_name, report_origin_table, project) VALUES ('418918392287', 'Bob Belcher', 999, 'Unique', 'HM1D0DWPF', 5646, 2023, 'MR BRAIN W & W/O IV CONTRAST', 'arcus.procedure_order', 'SLIP Adolescents'), ('418978243028', 'Bob Belcher', 999, 'Unique', 'HM2ZCCHLY', 5637, 2023, 'MR BRAIN W/O IV CONTRAST', 'arcus.procedure_order', 'SLIP Adolescents'), ('418923253168', 'Bob Belcher', 999, 'Unique', 'HM1PXQUEV', 5957, 2023, 'MR BRAIN W/O IV CONTRAST', 'arcus.procedure_order', 'SLIP Adolescents'), ('418840409602', 'Bob Belcher', 999, 'Unique', 'HM3W8DB52', 5303, 2023, 'MR BRAIN W & W/O IV CONTRAST', 'arcus.procedure_order', 'SLIP Adolescents'), ('418913219251', 'Bob Belcher', 999, 'Unique', 'HM4WEXVA', 5120, 2023, 'MR BRAIN W & W/O IV CONTRAST', 'arcus.procedure_order', 'SLIP Adolescents'), ('418760991627', 'Bob Belcher', 999, 'Unique', 'HM45EJYBY', 5347, 2023, 'MR BRAIN SCREEN TUMOR/STROKE/ICP W/O IV', 'arcus.procedure_order', 'SLIP Adolescents'), ('418723159360', 'Bob Belcher', 999, 'Unique', 'HM1D7O9IU', 6233, 2023, 'MR BRAIN W & W/O IV CONTRAST', 'arcus.procedure_order', 'SLIP Adolescents'), ('418644301344', 'Bob Belcher', 999, 'Unique', 'HMLK9MSO', 5997, 2023, 'MR BRAIN W & W/O IV CONTRAST', 'arcus.procedure_order', 'SLIP Adolescents'), ('418590705646', 'Bob Belcher', 999, 'Unique', 'HM18U1WHZ', 4582, 2023, 'MR BRAIN W & W/O IV CONTRAST', 'arcus.procedure_order', 'SLIP Adolescents'), ('418619042899', 'Bob Belcher', 999, 'Unique', 'HM2XL98GM', 6683, 2023, 'MR BRAIN W/O IV CONTRAST', 'arcus.procedure_order', 'SLIP Adolescents'), ('418721442855', 'Bob Belcher', 999, 'Unique', 'HM44L0UDI', 5329, 2023, 'MR BRAIN W & W/O IV CONTRAST', 'arcus.procedure_order', 'SLIP Adolescents'), ('418774798744', 'Bob Belcher', 999, 'Unique', 'HM10BY0R0', 4966, 2023, 'MR BRAIN W/O IV CONTRAST', 'arcus.procedure_order', 'SLIP Adolescents'), ('418778103011', 'Bob Belcher', 999, 'Unique', 'HM7K3D84', 6861, 2023, 'MR BRAIN W/O IV CONTRAST', 'arcus.procedure_order', 'SLIP Adolescents'), ('418762086871', 'Bob Belcher', 999, 'Unique', 'HM2BZZVWQ', 4521, 2023, 'MR BRAIN W/O IV CONTRAST', 'arcus.procedure_order', 'SLIP Adolescents'), ('418672222707', 'Bob Belcher', 999, 'Unique', 'HM40KOGV', 5301, 2023, 'MR BRAIN W & W/O IV CONTRAST', 'arcus.procedure_order', 'SLIP Adolescents'), ('418593877448', 'Bob Belcher', 999, 'Unique', 'HM3MFPORW', 5055, 2023, 'MR BRAIN W/O IV CONTRAST', 'arcus.procedure_order', 'SLIP Adolescents'), ('418748295240', 'Bob Belcher', 999, 'Unique', 'HM2G4Y7LZ', 7137, 2023, 'MR BRAIN W/O IV CONTRAST', 'arcus.procedure_order', 'SLIP Adolescents'), ('418239898701', 'Bob Belcher', 999, 'Unique', 'HM1SV25HZ', 4969, 2023, 'MR BRAIN SCREEN TUMOR/STROKE/ICP W/O IV', 'arcus.procedure_order', 'SLIP Adolescents'), ('418579055645', 'Bob Belcher', 999, 'Unique', 'HMYG7PIP', 6301, 2023, 'MR BRAIN W/O IV CONTRAST', 'arcus.procedure_order', 'SLIP Adolescents'), ('418370894477', 'Bob Belcher', 999, 'Unique', 'HM45MQQ53', 6489, 2023, 'MR BRAIN W/O IV CONTRAST', 'arcus.procedure_order', 'SLIP Adolescents'), ('418388876350', 'Bob Belcher', 999, 'Unique', 'HM45AIGT2', 5360, 2023, 'MR BRAIN W/O IV CONTRAST', 'arcus.procedure_order', 'SLIP Adolescents'), ('418413904558', 'Bob Belcher', 999, 'Unique', 'HM442HME3', 4808, 2023, 'MR BRAIN W/O IV CONTRAST', 'arcus.procedure_order', 'SLIP Adolescents'), ('418400449547', 'Bob Belcher', 999, 'Unique', 'HM1JFRYBE', 7176, 2023, 'MR BRAIN W & W/O IV CONTRAST', 'arcus.procedure_order', 'SLIP Adolescents'), ('418362287566', 'Bob Belcher', 999, 'Unique', 'HM45AIGT2', 5360, 2023, 'MR BRAIN W & W/O IV CONTRAST', 'arcus.procedure_order', 'SLIP Adolescents'), ('418351158461', 'Bob Belcher', 999, 'Unique', 'HM1ISTMH9', 4932, 2023, 'MR BRAIN W/O IV CONTRAST', 'arcus.procedure_order', 'SLIP Adolescents'), ('418292967356', 'Bob Belcher', 999, 'Unique', 'HML3U3M4', 4412, 2023, 'MR BRAIN W & W/O IV CONTRAST', 'arcus.procedure_order', 'SLIP Adolescents'), ('418324105394', 'Bob Belcher', 999, 'Unique', 'HM41RLCJW', 5239, 2023, 'MR BRAIN W & W/O IV CONTRAST', 'arcus.procedure_order', 'SLIP Adolescents'), ('418354167419', 'Bob Belcher', 999, 'Unique', 'HM437DHTA', 6092, 2023, 'MR BRAIN W & W/O IV CONTRAST', 'arcus.procedure_order', 'SLIP Adolescents'), ('418260123529', 'Bob Belcher', 999, 'Unique', 'HM1WB94UW', 5568, 2023, 'MR BRAIN SCREEN TUMOR/STROKE/ICP W/O IV', 'arcus.procedure_order', 'SLIP Adolescents'), ('418342710921', 'Bob Belcher', 999, 'Unique', 'HM174JL6R', 6160, 2023, 'MR BRAIN SCREEN TUMOR/STROKE/ICP W/O IV', 'arcus.procedure_order', 'SLIP Adolescents'), ('418269327116', 'Bob Belcher', 999, 'Unique', 'HM45FHS5W', 6109, 2023, 'MR BRAIN W & W/O IV CONTRAST', 'arcus.procedure_order', 'SLIP Adolescents'), ('418329085759', 'Bob Belcher', 999, 'Unique', 'HM2IVCPF1', 5705, 2023, 'MR BRAIN W/O IV CONTRAST', 'arcus.procedure_order', 'SLIP Adolescents'), ('418252084964', 'Bob Belcher', 999, 'Unique', 'HM2VK28RE', 5582, 2023, 'MR BRAIN W/O IV CONTRAST', 'arcus.procedure_order', 'SLIP Adolescents'), ('418283942187', 'Bob Belcher', 999, 'Unique', 'HM1KA2PQE', 5502, 2023, 'MR BRAIN W & W/O IV CONTRAST', 'arcus.procedure_order', 'SLIP Adolescents'), ('418312792069', 'Bob Belcher', 999, 'Unique', 'HM39NWTNN', 4698, 2023, 'MR BRAIN W/O IV CONTRAST', 'arcus.procedure_order', 'SLIP Adolescents'), ('418239251286', 'Bob Belcher', 999, 'Unique', 'HM28LBLCE', 6173, 2023, 'MR BRAIN W & W/O IV CONTRAST', 'arcus.procedure_order', 'SLIP Adolescents'), ('418235120042', 'Bob Belcher', 999, 'Unique', 'HM3VB3DKE', 4897, 2023, 'MR BRAIN W & W/O IV CONTRAST', 'arcus.procedure_order', 'SLIP Adolescents'), ('418233807662', 'Bob Belcher', 999, 'Unique', 'HMNR4R7P', 6830, 2023, 'MR BRAIN W & W/O IV CONTRAST', 'arcus.procedure_order', 'SLIP Adolescents'), ('418263701857', 'Bob Belcher', 999, 'Unique', 'HMEZ0DGU', 5175, 2023, 'MR BRAIN W & W/O IV CONTRAST', 'arcus.procedure_order', 'SLIP Adolescents'), ('418135509195', 'Bob Belcher', 999, 'Unique', 'HM1X56KWN', 6945, 2023, 'MR BRAIN W & W/O IV CONTRAST', 'arcus.procedure_order', 'SLIP Adolescents'), ('418141191195', 'Bob Belcher', 999, 'Unique', 'HM2HERHWN', 6184, 2023, 'MR BRAIN SCREEN TUMOR/STROKE/ICP W/O IV', 'arcus.procedure_order', 'SLIP Adolescents'), ('418210123790', 'Bob Belcher', 999, 'Unique', 'HM2SIOV6G', 6438, 2023, 'MR BRAIN W/O IV CONTRAST', 'arcus.procedure_order', 'SLIP Adolescents'), ('418092006284', 'Bob Belcher', 999, 'Unique', 'HM45JFQ3B', 5063, 2023, 'MR BRAIN W/O IV CONTRAST', 'arcus.procedure_order', 'SLIP Adolescents'), ('418218417569', 'Bob Belcher', 999, 'Unique', 'HM1CLI1QD', 6565, 2023, 'MR BRAIN SCREEN TUMOR/STROKE/ICP W/O IV', 'arcus.procedure_order', 'SLIP Adolescents'), ('418090252077', 'Bob Belcher', 999, 'Unique', 'HM3ZHY7VA', 4779, 2023, 'MR BRAIN SCREEN TUMOR/STROKE/ICP W/O IV', 'arcus.procedure_order', 'SLIP Adolescents'), ('418227924788', 'Bob Belcher', 999, 'Unique', 'HM1IX87B2', 5835, 2023, 'MR BRAIN SCREEN TUMOR/STROKE/ICP W/O IV', 'arcus.procedure_order', 'SLIP Adolescents'), ('418187883322', 'Bob Belcher', 999, 'Unique', 'HM27NY6PE', 4797, 2023, 'MR BRAIN W/O IV CONTRAST', 'arcus.procedure_order', 'SLIP Adolescents'), ('418200007106', 'Bob Belcher', 999, 'Unique', 'HMBA7MSY', 6155, 2023, 'MR BRAIN SCREEN TUMOR/STROKE/ICP W/O IV', 'arcus.procedure_order', 'SLIP Adolescents'), ('418170280733', 'Bob Belcher', 999, 'Unique', 'HM13S53PJ', 4625, 2023, 'MR BRAIN W/O IV CONTRAST', 'arcus.procedure_order', 'SLIP Adolescents'), ('418124065806', 'Bob Belcher', 999, 'Unique', 'HM20NIFLN', 5637, 2023, 'MR BRAIN & PITUITARY W & W/O IV CONTRAST', 'arcus.procedure_order', 'SLIP Adolescents');\n",
      "200 reports were added for grader Bob Belcher\n"
     ]
    }
   ],
   "source": [
    "# If/when you run out of reports, you can uncomment the following line of code\n",
    "#   and run this cell to get 50 more reports from the database. Make sure your\n",
    "#   values for `project` and `queryFn` match the project you're working on.\n",
    "# Projects: SLIP, SLIP PreK, and SLIP Adolescents\n",
    "# Queries: ./queries/slip_base.txt, ./queries/start2018_ages2-5years.txt, and ./queries/start2023_ages12-20years.txt\n",
    "project = \"SLIP\"\n",
    "queryFn = \"./queries/slip_base.txt\"\n",
    "getMoreReportsToGrade(name, project, queryFn)"
   ]
  },
  {
   "cell_type": "code",
   "execution_count": null,
   "id": "2bed0bcf-02e4-4358-828d-1dec788bb6fa",
   "metadata": {},
   "outputs": [],
   "source": []
  }
 ],
 "metadata": {
  "kernelspec": {
   "display_name": "python3-read-only",
   "language": "python",
   "name": "conda-env-python3-read-only-py"
  },
  "language_info": {
   "codemirror_mode": {
    "name": "ipython",
    "version": 3
   },
   "file_extension": ".py",
   "mimetype": "text/x-python",
   "name": "python",
   "nbconvert_exporter": "python",
   "pygments_lexer": "ipython3",
   "version": "3.9.16"
  }
 },
 "nbformat": 4,
 "nbformat_minor": 5
}
