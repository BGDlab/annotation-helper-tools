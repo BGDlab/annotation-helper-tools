{
 "cells": [
  {
   "cell_type": "code",
   "execution_count": 1,
   "id": "8fda44b3-a170-45c1-b0f8-8f04f3ad90e4",
   "metadata": {},
   "outputs": [],
   "source": [
    "from google.cloud import bigquery\n",
    "import pandas as pd\n",
    "from annotationHelperLib import *\n",
    "from reportMarkingFunctions import *\n",
    "from IPython.display import clear_output\n",
    "import json"
   ]
  },
  {
   "cell_type": "code",
   "execution_count": 2,
   "id": "ec8e20d5-6609-4869-bf9e-8a5ee4eefefb",
   "metadata": {},
   "outputs": [
    {
     "name": "stdout",
     "output_type": "stream",
     "text": [
      "select * from lab.test_grader_table_with_metadata where grader_name = 'Jenna Schabdach';\n",
      "151\n",
      "151\n",
      "Jenna Schabdach has graded 151 of 151 reliability reports\n",
      "Jenna Schabdach has graded 38142 unique reports of 38144 assigned where\n",
      "34245 have been given a grade of 0\n",
      "1785 have been given a grade of 1\n",
      "2104 have been given a grade of 2\n"
     ]
    }
   ],
   "source": [
    "# Replace with the name you want used in publications of this data set\n",
    "name = \"Jenna Schabdach\"\n",
    "\n",
    "# Projects: SLIP, SLIP Elementary, SLIP Adolescents, Clinical Imaging Genetics\n",
    "project = \"SLIP Elementary\" # Clinical Fetal\"\n",
    "\n",
    "# Replace with the path to your .json file containing a dictionary of all the phrases you'd like to be highlighted\n",
    "phrasesToHighlightFn = \"phrases_to_highlight.json\"\n",
    "\n",
    "# Load the dictionary of phrases to highlight in certain colors \n",
    "with open(phrasesToHighlightFn, 'r', encoding='utf-8') as f:\n",
    "    toHighlight = json.load(f)\n",
    "    \n",
    "get_grader_status_report(name)\n"
   ]
  },
  {
   "cell_type": "code",
   "execution_count": 3,
   "id": "632e2b86-dfa2-41ff-8348-c6c191ad9529",
   "metadata": {},
   "outputs": [
    {
     "name": "stdout",
     "output_type": "stream",
     "text": [
      "Welcome, Jenna Schabdach\n",
      "151\n",
      "151\n",
      "Jenna Schabdach has graded 151 of 151 reliability reports\n",
      "You currently have 2 ungraded reports to work on.\n"
     ]
    }
   ],
   "source": [
    "isOnMainTable = welcome_user(name)"
   ]
  },
  {
   "cell_type": "code",
   "execution_count": null,
   "id": "9f384d8e-bb3c-4d79-8878-f953104bc7d0",
   "metadata": {
    "tags": []
   },
   "outputs": [
    {
     "name": "stdout",
     "output_type": "stream",
     "text": [
      "0\n",
      "SELECT * FROM lab.test_grader_table_with_metadata reports join lab.proc_ord_projects projects on (reports.proc_ord_id = projects.proc_ord_id and reports.pat_id = projects.pat_id)  WHERE grader_name = \"Jenna Schabdach\" and grade = 999 and grade_category = \"Unique\" LIMIT 1\n",
      "Year of scan: 2024\n",
      "Age at scan: 13.06 years\n",
      "WARNING: report 476623230779 does not appear to belong to the cohort for SLIP Elementary\n",
      "It does belong to the following cohorts: Clinical Imaging Genetics\n",
      "\n",
      "Examination: \u001b[5;30;43mMRI\u001b[0m of the brain with and without contrast INDICATION: Dystonia, developmental delay, abnormality of gait and mobility, abnormal \u001b[5;30;43mMRI\u001b[0m of the brain \n",
      "\n",
      "COMPARISON: Brain \u001b[5;30;43mMRI\u001b[0m December 20, 2021 \n",
      "\n",
      "\u001b[5;30;43mTECHNIQUE\u001b[0m: MR imaging of the brain on a 3 Tesla \u001b[5;30;43mMRI\u001b[0m system before and after intravenous contrast administration. Imaging sequences included diffusion-weighted imaging, 3-D T1 MPRAGE pre and postcontrast, axial T1 spin-echo with fat saturation pre and postcontrast, susceptibility weighted imaging, axial and coronal T2, axial and coronal T2 FLAIR with fat saturation, 3D FGATIR sequence, 3D T2 SPACE, ASL perfusion \n",
      "\n",
      "\u001b[5;30;43mFINDINGS\u001b[0m: Minimal patchy paranasal sinus mucosal thickening is present. Mastoids and middle ears appear aerated. Fluid is noted in the right petrous apex without gross evidence of bone destruction. No orbital lesion is visible. \u001b[5;30;47mNO GROSS ABNORMALITY OF INTRACRANIAL VASCULAR FLOW VOIDS\u001b[0m. \u001b[5;30;47mVENTRICULAR SIZE AND CONFIGURATION ARE NORMAL.\u001b[0m B\u001b[5;30;47mASILAR CISTERNS ARE PATENT\u001b[0m. \u001b[5;30;47mNO EXTRA-AXIAL FLUID COLLECTION OR MASS EFFECT ON THE BRAIN\u001b[0m. \u001b[5;30;47mMIDLINE BRAIN STRUCTURES HAVE NORMAL MORPHOLOGY\u001b[0m, and the gyral/sulcal pattern appears \u001b[5;30;42mWITHIN NORMAL LIMIT\u001b[0ms of anatomic \u001b[5;30;42mVARIATION\u001b[0m. \u001b[5;30;47mTHE MYELINATION PATTERN IS NORMAL.\u001b[0m \u001b[5;30;47mNO BRAIN VOLUME LOSS.\u001b[0m In the anteromedial aspect of the right temporal lobe just anteroinferior to the amygdala there is a subcentimeter focus of T2 \u001b[5;30;41mHYPERINTENS\u001b[0me \u001b[5;30;41mSIGNAL ABNORMALITY\u001b[0m with a surrounding rim of marked T2 hypointense signal and susceptibility effect concerning for prior. This does not appear significantly changed. N\u001b[5;30;47mO ABNORMAL CONTRAST ENHANCEMENT\u001b[0m in the brain. . . \n",
      "\n",
      "\u001b[5;30;43mIMPRESSION\u001b[0m: Stable subcentimeter right anteromedial temporal lobe lesion concerning for prior \u001b[5;30;41mHEMORRHAGE\u001b[0m. This does not have an appearance allowing definitive characterization as a cavernous malformation, although this may be because it is too small to characterize. Etiology is uncertain. Surgical navigation imaging was obtained as requested, including preoperative imaging for possible deep brain stimulator placement, if needed in the future. . . Act 112^False\n",
      "\n",
      "Report id: 476623230779\n",
      "\n"
     ]
    }
   ],
   "source": [
    "batchSize = 10\n",
    "\n",
    "for i in range(batchSize):\n",
    "    clear_output()\n",
    "    print(i)\n",
    "    if isOnMainTable:\n",
    "        mark_one_report_sql(name, project, toHighlight)\n",
    "    else:\n",
    "        mark_selfeval_report_sql(name, toHighlight)\n"
   ]
  },
  {
   "cell_type": "code",
   "execution_count": 5,
   "id": "c75e0a1a-851a-487f-83d4-eb0483ea9656",
   "metadata": {
    "tags": []
   },
   "outputs": [
    {
     "name": "stdout",
     "output_type": "stream",
     "text": [
      "It is expected for this function to take several minutes to run. Your patience is appreciated.\n",
      "Project: SLIP Elementary\n",
      "Total reports: 15009 (note each report must be graded by 2 graders)\n",
      "Graded 0: 805\n",
      "Graded 1: 2102\n",
      "Graded 2: 911\n",
      "Queued: 289\n",
      "Skipped: 13\n",
      "insert into lab.test_grader_table_with_metadata (proc_ord_id, grader_name, grade, grade_category, pat_id, age_in_days, proc_ord_year, proc_name, report_origin_table, grade_date) \n",
      "        select\n",
      "          distinct \n",
      "          proc_ord.proc_ord_id, \"Jenna Schabdach\" as grader_name,\n",
      "          999 as grade,\n",
      "          \"Unique\" as grade_category,\n",
      "          proc_ord.pat_id,\n",
      "          proc_ord.proc_ord_age as age_in_days,\n",
      "          proc_ord.proc_ord_year,\n",
      "          proc_ord.proc_ord_desc as proc_name,\n",
      "          \"arcus.procedure_order\" as report_origin_table, \"0000-00-00\" as grade_date \n",
      "        from\n",
      "          arcus.procedure_order proc_ord\n",
      "          join arcus.patient pat on proc_ord.pat_id = pat.pat_id\n",
      "        where\n",
      "          proc_ord.proc_ord_id in  (\"402457367661\", \"428245088451\", \"373517088034\", \"419478223927\", \"410460579306\") \n",
      "        order by \n",
      "          proc_ord.proc_ord_year desc;\n",
      "Number of validation reports added: 5\n",
      "Number of new reports to grade: 0\n",
      "8 reports are in the queue for grader Jenna Schabdach\n"
     ]
    }
   ],
   "source": [
    "## If/when you run out of reports, you can uncomment the following line of code\n",
    "#   and run this cell to get 50 more reports from the database. Make sure your\n",
    "#   values for `project` and `queryFn` match the project you're working on.\n",
    "# Projects: SLIP Adolescents, SLIP, SLIP Elementary, Clinical Imaging Genetics\n",
    "# project = \"SLIP Adolescents\"\n",
    "# get_second_look_reports_to_grade(name, 5)\n",
    "get_more_reports_to_grade(name, project, num_to_add=5)"
   ]
  },
  {
   "cell_type": "code",
   "execution_count": null,
   "id": "1e101133-070c-4fd8-a97d-843f1da27be0",
   "metadata": {},
   "outputs": [],
   "source": []
  }
 ],
 "metadata": {
  "kernelspec": {
   "display_name": ".conda-arcus",
   "language": "python",
   "name": "conda-env-.conda-arcus-py"
  },
  "language_info": {
   "codemirror_mode": {
    "name": "ipython",
    "version": 3
   },
   "file_extension": ".py",
   "mimetype": "text/x-python",
   "name": "python",
   "nbconvert_exporter": "python",
   "pygments_lexer": "ipython3",
   "version": "3.10.13"
  }
 },
 "nbformat": 4,
 "nbformat_minor": 5
}
