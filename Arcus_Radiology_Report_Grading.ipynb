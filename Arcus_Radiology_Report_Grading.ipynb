{
 "cells": [
  {
   "cell_type": "code",
   "execution_count": null,
   "id": "8fda44b3-a170-45c1-b0f8-8f04f3ad90e4",
   "metadata": {},
   "outputs": [],
   "source": [
    "from google.cloud import bigquery\n",
    "import pandas as pd\n",
    "from annotationHelperLib import *\n",
    "from reportMarkingFunctions import *\n",
    "from IPython.display import clear_output\n",
    "import json"
   ]
  },
  {
   "cell_type": "code",
   "execution_count": null,
   "id": "ec8e20d5-6609-4869-bf9e-8a5ee4eefefb",
   "metadata": {},
   "outputs": [],
   "source": [
    "# Replace with the name you want used in publications of this data set\n",
    "name = \"Jenna Schabdach\"\n",
    "\n",
    "# Projects: SLIP, SLIP Elementary, SLIP Adolescents, Clinical Imaging Genetics\n",
    "project = \"SLIP Elementary\" # Clinical Fetal\"\n",
    "\n",
    "# Replace with the path to your .json file containing a dictionary of all the phrases you'd like to be highlighted\n",
    "phrasesToHighlightFn = \"phrases_to_highlight.json\"\n",
    "\n",
    "# Load the dictionary of phrases to highlight in certain colors \n",
    "with open(phrasesToHighlightFn, 'r', encoding='utf-8') as f:\n",
    "    toHighlight = json.load(f)\n",
    "    \n",
    "get_grader_status_report(name)\n"
   ]
  },
  {
   "cell_type": "code",
   "execution_count": null,
   "id": "632e2b86-dfa2-41ff-8348-c6c191ad9529",
   "metadata": {},
   "outputs": [],
   "source": [
    "isOnMainTable = welcome_user(name)"
   ]
  },
  {
   "cell_type": "code",
   "execution_count": null,
   "id": "9f384d8e-bb3c-4d79-8878-f953104bc7d0",
   "metadata": {
    "tags": []
   },
   "outputs": [],
   "source": [
    "batchSize = 10\n",
    "\n",
    "for i in range(batchSize):\n",
    "    clear_output()\n",
    "    print(i)\n",
    "    if isOnMainTable:\n",
    "        mark_one_report_sql(name, project, toHighlight)\n",
    "    else:\n",
    "        mark_selfeval_report_sql(name, toHighlight)\n"
   ]
  },
  {
   "cell_type": "code",
   "execution_count": null,
   "id": "c75e0a1a-851a-487f-83d4-eb0483ea9656",
   "metadata": {
    "tags": []
   },
   "outputs": [],
   "source": [
    "## If/when you run out of reports, you can uncomment the following line of code\n",
    "#   and run this cell to get 50 more reports from the database. Make sure your\n",
    "#   values for `project` and `queryFn` match the project you're working on.\n",
    "# Projects: SLIP Adolescents, SLIP, SLIP Elementary, Clinical Imaging Genetics\n",
    "# project = \"SLIP Adolescents\"\n",
    "# get_second_look_reports_to_grade(name, 5)\n",
    "get_more_reports_to_grade(name, project, num_to_add=5)"
   ]
  },
  {
   "cell_type": "code",
   "execution_count": null,
   "id": "1e101133-070c-4fd8-a97d-843f1da27be0",
   "metadata": {},
   "outputs": [],
   "source": []
  }
 ],
 "metadata": {
  "kernelspec": {
   "display_name": ".conda-arcus",
   "language": "python",
   "name": "conda-env-.conda-arcus-py"
  },
  "language_info": {
   "codemirror_mode": {
    "name": "ipython",
    "version": 3
   },
   "file_extension": ".py",
   "mimetype": "text/x-python",
   "name": "python",
   "nbconvert_exporter": "python",
   "pygments_lexer": "ipython3",
   "version": "3.10.13"
  }
 },
 "nbformat": 4,
 "nbformat_minor": 5
}
