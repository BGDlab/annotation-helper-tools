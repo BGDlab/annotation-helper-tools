{
 "cells": [
  {
   "cell_type": "code",
   "execution_count": 1,
   "id": "8fda44b3-a170-45c1-b0f8-8f04f3ad90e4",
   "metadata": {},
   "outputs": [],
   "source": [
    "from google.cloud import bigquery\n",
    "import pandas as pd\n",
    "from annotationHelperLib import *\n",
    "from reportMarkingFunctions import *\n",
    "from IPython.display import clear_output\n",
    "import json"
   ]
  },
  {
   "cell_type": "code",
   "execution_count": 2,
   "id": "ec8e20d5-6609-4869-bf9e-8a5ee4eefefb",
   "metadata": {},
   "outputs": [
    {
     "name": "stdout",
     "output_type": "stream",
     "text": [
      "select * from lab.test_grader_table_with_metadata where grader_name = 'Jenna Schabdach';\n",
      "151\n",
      "151\n",
      "Jenna Schabdach has graded 151 of 151 reliability reports\n",
      "Jenna Schabdach has graded 37975 unique reports of 37978 assigned where\n",
      "34163 have been given a grade of 0\n",
      "1743 have been given a grade of 1\n",
      "2062 have been given a grade of 2\n"
     ]
    }
   ],
   "source": [
    "# Replace with the name you want used in publications of this data set\n",
    "name = \"Jenna Schabdach\"\n",
    "\n",
    "# Projects: SLIP, SLIP Elementary, SLIP Adolescents, Clinical Imaging Genetics\n",
    "project = \"SLIP Elementary\" # Clinical Fetal\"\n",
    "\n",
    "# Replace with the path to your .json file containing a dictionary of all the phrases you'd like to be highlighted\n",
    "phrasesToHighlightFn = \"phrases_to_highlight.json\"\n",
    "\n",
    "# Load the dictionary of phrases to highlight in certain colors \n",
    "with open(phrasesToHighlightFn, 'r', encoding='utf-8') as f:\n",
    "    toHighlight = json.load(f)\n",
    "    \n",
    "get_grader_status_report(name)\n"
   ]
  },
  {
   "cell_type": "code",
   "execution_count": 3,
   "id": "632e2b86-dfa2-41ff-8348-c6c191ad9529",
   "metadata": {},
   "outputs": [
    {
     "name": "stdout",
     "output_type": "stream",
     "text": [
      "Welcome, Jenna Schabdach\n",
      "151\n",
      "151\n",
      "Jenna Schabdach has graded 151 of 151 reliability reports\n",
      "You currently have 3 ungraded reports to work on.\n"
     ]
    }
   ],
   "source": [
    "isOnMainTable = welcome_user(name)"
   ]
  },
  {
   "cell_type": "code",
   "execution_count": null,
   "id": "9f384d8e-bb3c-4d79-8878-f953104bc7d0",
   "metadata": {
    "tags": []
   },
   "outputs": [
    {
     "name": "stdout",
     "output_type": "stream",
     "text": [
      "2\n",
      "SELECT * FROM lab.test_grader_table_with_metadata reports join lab.proc_ord_projects projects on (reports.proc_ord_id = projects.proc_ord_id and reports.pat_id = projects.pat_id)  WHERE grader_name = \"Jenna Schabdach\" and grade = 999 and grade_category = \"Unique\" LIMIT 1\n",
      "Year of scan: 2022\n",
      "Age at scan: 3.43 years\n",
      "BRAIN \u001b[5;30;43mMRI\u001b[0m, WITHOUT AND WITH CONTRAST: \n",
      "\n",
      "\u001b[5;30;43mCLINICAL INDICATION\u001b[0m: Altered mental status and hypoglycemia and hallucinations \n",
      "\n",
      "\u001b[5;30;43mTECHNIQUE\u001b[0m: Sagittal 3D T1 gradient echo with axial reformations, axial and coronal TSE T2, axial FLAIR, axial spin echo T1, arterial spin labeled perfusion imaging, axial susceptibility weighted imaging, post-contrast sagittal 3D T1 gradient echo with axial and coronal reformations, post-contrast axial spin echo T1 with fat suppression, post contrast axial flair with fat saturation, axial diffusion imaging were performed on a 3.0 Tesla system. \n",
      "\n",
      "COMPARISON: CT brain February 1, 2022 \n",
      "\n",
      "\u001b[5;30;43mFINDINGS\u001b[0m: \u001b[5;30;47mTHE VENTRICULAR SYSTEM IS NORMAL IN SIZE, SHAPE, AND CONFIGURATION\u001b[0m. \u001b[5;30;47mTHERE ARE NO INTRACRANIAL MASS LESIONS\u001b[0m and there is \u001b[5;30;47mNO MASS EFFECT OR MIDLINE SHIFT\u001b[0m. \u001b[5;30;47mNO ABNORMAL FLUID COLLECTIONS ARE IDENTIFIED\u001b[0m. \u001b[5;30;47mTHERE ARE NO AREAS OF ABNORMAL PARENCHYMAL SIGNAL INTENSITY ON THESE SEQUENCES\u001b[0m. \u001b[5;30;47mTHERE ARE NO AREAS OF ABNORMAL ENHANCEMENT FOLLOWING CONTRAST ADMINISTRATION\u001b[0m. \u001b[5;30;47mTHE VISUALIZED MAJOR INTRACRANIAL VESSELS APPEAR PATENT\u001b[0m. \u001b[5;30;47mNO DEFINITE ABNORMALITY IS SEEN IN THE VISUALIZED PORTIONS OF THE ORBITS\u001b[0m. T\u001b[5;30;47mHE MIDDLE EAR CAVITIES AND MASTOID AIR CELLS ARE CLEAR\u001b[0m. \u001b[5;30;47mTHE PARANASAL SINUSES ARE CLEAR\u001b[0m. \n",
      "\n",
      "\u001b[5;30;43mIMPRESSION\u001b[0m: U\u001b[5;30;42mNREMARKABLE BRAIN\u001b[0m \u001b[5;30;43mMRI\u001b[0m prior to and following intravenous contrast. I have personally reviewed the images and agree with the interpretation.\n",
      "\n",
      "Report id: 363446851066\n",
      "\n"
     ]
    }
   ],
   "source": [
    "batchSize = 10\n",
    "\n",
    "for i in range(batchSize):\n",
    "    clear_output()\n",
    "    print(i)\n",
    "    if isOnMainTable:\n",
    "        mark_one_report_sql(name, project, toHighlight)\n",
    "    else:\n",
    "        mark_selfeval_report_sql(name, toHighlight)\n"
   ]
  },
  {
   "cell_type": "code",
   "execution_count": 5,
   "id": "c75e0a1a-851a-487f-83d4-eb0483ea9656",
   "metadata": {
    "tags": []
   },
   "outputs": [
    {
     "name": "stdout",
     "output_type": "stream",
     "text": [
      "It is expected for this function to take several minutes to run. Your patience is appreciated.\n",
      "Project: SLIP Elementary\n",
      "Total reports: 15009 (note each report must be graded by 2 graders)\n",
      "Graded 0: 805\n",
      "Graded 1: 2102\n",
      "Graded 2: 911\n",
      "Queued: 289\n",
      "Skipped: 13\n",
      "insert into lab.test_grader_table_with_metadata (proc_ord_id, grader_name, grade, grade_category, pat_id, age_in_days, proc_ord_year, proc_name, report_origin_table, grade_date) \n",
      "        select\n",
      "          distinct \n",
      "          proc_ord.proc_ord_id, \"Jenna Schabdach\" as grader_name,\n",
      "          999 as grade,\n",
      "          \"Unique\" as grade_category,\n",
      "          proc_ord.pat_id,\n",
      "          proc_ord.proc_ord_age as age_in_days,\n",
      "          proc_ord.proc_ord_year,\n",
      "          proc_ord.proc_ord_desc as proc_name,\n",
      "          \"arcus.procedure_order\" as report_origin_table, \"0000-00-00\" as grade_date \n",
      "        from\n",
      "          arcus.procedure_order proc_ord\n",
      "          join arcus.patient pat on proc_ord.pat_id = pat.pat_id\n",
      "        where\n",
      "          proc_ord.proc_ord_id in  (\"402457367661\", \"428245088451\", \"373517088034\", \"419478223927\", \"410460579306\") \n",
      "        order by \n",
      "          proc_ord.proc_ord_year desc;\n",
      "Number of validation reports added: 5\n",
      "Number of new reports to grade: 0\n",
      "8 reports are in the queue for grader Jenna Schabdach\n"
     ]
    }
   ],
   "source": [
    "## If/when you run out of reports, you can uncomment the following line of code\n",
    "#   and run this cell to get 50 more reports from the database. Make sure your\n",
    "#   values for `project` and `queryFn` match the project you're working on.\n",
    "# Projects: SLIP Adolescents, SLIP, SLIP Elementary, Clinical Imaging Genetics\n",
    "# project = \"SLIP Adolescents\"\n",
    "# get_second_look_reports_to_grade(name, 5)\n",
    "get_more_reports_to_grade(name, project, num_to_add=5)"
   ]
  },
  {
   "cell_type": "code",
   "execution_count": null,
   "id": "1e101133-070c-4fd8-a97d-843f1da27be0",
   "metadata": {},
   "outputs": [],
   "source": []
  }
 ],
 "metadata": {
  "kernelspec": {
   "display_name": ".conda-arcus",
   "language": "python",
   "name": "conda-env-.conda-arcus-py"
  },
  "language_info": {
   "codemirror_mode": {
    "name": "ipython",
    "version": 3
   },
   "file_extension": ".py",
   "mimetype": "text/x-python",
   "name": "python",
   "nbconvert_exporter": "python",
   "pygments_lexer": "ipython3",
   "version": "3.10.13"
  }
 },
 "nbformat": 4,
 "nbformat_minor": 5
}
