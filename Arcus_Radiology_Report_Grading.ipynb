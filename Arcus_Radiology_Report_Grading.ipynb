{
 "cells": [
  {
   "cell_type": "code",
   "execution_count": 1,
   "id": "8fda44b3-a170-45c1-b0f8-8f04f3ad90e4",
   "metadata": {},
   "outputs": [],
   "source": [
    "from google.cloud import bigquery\n",
    "import pandas as pd\n",
    "from annotationHelperLib import *\n",
    "from reportMarkingFunctions import *\n",
    "from IPython.display import clear_output\n",
    "import json"
   ]
  },
  {
   "cell_type": "code",
   "execution_count": 2,
   "id": "ec8e20d5-6609-4869-bf9e-8a5ee4eefefb",
   "metadata": {},
   "outputs": [
    {
     "name": "stdout",
     "output_type": "stream",
     "text": [
      "select * from lab.grader_table_with_metadata where grader_name = 'Jenna Schabdach';\n",
      "151\n",
      "151\n",
      "Jenna Schabdach has graded 151 of 151 reliability reports\n",
      "Jenna Schabdach has graded 37144 unique reports of 37184 assigned where\n",
      "34112 have been given a grade of 0\n",
      "1337 have been given a grade of 1\n",
      "1691 have been given a grade of 2\n"
     ]
    }
   ],
   "source": [
    "# Replace with the name you want used in publications of this data set\n",
    "name = \"Jenna Schabdach\"\n",
    "\n",
    "# Projects: SLIP, SLIP Elementary, SLIP Adolescents, Clinical Imaging Genetics\n",
    "project = \"SLIP Elementary\" # Clinical Fetal\"\n",
    "\n",
    "# Replace with the path to your .json file containing a dictionary of all the phrases you'd like to be highlighted\n",
    "phrasesToHighlightFn = \"phrases_to_highlight.json\"\n",
    "\n",
    "# Load the dictionary of phrases to highlight in certain colors \n",
    "with open(phrasesToHighlightFn, 'r', encoding='utf-8') as f:\n",
    "    toHighlight = json.load(f)\n",
    "    \n",
    "get_grader_status_report(name)\n"
   ]
  },
  {
   "cell_type": "code",
   "execution_count": 10,
   "id": "632e2b86-dfa2-41ff-8348-c6c191ad9529",
   "metadata": {},
   "outputs": [
    {
     "name": "stdout",
     "output_type": "stream",
     "text": [
      "Welcome, Jenna Schabdach\n",
      "151\n",
      "151\n",
      "Jenna Schabdach has graded 151 of 151 reliability reports\n",
      "You currently have 8 ungraded reports to work on.\n"
     ]
    }
   ],
   "source": [
    "isOnMainTable = welcome_user(name)"
   ]
  },
  {
   "cell_type": "code",
   "execution_count": null,
   "id": "9f384d8e-bb3c-4d79-8878-f953104bc7d0",
   "metadata": {
    "tags": []
   },
   "outputs": [
    {
     "name": "stdout",
     "output_type": "stream",
     "text": [
      "4\n",
      "Year of scan: 2024\n",
      "Age at scan: 27.07 years\n",
      "arcus.procedure_order_narrative\n",
      "FETAL \u001b[5;30;43mMRI\u001b[0m, WITHOUT CONTRAST: \n",
      "\n",
      "\u001b[5;30;43mCLINICAL INDICATION\u001b[0m: 32 weeks gestation, TSC \n",
      "\n",
      "\u001b[5;30;43mTECHNIQUE\u001b[0m: Dedicated MR examination of the fetal brain was performed utilizing a 1.5 Tesla magnet. T2 HASTE, TrueFISP, Diffusion and EPI were obtained in orthogonal planes through the fetal brain. No intravenous contrast was utilized. In addition to T1 weighted images. Please note that images are severely degraded by fetal \u001b[5;30;41mMOTION\u001b[0m \u001b[5;30;41mARTIFACT\u001b[0m, limiting the diagnostic value of the study. \n",
      "\n",
      "COMPARISON: None \n",
      "\n",
      "\u001b[5;30;43mFINDINGS\u001b[0m: Evaluation of the fetal brain demonstrates that the lateral ventricles are normal in size and configuration, measuring approximately 7 mm bilaterally, at the atrial level. The third and fourth ventricles are u\u001b[5;30;42mNREMARKABLE\u001b[0m. There are two subependymal foci of T2 hypointensity and T1 \u001b[5;30;41mHYPERINTENS\u001b[0mity involving the bilateral foramina of Monro (for example image 18, series 8). In addition to a T2 hypointense subependymal nodule involving the atrium of the right lateral ventricle. Findings are suggestive of subependymal nodules of tuberous sclerosis. Assessment or dysplastic white matter tracts and cortical tubers is suboptimal due to extensive \u001b[5;30;41mMOTION\u001b[0m \u001b[5;30;41mARTIFACT\u001b[0m. The corpus callosum is present. The gyral pattern is within range for reported gestational age. The CSF spaces appear normal. \u001b[5;30;47mTHE POSTERIOR FOSSA STRUCTURES ARE NORMAL\u001b[0m. Please refer to the concurrent fetal body \u001b[5;30;43mMRI\u001b[0m for further evaluation of the thoracic and abdominopelvic organs. \n",
      "\n",
      "\u001b[5;30;43mIMPRESSION\u001b[0m: Imaging findings consistent with manifestations of tuberous sclerosis, as detailed. Within the limitations of this study Requires Act 112 notification: False The patient will be seen in the Center for Fetal Diagnosis and Treatment today and results will be communicated directly at that time I have personally reviewed the images and agree with the interpretation. Act 112^False\n",
      "\n",
      "Report id: 462438771304\n",
      "\n"
     ]
    }
   ],
   "source": [
    "batchSize = 10\n",
    "\n",
    "for i in range(batchSize):\n",
    "    clear_output()\n",
    "    print(i)\n",
    "    if isOnMainTable:\n",
    "        mark_one_report_sql(name, project, toHighlight)\n",
    "    else:\n",
    "        mark_selfeval_report_sql(name, toHighlight)\n"
   ]
  },
  {
   "cell_type": "code",
   "execution_count": 8,
   "id": "c75e0a1a-851a-487f-83d4-eb0483ea9656",
   "metadata": {
    "tags": []
   },
   "outputs": [
    {
     "name": "stdout",
     "output_type": "stream",
     "text": [
      "It is expected for this function to take several minutes to run. Your patience is appreciated.\n",
      "Number of ids for project Clinical Fetal 5973\n",
      "Number of reports that need to be validated for Clinical Fetal: 0\n",
      "Number of validation reports added: 0\n",
      "Number of new reports to grade: 50\n",
      "50 reports are in the queue for grader Jenna Schabdach\n"
     ]
    }
   ],
   "source": [
    "## If/when you run out of reports, you can uncomment the following line of code\n",
    "#   and run this cell to get 50 more reports from the database. Make sure your\n",
    "#   values for `project` and `queryFn` match the project you're working on.\n",
    "# Projects: SLIP Adolescents, SLIP, SLIP Elementary, Clinical Imaging Genetics\n",
    "# project = \"SLIP Adolescents\"\n",
    "# get_second_look_reports_to_grade(name, 50)\n",
    "get_more_reports_to_grade(name,  project, numberToAdd=50)"
   ]
  },
  {
   "cell_type": "code",
   "execution_count": null,
   "id": "63748e04-1248-42d1-8450-894e699e08a8",
   "metadata": {},
   "outputs": [],
   "source": []
  }
 ],
 "metadata": {
  "kernelspec": {
   "display_name": ".conda-arcus",
   "language": "python",
   "name": "conda-env-.conda-arcus-py"
  },
  "language_info": {
   "codemirror_mode": {
    "name": "ipython",
    "version": 3
   },
   "file_extension": ".py",
   "mimetype": "text/x-python",
   "name": "python",
   "nbconvert_exporter": "python",
   "pygments_lexer": "ipython3",
   "version": "3.10.13"
  }
 },
 "nbformat": 4,
 "nbformat_minor": 5
}
