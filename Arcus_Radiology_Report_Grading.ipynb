{
 "cells": [
  {
   "cell_type": "code",
   "execution_count": null,
   "id": "8fda44b3-a170-45c1-b0f8-8f04f3ad90e4",
   "metadata": {},
   "outputs": [],
   "source": [
    "from google.cloud import bigquery\n",
    "import pandas as pd\n",
    "from annotationHelperLib import *\n",
    "from reportMarkingFunctions import *\n",
    "from IPython.display import clear_output\n",
    "import json"
   ]
  },
  {
   "cell_type": "code",
   "execution_count": null,
   "id": "ec8e20d5-6609-4869-bf9e-8a5ee4eefefb",
   "metadata": {},
   "outputs": [],
   "source": [
    "# Replace with the name you want used in publications of this data set\n",
    "name = \"Jenna Schabdach\"\n",
    "\n",
    "getGraderStatusReport(name)\n",
    "\n",
    "# Replace with the path to your .json file containing a dictionary of all the phrases you'd like to be highlighted\n",
    "phrasesToHighlightFn = \"phrases_to_highlight.json\""
   ]
  },
  {
   "cell_type": "code",
   "execution_count": null,
   "id": "df371c7c-1c92-42b9-aeb4-04a186a83b8c",
   "metadata": {},
   "outputs": [],
   "source": [
    "getGraderStatusReport(name)"
   ]
  },
  {
   "cell_type": "code",
   "execution_count": null,
   "id": "2c4f32ce-c048-4148-a979-6b6ff2d436d2",
   "metadata": {
    "tags": []
   },
   "outputs": [],
   "source": [
    "# Load the dictionary of phrases to highlight in certain colors \n",
    "with open(phrasesToHighlightFn, 'r', encoding='utf-8') as f:\n",
    "    toHighlight = json.load(f)"
   ]
  },
  {
   "cell_type": "code",
   "execution_count": null,
   "id": "1144b773-b715-4383-b4bf-8b782145e7df",
   "metadata": {},
   "outputs": [],
   "source": [
    "isOnMainTable = welcomeUser(name)"
   ]
  },
  {
   "cell_type": "code",
   "execution_count": null,
   "id": "8a3d045b-4d07-41fd-8295-5e8eca2ce480",
   "metadata": {
    "tags": []
   },
   "outputs": [],
   "source": [
    "batchSize = 25\n",
    "\n",
    "for i in range(batchSize):\n",
    "    clear_output()\n",
    "    print(i)\n",
    "    if isOnMainTable:\n",
    "        markOneReportSQL(name, toHighlight)\n",
    "    else:\n",
    "        markSelfEvalReportSQL(name, toHighlight)\n"
   ]
  },
  {
   "cell_type": "code",
   "execution_count": null,
   "id": "5d958688-96af-4fcb-9289-41b0694657ad",
   "metadata": {
    "tags": []
   },
   "outputs": [],
   "source": [
    "# GENERIC: If/when you run out of reports, you can uncomment the following line \n",
    "#   and run this cell to get 100 more reports from the database\n",
    "# getMoreReportsToGrade(name)\n",
    "\n",
    "# SLIP Psych Prospective: If/when you run out of reports, you can uncomment the \n",
    "#  following line and run this cell to get N more reports from the list of reports\n",
    "#  filtered to belong to your desired cohort\n",
    "df = pd.read_csv('~/arcus/shared/data/slip_2023_2-5_psych_prospective.csv')\n",
    "cohortProcIds = list(df['proc_ord_id'].values)\n",
    "N = 50\n",
    "addReportsFromListForUser(cohortProcIds, name, maxToAdd=N)"
   ]
  },
  {
   "cell_type": "code",
   "execution_count": null,
   "id": "2bed0bcf-02e4-4358-828d-1dec788bb6fa",
   "metadata": {},
   "outputs": [],
   "source": []
  }
 ],
 "metadata": {
  "kernelspec": {
   "display_name": "python3-read-only",
   "language": "python",
   "name": "conda-env-python3-read-only-py"
  },
  "language_info": {
   "codemirror_mode": {
    "name": "ipython",
    "version": 3
   },
   "file_extension": ".py",
   "mimetype": "text/x-python",
   "name": "python",
   "nbconvert_exporter": "python",
   "pygments_lexer": "ipython3",
   "version": "3.9.16"
  }
 },
 "nbformat": 4,
 "nbformat_minor": 5
}
