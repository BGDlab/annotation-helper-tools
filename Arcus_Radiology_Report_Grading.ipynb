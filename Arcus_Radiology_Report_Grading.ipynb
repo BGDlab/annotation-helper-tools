{
 "cells": [
  {
   "cell_type": "markdown",
   "id": "c58a794f-6916-499e-b10a-8c6bccaede88",
   "metadata": {
    "editable": false,
    "slideshow": {
     "slide_type": ""
    },
    "tags": []
   },
   "source": [
    "# Radiology Report Grading Notebook\n",
    "This is the primary notebook in which graders will evaluate radiology reports. In most cases, after you complete the training requirements you will be working with this notebook. Please use the following link to access the [grading guidelines](https://docs.google.com/document/d/1MJpBa2z43dxVkjgO-QSDjb9ubItYJkUw/edit?tab=t.0)\n",
    "\n",
    "#### First, check the following variables to ensure that you are running under the correct name and project:"
   ]
  },
  {
   "cell_type": "code",
   "execution_count": null,
   "id": "21787ebd-c2ba-490a-bddb-9fd347e83048",
   "metadata": {},
   "outputs": [],
   "source": [
    "# Select the name you want used in publications of this data set\n",
    "name = \"Benjamin Jung\"\n",
    "\n",
    "# Select your project. Projects include SLIP, SLIP Elementary, SLIP Adolescents, Clinical Imaging Genetics, Clinical Fetal, NF1, and AUTO\n",
    "# If you select AUTO, your project will be automatically assigned based on priorities set by senior graders.\n",
    "project_name = \"AUTO\" # Clinical Imaging Genetics\"\n",
    "\n",
    "# Select the number of reports you would like to grade in one session.\n",
    "batchSize = 150\n",
    "\n",
    "# Select the number of reports to add when you run out.\n",
    "num_reports_to_add = 50"
   ]
  },
  {
   "cell_type": "markdown",
   "id": "86365cc3-65fe-44ed-b28c-cfc564f3bead",
   "metadata": {
    "editable": false,
    "slideshow": {
     "slide_type": ""
    },
    "tags": []
   },
   "source": [
    "#### Second, run the following cells to update your user and project:"
   ]
  },
  {
   "cell_type": "code",
   "execution_count": null,
   "id": "bda05c9d-11d8-41d9-9250-57b5dbf0efe1",
   "metadata": {},
   "outputs": [],
   "source": [
    "import os\n",
    "\n",
    "# Get the current working directory\n",
    "current_dir = os.getcwd()\n",
    "\n",
    "# Add the code directory to sys.path\n",
    "sys.path.append(os.path.join(current_dir, 'code'))\n",
    "\n",
    "from google.cloud import bigquery\n",
    "import pandas as pd\n",
    "from annotationHelperLib import *\n",
    "from reportMarkingFunctions import *\n",
    "from IPython.display import clear_output\n",
    "import json\n",
    "\n",
    "# Get project name\n",
    "project = load_project(project_name, name)\n",
    "# Get phrases to highlight\n",
    "toHighlight = phrasesToHighlightFn()\n",
    "# Get Grader Status Report\n",
    "get_grader_status_report(name)"
   ]
  },
  {
   "cell_type": "code",
   "execution_count": null,
   "id": "632e2b86-dfa2-41ff-8348-c6c191ad9529",
   "metadata": {},
   "outputs": [],
   "source": [
    "status = welcome_user(name)"
   ]
  },
  {
   "cell_type": "markdown",
   "id": "1a665a61-9d50-4bfa-825e-722dbb453e39",
   "metadata": {
    "editable": false,
    "slideshow": {
     "slide_type": ""
    },
    "tags": []
   },
   "source": [
    "#### To grade radiology reports, please run the following cells, but do not edit them:"
   ]
  },
  {
   "cell_type": "code",
   "execution_count": null,
   "id": "9f384d8e-bb3c-4d79-8878-f953104bc7d0",
   "metadata": {},
   "outputs": [],
   "source": [
    "if status != \"self-eval\":\n",
    "    mark_reports(name, project, batchSize, toHighlight)"
   ]
  },
  {
   "cell_type": "markdown",
   "id": "a2df5c95-f77f-4d46-91ea-93334a0b25f7",
   "metadata": {
    "editable": false,
    "slideshow": {
     "slide_type": ""
    },
    "tags": []
   },
   "source": [
    "#### To request more reports, please run the following cells, but do not edit them:"
   ]
  },
  {
   "cell_type": "code",
   "execution_count": null,
   "id": "c75e0a1a-851a-487f-83d4-eb0483ea9656",
   "metadata": {},
   "outputs": [],
   "source": [
    "## If/when you run out of reports, you can run the following line of code\n",
    "#   and run this cell to get more reports from the database. Make sure your\n",
    "#   values for `project` and `queryFn` match the project you're working on.\n",
    "if status == \"unique\":\n",
    "    get_more_reports_to_grade(name, project, num_to_add=num_reports_to_add)"
   ]
  },
  {
   "cell_type": "code",
   "execution_count": null,
   "id": "40e34047-d2e1-46a7-8295-1c36662fb988",
   "metadata": {},
   "outputs": [],
   "source": []
  }
 ],
 "metadata": {
  "language_info": {
   "name": "python"
  }
 },
 "nbformat": 4,
 "nbformat_minor": 5
}
