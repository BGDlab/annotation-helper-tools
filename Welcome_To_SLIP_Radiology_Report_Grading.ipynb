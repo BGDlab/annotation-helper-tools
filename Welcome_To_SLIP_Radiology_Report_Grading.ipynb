{
 "cells": [
  {
   "cell_type": "markdown",
   "id": "8bea771c-44fc-4071-8c7a-34db1c849250",
   "metadata": {},
   "source": [
    "## SLIP Radiology Report Grading Welcome\n",
    "\n",
    "Welcome to the SLIP project. The project was started with the intention to curate a set of clinically acquired Scans with Limited Imaging Pathology. The ongoing retrospective data collection process begins with checking the radiology reports (semi-structured written summaries of the contents of a scan). Because these scans are clinically acquired, a scan with no pathology cannot be marked as \"healthy\". Rather, scans are often marked as \"unremarkable\" or \"appearing normal\" to indicate a lack of finding. \n",
    "\n",
    "The training for SLIP report grading has 3 steps:\n",
    "1. Reading SLIP and non-SLIP report examples\n",
    "2. Practicing rating a subset of 150 reports\n",
    "3. Grade a set of \"shared\" reports used for calculating reliability ratings"
   ]
  },
  {
   "cell_type": "markdown",
   "id": "b6df822d-ea71-49f2-9c3b-65c1fda1f60c",
   "metadata": {},
   "source": [
    "## Grading Guidelines\n",
    "\n",
    "The grades are on an ordinal scale of 0/1/2 where\n",
    "- Rating 0: Suspect serious imaging pathology\n",
    "- Rating 1: Neither a 0 nor a 2 (AKA “I don’t know”). These are people who may or may not be included in our analyses depending on the context.\n",
    "- Rating 2: No reason to suspect imaging pathology. These are people whose imaging pathology would likely not exclude them from being part of a control cohort in research brain MRI study. Note that this is different from their PAST MEDICAL HISTORY potentially excluding them, which is a different issue.\n",
    "\n",
    "**Before starting to examine reports, read through the report grading guidelines\n",
    "[HERE](https://docs.google.com/document/d/1-OIoUUyUxcYYEYNmO-H6XBuhudU2lqONuRGl8PR_HXk/edit?usp=sharing).** If you would like to add a phrase, please leave a comment in the document in the corresponding section containing the phrase and how it should be interpreted."
   ]
  },
  {
   "cell_type": "markdown",
   "id": "08c5cf41-0e41-4bf9-969c-950f62bd44e8",
   "metadata": {},
   "source": [
    "## Step 0: Run the following cell to load the necessary libraries and set up variables.\n",
    "\n",
    "Then scroll down to Step 1."
   ]
  },
  {
   "cell_type": "code",
   "execution_count": null,
   "id": "2c4f32ce-c048-4148-a979-6b6ff2d436d2",
   "metadata": {
    "jupyter": {
     "source_hidden": true
    },
    "tags": []
   },
   "outputs": [],
   "source": [
    "from google.cloud import bigquery\n",
    "import pandas as pd\n",
    "from annotationHelperLib import *\n",
    "from reportMarkingFunctions import *\n",
    "from IPython.display import clear_output\n",
    "\n",
    "# This variable is a list of words that will be highlighed in yellow in the reports. \n",
    "# To add a specific string to the list, enclose it in single or double quotes and follow it\n",
    "# with a comma\n",
    "# wordsToHighlight = ['oma', 'surg', 'pongiform', 'NF1', 'mass', 'persistent', 'unchanged', 'stable', 'lobe', 'prolongation', 'intracranial']\n",
    "highlightYellow = ['CLINICAL', 'INDICATION', 'HISTORY', 'REASON', 'IMPRESSION', 'FINDINGS', 'BRAIN',\n",
    "                   'limited', 'MRA', 'MRI', 'ORBIT']\n",
    "highlightGray = ['The ventricles and sulci are normal in size shape and configuration',\n",
    "                 'There are no areas of abnormal enhancement following contrast administration',\n",
    "                 'The visualized major intracranial vessels appear patent',\n",
    "                 'No intra or extraaxial fluid collections are identified',\n",
    "                 'No extra-axial fluid collections are identified',\n",
    "                 'There are no areas of abnormal parenchymal signal intensity',\n",
    "                 'No gross focal parenchymal signal abnormality is seen',\n",
    "                 'No definite abnormality is seen in the visualized portions of the orbits',\n",
    "                 'There are no areas of abnormal parenchymal signal intensity on these sequences',\n",
    "                 'There are no areas of abnormal parechymal signal intensity',\n",
    "                 'There is no parenchymal lesion or abnormal fluid collection',\n",
    "                 'There is no parenchymal lesion or abnormal extra-axial collection',\n",
    "                 'There is no mass effect or midline shift',\n",
    "                 'There is no mass effect midline shift',\n",
    "                 'No mass mass effect or abnormal enhancement is ',\n",
    "                 'There is no mass or mass effect seen',\n",
    "                 'No areas of hemorrhage are identified', \n",
    "                 'There is no abnormal intra- or extra-axial fluid collections',\n",
    "                 'There is no evidence of intracranial hemorrhage or infarct',\n",
    "                 'The ventricles and sulci are normal in size and configuration', \n",
    "                 'No parenchymal lesions or abnormal extra-axial collections are identified',\n",
    "                 'There is no signal abnormality identified in the visualized parenchyma',\n",
    "                 'There is no midline shift mass effect abnormal enhancement or acute infarction',\n",
    "                 'There is no evidence of mass mass effect or midline shift',\n",
    "                 'There is no intracranial mass lesion mass effect or midline shift',\n",
    "                 'No intracranial hemorrhage midline shift or mass effect is appreciated',\n",
    "                 'There are no mass effect midline shift abnormal enhancement or acute infarction',\n",
    "                 'No mass effect midline shift or acute infarction is present',\n",
    "                 'There are no intracranial mass lesions mass effect or midline shift',\n",
    "                 'There is no intracranial mass effect or midline shift',\n",
    "                 'There is no mass effect midline shift abnormal enhancement or acute infarction',\n",
    "                 'No mass effect midline shift acute infarction or intracranial hemorrhage is identified',\n",
    "                 'No mass effect midline shift abnormal enhancement or acute infarction is present',\n",
    "                 'There is no brain parenchymal signal abnormality mass effect pathologic enhancement or restricted diffusion',\n",
    "                 'There are no brain mass lesions mass effect or midline shift',\n",
    "                 'There are no intracranial mass lesions',\n",
    "                 'There is no mass effect midline shift or acute infarction',\n",
    "                 'There are no areas of signal abnormality or pathologic enhancement', \n",
    "                 'No extra-axial collection mass effect or shift',\n",
    "                 'no mass effect or midline shift',\n",
    "                 'No intracranial mass lesion mass effect or midline shift is noted', \n",
    "                 'There are no intra- or extra-axial fluid collections',\n",
    "                 'No abnormal fluid collections are identified',\n",
    "                 'No extra-axial fluid collections are seen',\n",
    "                 'No intra- or extra-axial fluid collections are identified',\n",
    "                 'No abnormal extra-axial fluid collections are identified',\n",
    "                 'No extraaxial fluid collections are identified',\n",
    "                 'The midline structures are within normal limits',\n",
    "                 'There is no restricted diffusion',\n",
    "                 'The ventricular system is normal in size shape and configuration',\n",
    "                 'The cerebellar tonsils are above the level of the foramen magnum',\n",
    "                 'The cerebellar tonsils are at the level of foramen magnum',\n",
    "                 'The cerebellar tonsils are at the level of the foramen magnum',\n",
    "                 'The cerebellar tonsils do not project below the foramen magnum',\n",
    "                 'The cerebellar tonsils are present at the foramen magnum',\n",
    "                 'The cerebellar tonsils are above the foramen magnum',\n",
    "                 'The cerebellar tonsils terminate above the level of the foramen magnum',\n",
    "                 'The cerebellar tonsils terminate at the level of the foramen magnum',\n",
    "                 'The cerebellar tonsils terminate at the foramen magnum', \n",
    "                 'The cerebellar tonsils are seen at the craniocervical junction',\n",
    "                 'erebellar tonsils terminate above the foramen magnum',\n",
    "                 'The cerebellar tonsils are at the foramen magnum',\n",
    "                 'The myelination pattern is normal.',\n",
    "                 'No brain volume loss.', \n",
    "                 'Ventricular size and configuration are normal.',\n",
    "                 'Basilar cisterns remain patent.',\n",
    "                 'No extra-axial fluid collection or mass effect on the brain',\n",
    "                 'o abnormal parenchymal or leptomeningeal enhancement',\n",
    "                 'The cerebellar tonsils are appropriately positioned',\n",
    "                 'yelination is appropriate for age',\n",
    "                 'he myelination pattern is appropriate',\n",
    "                 'Myelination is within normal limits for age',\n",
    "                 'The myelination is within range for age',\n",
    "                 'Myelination appears appropriate for age',\n",
    "                 'The major intracranial vessels appear patent',\n",
    "                 'The hippocampi are symmetric and normal in size signal and internal architecture',\n",
    "                 'No parenchymal lesions or abnormal extraaxial collections are identified', \n",
    "                 'No parenchymal lesions or abnormal extra-axial collections are identified',\n",
    "                 'There is no mass effect midline shift abnormal enhancement or acute infarction',\n",
    "                 'There are no areas of abnormal enhancement following gadolinium administration',\n",
    "                 'The visualized major intracranial flow voids are present',\n",
    "                 'There is mild mucosal thickening',\n",
    "                 'mucus retention cyst',\n",
    "                 'mucous retention cyst',\n",
    "                 'o midline shift mass effect or acute infarction',\n",
    "                 'The major intracranial arterial structures demonstrate normal flow-related enhancement',\n",
    "                 'The major intracranial flow voids are unremarkable', \n",
    "                 'The visualized portions of the orbits are grossly unremarkable',\n",
    "                 'There is no appreciable alteration in course or caliber', \n",
    "                 'No areas of aneurysmal outpouching are appreciated',\n",
    "                 'No parenchymal lesion or abnormal fluid collection is identified',\n",
    "                 'The hippocampi are symmetric in size and of normal signal intensity',\n",
    "                 'The middle ear cavities mastoid air cells and paranasal sinuses are clear',\n",
    "                 'The visualized portions of the orbits and mastoid air cells are grossly unremarkable',\n",
    "                 'It should be noted that MRA may be insensitive for small (<3-4mm) aneurysms',\n",
    "                 'There are no intraparenchymal signal abnormalities seen', \n",
    "                 'The ventricles are symmetric and normal in size', \n",
    "                 'No focal lesions are identified',\n",
    "                 'parenchyma demonstrates no signal abnormalities',\n",
    "                 'The brain appears normal in morphology',\n",
    "                 'The posterior fossa structures are normal', \n",
    "                 'No intra-axial fluid collections are identified',\n",
    "                 'The major intracranial vessels demonstrate normal flow',\n",
    "                 'There is no midline shift or mass effect',\n",
    "                 'without associated mass effect', \n",
    "                 'without significant mass effect',\n",
    "                 'o areas of abnormal enhancement following gadolinium administration',\n",
    "                 'he middle ear cavities and mastoid air cells are clear',\n",
    "                 'neurohypophysis is orthotopic', 'Mild inferior cerebellar ectopia',\n",
    "                 'There is no significant mass effect or midline shift',\n",
    "                 'normal adenohypophysis', 'orthotopic neurohypophysis',\n",
    "                 'here is no abnormal parenchymal enhancement on postcontrast images', \n",
    "                 'The ventricular system is normal in size and configuration', \n",
    "                 'There is no intracranial mass',\n",
    "                 'Midline brain structures have normal morphology',\n",
    "                 'the gyral/sulcal pattern is within normal limits.', \n",
    "                 'The myelination pattern is normal for age.',\n",
    "                 'There are no areas of abnormal enhancement in the brain following contrast administration',\n",
    "                 'Flow voids for the visualized major intracranial vessels appear patent',\n",
    "                 'The paranasal sinuses are clear', 'The ventricular system is normal in size and shape',\n",
    "                 'No definite areas of abnormal parenchymal signal',\n",
    "                 'The visualized flow-voids of the major intracranial vessels appear patent',\n",
    "                'cerebellar tonsils are rounded appearing and at the level of the foramen magnum']\n",
    "highlightRed = ['artifact', 'rthodontic', 'istory of', 'motion', 'mass', 'cyst',\n",
    "                'hypoplasia', 'signal abnormality', 'significant signal dropout',\n",
    "                'ental hardware', 'leukemia', 'AML', 'ALL', 'CART therapy', 'CAR-T cell therapy',\n",
    "                'Neurofibromatosis type 1', 'Chiari II',\n",
    "                'multiple sclerosis', 'tumor resection', 'chemo',\n",
    "                'thinning', 'thinned', 'bowing', 'bowed',\n",
    "                'hyperintens', 'prolongation', 'spongiform dysplasia', 'nfarct',\n",
    "                'This is an outside film. See images in PACS.',\n",
    "                'volume loss', 'agenesis of the corpus callosum', 'neuroblastoma', 'NF1', 'NF 1',\n",
    "                'mass effect', 'hypoxic ischemic encephalopathy',\n",
    "                'This is a non-reportable study used for image storage. It has been automatically finalized and does not contain a result.']\n",
    "highlightGreen = ['nremarkable brain', 'ormal brain',\n",
    "                  'nremarkable', 'variant', 'variation', \n",
    "                  'normal anatomic variance', 'ncidental',\n",
    "                  'within normal limit', 'developmental in etiology',\n",
    "                  'doubtful significance', 'doubtful clinical significance',\n",
    "                  'o brain abnormality', 'nremarkable mri of the brain',\n",
    "                  'nremarkable mri of brain', 'not meeting criteria for Chiari I malformation',\n",
    "                  'No evidence of intracranial MASS lesion hydrocephalus or intracranial hemorrhage',\n",
    "                  'nremarkable noncontrast brain mri', 'nremarkable noncontrast brain MR',\n",
    "                  'no clinical significance', 'no significance', 'nremarkable unenhanced brain',\n",
    "                  'without signal abnormality', 'o significant intracranial abnormality',\n",
    "                  'o intracranial abnormality',\n",
    "                  'Normal MRI appearance of the brain',\n",
    "                  'o structural abnormality', 'o evidence of intracranial abnormality']\n",
    "phrasesIndicatingContrast = ['MRI WITHOUT AND WITH CONTRAST', 'following intravenous contrast',\n",
    "                            'after the injection of gadolinium', 'post gadolinium injection']\n",
    "\n",
    "toHighlight = {'gray': highlightGray, \n",
    "               'green': highlightGreen,\n",
    "               'yellow': highlightYellow,\n",
    "               'red': highlightRed }"
   ]
  },
  {
   "cell_type": "markdown",
   "id": "64eb79b6-f6d9-4c6a-b541-62b096b992e0",
   "metadata": {
    "tags": []
   },
   "source": [
    "## Step 1: reading SLIP and non-SLIP example reports\n",
    "\n",
    "Run the following cell to view each sample report and its categorization as SLIP or non-SLIP. Press 'enter' after reading the report to view another report. When the cell finishes running, you can rerun it to view the reports again or proceed to the next section if you are comfortable with your understanding of the reports.\n",
    "\n",
    "The argument `toHighlight` passes a dictionary with color strings as keys and lists of strings as values to the function. The function will highlight occurrences of strings in each list in the specified color. (Note: you can modify the lists included in this dictionary as you wish. The highlighting is imperfect, but it helps draw your eye to phrases that are meaningful to you.)"
   ]
  },
  {
   "cell_type": "code",
   "execution_count": null,
   "id": "64d7af3b-8681-4813-8e47-aa76f3376fa2",
   "metadata": {},
   "outputs": [],
   "source": [
    "readSampleReports(toHighlight)"
   ]
  },
  {
   "cell_type": "markdown",
   "id": "bd9b1e15-e0bb-44ed-9db1-4a7e3e79dc2f",
   "metadata": {},
   "source": [
    "## Step 2: Practice rating reports\n",
    "\n",
    "In this section, you will practice rating reports yourself. Modify the variable `name` in the next cell to the name you use for publications. Then run the following cell to display a report, give it a grade, and note the reason you think it should get that grade. After your reasoning is submitted, the grades and reasons for the grades others have submitted will be shown. \n",
    "\n",
    "*If the report disappears after you type a number for the grade, use Ctrl + z or Cmd + z to undo, interrupt the kernel using the square button in the toolbar above, and run the cell again.*"
   ]
  },
  {
   "cell_type": "code",
   "execution_count": null,
   "id": "ec8e20d5-6609-4869-bf9e-8a5ee4eefefb",
   "metadata": {},
   "outputs": [],
   "source": [
    "# Replace with the name you want used in publications of this data set\n",
    "name = \"Kurt Enernie\"\n",
    "\n",
    "isOnMainTable = welcomeUser(name)"
   ]
  },
  {
   "cell_type": "code",
   "execution_count": null,
   "id": "1144b773-b715-4383-b4bf-8b782145e7df",
   "metadata": {},
   "outputs": [],
   "source": [
    "markSelfEvalReportSQL(name, toHighlight)"
   ]
  },
  {
   "cell_type": "markdown",
   "id": "db19bc37-f722-4a2e-8c12-42c5b8ca46a5",
   "metadata": {},
   "source": [
    "The following cell has the same functionality as the previous cell wrapped in a for loop so you can grade several reports while running the cell once. To change the number of reports in a batch, modify the variable `batchSize`."
   ]
  },
  {
   "cell_type": "code",
   "execution_count": null,
   "id": "8a3d045b-4d07-41fd-8295-5e8eca2ce480",
   "metadata": {
    "tags": []
   },
   "outputs": [],
   "source": [
    "batchSize = 10\n",
    "\n",
    "for i in range(batchSize):\n",
    "    clear_output()\n",
    "    print(i)\n",
    "    print()\n",
    "    if not isOnMainTable:\n",
    "        markSelfEvalReportSQL(name, toHighlight)\n"
   ]
  },
  {
   "cell_type": "markdown",
   "id": "a255659a-87ad-4ca8-9880-fb94195459b6",
   "metadata": {},
   "source": [
    "## Next steps:\n",
    "\n",
    "Now you can switch to the Arcus_Radiology_Report_Grading.ipynb notebook for the reliability reports and subsequent report grading."
   ]
  },
  {
   "cell_type": "code",
   "execution_count": null,
   "id": "dbed032d-0b5a-4664-a9df-baba264b5cb5",
   "metadata": {},
   "outputs": [],
   "source": []
  }
 ],
 "metadata": {
  "kernelspec": {
   "display_name": "python3-read-only",
   "language": "python",
   "name": "conda-env-python3-read-only-py"
  },
  "language_info": {
   "codemirror_mode": {
    "name": "ipython",
    "version": 3
   },
   "file_extension": ".py",
   "mimetype": "text/x-python",
   "name": "python",
   "nbconvert_exporter": "python",
   "pygments_lexer": "ipython3",
   "version": "3.9.16"
  }
 },
 "nbformat": 4,
 "nbformat_minor": 5
}
