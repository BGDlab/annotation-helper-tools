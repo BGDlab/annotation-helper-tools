{
 "cells": [
  {
   "cell_type": "markdown",
   "id": "8bea771c-44fc-4071-8c7a-34db1c849250",
   "metadata": {},
   "source": [
    "## SLIP Radiology Report Grading Welcome\n",
    "\n",
    "Welcome to the SLIP project. The project was started with the intention to curate a set of clinically acquired Scans with Limited Imaging Pathology. The ongoing retrospective data collection process begins with checking the radiology reports (semi-structured written summaries of the contents of a scan). Because these scans are clinically acquired, a scan with no pathology cannot be marked as \"healthy\". Rather, scans are often marked as \"unremarkable\" or \"appearing normal\" to indicate a lack of finding. \n",
    "\n",
    "The training for SLIP report grading has 3 steps:\n",
    "1. Reading SLIP and non-SLIP report examples\n",
    "2. Practicing rating a subset of 150 reports\n",
    "3. Grade a set of \"shared\" reports used for calculating reliability ratings"
   ]
  },
  {
   "cell_type": "markdown",
   "id": "b6df822d-ea71-49f2-9c3b-65c1fda1f60c",
   "metadata": {},
   "source": [
    "## Grading Guidelines\n",
    "\n",
    "The grades are on an ordinal scale of 0/1/2 where\n",
    "- Rating 0: Suspect serious imaging pathology\n",
    "- Rating 1: Neither a 0 nor a 2 (AKA “I don’t know”). These are people who may or may not be included in our analyses depending on the context.\n",
    "- Rating 2: No reason to suspect imaging pathology. These are people whose imaging pathology would likely not exclude them from being part of a control cohort in research brain MRI study. Note that this is different from their PAST MEDICAL HISTORY potentially excluding them, which is a different issue.\n",
    "\n",
    "**Before starting to examine reports, read through the report grading guidelines\n",
    "[HERE](https://docs.google.com/document/d/15VN_rIRrgxd5rFJN4LTlDUrGXEVrcWja-kNcjdahcn4/edit?tab=t.0).** If you would like to add a phrase, please leave a comment in the document in the corresponding section containing the phrase and how it should be interpreted."
   ]
  },
  {
   "cell_type": "markdown",
   "id": "08c5cf41-0e41-4bf9-969c-950f62bd44e8",
   "metadata": {},
   "source": [
    "## Step 0: Run the following cell to load the necessary libraries and set up variables.\n",
    "\n",
    "Then scroll down to Step 1."
   ]
  },
  {
   "cell_type": "code",
   "execution_count": 1,
   "id": "2c4f32ce-c048-4148-a979-6b6ff2d436d2",
   "metadata": {
    "jupyter": {
     "source_hidden": true
    },
    "tags": []
   },
   "outputs": [],
   "source": [
    "# Cell 0 - must be run first!\n",
    "import os\n",
    "\n",
    "# Get the current working directory\n",
    "current_dir = os.getcwd()\n",
    "\n",
    "# Add the code directory to sys.path\n",
    "sys.path.append(os.path.join(current_dir, 'code'))\n",
    "\n",
    "\n",
    "from google.cloud import bigquery\n",
    "import pandas as pd\n",
    "from annotationHelperLib import *\n",
    "from reportMarkingFunctions import *\n",
    "from IPython.display import clear_output\n",
    "\n",
    "# This variable is a list of words that will be highlighed in yellow in the reports. \n",
    "# To add a specific string to the list, enclose it in single or double quotes and follow it\n",
    "# with a comma\n",
    "\n",
    "toHighlight = phrasesToHighlightFn()"
   ]
  },
  {
   "cell_type": "markdown",
   "id": "64eb79b6-f6d9-4c6a-b541-62b096b992e0",
   "metadata": {
    "tags": []
   },
   "source": [
    "## Step 1: reading SLIP and non-SLIP example reports\n",
    "\n",
    "Run the following cell to view each sample report and its categorization as SLIP or non-SLIP. Press 'enter' after reading the report to view another report. When the cell finishes running, you can rerun it to view the reports again or proceed to the next section if you are comfortable with your understanding of the reports.\n",
    "\n",
    "The argument `toHighlight` passes a dictionary with color strings as keys and lists of strings as values to the function. The function will highlight occurrences of strings in each list in the specified color. (Note: you can modify the lists included in this dictionary as you wish. The highlighting is imperfect, but it helps draw your eye to phrases that are meaningful to you.)"
   ]
  },
  {
   "cell_type": "code",
   "execution_count": 2,
   "id": "64d7af3b-8681-4813-8e47-aa76f3376fa2",
   "metadata": {
    "tags": []
   },
   "outputs": [
    {
     "name": "stdout",
     "output_type": "stream",
     "text": [
      "BRAIN \u001b[5;30;43mMRI\u001b[0m WITHOUT CONTRAST:  \u001b[5;30;43mCLINICAL INDICATION\u001b[0m: Papilledema  \u001b[5;30;43mTECHNIQUE\u001b[0m: Sagittal 3D T1 gradient echo with axial reformations axial and coronal TSE T2 axial and coronal FLAIR arterial spin labeled perfusion imaging and axial diffusion tensor imaging were performed on a 3.0 Tesla system.  COMPARISON: None  \u001b[5;30;43mFINDINGS\u001b[0m:  \u001b[5;30;47mTHE VENTRICULAR SYSTEM IS NORMAL IN SIZE SHAPE AND CONFIGURATION\u001b[0m. \u001b[5;30;47mTHERE ARE NO INTRACRANIAL MASS LESIONS\u001b[0m and there is \u001b[5;30;47mNO MASS EFFECT OR MIDLINE SHIFT\u001b[0m. \u001b[5;30;47mNO ABNORMAL FLUID COLLECTIONS ARE IDENTIFIED\u001b[0m. There is a small \u001b[5;30;42mNONSPECIFIC\u001b[0m focus of \u001b[5;30;41mHYPERINTENS\u001b[0me T2/FLAIR signal within the posterior right temporal lobe adjacent to the atrium of the right lateral ventricle which may be related to prior insult. There is slight prominence of the overlying sulcus.  \u001b[5;30;47mTHE VISUALIZED MAJOR INTRACRANIAL VESSELS APPEAR PATENT\u001b[0m. \u001b[5;30;47mNO DEFINITE ABNORMALITY IS SEEN IN THE VISUALIZED PORTIONS OF THE ORBITS\u001b[0m. \u001b[5;30;47mTHE MIDDLE EAR CAVITIES MASTOID AIR CELLS AND PARANASAL SINUSES ARE CLEAR\u001b[0m.  \n",
      "\n",
      "\u001b[5;30;43mIMPRESSION\u001b[0m:    Small \u001b[5;30;42mNONSPECIFIC\u001b[0m focus of \u001b[5;30;41mHYPERINTENS\u001b[0me T2/FLAIR signal within the posterior right temporal lobe which may be related to prior insult. Otherwise u\u001b[5;30;42mNREMARKABLE\u001b[0m unenhanced \u001b[5;30;43mMRI\u001b[0m of the brain.  END OF \u001b[5;30;43mIMPRESSION\u001b[0m:\n",
      "\n",
      "Report given grade of 1\n",
      "\n"
     ]
    },
    {
     "ename": "KeyboardInterrupt",
     "evalue": "Interrupted by user",
     "output_type": "error",
     "traceback": [
      "\u001b[0;31m---------------------------------------------------------------------------\u001b[0m",
      "\u001b[0;31mKeyboardInterrupt\u001b[0m                         Traceback (most recent call last)",
      "Cell \u001b[0;32mIn[2], line 2\u001b[0m\n\u001b[1;32m      1\u001b[0m \u001b[38;5;66;03m# Cell 01\u001b[39;00m\n\u001b[0;32m----> 2\u001b[0m \u001b[43mread_sample_reports\u001b[49m\u001b[43m(\u001b[49m\u001b[43mtoHighlight\u001b[49m\u001b[43m)\u001b[49m\n",
      "File \u001b[0;32m/mnt/arcus/lab/users/jungb/git/annotation-helper-tools/code/reportMarkingFunctions.py:278\u001b[0m, in \u001b[0;36mread_sample_reports\u001b[0;34m(to_highlight)\u001b[0m\n\u001b[1;32m    273\u001b[0m         \u001b[38;5;28mprint\u001b[39m(report)\n\u001b[1;32m    275\u001b[0m     \u001b[38;5;28mprint\u001b[39m()\n\u001b[1;32m    277\u001b[0m     confirm \u001b[38;5;241m=\u001b[39m \u001b[38;5;28mstr\u001b[39m(\n\u001b[0;32m--> 278\u001b[0m         \u001b[38;5;28;43minput\u001b[39;49m\u001b[43m(\u001b[49m\n\u001b[1;32m    279\u001b[0m \u001b[43m            \u001b[49m\u001b[38;5;124;43m\"\u001b[39;49m\u001b[38;5;124;43mAfter you read the report and understand its grade, press ENTER to continue to the next report.\u001b[39;49m\u001b[38;5;124;43m\"\u001b[39;49m\n\u001b[1;32m    280\u001b[0m \u001b[43m        \u001b[49m\u001b[43m)\u001b[49m\n\u001b[1;32m    281\u001b[0m     )\n\u001b[1;32m    282\u001b[0m     clear_output()\n\u001b[1;32m    284\u001b[0m \u001b[38;5;28mprint\u001b[39m(\n\u001b[1;32m    285\u001b[0m     \u001b[38;5;124m\"\u001b[39m\u001b[38;5;124mYou have finished reading the example reports. Rerun this cell to read them again or proceed to the next section.\u001b[39m\u001b[38;5;124m\"\u001b[39m\n\u001b[1;32m    286\u001b[0m )\n",
      "File \u001b[0;32m/mnt/arcus/lab/users/jungb/.conda/envs/arcus/lib/python3.10/site-packages/ipykernel/kernelbase.py:1282\u001b[0m, in \u001b[0;36mKernel.raw_input\u001b[0;34m(self, prompt)\u001b[0m\n\u001b[1;32m   1280\u001b[0m     msg \u001b[38;5;241m=\u001b[39m \u001b[38;5;124m\"\u001b[39m\u001b[38;5;124mraw_input was called, but this frontend does not support input requests.\u001b[39m\u001b[38;5;124m\"\u001b[39m\n\u001b[1;32m   1281\u001b[0m     \u001b[38;5;28;01mraise\u001b[39;00m StdinNotImplementedError(msg)\n\u001b[0;32m-> 1282\u001b[0m \u001b[38;5;28;01mreturn\u001b[39;00m \u001b[38;5;28;43mself\u001b[39;49m\u001b[38;5;241;43m.\u001b[39;49m\u001b[43m_input_request\u001b[49m\u001b[43m(\u001b[49m\n\u001b[1;32m   1283\u001b[0m \u001b[43m    \u001b[49m\u001b[38;5;28;43mstr\u001b[39;49m\u001b[43m(\u001b[49m\u001b[43mprompt\u001b[49m\u001b[43m)\u001b[49m\u001b[43m,\u001b[49m\n\u001b[1;32m   1284\u001b[0m \u001b[43m    \u001b[49m\u001b[38;5;28;43mself\u001b[39;49m\u001b[38;5;241;43m.\u001b[39;49m\u001b[43m_parent_ident\u001b[49m\u001b[43m[\u001b[49m\u001b[38;5;124;43m\"\u001b[39;49m\u001b[38;5;124;43mshell\u001b[39;49m\u001b[38;5;124;43m\"\u001b[39;49m\u001b[43m]\u001b[49m\u001b[43m,\u001b[49m\n\u001b[1;32m   1285\u001b[0m \u001b[43m    \u001b[49m\u001b[38;5;28;43mself\u001b[39;49m\u001b[38;5;241;43m.\u001b[39;49m\u001b[43mget_parent\u001b[49m\u001b[43m(\u001b[49m\u001b[38;5;124;43m\"\u001b[39;49m\u001b[38;5;124;43mshell\u001b[39;49m\u001b[38;5;124;43m\"\u001b[39;49m\u001b[43m)\u001b[49m\u001b[43m,\u001b[49m\n\u001b[1;32m   1286\u001b[0m \u001b[43m    \u001b[49m\u001b[43mpassword\u001b[49m\u001b[38;5;241;43m=\u001b[39;49m\u001b[38;5;28;43;01mFalse\u001b[39;49;00m\u001b[43m,\u001b[49m\n\u001b[1;32m   1287\u001b[0m \u001b[43m\u001b[49m\u001b[43m)\u001b[49m\n",
      "File \u001b[0;32m/mnt/arcus/lab/users/jungb/.conda/envs/arcus/lib/python3.10/site-packages/ipykernel/kernelbase.py:1325\u001b[0m, in \u001b[0;36mKernel._input_request\u001b[0;34m(self, prompt, ident, parent, password)\u001b[0m\n\u001b[1;32m   1322\u001b[0m \u001b[38;5;28;01mexcept\u001b[39;00m \u001b[38;5;167;01mKeyboardInterrupt\u001b[39;00m:\n\u001b[1;32m   1323\u001b[0m     \u001b[38;5;66;03m# re-raise KeyboardInterrupt, to truncate traceback\u001b[39;00m\n\u001b[1;32m   1324\u001b[0m     msg \u001b[38;5;241m=\u001b[39m \u001b[38;5;124m\"\u001b[39m\u001b[38;5;124mInterrupted by user\u001b[39m\u001b[38;5;124m\"\u001b[39m\n\u001b[0;32m-> 1325\u001b[0m     \u001b[38;5;28;01mraise\u001b[39;00m \u001b[38;5;167;01mKeyboardInterrupt\u001b[39;00m(msg) \u001b[38;5;28;01mfrom\u001b[39;00m \u001b[38;5;28;01mNone\u001b[39;00m\n\u001b[1;32m   1326\u001b[0m \u001b[38;5;28;01mexcept\u001b[39;00m \u001b[38;5;167;01mException\u001b[39;00m:\n\u001b[1;32m   1327\u001b[0m     \u001b[38;5;28mself\u001b[39m\u001b[38;5;241m.\u001b[39mlog\u001b[38;5;241m.\u001b[39mwarning(\u001b[38;5;124m\"\u001b[39m\u001b[38;5;124mInvalid Message:\u001b[39m\u001b[38;5;124m\"\u001b[39m, exc_info\u001b[38;5;241m=\u001b[39m\u001b[38;5;28;01mTrue\u001b[39;00m)\n",
      "\u001b[0;31mKeyboardInterrupt\u001b[0m: Interrupted by user"
     ]
    }
   ],
   "source": [
    "# Cell 01\n",
    "read_sample_reports(toHighlight)"
   ]
  },
  {
   "cell_type": "markdown",
   "id": "bd9b1e15-e0bb-44ed-9db1-4a7e3e79dc2f",
   "metadata": {},
   "source": [
    "## Step 2: Practice rating reports\n",
    "\n",
    "In this section, you will practice rating reports yourself. Modify the variable `name` in the next cell to the name you use for publications. Then run the following cell to display a report, give it a grade, and note the reason you think it should get that grade. After your reasoning is submitted, the grades and reasons for the grades others have submitted will be shown. \n",
    "\n",
    "*If the report disappears after you type a number for the grade, use Ctrl + z or Cmd + z to undo, interrupt the kernel using the square button in the toolbar above, and run the cell again.*"
   ]
  },
  {
   "cell_type": "code",
   "execution_count": 3,
   "id": "ec8e20d5-6609-4869-bf9e-8a5ee4eefefb",
   "metadata": {},
   "outputs": [
    {
     "name": "stdout",
     "output_type": "stream",
     "text": [
      "Welcome, TEST\n",
      "It appears you have started the self-evaluation but have not finished it. Please grade those reports before continuing.\n"
     ]
    }
   ],
   "source": [
    "# Cell 02\n",
    "# Replace with the name you want used in publications of this data set\n",
    "name = \"TEST\"\n",
    "\n",
    "isOnMainTable = welcome_user(name)"
   ]
  },
  {
   "cell_type": "code",
   "execution_count": 4,
   "id": "1144b773-b715-4383-b4bf-8b782145e7df",
   "metadata": {},
   "outputs": [
    {
     "name": "stdout",
     "output_type": "stream",
     "text": [
      "(1, 22)\n",
      "['pat_id', 'proc_ord_id', 'proc_name', 'cpt_code', 'modality', 'body_region', 'narrative_text', 'impression_text', 'proc_ord_year', 'age_in_days', 'combo_id', 'confirm_clip', 'clip_reason', 'confirm_neurofibromatosis', 'neurofibromatosis_severity', 'outside_scan', 'annotator', 'scan_reason', 'pat_history', 'annotator_02', 'clip_status_02', 'num_subject_sessions']\n",
      "ENHANCED BRAIN \u001b[5;30;43mMRI\u001b[0m: 1/11/05 \u001b[5;30;43m\n",
      "\n",
      "CLINICAL INDICATION\u001b[0m: Syncope blurring of vision. \u001b[5;30;43m\n",
      "\n",
      "TECHNIQUE\u001b[0m: Sagittal T1 axial TSE T2 axial FLAIR axial T1 coronal TSE T2 coronal FLAIR post-gadolinium axial coronal and sagittal T1 axial diffusion. The patient was scanned while lying down in the lateral position. \n",
      "\n",
      "COMPARISON: None \u001b[5;30;43m\n",
      "\n",
      "FINDINGS\u001b[0m: \u001b[5;30;47mTHE VENTRICULAR SYSTEM IS NORMAL IN SIZE SHAPE AND CONFIGURATION\u001b[0m. \u001b[5;30;47mTHERE ARE NO INTRACRANIAL MASS LESIONS\u001b[0m and there is \u001b[5;30;47mNO MASS EFFECT OR MIDLINE SHIFT\u001b[0m. \u001b[5;30;47mNO INTRA- OR EXTRA-AXIAL FLUID COLLECTIONS ARE IDENTIFIED\u001b[0m. \u001b[5;30;47mTHERE ARE NO AREAS OF ABNORMAL PARENCHYMAL SIGNAL INTENSITY ON THESE SEQUENCES\u001b[0m. \u001b[5;30;47mTHERE ARE NO AREAS OF ABNORMAL ENHANCEMENT FOLLOWING GADOLINIUM ADMINISTRATION\u001b[0m. The m\u001b[5;30;47mAJOR INTRACRANIAL VESSELS ARE PATENT\u001b[0m. The visualized portions of the orbits paranasal sinuses are u\u001b[5;30;42mNREMARKABLE\u001b[0m. There is fluid opacifying the left mastoid air cells. There is evidence of adenoidal hypertrophy. \u001b[5;30;43m\n",
      "\n",
      "IMPRESSION\u001b[0m: U\u001b[5;30;42mNREMARKABLE BRAIN\u001b[0m \u001b[5;30;43mMRI\u001b[0m prior to and following intravenous contrast. Fluid in the left mastoid air cells and adenoidal hypertrophy. END OF \u001b[5;30;43m\n",
      "\n",
      "IMPRESSION\u001b[0m: 70553\n",
      "\n",
      "\n",
      "\n"
     ]
    },
    {
     "name": "stdin",
     "output_type": "stream",
     "text": [
      "Assign a SLIP rating to this report (0 do not use/1 maybe use/2 definitely use):  2\n"
     ]
    },
    {
     "name": "stdout",
     "output_type": "stream",
     "text": [
      "\n"
     ]
    },
    {
     "name": "stdin",
     "output_type": "stream",
     "text": [
      "Why does this report get that grade?  2\n"
     ]
    },
    {
     "name": "stdout",
     "output_type": "stream",
     "text": [
      "\n",
      "\n",
      "For reference, other graders have given this report the following grades for the specified reasons:\n",
      "\n",
      "Grade: 1 For reason:  \n",
      "Grade: 2 For reason: \n",
      "Grade: 2 For reason: \n",
      "Grade: 2 For reason: UNREMARKABLE\n",
      "Grade: 2 For reason: Unremarkable\n",
      "Grade: 2 For reason: Unremarkable\n",
      "Grade: 2 For reason: Unremarkable\n",
      "Grade: 2 For reason: unremarkable\n",
      "Grade: 2 For reason: unremarkable\n",
      "Grade: 2 For reason: unremarkable\n",
      "Grade: 2 For reason: unremarkable\n",
      "Grade: 2 For reason: unremarkable\n",
      "Grade: 2 For reason: unremarkable\n",
      "Grade: 2 For reason: unremarkable\n",
      "Grade: 2 For reason: unremarkable\n",
      "Grade: 2 For reason: unremarkable \n",
      "Grade: 2 For reason: unremarkable mri\n",
      "Grade: 2 For reason: unremarkable mri\n",
      "Grade: 2 For reason: unremarkable brain MRI\n",
      "Grade: 2 For reason: unremarkable brain MRI\n",
      "Grade: 2 For reason: unremarkable brain MRI\n",
      "Grade: 2 For reason: unremarkable brain MRI\n",
      "Grade: 2 For reason: unremarkable brain mri\n",
      "\n"
     ]
    },
    {
     "name": "stdin",
     "output_type": "stream",
     "text": [
      "Press enter to continue \n"
     ]
    },
    {
     "name": "stdout",
     "output_type": "stream",
     "text": [
      "Grade saved. Run the cell again to grade another report.\n"
     ]
    }
   ],
   "source": [
    "# Cell 03\n",
    "mark_selfeval_report_sql(name, toHighlight)"
   ]
  },
  {
   "cell_type": "markdown",
   "id": "db19bc37-f722-4a2e-8c12-42c5b8ca46a5",
   "metadata": {},
   "source": [
    "The following cell has the same functionality as the previous cell wrapped in a for loop so you can grade several reports while running the cell once. To change the number of reports in a batch, modify the variable `batchSize`."
   ]
  },
  {
   "cell_type": "code",
   "execution_count": null,
   "id": "8a3d045b-4d07-41fd-8295-5e8eca2ce480",
   "metadata": {
    "tags": []
   },
   "outputs": [],
   "source": [
    "# Cell 04\n",
    "batchSize = 10\n",
    "\n",
    "for i in range(batchSize):\n",
    "    clear_output()\n",
    "    print(i)\n",
    "    print()\n",
    "    if not isOnMainTable:\n",
    "        mark_selfeval_report_sql(name, toHighlight)\n"
   ]
  },
  {
   "cell_type": "markdown",
   "id": "a255659a-87ad-4ca8-9880-fb94195459b6",
   "metadata": {},
   "source": [
    "## Next steps:\n",
    "\n",
    "Now you can switch to the Arcus_Radiology_Report_Grading.ipynb notebook for the reliability reports and subsequent report grading."
   ]
  },
  {
   "cell_type": "code",
   "execution_count": null,
   "id": "dbed032d-0b5a-4664-a9df-baba264b5cb5",
   "metadata": {},
   "outputs": [],
   "source": []
  }
 ],
 "metadata": {
  "kernelspec": {
   "display_name": ".conda-arcus",
   "language": "python",
   "name": "conda-env-.conda-arcus-py"
  },
  "language_info": {
   "codemirror_mode": {
    "name": "ipython",
    "version": 3
   },
   "file_extension": ".py",
   "mimetype": "text/x-python",
   "name": "python",
   "nbconvert_exporter": "python",
   "pygments_lexer": "ipython3",
   "version": "3.10.15"
  }
 },
 "nbformat": 4,
 "nbformat_minor": 5
}
