{
 "cells": [
  {
   "cell_type": "markdown",
   "id": "0d73487e",
   "metadata": {},
   "source": [
    "### Welcome to the Interactive Radiology Report Annotator\n",
    "\n",
    "How to use this tool:\n",
    "- Only edit the first cell where the `fn`, `name`, and `wordsToHighlight` variables are set\n",
    "- Run the first and second cells\n",
    "\n",
    "Modify the first cell so that `fn` is the path to the file containing the reports you want to rate, `name` is the name to identify you both in the data and on any papers written on this data set, and `wordsToHighlight` contains a list of strings you want the system to highlight for you in yellow.\n",
    "\n",
    "The second cell loads the radiology reports and allows the user to provide ratings for the reports. It prints the narrative text for a single report and highlights any occurrences of the specified `wordsToHighlight`. \n",
    "\n",
    "It prompts the user to 'Assign a CLIP rating to this report (0/1/2):'. In the text box, enter 0 for reports with gross pathology, 1 for reports that have only minor pathology, or 2 for reports that have no significant pathology. After typing the rating and hitting \"Enter\", the data frame is updated and saved to its original file name."
   ]
  },
  {
   "cell_type": "code",
   "execution_count": null,
   "id": "0408b7d6",
   "metadata": {},
   "outputs": [],
   "source": [
    "# This variable is the full path to the .csv file containing the reports\n",
    "# If you are on a Mac, replace \"youngjm\" with your username on your computer, \n",
    "# replace the \"Data\" folder with \"Documents\" or \"Desktop\" or wherever you store your lab files,\n",
    "# and then replace the rest of the path with the set of folders between desktop and the file you wish to grade\n",
    "# fn = \"/Users/youngjm/Data/clip/tables/sourcedata/2022-06-12_reports_annotations_master.csv\"\n",
    "fn = \"/Users/youngjm/Data/clip/tables/annotator_onboarding/training_examples_selfeval.csv\"\n",
    "\n",
    "# This variable needs to be your first and last name\n",
    "name = \"Jenna Schabdach\"\n",
    "\n",
    "# This variable is a list of words that will be highlighed in yellow in the reports. \n",
    "# To add a specific string to the list, enclose it in single or double quotes and follow it\n",
    "# with a comma\n",
    "wordsToHighlight = ['oma', 'surg', 'pongiform', 'NF1', 'mass', 'persistent', 'unchanged', 'stable', 'lobe', 'prolongation', 'intracranial']"
   ]
  },
  {
   "cell_type": "code",
   "execution_count": null,
   "id": "9366a97e",
   "metadata": {},
   "outputs": [],
   "source": [
    "from annotationHelperLib import *\n",
    "\n",
    "df = loadDataframe(fn)\n",
    "\n",
    "markClipStatusSelfEval(df, fn, name, clearScreen=True, toHighlight=wordsToHighlight)\n",
    "# markClipStatusNewReports(df, fn, name, clearScreen=True, toHighlight=wordsToHighlight)"
   ]
  },
  {
   "cell_type": "code",
   "execution_count": null,
   "id": "b44f5bc3",
   "metadata": {},
   "outputs": [],
   "source": []
  }
 ],
 "metadata": {
  "kernelspec": {
   "display_name": "Python 3 (ipykernel)",
   "language": "python",
   "name": "python3"
  },
  "language_info": {
   "codemirror_mode": {
    "name": "ipython",
    "version": 3
   },
   "file_extension": ".py",
   "mimetype": "text/x-python",
   "name": "python",
   "nbconvert_exporter": "python",
   "pygments_lexer": "ipython3",
   "version": "3.9.7"
  }
 },
 "nbformat": 4,
 "nbformat_minor": 5
}
